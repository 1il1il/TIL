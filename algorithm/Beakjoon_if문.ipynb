{
 "cells": [
  {
   "cell_type": "markdown",
   "metadata": {},
   "source": [
    "# Beakjoon 문제 풀이(단계별로 풀어보기 )\n",
    "## 2. if문\n",
    "> [링크](https://www.acmicpc.net/step/4)"
   ]
  },
  {
   "cell_type": "markdown",
   "metadata": {},
   "source": [
    "### 0. [문제 제목](https://www.acmicpc.net/step/1)\n",
    "- 문제 : \n",
    "- 입력 : \n",
    "    - 예제 입력\n",
    "- 출력 : \n",
    "    - 예제 출력\n",
    "---\n",
    "- 비고 :"
   ]
  },
  {
   "cell_type": "markdown",
   "metadata": {},
   "source": [
    "### 1. [두 수 비교하기](https://www.acmicpc.net/problem/1330)\n",
    "- 문제 : 두 정수 A와 B가 주어졌을 때, A와 B를 비교하는 프로그램을 작성하시오.\n",
    "- 입력 : 첫째 줄에 A와 B가 주어진다. A와 B는 공백 한 칸으로 구분되어져 있다.\n",
    "    - 1 2\n",
    "    - 10 2\n",
    "    - 5 5\n",
    "- 출력 : 첫째 줄에 다음 세 가지 중 하나를 출력한다.\n",
    "    - A가 B보다 큰 경우에는 '>'를 출력한다.\n",
    "    - A가 B보다 작은 경우에는 '<'를 출력한다.\n",
    "    - A와 B가 같은 경우에는 '=='를 출력한다.\n",
    "        - <\n",
    "        - `>`\n",
    "        - ==\n",
    "- 제한 : -10,000 ≤ A, B ≤ 10,000\n",
    "---\n",
    "- 비고 :"
   ]
  },
  {
   "cell_type": "code",
   "execution_count": 3,
   "metadata": {},
   "outputs": [
    {
     "name": "stdout",
     "output_type": "stream",
     "text": [
      "5 5\n",
      "==\n"
     ]
    }
   ],
   "source": [
    "a, b = map(int, input().split())\n",
    "if a > b:\n",
    "    print('>')\n",
    "elif a == b:\n",
    "    print('==')\n",
    "else:\n",
    "    print('<')"
   ]
  },
  {
   "cell_type": "code",
   "execution_count": null,
   "metadata": {},
   "outputs": [],
   "source": []
  }
 ],
 "metadata": {
  "kernelspec": {
   "display_name": "Python [conda env:data_env] *",
   "language": "python",
   "name": "conda-env-data_env-py"
  },
  "language_info": {
   "codemirror_mode": {
    "name": "ipython",
    "version": 3
   },
   "file_extension": ".py",
   "mimetype": "text/x-python",
   "name": "python",
   "nbconvert_exporter": "python",
   "pygments_lexer": "ipython3",
   "version": "3.7.9"
  }
 },
 "nbformat": 4,
 "nbformat_minor": 4
}
