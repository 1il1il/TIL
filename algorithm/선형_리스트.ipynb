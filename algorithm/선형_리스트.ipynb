{
 "cells": [
  {
   "cell_type": "code",
   "execution_count": 1,
   "id": "loved-alberta",
   "metadata": {},
   "outputs": [
    {
     "name": "stdout",
     "output_type": "stream",
     "text": [
      "['다현', '정연', '쯔위', '사나', '지효']\n",
      "다현\n"
     ]
    }
   ],
   "source": [
    "katok = ['다현', '정연', '쯔위', '사나', '지효']\n",
    "print(katok)\n",
    "print(katok[0])"
   ]
  },
  {
   "cell_type": "code",
   "execution_count": 2,
   "id": "baking-revolution",
   "metadata": {},
   "outputs": [
    {
     "name": "stdout",
     "output_type": "stream",
     "text": [
      "['다현', '정연', '쯔위', '사나', '지효', '모모']\n"
     ]
    }
   ],
   "source": [
    "# 마지막 추가\n",
    "katok.append(None)\n",
    "katok[5] = '모모'\n",
    "print(katok)"
   ]
  },
  {
   "cell_type": "code",
   "execution_count": 3,
   "id": "sensitive-translator",
   "metadata": {},
   "outputs": [
    {
     "name": "stdout",
     "output_type": "stream",
     "text": [
      "['다현', '정연', '쯔위', '사나', '지효', None, '모모']\n",
      "['다현', '정연', '쯔위', '사나', None, '지효', '모모']\n",
      "['다현', '정연', '쯔위', None, '사나', '지효', '모모']\n",
      "['다현', '정연', '쯔위', '미나', '사나', '지효', '모모']\n"
     ]
    }
   ],
   "source": [
    "# 중간 추가\n",
    "katok.append(None)\n",
    "katok[6] = katok[5]\n",
    "katok[5] = None\n",
    "print(katok)\n",
    "katok[5] = katok[4]\n",
    "katok[4] = None\n",
    "print(katok)\n",
    "katok[4] = katok[3]\n",
    "katok[3] = None\n",
    "print(katok)\n",
    "katok[3] = '미나'\n",
    "print(katok)"
   ]
  },
  {
   "cell_type": "code",
   "execution_count": 4,
   "id": "clear-swiss",
   "metadata": {},
   "outputs": [
    {
     "name": "stdout",
     "output_type": "stream",
     "text": [
      "['다현', '정연', '쯔위', '미나', None, '지효', '모모']\n",
      "['다현', '정연', '쯔위', '미나', '지효', None, '모모']\n",
      "['다현', '정연', '쯔위', '미나', '지효', '모모', None]\n",
      "['다현', '정연', '쯔위', '미나', '지효', '모모']\n"
     ]
    }
   ],
   "source": [
    "# 삭제\n",
    "katok[4] = None\n",
    "print(katok)\n",
    "katok[4] = katok[5]\n",
    "katok[5] = None\n",
    "print(katok)\n",
    "katok[5] = katok[6]\n",
    "katok[6] = None\n",
    "print(katok)\n",
    "del katok[6]\n",
    "print(katok)"
   ]
  },
  {
   "cell_type": "code",
   "execution_count": 5,
   "id": "coordinated-workstation",
   "metadata": {},
   "outputs": [
    {
     "name": "stdout",
     "output_type": "stream",
     "text": [
      "['다현', '정현', '쯔위', '사나', '지효']\n"
     ]
    }
   ],
   "source": [
    "katok = list()\n",
    "\n",
    "def add_data(friend):\n",
    "    katok.append(None)\n",
    "    kLen = len(katok)\n",
    "    katok[kLen-1] = friend\n",
    "    \n",
    "add_data('다현')\n",
    "add_data('정현')\n",
    "add_data('쯔위')\n",
    "add_data('사나')\n",
    "add_data('지효')\n",
    "\n",
    "print(katok)"
   ]
  },
  {
   "cell_type": "code",
   "execution_count": 6,
   "id": "respected-flood",
   "metadata": {},
   "outputs": [
    {
     "name": "stdout",
     "output_type": "stream",
     "text": [
      "['다현', '정현', '솔라', '쯔위', '사나', '지효']\n",
      "['다현', '정현', '솔라', '쯔위', '사나', '지효', '문별']\n"
     ]
    }
   ],
   "source": [
    "def insert_data(position, friend):\n",
    "    if position < 0 or position > len(katok):\n",
    "        print('데이터를 삽입할 범위를 벗어났습니다')\n",
    "        return\n",
    "    \n",
    "    katok.append(None)\n",
    "    kLen = len(katok)\n",
    "    \n",
    "    for i in range(kLen-1, position, -1):\n",
    "        katok[i] = katok[i-1]\n",
    "        katok[i-1] = None\n",
    "    \n",
    "    katok[position] = friend\n",
    "    \n",
    "insert_data(2, '솔라')\n",
    "print(katok)\n",
    "insert_data(6, '문별')\n",
    "print(katok)"
   ]
  },
  {
   "cell_type": "code",
   "execution_count": 8,
   "id": "armed-california",
   "metadata": {},
   "outputs": [
    {
     "name": "stdout",
     "output_type": "stream",
     "text": [
      "['다현', '솔라', '쯔위', '사나', '지효', '문별']\n",
      "['다현', '솔라', '쯔위', '지효', '문별']\n"
     ]
    }
   ],
   "source": [
    "def delete_data(position):\n",
    "    if position < 0 or position > len(katok):\n",
    "        print('데이터를 삽입할 범위를 벗어났습니다')\n",
    "        return\n",
    "    \n",
    "    kLen = len(katok)\n",
    "    katok[position] = None\n",
    "    \n",
    "    for i in range(position+1, kLen):\n",
    "        katok[i-1] = katok[i]\n",
    "        katok[i] = None\n",
    "    \n",
    "    del (katok[kLen-1])\n",
    "\n",
    "delete_data(1)\n",
    "print(katok)\n",
    "delete_data(3)\n",
    "print(katok)"
   ]
  },
  {
   "cell_type": "code",
   "execution_count": 9,
   "id": "naked-clearance",
   "metadata": {},
   "outputs": [
    {
     "name": "stdout",
     "output_type": "stream",
     "text": [
      "선택하세요(1:추개, 2:삽입, 3:삭제, 4:종료)-->1\n",
      "추가할 데이터-->안\n",
      "['안']\n",
      "선택하세요(1:추개, 2:삽입, 3:삭제, 4:종료)-->1\n",
      "추가할 데이터-->녕\n",
      "['안', '녕']\n",
      "선택하세요(1:추개, 2:삽입, 3:삭제, 4:종료)-->1\n",
      "추가할 데이터-->하\n",
      "['안', '녕', '하']\n",
      "선택하세요(1:추개, 2:삽입, 3:삭제, 4:종료)-->1\n",
      "추가할 데이터-->세\n",
      "['안', '녕', '하', '세']\n",
      "선택하세요(1:추개, 2:삽입, 3:삭제, 4:종료)-->1\n",
      "추가할 데이터-->요\n",
      "['안', '녕', '하', '세', '요']\n",
      "선택하세요(1:추개, 2:삽입, 3:삭제, 4:종료)-->2\n",
      "삽입할 위치-->1\n",
      "추가할 데이터-->,\n",
      "['안', ',', '녕', '하', '세', '요']\n",
      "선택하세요(1:추개, 2:삽입, 3:삭제, 4:종료)-->3\n",
      "삭제할 위치-->1\n",
      "['안', '녕', '하', '세', '요']\n",
      "선택하세요(1:추개, 2:삽입, 3:삭제, 4:종료)-->5\n",
      "1~4 중 하나를 입력하세요\n",
      "선택하세요(1:추개, 2:삽입, 3:삭제, 4:종료)-->4\n",
      "['안', '녕', '하', '세', '요']\n"
     ]
    }
   ],
   "source": [
    "katok = list()\n",
    "select = -1\n",
    "\n",
    "if __name__ == '__main__':\n",
    "    \n",
    "    while select !=4:\n",
    "        \n",
    "        select = int(input('선택하세요(1:추개, 2:삽입, 3:삭제, 4:종료)-->'))\n",
    "        \n",
    "        if select == 1:\n",
    "            data = input('추가할 데이터-->')\n",
    "            add_data(data)\n",
    "            print(katok)\n",
    "            \n",
    "        elif select == 2:\n",
    "            pos = int(input('삽입할 위치-->'))\n",
    "            data = input('추가할 데이터-->')\n",
    "            insert_data(pos, data)\n",
    "            print(katok)\n",
    "        \n",
    "        elif select == 3:\n",
    "            pos = int(input('삭제할 위치-->'))\n",
    "            delete_data(pos)\n",
    "            print(katok)\n",
    "        \n",
    "        elif select == 4 :\n",
    "            print(katok)\n",
    "            exit\n",
    "        \n",
    "        else:\n",
    "            print('1~4 중 하나를 입력하세요')\n",
    "            continue"
   ]
  }
 ],
 "metadata": {
  "kernelspec": {
   "display_name": "Python [conda env:data_env_tf2] *",
   "language": "python",
   "name": "conda-env-data_env_tf2-py"
  },
  "language_info": {
   "codemirror_mode": {
    "name": "ipython",
    "version": 3
   },
   "file_extension": ".py",
   "mimetype": "text/x-python",
   "name": "python",
   "nbconvert_exporter": "python",
   "pygments_lexer": "ipython3",
   "version": "3.7.10"
  }
 },
 "nbformat": 4,
 "nbformat_minor": 5
}
