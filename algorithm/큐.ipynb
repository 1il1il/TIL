{
 "cells": [
  {
   "cell_type": "code",
   "execution_count": 1,
   "id": "presidential-configuration",
   "metadata": {},
   "outputs": [
    {
     "name": "stdout",
     "output_type": "stream",
     "text": [
      "['화사', None, None, None, None]\n",
      "['화사', '솔라', None, None, None]\n"
     ]
    }
   ],
   "source": [
    "queue = [None, None, None, None, None]\n",
    "front = rear = -1\n",
    "\n",
    "rear += 1\n",
    "queue[rear] = '화사'\n",
    "print(queue)\n",
    "\n",
    "rear += 1\n",
    "queue[rear] = '솔라'\n",
    "print(queue)"
   ]
  },
  {
   "cell_type": "code",
   "execution_count": 2,
   "id": "devoted-opera",
   "metadata": {},
   "outputs": [
    {
     "name": "stdout",
     "output_type": "stream",
     "text": [
      "화사\n",
      "[None, '솔라', None, None, None]\n",
      "솔라\n",
      "[None, None, None, None, None]\n"
     ]
    }
   ],
   "source": [
    "front += 1\n",
    "data = queue[front]\n",
    "print(data)\n",
    "queue[front] = None\n",
    "print(queue)\n",
    "\n",
    "front += 1\n",
    "data = queue[front]\n",
    "print(data)\n",
    "queue[front] = None\n",
    "print(queue)"
   ]
  },
  {
   "cell_type": "code",
   "execution_count": 3,
   "id": "specified-vertical",
   "metadata": {},
   "outputs": [
    {
     "name": "stdout",
     "output_type": "stream",
     "text": [
      "[None, '화사', '문별', '선미', None]\n"
     ]
    }
   ],
   "source": [
    "Size = 5\n",
    "# queue = [None for _ in range(Size)]\n",
    "queue = [None, None, '화사', '문별', '선미']\n",
    "front = 1\n",
    "rear = 4\n",
    "\n",
    "def isQueueFull():\n",
    "    global Size, queue, front, rear\n",
    "    if rear != Size-1:\n",
    "        return False\n",
    "    elif (rear == Size-1) and (front == -1):\n",
    "        return True\n",
    "    else:\n",
    "        for i in range(front+1, Size):\n",
    "            queue[i-1] = queue[i]\n",
    "            queue[i] = None\n",
    "        front -= 1\n",
    "        rear -= 1\n",
    "        return False\n",
    "\n",
    "isQueueFull()\n",
    "print(queue)"
   ]
  },
  {
   "cell_type": "code",
   "execution_count": 4,
   "id": "varying-intervention",
   "metadata": {},
   "outputs": [],
   "source": [
    "def isQueueEmpty():\n",
    "    global Size, queue, front, rear\n",
    "    if (rear == front):\n",
    "        print('큐가 비었습니다')\n",
    "        return True\n",
    "    else:\n",
    "        return False"
   ]
  },
  {
   "cell_type": "code",
   "execution_count": 5,
   "id": "functioning-might",
   "metadata": {},
   "outputs": [
    {
     "name": "stdout",
     "output_type": "stream",
     "text": [
      "[None, '화사', '문별', '선미', '선미']\n"
     ]
    }
   ],
   "source": [
    "def enQueue(data):\n",
    "    global Size, queue, front, rear\n",
    "    if isQueueFull():\n",
    "        print('큐가 가득찼습니다')\n",
    "        return\n",
    "    rear += 1\n",
    "    queue[rear] = data\n",
    "\n",
    "enQueue('선미')\n",
    "print(queue)"
   ]
  },
  {
   "cell_type": "code",
   "execution_count": 6,
   "id": "fitting-motel",
   "metadata": {},
   "outputs": [
    {
     "name": "stdout",
     "output_type": "stream",
     "text": [
      "화사\n",
      "[None, None, '문별', '선미', '선미']\n"
     ]
    }
   ],
   "source": [
    "def deQueue():\n",
    "    global Size, queue, front, rear\n",
    "    if isQueueEmpty():\n",
    "        return None\n",
    "    front += 1\n",
    "    data = queue[front]\n",
    "    queue[front] = None\n",
    "    return data\n",
    "\n",
    "print(deQueue())\n",
    "print(queue)"
   ]
  },
  {
   "cell_type": "code",
   "execution_count": 7,
   "id": "southern-morrison",
   "metadata": {},
   "outputs": [
    {
     "name": "stdout",
     "output_type": "stream",
     "text": [
      "문별\n",
      "[None, None, '문별', '선미', '선미']\n"
     ]
    }
   ],
   "source": [
    "def peek():\n",
    "    global Size, queue, front, rear\n",
    "    if isQueueEmpty():\n",
    "        return None\n",
    "    data = queue[front+1]\n",
    "    return data\n",
    "\n",
    "print(peek())\n",
    "print(queue)"
   ]
  },
  {
   "cell_type": "code",
   "execution_count": null,
   "id": "abandoned-brooklyn",
   "metadata": {},
   "outputs": [],
   "source": [
    "if __name__ =='__main__':\n",
    "    select = input('삽입(I), 추출(E), 확인(V), 종료(X) 중 하나를 선택 >')\n",
    "    \n",
    "    while (select !='x' or select !='X'):\n",
    "        \n",
    "        if (select == 'i' or select == 'I'):\n",
    "            data = input('입력할 데이터 >')\n",
    "            enQueue(data)\n",
    "            print(f'스택 상태 {queue}')\n",
    "            \n",
    "        elif (select == 'e' or select == 'E'):\n",
    "            data = deQueue()\n",
    "            print(f'추출된 데이터 > {data}')\n",
    "            print(f'스택 상태 {queue}')\n",
    "            \n",
    "        elif (select == 'v' or select == 'V'):\n",
    "            data = peek()\n",
    "            print(f'확인된 데이터 > {data}')\n",
    "            print(f'스택 상태 {queue}')\n",
    "            \n",
    "        else:\n",
    "            continue\n",
    "        \n",
    "        select = input('삽입(I), 추출(E), 확인(V), 종료(X) 중 하나를 선택 >')\n",
    "        \n",
    "    print('프로그램 종료')"
   ]
  },
  {
   "cell_type": "code",
   "execution_count": null,
   "id": "rental-afghanistan",
   "metadata": {},
   "outputs": [
    {
     "name": "stdout",
     "output_type": "stream",
     "text": [
      "삽입(I), 추출(E), 확인(V), 종료(X) 중 하나를 선택 >e\n",
      "큐가 비었습니다\n",
      "추출된 데이터 > None\n",
      "스택 상태 [None, None, None, None, None]\n",
      "삽입(I), 추출(E), 확인(V), 종료(X) 중 하나를 선택 >i\n",
      "입력할 데이터 >e\n",
      "스택 상태 [None, 'e', None, None, None]\n",
      "삽입(I), 추출(E), 확인(V), 종료(X) 중 하나를 선택 >i\n",
      "입력할 데이터 >a\n",
      "스택 상태 [None, 'e', 'a', None, None]\n",
      "삽입(I), 추출(E), 확인(V), 종료(X) 중 하나를 선택 >i\n",
      "입력할 데이터 >b\n",
      "스택 상태 [None, 'e', 'a', 'b', None]\n",
      "삽입(I), 추출(E), 확인(V), 종료(X) 중 하나를 선택 >i\n",
      "입력할 데이터 >q\n",
      "스택 상태 [None, 'e', 'a', 'b', 'q']\n",
      "삽입(I), 추출(E), 확인(V), 종료(X) 중 하나를 선택 >i\n",
      "입력할 데이터 >e\n",
      "큐가 가득찼습니다\n",
      "스택 상태 [None, 'e', 'a', 'b', 'q']\n",
      "삽입(I), 추출(E), 확인(V), 종료(X) 중 하나를 선택 >e\n",
      "추출된 데이터 > e\n",
      "스택 상태 [None, None, 'a', 'b', 'q']\n",
      "삽입(I), 추출(E), 확인(V), 종료(X) 중 하나를 선택 >i\n",
      "입력할 데이터 >a\n",
      "스택 상태 ['a', None, 'a', 'b', 'q']\n",
      "삽입(I), 추출(E), 확인(V), 종료(X) 중 하나를 선택 >v\n",
      "확인된 데이터 > a\n",
      "스택 상태 ['a', None, 'a', 'b', 'q']\n",
      "삽입(I), 추출(E), 확인(V), 종료(X) 중 하나를 선택 >x\n"
     ]
    }
   ],
   "source": [
    "# 원형 큐\n",
    "\n",
    "def isQueueFull():\n",
    "    global Size, queue, front, rear\n",
    "    if ((rear+1) % Size) == front:\n",
    "        return True\n",
    "    else:\n",
    "        return False\n",
    "\n",
    "def isQueueEmpty():\n",
    "    global Size, queue, front, rear\n",
    "    if (rear == front):\n",
    "        print('큐가 비었습니다')\n",
    "        return True\n",
    "    else:\n",
    "        return False\n",
    "\n",
    "def enQueue(data):\n",
    "    global Size, queue, front, rear\n",
    "    if isQueueFull():\n",
    "        print('큐가 가득찼습니다')\n",
    "        return\n",
    "    rear = (rear+1) % Size\n",
    "    queue[rear] = data\n",
    "    \n",
    "def deQueue():\n",
    "    global Size, queue, front, rear\n",
    "    if isQueueEmpty():\n",
    "        return None\n",
    "    front = (front+1) % Size\n",
    "    data = queue[front]\n",
    "    queue[front] = None\n",
    "    return data\n",
    "\n",
    "def peek():\n",
    "    global Size, queue, front, rear\n",
    "    if isQueueEmpty():\n",
    "        return None\n",
    "    data = queue[(front+1) % Size]\n",
    "    return data\n",
    "\n",
    "Size = 5\n",
    "queue = [None for _ in range(Size)]\n",
    "front = rear = 0\n",
    "\n",
    "if __name__ =='__main__':\n",
    "    select = input('삽입(I), 추출(E), 확인(V), 종료(X) 중 하나를 선택 >')\n",
    "    \n",
    "    while (select !='x' or select !='X'):\n",
    "        \n",
    "        if (select == 'i' or select == 'I'):\n",
    "            data = input('입력할 데이터 >')\n",
    "            enQueue(data)\n",
    "            print(f'스택 상태 {queue}')\n",
    "            \n",
    "        elif (select == 'e' or select == 'E'):\n",
    "            data = deQueue()\n",
    "            print(f'추출된 데이터 > {data}')\n",
    "            print(f'스택 상태 {queue}')\n",
    "            \n",
    "        elif (select == 'v' or select == 'V'):\n",
    "            data = peek()\n",
    "            print(f'확인된 데이터 > {data}')\n",
    "            print(f'스택 상태 {queue}')\n",
    "            \n",
    "        else:\n",
    "            continue\n",
    "        \n",
    "        select = input('삽입(I), 추출(E), 확인(V), 종료(X) 중 하나를 선택 >')\n",
    "        \n",
    "    print('프로그램 종료')"
   ]
  }
 ],
 "metadata": {
  "kernelspec": {
   "display_name": "Python [conda env:data_env_tf2] *",
   "language": "python",
   "name": "conda-env-data_env_tf2-py"
  },
  "language_info": {
   "codemirror_mode": {
    "name": "ipython",
    "version": 3
   },
   "file_extension": ".py",
   "mimetype": "text/x-python",
   "name": "python",
   "nbconvert_exporter": "python",
   "pygments_lexer": "ipython3",
   "version": "3.7.10"
  }
 },
 "nbformat": 4,
 "nbformat_minor": 5
}
