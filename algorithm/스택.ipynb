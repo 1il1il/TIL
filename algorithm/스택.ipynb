{
 "cells": [
  {
   "cell_type": "code",
   "execution_count": null,
   "id": "going-making",
   "metadata": {},
   "outputs": [],
   "source": [
    "stack = [None, None, None, None, None]\n",
    "top = -1\n",
    "\n",
    "# push\n",
    "top += 1\n",
    "stack[top] = '커피'\n",
    "\n",
    "top += 1\n",
    "stack[top] = '녹차'\n",
    "\n",
    "top += 1\n",
    "stack[top] = '꿀물'\n",
    "\n",
    "print(stack)"
   ]
  },
  {
   "cell_type": "code",
   "execution_count": null,
   "id": "least-hayes",
   "metadata": {},
   "outputs": [],
   "source": [
    "# pop\n",
    "data = stack[top]\n",
    "stack[top] = None\n",
    "top -= 1\n",
    "print(stack)\n",
    "\n",
    "data = stack[top]\n",
    "stack[top] = None\n",
    "top -= 1\n",
    "print(stack)\n",
    "\n",
    "data = stack[top]\n",
    "stack[top] = None\n",
    "top -= 1\n",
    "print(stack)"
   ]
  },
  {
   "cell_type": "code",
   "execution_count": 2,
   "id": "moved-trout",
   "metadata": {},
   "outputs": [
    {
     "data": {
      "text/plain": [
       "True"
      ]
     },
     "execution_count": 2,
     "metadata": {},
     "output_type": "execute_result"
    }
   ],
   "source": [
    "def isStackFull():\n",
    "    global Size, stack, top\n",
    "    if top >= (Size-1):\n",
    "        return True\n",
    "    else:\n",
    "        return False\n",
    "\n",
    "stack = ['커피', '녹차', '꿀물', '콜라', '환타']\n",
    "Size = len(stack)\n",
    "top = 4\n",
    "\n",
    "isStackFull()"
   ]
  },
  {
   "cell_type": "code",
   "execution_count": 3,
   "id": "coated-preservation",
   "metadata": {},
   "outputs": [],
   "source": [
    "def isStackEmpty():\n",
    "    global Size, stack, top\n",
    "    if top == -1:\n",
    "        return True\n",
    "    else:\n",
    "        return False"
   ]
  },
  {
   "cell_type": "code",
   "execution_count": 4,
   "id": "aggressive-nudist",
   "metadata": {},
   "outputs": [
    {
     "name": "stdout",
     "output_type": "stream",
     "text": [
      "['커피', '녹차', '꿀물', '콜라', '환타']\n",
      "스택이 가득찼습니다\n"
     ]
    }
   ],
   "source": [
    "def push(data):\n",
    "    global Size, stack, top\n",
    "    if isStackFull():\n",
    "        print('스택이 가득찼습니다')\n",
    "        return\n",
    "    top += 1\n",
    "    stack[top] = data\n",
    "    \n",
    "stack = ['커피', '녹차', '꿀물', '콜라', None]\n",
    "Size = len(stack)\n",
    "top = 3\n",
    "\n",
    "push('환타')\n",
    "print(stack)\n",
    "push('게토레이')"
   ]
  },
  {
   "cell_type": "code",
   "execution_count": 5,
   "id": "opposite-continent",
   "metadata": {},
   "outputs": [
    {
     "name": "stdout",
     "output_type": "stream",
     "text": [
      "환타\n"
     ]
    }
   ],
   "source": [
    "def pop():\n",
    "    global Size, stack, top\n",
    "    if isStackEmpty():\n",
    "        print('스택이 비었습니다')\n",
    "        return None\n",
    "    \n",
    "    data = stack[top]\n",
    "    stack[top] = None\n",
    "    top -= 1\n",
    "    return data\n",
    "\n",
    "print(pop())"
   ]
  },
  {
   "cell_type": "code",
   "execution_count": 6,
   "id": "extended-turner",
   "metadata": {},
   "outputs": [
    {
     "name": "stdout",
     "output_type": "stream",
     "text": [
      "콜라\n"
     ]
    }
   ],
   "source": [
    "def peek():\n",
    "    global Size, stack, top\n",
    "    if isStackEmpty():\n",
    "        print('스택이 비었습니다')\n",
    "        return None\n",
    "    \n",
    "    data = stack[top]\n",
    "    return data\n",
    "\n",
    "print(peek())"
   ]
  },
  {
   "cell_type": "code",
   "execution_count": null,
   "id": "important-reducing",
   "metadata": {},
   "outputs": [
    {
     "name": "stdout",
     "output_type": "stream",
     "text": [
      "삽입(I), 추출(E), 확인(V), 종료(X) 중 하나를 선택 >e\n",
      "추출된 데이터 > 콜라\n",
      "스택 상태 ['커피', '녹차', '꿀물', None, None]\n",
      "삽입(I), 추출(E), 확인(V), 종료(X) 중 하나를 선택 >v\n",
      "확인된 데이터 > 꿀물\n",
      "스택 상태 ['커피', '녹차', '꿀물', None, None]\n",
      "삽입(I), 추출(E), 확인(V), 종료(X) 중 하나를 선택 >x\n"
     ]
    }
   ],
   "source": [
    "stack = ['커피', '녹차', '꿀물', '콜라', None]\n",
    "Size = len(stack)\n",
    "top = 3\n",
    "\n",
    "if __name__ == '__main__':\n",
    "    select = input('삽입(I), 추출(E), 확인(V), 종료(X) 중 하나를 선택 >')\n",
    "    \n",
    "    while (select !='x' or select !='X'):\n",
    "        if (select == 'i' or select == 'I'):\n",
    "            data = input('입력할 데이터 >')\n",
    "            push(data)\n",
    "            print(f'스택 상태 {stack}')\n",
    "            \n",
    "        elif (select == 'e' or select == 'E'):\n",
    "            data = pop()\n",
    "            print(f'추출된 데이터 > {data}')\n",
    "            print(f'스택 상태 {stack}')\n",
    "            \n",
    "        elif (select == 'v' or select == 'V'):\n",
    "            data = peek()\n",
    "            print(f'확인된 데이터 > {data}')\n",
    "            print(f'스택 상태 {stack}')\n",
    "            \n",
    "        else:\n",
    "            continue\n",
    "        select = input('삽입(I), 추출(E), 확인(V), 종료(X) 중 하나를 선택 >')\n",
    "        \n",
    "    print('프로그램 종료')"
   ]
  }
 ],
 "metadata": {
  "kernelspec": {
   "display_name": "Python [conda env:data_env_tf2] *",
   "language": "python",
   "name": "conda-env-data_env_tf2-py"
  },
  "language_info": {
   "codemirror_mode": {
    "name": "ipython",
    "version": 3
   },
   "file_extension": ".py",
   "mimetype": "text/x-python",
   "name": "python",
   "nbconvert_exporter": "python",
   "pygments_lexer": "ipython3",
   "version": "3.7.10"
  }
 },
 "nbformat": 4,
 "nbformat_minor": 5
}
