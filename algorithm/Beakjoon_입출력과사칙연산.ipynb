{
 "cells": [
  {
   "cell_type": "markdown",
   "metadata": {},
   "source": [
    "# Beakjoon 문제 풀이(단계별로 풀어보기 )\n",
    "## 1. 입출력과 사칙연산 단계\n",
    "> [링크](https://www.acmicpc.net/step/1)"
   ]
  },
  {
   "cell_type": "markdown",
   "metadata": {},
   "source": [
    "### 0. [문제 제목](https://www.acmicpc.net/step/1)\n",
    "- 문제 : \n",
    "- 입력 : \n",
    "    - 예제 입력\n",
    "- 출력 : \n",
    "    - 예제 출력\n",
    "---\n",
    "- 비고 :"
   ]
  },
  {
   "cell_type": "markdown",
   "metadata": {},
   "source": [
    "### 1. [Hello World](https://www.acmicpc.net/problem/2557)\n",
    "- 문제 : Hello World!를 출력하시오.\n",
    "- 입력 :\n",
    "- 출력 : Hello World!\n",
    "---\n",
    "- 비고 :"
   ]
  },
  {
   "cell_type": "code",
   "execution_count": null,
   "metadata": {},
   "outputs": [],
   "source": [
    "print('Hello World!')"
   ]
  },
  {
   "cell_type": "markdown",
   "metadata": {},
   "source": [
    "### 2. [We love kriii](https://www.acmicpc.net/problem/10718)\n",
    "- 문제 : ACM-ICPC 인터넷 예선, Regional, 그리고 World Finals까지 이미 2회씩 진출해버린 kriii는 미련을 버리지 못하고 왠지 모르게 올해에도 파주 World Finals 준비 캠프에 참여했다. 대회를 뜰 줄 모르는 지박령 kriii를 위해서 격려의 문구를 출력해주자.\n",
    "- 입력 : 본 문제는 입력이 없다.\n",
    "- 출력 : 두 줄에 걸쳐 \"강한친구 대한육군\"을 한 줄에 한 번씩 출력한다.\n",
    "---\n",
    "- 비고 :"
   ]
  },
  {
   "cell_type": "code",
   "execution_count": 1,
   "metadata": {},
   "outputs": [
    {
     "name": "stdout",
     "output_type": "stream",
     "text": [
      "강한친구 대한육군\n",
      "강한친구 대한육군\n"
     ]
    }
   ],
   "source": [
    "print('강한친구 대한육군')\n",
    "print('강한친구 대한육군')"
   ]
  },
  {
   "cell_type": "markdown",
   "metadata": {},
   "source": [
    "### 3. [고양이](https://www.acmicpc.net/problem/10171)\n",
    "- 문제 : 아래 예제와 같이 고양이를 출력하시오.\n",
    "- 입력 : 없음.\n",
    "- 출력 : 고양이를 출력한다.\n",
    "---\n",
    "- 비고 : \\를 문자열로 출력하기 위해선 \\\\로 표현해야 한다"
   ]
  },
  {
   "cell_type": "code",
   "execution_count": 2,
   "metadata": {},
   "outputs": [
    {
     "name": "stdout",
     "output_type": "stream",
     "text": [
      "\\    /\\\n",
      " )  ( ')\n",
      "(  /  )\n",
      " \\(__)|\n"
     ]
    }
   ],
   "source": [
    "print('\\    /\\\\')\n",
    "print(\" )  ( ')\")\n",
    "print('(  /  )')\n",
    "print(' \\(__)|')"
   ]
  },
  {
   "cell_type": "markdown",
   "metadata": {},
   "source": [
    "### 4. [개](https://www.acmicpc.net/problem/10172)\n",
    "- 문제 : 아래 예제와 같이 개를 출력하시오.\n",
    "- 입력 : 없음.\n",
    "- 출력 : 개를 출력한다.\n",
    "---\n",
    "- 비고 : \\를 문자열로 출력하기 위해선 \\\\로 표현해야 한다"
   ]
  },
  {
   "cell_type": "code",
   "execution_count": 3,
   "metadata": {},
   "outputs": [
    {
     "name": "stdout",
     "output_type": "stream",
     "text": [
      "|\\_/|\n",
      "|q p|   /}\n",
      "( 0 )\"\"\"\\\n",
      "|\"^\"`    |\n",
      "||_/=\\\\__|\n"
     ]
    }
   ],
   "source": [
    "print('|\\\\_/|')\n",
    "print('|q p|   /}')\n",
    "print('( 0 )\"\"\"\\\\')\n",
    "print('|\"^\"`    |')\n",
    "print('||_/=\\\\\\\\__|')"
   ]
  },
  {
   "cell_type": "markdown",
   "metadata": {},
   "source": [
    "### 5. [A+B](https://www.acmicpc.net/problem/1000)\n",
    "- 문제 : 두 정수 A와 B를 입력받은 다음, A+B를 출력하는 프로그램을 작성하시오.\n",
    "- 입력 : 첫째 줄에 A와 B가 주어진다. (0 < A, B < 10)\n",
    "    - 1 2\n",
    "- 출력 : 첫째 줄에 A+B를 출력한다.\n",
    "    - 3\n",
    "---\n",
    "- 비고 : 주어진 입력을 받는 방법, map() 함수에 대한 이해가 필요\n",
    "    - [map()](https://docs.python.org/3/library/functions.html#map)\n",
    "    - [split()](https://docs.python.org/3/library/stdtypes.html?highlight=split#str.split) : split(sep=none)인 경우 공백만을 제거한다"
   ]
  },
  {
   "cell_type": "code",
   "execution_count": 29,
   "metadata": {},
   "outputs": [
    {
     "name": "stdout",
     "output_type": "stream",
     "text": [
      "6\n",
      "123\n"
     ]
    }
   ],
   "source": [
    "# map()은 반복가능한 대상에 함수를 일괄적용할 수 있다\n",
    "# 1. 문자열\n",
    "a,b,c = map(int, '123')\n",
    "print(a+b+c)\n",
    "# 2. 리스트\n",
    "a,b,c = map(str, [1,2,3])\n",
    "print(a+b+c)"
   ]
  },
  {
   "cell_type": "code",
   "execution_count": 26,
   "metadata": {},
   "outputs": [
    {
     "name": "stdout",
     "output_type": "stream",
     "text": [
      "['asd', 'q', 'w', 'e']\n"
     ]
    }
   ],
   "source": [
    "# split()은 공백을 제거한다\n",
    "a = 'asd q w  e        '\n",
    "print(a.split())"
   ]
  },
  {
   "cell_type": "code",
   "execution_count": 27,
   "metadata": {},
   "outputs": [
    {
     "name": "stdout",
     "output_type": "stream",
     "text": [
      "1 2\n",
      "3\n"
     ]
    }
   ],
   "source": [
    "a, b = map(int, input().split()) \n",
    "print(a+b)"
   ]
  },
  {
   "cell_type": "code",
   "execution_count": 28,
   "metadata": {},
   "outputs": [
    {
     "name": "stdout",
     "output_type": "stream",
     "text": [
      "1 2\n",
      "3\n"
     ]
    }
   ],
   "source": [
    "a, b = list(input().split())\n",
    "print(int(a)+int(b))"
   ]
  },
  {
   "cell_type": "markdown",
   "metadata": {},
   "source": [
    "### 6. [A-B](https://www.acmicpc.net/problem/1001)\n",
    "- 문제 : 두 정수 A와 B를 입력받은 다음, A-B를 출력하는 프로그램을 작성하시오.\n",
    "- 입력 : 첫째 줄에 A와 B가 주어진다. (0 < A, B < 10)\n",
    "    - 3 2\n",
    "- 출력 : 첫째 줄에 A-B를 출력한다.\n",
    "    - 1\n",
    "---\n",
    "- 비고 :"
   ]
  },
  {
   "cell_type": "code",
   "execution_count": 2,
   "metadata": {},
   "outputs": [
    {
     "name": "stdout",
     "output_type": "stream",
     "text": [
      "3 2\n",
      "1\n"
     ]
    }
   ],
   "source": [
    "a, b = map(int, input().split())\n",
    "print(a-b)"
   ]
  },
  {
   "cell_type": "markdown",
   "metadata": {},
   "source": [
    "### 7. [A×B](https://www.acmicpc.net/problem/10998)\n",
    "- 문제 : 두 정수 A와 B를 입력받은 다음, A×B를 출력하는 프로그램을 작성하시오.\n",
    "- 입력 : 첫째 줄에 A와 B가 주어진다. (0 < A, B < 10)\n",
    "    - 1 2\n",
    "    - 3 4\n",
    "- 출력 : 첫째 줄에 A×B를 출력한다.\n",
    "    - 2\n",
    "    - 12\n",
    "---\n",
    "- 비고 :"
   ]
  },
  {
   "cell_type": "code",
   "execution_count": 1,
   "metadata": {},
   "outputs": [
    {
     "name": "stdout",
     "output_type": "stream",
     "text": [
      "1 2\n",
      "2\n"
     ]
    }
   ],
   "source": [
    "a, b = map(int, input().split())\n",
    "print(a*b)"
   ]
  },
  {
   "cell_type": "markdown",
   "metadata": {},
   "source": [
    "### 7. [A/B](https://www.acmicpc.net/problem/1008)\n",
    "- 문제 : 두 정수 A와 B를 입력받은 다음, A/B를 출력하는 프로그램을 작성하시오.\n",
    "- 입력 : 첫째 줄에 A와 B가 주어진다. (0 < A, B < 10)\n",
    "    - 1 3\n",
    "    - 4 5\n",
    "- 출력 : 첫째 줄에 A/B를 출력한다. 실제 정답과 출력값의 절대오차 또는 상대오차가 10-9 이하이면 정답이다.\n",
    "    - 0.33333333333333333333333333333333\n",
    "    - 0.8\n",
    "---\n",
    "- 비고 : 자리수 표현\n",
    "    - [round()](https://docs.python.org/3/library/functions.html?highlight=round#round) : 컴퓨터 특성상 이진법으로 계산을 해서 분수를 표현할때 실제와 다를 수있다. 예를 들면 round(2.675, 2)는 2.68이 아닌 2.67이 리턴된다. 자세한 사항은 [링크](https://docs.python.org/3/tutorial/floatingpoint.html#tut-fp-issues) 참조"
   ]
  },
  {
   "cell_type": "code",
   "execution_count": 6,
   "metadata": {},
   "outputs": [
    {
     "name": "stdout",
     "output_type": "stream",
     "text": [
      "1 3\n",
      "0.33333333333\n"
     ]
    }
   ],
   "source": [
    "a, b = map(int, input().split())\n",
    "print(round(a/b, 11))"
   ]
  }
 ],
 "metadata": {
  "kernelspec": {
   "display_name": "Python [conda env:data_env] *",
   "language": "python",
   "name": "conda-env-data_env-py"
  },
  "language_info": {
   "codemirror_mode": {
    "name": "ipython",
    "version": 3
   },
   "file_extension": ".py",
   "mimetype": "text/x-python",
   "name": "python",
   "nbconvert_exporter": "python",
   "pygments_lexer": "ipython3",
   "version": "3.7.9"
  }
 },
 "nbformat": 4,
 "nbformat_minor": 4
}
