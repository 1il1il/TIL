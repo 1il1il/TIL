{
 "cells": [
  {
   "cell_type": "code",
   "execution_count": 1,
   "id": "informed-tactics",
   "metadata": {},
   "outputs": [
    {
     "name": "stdout",
     "output_type": "stream",
     "text": [
      "다현 정연 쯔위 사나 지효 "
     ]
    }
   ],
   "source": [
    "class Node():\n",
    "    def __init__(self):\n",
    "        self.data = None\n",
    "        self.link = None\n",
    "        \n",
    "\n",
    "node1 = Node()\n",
    "node1.data = '다현'\n",
    "\n",
    "node2 = Node()\n",
    "node2.data = '정연'\n",
    "node1.link = node2\n",
    "\n",
    "node3 = Node()\n",
    "node3.data = '쯔위'\n",
    "node2.link = node3\n",
    "\n",
    "node4 = Node()\n",
    "node4.data = '사나'\n",
    "node3.link = node4\n",
    "\n",
    "node5 = Node()\n",
    "node5.data = '지효'\n",
    "node4.link = node5\n",
    "print(node1.data, end=' ')\n",
    "print(node1.link.data, end=' ')\n",
    "print(node1.link.link.data, end=' ')\n",
    "print(node1.link.link.link.data, end=' ')\n",
    "print(node1.link.link.link.link.data, end=' ')"
   ]
  },
  {
   "cell_type": "code",
   "execution_count": 2,
   "id": "comfortable-sharp",
   "metadata": {},
   "outputs": [
    {
     "name": "stdout",
     "output_type": "stream",
     "text": [
      "다현 정연 쯔위 사나 지효 "
     ]
    }
   ],
   "source": [
    "current = node1\n",
    "print(current.data, end=' ')\n",
    "while current.link != None:\n",
    "    current = current.link\n",
    "    print(current.data, end=' ')"
   ]
  },
  {
   "cell_type": "code",
   "execution_count": 3,
   "id": "geological-submission",
   "metadata": {},
   "outputs": [
    {
     "name": "stdout",
     "output_type": "stream",
     "text": [
      "다현 정연 재남 쯔위 사나 지효 "
     ]
    }
   ],
   "source": [
    "# 노드 삽입\n",
    "new_node = Node()\n",
    "new_node.data = '재남'\n",
    "\n",
    "new_node.link = node2.link\n",
    "\n",
    "node2.link = new_node\n",
    "\n",
    "current = node1\n",
    "print(current.data, end=' ')\n",
    "while current.link != None:\n",
    "    current = current.link\n",
    "    print(current.data, end=' ')"
   ]
  },
  {
   "cell_type": "code",
   "execution_count": 4,
   "id": "naval-anxiety",
   "metadata": {},
   "outputs": [
    {
     "name": "stdout",
     "output_type": "stream",
     "text": [
      "다현 정연 사나 지효 "
     ]
    }
   ],
   "source": [
    "# 노드 삭제\n",
    "node2.link = node3.link\n",
    "\n",
    "del node3\n",
    "\n",
    "current = node1\n",
    "print(current.data, end=' ')\n",
    "while current.link != None:\n",
    "    current = current.link\n",
    "    print(current.data, end=' ')"
   ]
  },
  {
   "cell_type": "code",
   "execution_count": 31,
   "id": "continued-tender",
   "metadata": {},
   "outputs": [
    {
     "name": "stdout",
     "output_type": "stream",
     "text": [
      "다현 정연 쯔위 사나 지효 \n"
     ]
    }
   ],
   "source": [
    "class Node():\n",
    "    def __init__(self):\n",
    "        self.data = None\n",
    "        self.link = None\n",
    "    \n",
    "def printNode(start):\n",
    "    current = start\n",
    "    if current == None:\n",
    "        return\n",
    "    print(current.data, end=' ')\n",
    "    while current.link != None:\n",
    "        current = current.link\n",
    "        print(current.data, end=' ')\n",
    "    print()\n",
    "        \n",
    "## 전역 변수\n",
    "        \n",
    "memory = list()\n",
    "head, current, pre = None, None, None\n",
    "dataArray = ['다현', '정연', '쯔위', '사나', '지효']\n",
    "\n",
    "node = Node()\n",
    "node.data = dataArray[0]\n",
    "head = node\n",
    "memory.append(node)\n",
    "\n",
    "for data in dataArray[1:]:\n",
    "    pre = node\n",
    "    node = Node()\n",
    "    node.data = data\n",
    "    pre.link = node\n",
    "    memory.append(node)\n",
    "\n",
    "printNode(head)"
   ]
  },
  {
   "cell_type": "code",
   "execution_count": 32,
   "id": "introductory-personality",
   "metadata": {},
   "outputs": [],
   "source": [
    "def insertNode(findData, insetData):\n",
    "    global memory, head, current, pre\n",
    "    \n",
    "    # 첫 번째 노드 삽입\n",
    "    if head.data == findData:\n",
    "        node = Node()\n",
    "        node.data = insetData\n",
    "        node.link = head\n",
    "        head = node\n",
    "        return\n",
    "        \n",
    "    # 중간 노드 삽입\n",
    "    current = head\n",
    "    while current.link != None:\n",
    "        pre = current\n",
    "        current = current.link\n",
    "        if current.data == findData:\n",
    "            node = Node()\n",
    "            node.data = insetData\n",
    "            node.link = current\n",
    "            pre.link = node\n",
    "            return\n",
    "            \n",
    "    # 마지막 노드 삽입\n",
    "    node = Node()\n",
    "    node.data = insetData\n",
    "    current.link = node"
   ]
  },
  {
   "cell_type": "code",
   "execution_count": 33,
   "id": "integral-breathing",
   "metadata": {},
   "outputs": [
    {
     "name": "stdout",
     "output_type": "stream",
     "text": [
      "다현 정연 쯔위 사나 지효 재현 \n"
     ]
    }
   ],
   "source": [
    "insertNode('', '재현')\n",
    "printNode(head)"
   ]
  },
  {
   "cell_type": "code",
   "execution_count": 38,
   "id": "double-instruction",
   "metadata": {},
   "outputs": [],
   "source": [
    "# 노드 삭제\n",
    "def deleteNode(deleteData):\n",
    "    global memory, head, current, pre\n",
    "    \n",
    "    # 첫 번째 노드 삭제\n",
    "    if head.data == deleteData:\n",
    "        current = head\n",
    "        head = head.link\n",
    "        del current\n",
    "        return\n",
    "        \n",
    "    # 중간 노드 삭제\n",
    "    current = head\n",
    "    while current.link != None:\n",
    "        pre = current\n",
    "        current = current.link\n",
    "        if current.data == deleteData:\n",
    "            pre.link = current.link\n",
    "            del current\n",
    "            return"
   ]
  },
  {
   "cell_type": "code",
   "execution_count": 39,
   "id": "living-canyon",
   "metadata": {},
   "outputs": [
    {
     "name": "stdout",
     "output_type": "stream",
     "text": [
      "다현 정연 쯔위 지효 재현 \n"
     ]
    }
   ],
   "source": [
    "deleteNode('사나')\n",
    "printNode(head)"
   ]
  },
  {
   "cell_type": "code",
   "execution_count": 40,
   "id": "expanded-relevance",
   "metadata": {},
   "outputs": [],
   "source": [
    "# 노드 검색\n",
    "def findNode(findData):\n",
    "    global memory, head, current, pre\n",
    "    \n",
    "    current = head\n",
    "    if current.data == findData:\n",
    "        return current\n",
    "    while current.link != None:\n",
    "        current = current.link\n",
    "        if current.data == findData:\n",
    "            return current\n",
    "        \n",
    "    return Node()"
   ]
  },
  {
   "cell_type": "code",
   "execution_count": 42,
   "id": "becoming-theory",
   "metadata": {},
   "outputs": [
    {
     "name": "stdout",
     "output_type": "stream",
     "text": [
      "지효 재현 \n"
     ]
    }
   ],
   "source": [
    "fnode = findNode('지효')\n",
    "printNode(fnode)"
   ]
  }
 ],
 "metadata": {
  "kernelspec": {
   "display_name": "Python [conda env:data_env_tf2] *",
   "language": "python",
   "name": "conda-env-data_env_tf2-py"
  },
  "language_info": {
   "codemirror_mode": {
    "name": "ipython",
    "version": 3
   },
   "file_extension": ".py",
   "mimetype": "text/x-python",
   "name": "python",
   "nbconvert_exporter": "python",
   "pygments_lexer": "ipython3",
   "version": "3.7.10"
  }
 },
 "nbformat": 4,
 "nbformat_minor": 5
}
