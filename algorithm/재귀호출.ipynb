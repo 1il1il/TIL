{
 "cells": [
  {
   "cell_type": "code",
   "execution_count": 6,
   "id": "departmental-vacation",
   "metadata": {},
   "outputs": [
    {
     "name": "stdout",
     "output_type": "stream",
     "text": [
      "종이상자를 엽니다\n",
      "종이상자를 엽니다\n",
      "종이상자를 엽니다\n",
      "종이상자를 엽니다\n",
      "종이상자를 엽니다\n",
      "종이상자를 엽니다\n",
      "종이상자를 엽니다\n",
      "종이상자를 엽니다\n",
      "종이상자를 엽니다\n",
      "종이상자를 엽니다\n",
      "반지넣기\n",
      "종이상자 닫기\n",
      "종이상자 닫기\n",
      "종이상자 닫기\n",
      "종이상자 닫기\n",
      "종이상자 닫기\n",
      "종이상자 닫기\n",
      "종이상자 닫기\n",
      "종이상자 닫기\n",
      "종이상자 닫기\n"
     ]
    }
   ],
   "source": [
    "def openBox():\n",
    "    global count\n",
    "    print('종이상자를 엽니다')\n",
    "    count -= 1\n",
    "    if count == 0:\n",
    "        print('반지넣기')\n",
    "        return\n",
    "    openBox()\n",
    "    print('종이상자 닫기')\n",
    "\n",
    "count = 10\n",
    "openBox()"
   ]
  },
  {
   "cell_type": "code",
   "execution_count": 31,
   "id": "french-moment",
   "metadata": {},
   "outputs": [
    {
     "name": "stdout",
     "output_type": "stream",
     "text": [
      "2001000\n"
     ]
    }
   ],
   "source": [
    "def addNumber(num):\n",
    "    if num <= 1:\n",
    "        return 1\n",
    "    return num + addNumber(num-1)\n",
    "\n",
    "print(addNumber(2000))"
   ]
  },
  {
   "cell_type": "code",
   "execution_count": 32,
   "id": "frank-nowhere",
   "metadata": {},
   "outputs": [
    {
     "name": "stdout",
     "output_type": "stream",
     "text": [
      "2001000\n"
     ]
    }
   ],
   "source": [
    "sumV = 0\n",
    "for n in range(2000, 0, -1):\n",
    "    sumV += n\n",
    "print(sumV)"
   ]
  }
 ],
 "metadata": {
  "kernelspec": {
   "display_name": "Python [conda env:data_env_tf2] *",
   "language": "python",
   "name": "conda-env-data_env_tf2-py"
  },
  "language_info": {
   "codemirror_mode": {
    "name": "ipython",
    "version": 3
   },
   "file_extension": ".py",
   "mimetype": "text/x-python",
   "name": "python",
   "nbconvert_exporter": "python",
   "pygments_lexer": "ipython3",
   "version": "3.7.10"
  }
 },
 "nbformat": 4,
 "nbformat_minor": 5
}
