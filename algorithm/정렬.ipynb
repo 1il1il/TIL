{
 "cells": [
  {
   "cell_type": "code",
   "execution_count": 2,
   "id": "composite-impression",
   "metadata": {},
   "outputs": [
    {
     "name": "stdout",
     "output_type": "stream",
     "text": [
      "33\n"
     ]
    }
   ],
   "source": [
    "def findMinIdx(ary):\n",
    "    minIdx = 0\n",
    "    for i in range(1, len(ary)):\n",
    "        if ary[minIdx] >= ary[i]:\n",
    "            minIdx = i\n",
    "    return minIdx\n",
    "\n",
    "test = [55, 88, 33, 77]\n",
    "print(test[findMinIdx(test)])"
   ]
  },
  {
   "cell_type": "code",
   "execution_count": 3,
   "id": "split-chester",
   "metadata": {},
   "outputs": [
    {
     "name": "stdout",
     "output_type": "stream",
     "text": [
      "[188, 162, 168, 120, 50, 150, 177, 105]\n",
      "[50, 105, 120, 150, 162, 168, 177, 188]\n"
     ]
    }
   ],
   "source": [
    "before = [188,162,168,120,50,150,177,105]\n",
    "after = []\n",
    "\n",
    "print(before)\n",
    "for _ in range(len(before)):\n",
    "    minPos = findMinIdx(before)\n",
    "    after.append(before[minPos])\n",
    "    del before[minPos]\n",
    "print(after)"
   ]
  },
  {
   "cell_type": "code",
   "execution_count": 13,
   "id": "loved-platform",
   "metadata": {},
   "outputs": [
    {
     "data": {
      "text/plain": [
       "[50, 105, 120, 150, 162, 168, 177, 188]"
      ]
     },
     "execution_count": 13,
     "metadata": {},
     "output_type": "execute_result"
    }
   ],
   "source": [
    "before = [188,162,168,120,50,150,177,105]\n",
    "\n",
    "def selectionSort(ary):\n",
    "    n = len(ary)\n",
    "    for i in range(0, n-1):\n",
    "        minIdx = i\n",
    "        for k in range(i+1, n):\n",
    "            if ary[minIdx] > ary[k]:\n",
    "                minIdx = k\n",
    "        \n",
    "        temp = ary[i]\n",
    "        ary[i] = ary[minIdx]\n",
    "        ary[minIdx] = temp\n",
    "    \n",
    "    return ary\n",
    "\n",
    "selectionSort(before)"
   ]
  }
 ],
 "metadata": {
  "kernelspec": {
   "display_name": "Python [conda env:data_env_tf2] *",
   "language": "python",
   "name": "conda-env-data_env_tf2-py"
  },
  "language_info": {
   "codemirror_mode": {
    "name": "ipython",
    "version": 3
   },
   "file_extension": ".py",
   "mimetype": "text/x-python",
   "name": "python",
   "nbconvert_exporter": "python",
   "pygments_lexer": "ipython3",
   "version": "3.7.10"
  }
 },
 "nbformat": 4,
 "nbformat_minor": 5
}
