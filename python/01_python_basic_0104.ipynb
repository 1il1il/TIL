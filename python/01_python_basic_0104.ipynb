{
 "cells": [
  {
   "cell_type": "markdown",
   "metadata": {},
   "source": [
    "# Python 기본\n",
    "## 1. 기본 사항\n",
    "- 이 상자를 cell이라고 한다\n",
    "- 아래쪽에 새로운 셀 추가 b\n",
    "- 위쪽에 새로운 셀 추가 a\n",
    "- 셀 삭제 dd\n",
    "- 셀안의 코드 실행 ctrl+enter\n",
    "- 셀 옆의 숫자는 실행된 순서\n",
    "---\n",
    "\n",
    "## 2. Conda 가상환경\n",
    "1. 가상환경 리스트 확인\n",
    "    - conda info --envs\n",
    "    \n",
    "\n",
    "2. 가상환경 삭제(폴더는 자동으로 지워지지 않는다. 직접 삭제 필요)\n",
    "    - conda remove --name data_env --all\n",
    "---\n",
    "\n",
    "## 3. 파이썬의 특징 \n",
    "1. 상대적으로 쉬운 언어\n",
    "2. 강력한 데이터 분석, AI 관련 라이브러리가 많다\n",
    "3. 오픈소스\n",
    "4. 데이터 분석을 위한 범용적인 언어\n",
    "    - cf) R은 통계를 위한 프로그래밍 언어\n",
    "5. 가장 인기있는 언어중에 하나\n",
    "6. 하위 호환성 문제있다 (2.X vs 3.X)\n",
    "---\n",
    "\n",
    "## 4. python 문법\n",
    "1. 주석\n",
    "    - 한줄 주석 #내용\n",
    "    - 여러줄 주석 '''내용'''\n",
    "2. 키워드 살펴보기"
   ]
  },
  {
   "cell_type": "code",
   "execution_count": 8,
   "metadata": {},
   "outputs": [
    {
     "name": "stdout",
     "output_type": "stream",
     "text": [
      "['False', 'None', 'True', 'and', 'as', 'assert', 'async', 'await', 'break', 'class', 'continue', 'def', 'del', 'elif', 'else', 'except', 'finally', 'for', 'from', 'global', 'if', 'import', 'in', 'is', 'lambda', 'nonlocal', 'not', 'or', 'pass', 'raise', 'return', 'try', 'while', 'with', 'yield']\n"
     ]
    }
   ],
   "source": [
    "import keyword\n",
    "print(keyword.kwlist)"
   ]
  },
  {
   "cell_type": "markdown",
   "metadata": {},
   "source": [
    "3. 변수의 생성과 출력"
   ]
  },
  {
   "cell_type": "code",
   "execution_count": 9,
   "metadata": {},
   "outputs": [
    {
     "name": "stdout",
     "output_type": "stream",
     "text": [
      "생성된 변수의 값은 :  100\n"
     ]
    }
   ],
   "source": [
    "hahaha = 100\n",
    "print('생성된 변수의 값은 : ', hahaha)"
   ]
  },
  {
   "cell_type": "markdown",
   "metadata": {},
   "source": [
    "4. 변수의 삭제\n",
    "    - 변수를 지워서 에러가 발생"
   ]
  },
  {
   "cell_type": "code",
   "execution_count": 10,
   "metadata": {},
   "outputs": [
    {
     "ename": "NameError",
     "evalue": "name 'hahaha' is not defined",
     "output_type": "error",
     "traceback": [
      "\u001b[1;31m---------------------------------------------------------------------------\u001b[0m",
      "\u001b[1;31mNameError\u001b[0m                                 Traceback (most recent call last)",
      "\u001b[1;32m<ipython-input-10-a4a31b57e337>\u001b[0m in \u001b[0;36m<module>\u001b[1;34m\u001b[0m\n\u001b[0;32m      1\u001b[0m \u001b[1;32mdel\u001b[0m \u001b[0mhahaha\u001b[0m\u001b[1;33m\u001b[0m\u001b[1;33m\u001b[0m\u001b[0m\n\u001b[1;32m----> 2\u001b[1;33m \u001b[0mprint\u001b[0m\u001b[1;33m(\u001b[0m\u001b[0mhahaha\u001b[0m\u001b[1;33m)\u001b[0m\u001b[1;33m\u001b[0m\u001b[1;33m\u001b[0m\u001b[0m\n\u001b[0m",
      "\u001b[1;31mNameError\u001b[0m: name 'hahaha' is not defined"
     ]
    }
   ],
   "source": [
    "del hahaha\n",
    "print(hahaha)"
   ]
  },
  {
   "cell_type": "markdown",
   "metadata": {},
   "source": [
    "## 5. python의 Data type (Built-in Data type)\n",
    ">다양한 데이터 타입이 있다\n",
    "1. numeric\n",
    "    - int, float, complex\n",
    "2. sequence\n",
    "    - list, tuple\n",
    "3. text sequence (문자열)\n",
    "4. mapping\n",
    "5. set\n",
    "6. bool\n",
    "---\n",
    "\n",
    "### 1. numeric (숫자형)\n",
    "1. 정수(int), 실수(float), 복소수(complex)"
   ]
  },
  {
   "cell_type": "code",
   "execution_count": 16,
   "metadata": {},
   "outputs": [],
   "source": [
    "a =123          # 정수\n",
    "b = 3.12        # 실수\n",
    "c = 3.1342E10   # 지수형태의 실수\n",
    "d = 1 + 2J      # 복소수\n",
    "e = 0o34        # 8진수\n",
    "f = 0xAB        # 16진수"
   ]
  },
  {
   "cell_type": "code",
   "execution_count": 15,
   "metadata": {},
   "outputs": [
    {
     "name": "stdout",
     "output_type": "stream",
     "text": [
      "123\n",
      "<class 'int'>\n"
     ]
    }
   ],
   "source": [
    "print(a)        # 변수 a의 값 출력\n",
    "print(type(a))  # 변수 a의 데이터 타입 출력 type() 함수 이용"
   ]
  },
  {
   "cell_type": "markdown",
   "metadata": {},
   "source": [
    "2. 연산할때 주의사항\n",
    "    - 연산은 무조건 같은 데이터 타입끼리\n",
    "    - 우선 캐스팅을 진행해서 계산을 진행하고\n",
    "    - 캐스팅이 안되면 에러 ex) 문자열 + 숫자"
   ]
  },
  {
   "cell_type": "code",
   "execution_count": 22,
   "metadata": {},
   "outputs": [
    {
     "name": "stdout",
     "output_type": "stream",
     "text": [
      "6.140000000000001\n",
      "0.75\n",
      "81\n",
      "1\n",
      "33\n"
     ]
    }
   ],
   "source": [
    "aa = 3 + 3.14   # 3을 실수로 캐스팅해서 계산\n",
    "print(aa)\n",
    "\n",
    "bb = 3 / 4     # 0.75 > 정수 / 정수 => 정수이지만 파이썬 3.X에선 실수처리\n",
    "print(bb)\n",
    "\n",
    "cc = 3**4      # 지수 표현\n",
    "print(cc)\n",
    "\n",
    "dd = 100 % 3   # 나머지 연산\n",
    "print(dd)\n",
    "\n",
    "ee = 100 // 3  # 몫 연산\n",
    "print(ee)"
   ]
  },
  {
   "cell_type": "markdown",
   "metadata": {},
   "source": [
    "### 2. sequence 데이터 타입\n",
    "#### 1. list\n",
    "    - 임의의 데이터를 순서대로 저장하는 집합 자료형\n",
    "    - Java의 ArrayList와 비슷\n",
    "    - 표현은 대괄호([])를 이용해서, 다른 방법도 있음(list() - 리스트 생성자)\n",
    "    - 리스트의 크기는 가변적\n",
    "    - 리스트는 콤마(,)로 원소 구분\n",
    "    - 인덱싱은 list[]로 \n",
    "    - 슬라이싱은 list[:"
   ]
  },
  {
   "cell_type": "code",
   "execution_count": 30,
   "metadata": {},
   "outputs": [
    {
     "name": "stdout",
     "output_type": "stream",
     "text": [
      "[1, 2, 3, 4.5, [6, 7], True, 'string']\n",
      "1\n",
      "string\n",
      "6\n",
      "10\n",
      "[2, 3, 4.5]\n",
      "[10]\n",
      "[4.5, [6, 7], True, 'string']\n",
      "[10, 2, 3, 4.5, [6, 7]]\n",
      "[10, 2, 3, 4.5, [6, 7], True]\n"
     ]
    }
   ],
   "source": [
    "a2 = list()\n",
    "b2 = []\n",
    "c2 = [1, 2, 3, 4.5, [6, 7], True, 'string']\n",
    "\n",
    "print(c2)\n",
    "print(c2[0])    # 0이 첫 번째\n",
    "print(c2[-1])   # -1은 뒤에서 첫 번째 (다른 언어에서는 불가능)\n",
    "print(c2[4][0]) # 리스트안의 리스트 접근\n",
    "\n",
    "c2[0] = 10      # 리스트 원소 변경\n",
    "print(c2[0])\n",
    "\n",
    "print(c2[1:4])  # 슬라이싱 - 부분집합이기 때문에 원본의 데이터 타입 그대로 계승\n",
    "                # 앞의 숫자는 포함, 뒤의 숫자는 포함x ex)[1:4]는 1,2,3 번째\n",
    "print(c2[0:1])  # 첫번째 원소만 가져오지만 c2[0]과 다른 결과 - 리스트를 반환\n",
    "print(c2[3:])   # 시작지점부터 끝까지\n",
    "print(c2[:5])   # 처음부터 마지막지점까지\n",
    "print(c2[:-1])  # 처음부터 마지막지점까지"
   ]
  },
  {
   "cell_type": "code",
   "execution_count": 32,
   "metadata": {},
   "outputs": [
    {
     "name": "stdout",
     "output_type": "stream",
     "text": [
      "[1, 2, 3, 4, 5, 6]\n"
     ]
    }
   ],
   "source": [
    "aa2 = [1, 2, 3]\n",
    "bb2 = [4, 5, 6]\n",
    "print(aa2 + bb2) # 연결해서 출력 \n",
    "print(aa2*3)"
   ]
  },
  {
   "cell_type": "code",
   "execution_count": 36,
   "metadata": {},
   "outputs": [
    {
     "name": "stdout",
     "output_type": "stream",
     "text": [
      "[7, 8, 9, 2, 3]\n"
     ]
    }
   ],
   "source": [
    "cc2 = [1, 2, 3]\n",
    "cc2[0] = 5      # [5, 2, 3]\n",
    "# cc2[0:1]의 결과인 [1]을 [7, 8, 9]로 수정\n",
    "# 다시 말하면 cc2에 대한 슬라이싱의 결과가 [7, 8, 9]가 되겠끔 수정되는것 \n",
    "# 따라서 cc2 = [7, 8, 9, 2, 3]로 수정된다\n",
    "cc2[0:1] = [7, 8, 9]\n",
    "print(cc2)"
   ]
  },
  {
   "cell_type": "code",
   "execution_count": 35,
   "metadata": {},
   "outputs": [
    {
     "name": "stdout",
     "output_type": "stream",
     "text": [
      "[[7, 8, 9], 2, 3]\n"
     ]
    }
   ],
   "source": [
    "cc2 = [1, 2, 3]\n",
    "# cc2[0]의 원소를 수정하므로 1이 [7, 8, 9]가 된다\n",
    "cc2[0] = [7, 8, 9]\n",
    "print(cc2)"
   ]
  },
  {
   "cell_type": "markdown",
   "metadata": {},
   "source": [
    "1. 리스트에 요소를 추가하거나 삭제"
   ]
  },
  {
   "cell_type": "code",
   "execution_count": 33,
   "metadata": {},
   "outputs": [
    {
     "name": "stdout",
     "output_type": "stream",
     "text": [
      "[1, 2, 3, 4]\n",
      "[1, 2, 3, 4, [5]]\n"
     ]
    }
   ],
   "source": [
    "dd2 = [1, 2, 3]\n",
    "dd2.append(4)\n",
    "print(dd2)\n",
    "dd2.append([5])\n",
    "print(dd2)"
   ]
  },
  {
   "cell_type": "code",
   "execution_count": 37,
   "metadata": {},
   "outputs": [
    {
     "name": "stdout",
     "output_type": "stream",
     "text": [
      "[2, 3, 4, [5]]\n"
     ]
    }
   ],
   "source": [
    "# 삭제, 이런 방법도 있지만 거의 쓰지 않는다\n",
    "del dd2[0]\n",
    "print(dd2)"
   ]
  },
  {
   "cell_type": "markdown",
   "metadata": {},
   "source": [
    "2. 파이썬 리스트의 함수\n",
    "    1. 정렬\n",
    "        - 파이썬의 정렬은 원본을 변경시킴"
   ]
  },
  {
   "cell_type": "code",
   "execution_count": 38,
   "metadata": {},
   "outputs": [
    {
     "name": "stdout",
     "output_type": "stream",
     "text": [
      "[1, 2, 4, 7, 8]\n"
     ]
    }
   ],
   "source": [
    "# 리스트를 오름차순으로 정렬\n",
    "aa3 = [7, 8, 1, 4, 2]\n",
    "aa3.sort()\n",
    "print(aa3)"
   ]
  },
  {
   "cell_type": "code",
   "execution_count": 40,
   "metadata": {},
   "outputs": [
    {
     "name": "stdout",
     "output_type": "stream",
     "text": [
      "[8, 7, 4, 2, 1]\n"
     ]
    }
   ],
   "source": [
    "# 리스트를 역으로 뒤집기 - sort()와 함께 사용하면 내림차순 정렬\n",
    "aa3.reverse()\n",
    "print(aa3)"
   ]
  },
  {
   "cell_type": "markdown",
   "metadata": {},
   "source": [
    "#### 2. tuple\n",
    "    - 리스트와 유사하지만 read only, 내용을 변경할 수 없다\n",
    "    - 그래서 변경이 되면 안되는 값을 주로 튜플로 만들어서 사용\n",
    "    - 표현은 소괄호(())를 이용해서, tuple()도 가능\n",
    "    - 하지만 소괄호를 생략하고 생성가능\n",
    "    - 인덱싱과 슬라이싱 방식은 리스트와 동일"
   ]
  },
  {
   "cell_type": "code",
   "execution_count": 41,
   "metadata": {},
   "outputs": [
    {
     "name": "stdout",
     "output_type": "stream",
     "text": [
      "<class 'tuple'>\n",
      "<class 'tuple'>\n"
     ]
    }
   ],
   "source": [
    "a3 = tuple()\n",
    "b3 = ()\n",
    "c3 = (1, 2, 3)\n",
    "\n",
    "# 요소가 한개짜리 튜플은 콤마를 이용해서 표현 계산 우선순위를 뜻하는 ()와 혼동\n",
    "# 리스트와 다름\n",
    "d3 = (1, )\n",
    "\n",
    "print(type(c3))\n",
    "\n",
    "# 튜플은 소괄호를 생략가능\n",
    "e3 = 4, 5, 6\n",
    "print(type(e3))"
   ]
  },
  {
   "cell_type": "code",
   "execution_count": 42,
   "metadata": {},
   "outputs": [
    {
     "ename": "TypeError",
     "evalue": "'tuple' object does not support item assignment",
     "output_type": "error",
     "traceback": [
      "\u001b[1;31m---------------------------------------------------------------------------\u001b[0m",
      "\u001b[1;31mTypeError\u001b[0m                                 Traceback (most recent call last)",
      "\u001b[1;32m<ipython-input-42-c677b0299e40>\u001b[0m in \u001b[0;36m<module>\u001b[1;34m\u001b[0m\n\u001b[1;32m----> 1\u001b[1;33m \u001b[0me3\u001b[0m\u001b[1;33m[\u001b[0m\u001b[1;36m0\u001b[0m\u001b[1;33m]\u001b[0m \u001b[1;33m=\u001b[0m \u001b[1;36m100\u001b[0m\u001b[1;33m\u001b[0m\u001b[1;33m\u001b[0m\u001b[0m\n\u001b[0m",
      "\u001b[1;31mTypeError\u001b[0m: 'tuple' object does not support item assignment"
     ]
    }
   ],
   "source": [
    "# 튜플은 값 수정 불가, 리스트와의 가장 큰 차이\n",
    "e3[0] = 100"
   ]
  },
  {
   "cell_type": "code",
   "execution_count": 43,
   "metadata": {},
   "outputs": [
    {
     "name": "stdout",
     "output_type": "stream",
     "text": [
      "(1, 2, 3, 4, 5, 6)\n"
     ]
    }
   ],
   "source": [
    "# read only지만 이건 새로운 튜플을 만드는 것이기 때문에 가능\n",
    "print(c3 + e3)"
   ]
  },
  {
   "cell_type": "markdown",
   "metadata": {},
   "source": [
    "- list > tuple 변환\n",
    "    - tuple(list)"
   ]
  },
  {
   "cell_type": "code",
   "execution_count": 44,
   "metadata": {},
   "outputs": [
    {
     "name": "stdout",
     "output_type": "stream",
     "text": [
      "<class 'list'>\n",
      "<class 'tuple'>\n"
     ]
    }
   ],
   "source": [
    "last = [1, 2, 3]\n",
    "result = tuple(last)\n",
    "print(type(last))\n",
    "print(type(result))"
   ]
  }
 ],
 "metadata": {
  "kernelspec": {
   "display_name": "Python 3",
   "language": "python",
   "name": "python3"
  },
  "language_info": {
   "codemirror_mode": {
    "name": "ipython",
    "version": 3
   },
   "file_extension": ".py",
   "mimetype": "text/x-python",
   "name": "python",
   "nbconvert_exporter": "python",
   "pygments_lexer": "ipython3",
   "version": "3.7.9"
  }
 },
 "nbformat": 4,
 "nbformat_minor": 4
}
