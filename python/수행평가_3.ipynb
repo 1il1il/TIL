{
 "cells": [
  {
   "cell_type": "markdown",
   "metadata": {},
   "source": [
    "\n",
    "# 수행평가 문제 3 - 1\n",
    "- timestamp : 1970년 1월 1일 0시 0분 0초를 0으로 설정하고 1초마다 1씩 증가\n",
    "- 문제 출처 : [링크](https://moon9342.github.io/data-science-lecture-python-pandas-dataframe-exercise)\n",
    "---\n",
    "1. 사용자가 평가한 모든 영화의 전체 평균 평점\n",
    "2. 각 사용자별 평균 평점\n",
    "3. 각 영화별 평균 평점\n",
    "4. 평균 평점이 가장 높은 영화의 제목(동률이 있을 경우 모두 출력)\n",
    "5. Comedy영화 중 가장 평균 평점이 낮은 영화의 제목\n",
    "6. 2015년도에 평가된 모든 Romance 영화의 평균 평점은?"
   ]
  },
  {
   "cell_type": "code",
   "execution_count": null,
   "metadata": {},
   "outputs": [],
   "source": [
    "import numpy as np\n",
    "import pandas as pd\n",
    "from datetime import datetime\n",
    "\n",
    "# 데이터 가져오기\n",
    "ratings = pd.read_csv('./data/ml-latest-small/ratings.csv')\n",
    "movies = pd.read_csv('./data/ml-latest-small/movies.csv')"
   ]
  },
  {
   "cell_type": "code",
   "execution_count": null,
   "metadata": {},
   "outputs": [],
   "source": [
    "# 데이터 확인\n",
    "# 1. nan값 있는지 없는지\n",
    "print(ratings.isnull().sum())\n",
    "print(movies.isnull().sum())\n",
    "\n",
    "# 데이터 개요\n",
    "# 사용자가 몇명인지?\n",
    "print(ratings.groupby(ratings['userId']).count())\n",
    "# 리뷰가 기록된 영화가 몇개인지?\n",
    "print(ratings.groupby(ratings['movieId']).count())\n",
    "# 영화 데이터 개수\n",
    "print(movies.count())"
   ]
  },
  {
   "cell_type": "markdown",
   "metadata": {},
   "source": [
    "- 데이터 전처리\n",
    "1. timestamp 처리 \n",
    "    - 참고문헌(datetime.fromtimestamp()) [링크](https://docs.python.org/3/library/datetime.html?highlight=timestamp#datetime.datetime.fromtimestamp)\n",
    "2. genres 처리\n",
    "    - 참고문헌(DataFrame.apply()) [링크](https://pandas.pydata.org/pandas-docs/stable/reference/api/pandas.DataFrame.apply.html#pandas.DataFrame.apply)"
   ]
  },
  {
   "cell_type": "code",
   "execution_count": null,
   "metadata": {},
   "outputs": [],
   "source": [
    "# timestamp처리\n",
    "ratings['timestamp'] = ratings['timestamp'].apply(datetime.fromtimestamp)"
   ]
  },
  {
   "cell_type": "code",
   "execution_count": null,
   "metadata": {},
   "outputs": [],
   "source": [
    "# genres 처리\n",
    "# 찍어보면 str로 이루어짐\n",
    "print(movies['genres'][0])\n",
    "print(type(movies['genres'][0]))\n",
    "# 처리방법 1. split해서 리스트로 만든다?\n",
    "\n",
    "# 일단 리스트로 바꿔보자\n",
    "movies['genres'] = movies['genres'].apply(lambda x : x.split('|'))"
   ]
  },
  {
   "cell_type": "code",
   "execution_count": null,
   "metadata": {},
   "outputs": [],
   "source": [
    "# 전처리 끝난 DataFrame 하나로 연결\n",
    "# 평점이 없는 영화가 존재하므로 right outer join\n",
    "data = pd.merge(ratings, movies, on='movieId', how='right')\n",
    "display(data)"
   ]
  },
  {
   "cell_type": "markdown",
   "metadata": {},
   "source": [
    "## 1. 사용자가 평가한 모든 영화의 전체 평균 평점"
   ]
  },
  {
   "cell_type": "code",
   "execution_count": null,
   "metadata": {},
   "outputs": [],
   "source": [
    "print(data['rating'].mean())"
   ]
  },
  {
   "cell_type": "markdown",
   "metadata": {},
   "source": [
    "## 2. 각 사용자별 평균 평점"
   ]
  },
  {
   "cell_type": "code",
   "execution_count": null,
   "metadata": {},
   "outputs": [],
   "source": [
    "print(data.groupby(data['userId'])['rating'].mean())"
   ]
  },
  {
   "cell_type": "markdown",
   "metadata": {},
   "source": [
    "## 3. 각 영화별 평균 평점"
   ]
  },
  {
   "cell_type": "code",
   "execution_count": null,
   "metadata": {},
   "outputs": [],
   "source": [
    "print(data.groupby(data['movieId'])['rating'].mean())"
   ]
  },
  {
   "cell_type": "markdown",
   "metadata": {},
   "source": [
    "## 4. 평균 평점이 가장 높은 영화의 제목(동률이 있을 경우 모두 출력)"
   ]
  },
  {
   "cell_type": "code",
   "execution_count": null,
   "metadata": {},
   "outputs": [],
   "source": [
    "# 일단 최고 평점은 5.0\n",
    "score = data.groupby(data['title'])['rating'].mean()\n",
    "print(score.max())\n",
    "# 혹시 동률있나 확인\n",
    "display(score[score == 5.0] )\n",
    "# 5.0인 영화 296개"
   ]
  },
  {
   "cell_type": "markdown",
   "metadata": {},
   "source": [
    "5. Comedy영화 중 가장 평균 평점이 낮은 영화의 제목"
   ]
  },
  {
   "cell_type": "code",
   "execution_count": null,
   "metadata": {},
   "outputs": [],
   "source": [
    "tmp = []\n",
    "for a in data['genres']:\n",
    "    tmp.append('Comedy' in a)\n",
    "# Comedy영화 boolean mask\n",
    "tmp_arr = np.array(tmp)"
   ]
  },
  {
   "cell_type": "code",
   "execution_count": null,
   "metadata": {},
   "outputs": [],
   "source": [
    "score = data[tmp_arr].groupby(data[tmp_arr]['title'])['rating'].mean()\n",
    "# 최저 평점 0.5\n",
    "print(score.min())\n",
    "# 0.5인 Comedy 영화\n",
    "print(score[score == 0.5])"
   ]
  },
  {
   "cell_type": "markdown",
   "metadata": {},
   "source": [
    "## 6. 2015년도에 평가된 모든 Romance 영화의 평균 평점은?"
   ]
  },
  {
   "cell_type": "code",
   "execution_count": null,
   "metadata": {},
   "outputs": [],
   "source": [
    "tmp = []\n",
    "for a in data['genres']:\n",
    "    tmp.append('Romance' in a)\n",
    "# Romance 영화 boolean mask\n",
    "tmp_arr = np.array(tmp)\n",
    "\n",
    "tmp = []\n",
    "for a in data['timestamp']:\n",
    "    tmp.append(a.year == 2015)\n",
    "# Romance 영화 boolean mask & 2015년도에 평가된 리뷰 boolean mask\n",
    "tmp_arr = np.array(tmp) & tmp_arr\n",
    "\n",
    "print(data[tmp_arr]['rating'].mean())"
   ]
  },
  {
   "cell_type": "markdown",
   "metadata": {},
   "source": [
    "---\n",
    "# 수행평가 문제 3 - 2\n",
    "---\n",
    "\n",
    "1. displ(배기량)이 4 이하인 자동차와 5 이상인 자동차 중 어떤 자동차의 hwy(고속도로 연비)가 평균적으로 더 높은지 확인하세요.\n",
    "2. 자동차 제조 회사에 따라 도시 연비가 다른지 알아보려고 한다. \"audi\"와 \"toyota\" 중 어느 manufacturer(제조회사)의 cty(도시 연비)가 평균적으로 더 높은지 확인하세요.\n",
    "3. \"chevrolet\", \"ford\", \"honda\" 자동차의 고속도로 연비 평균을 알아보려고 한다. 이 회사들의 데이터를 추출한 후 hwy(고속도로 연비) 평균을 구하세요.\n",
    "4. \"audi\"에서 생산한 자동차 중에 어떤 자동차 모델의 hwy(고속도로 연비)가 높은지 알아보려고 한다. \"audi\"에서 생산한 자동차 중 hwy가 1~5위에 해당하는 자동차의 데이터를 출력하세요.\n",
    "5. mpg 데이터는 연비를 나타내는 변수가 2개입니다. 두 변수를 각각 활용하는 대신 하나의 통합 연비 변수를 만들어 사용하려 합니다. 평균 연비 변수는 두 연비(고속도로와 도시)의 평균을 이용합니다. 회사별로 \"suv\" 자동차의 평균 연비를 구한후 내림차순으로 정렬한 후 1~5위까지 데이터를 출력하세요.\n",
    "6. mpg 데이터의 class는 \"suv\", \"compact\" 등 자동차의 특징에 따라 일곱 종류로 분류한 변수입니다. 어떤 차종의 도시 연비가 높은지 비교하려 합니다. class별 cty 평균을 구하고 cty 평균이 높은 순으로 정렬해 출력하세요.\n",
    "7. 어떤 회사 자동차의 hwy(고속도로 연비)가 가장 높은지 알아보려 합니다. hwy(고속도로 연비) 평균이 가장 높은 회사 세 곳을 출력하세요.\n",
    "8. 어떤 회사에서 \"compact\" 차종을 가장 많이 생산하는지 알아보려고 합니다. 각 회사별 \"compact\" 차종 수를 내림차순으로 정렬해 출력하세요.\n",
    "- 저번에 class로 해결한거 DataFrame으로 해결하기"
   ]
  },
  {
   "cell_type": "code",
   "execution_count": null,
   "metadata": {},
   "outputs": [],
   "source": [
    "import numpy as np\n",
    "import pandas as pd\n",
    "\n",
    "# 저번에 사용한 파일 csv로 바꿔서 불러오기\n",
    "data = pd.read_csv('./data/mpg.csv')\n",
    "display(data)"
   ]
  },
  {
   "cell_type": "markdown",
   "metadata": {},
   "source": [
    "## 1. displ(배기량)이 4 이하인 자동차와 5 이상인 자동차 중 어떤 자동차의 hwy(고속도로 연비)가 평균적으로 더 높은지 확인하세요.\n"
   ]
  },
  {
   "cell_type": "code",
   "execution_count": null,
   "metadata": {},
   "outputs": [],
   "source": [
    "print('배기량 4이하인 자동차의 고속도로 연비 : {}'.format(data[data['displ'] <= 4]['hwy'].mean()))\n",
    "print('배기량 5이상인 자동차의 고속도로 연비 : {}'.format(data[data['displ'] >= 5]['hwy'].mean()))\n",
    "# 4이하인 자동차가 더 높다"
   ]
  },
  {
   "cell_type": "markdown",
   "metadata": {},
   "source": [
    "## 2. 자동차 제조 회사에 따라 도시 연비가 다른지 알아보려고 한다.  \"audi\"와 \"toyota\" 중 어느 manufacturer(제조회사)의 cty(도시 연비)가 평균적으로 더 높은지 확인하세요.\n"
   ]
  },
  {
   "cell_type": "code",
   "execution_count": null,
   "metadata": {},
   "outputs": [],
   "source": [
    "print('audi 자동차의 도시 연비 : {}'.format(data[data['manufacturer']=='audi']['cty'].mean()))\n",
    "print('toyota 자동차의 도시 연비 : {}'.format(data[data['manufacturer']=='toyota']['cty'].mean()))\n",
    "# toyota가 더 높다"
   ]
  },
  {
   "cell_type": "markdown",
   "metadata": {},
   "source": [
    "## 3. \"chevrolet\", \"ford\", \"honda\" 자동차의 고속도로 연비 평균을 알아보려고 한다. 이 회사들의 데이터를 추출한 후 hwy(고속도로 연비) 평균을 구하세요.\n"
   ]
  },
  {
   "cell_type": "code",
   "execution_count": null,
   "metadata": {},
   "outputs": [],
   "source": [
    "data_3 = data[(data['manufacturer']=='chevrolet')\n",
    "              |(data['manufacturer']=='ford')\n",
    "              |(data['manufacturer']=='honda')]\n",
    "print(data_3.groupby(data_3['manufacturer']).mean()['cty'])"
   ]
  },
  {
   "cell_type": "markdown",
   "metadata": {},
   "source": [
    "## 4. \"audi\"에서 생산한 자동차 중에 어떤 자동차 모델의 hwy(고속도로 연비)가 높은지 알아보려고 한다. \"audi\"에서 생산한 자동차 중 hwy가 1~5위에 해당하는 자동차의 데이터를 출력하세요.\n"
   ]
  },
  {
   "cell_type": "code",
   "execution_count": null,
   "metadata": {},
   "outputs": [],
   "source": [
    "display(data[data['manufacturer']=='audi'].sort_values(['hwy'], ascending=False).head(5))"
   ]
  },
  {
   "cell_type": "markdown",
   "metadata": {},
   "source": [
    "## 5. mpg 데이터는 연비를 나타내는 변수가 2개입니다. 두 변수를 각각 활용하는 대신 하나의 통합 연비 변수를 만들어 사용하려 합니다. 평균 연비 변수는 두 연비(고속도로와 도시)의 평균을 이용합니다. 회사별로 \"suv\" 자동차의 평균 연비를 구한후 내림차순으로 정렬한 후 1~5위까지 데이터를 출력하세요.\n"
   ]
  },
  {
   "cell_type": "code",
   "execution_count": null,
   "metadata": {
    "scrolled": true
   },
   "outputs": [],
   "source": [
    "# 새로운 colums 만들기\n",
    "data['mean'] = (data['cty'] + data['hwy'])/2\n",
    "display(data)\n",
    "# 회사별 suv 연비 1~5 순위 출력\n",
    "for a in data['manufacturer'].unique():\n",
    "    print(\"{} 회사의 suv 자동차 연비 1~5위\".format(a))\n",
    "    display(data[(data['class']=='suv')&(data['manufacturer']==a)].sort_values(['mean'], ascending=False).head(5))\n",
    "    \n",
    "# suv 없는 회사도 출력해야 하나?"
   ]
  },
  {
   "cell_type": "code",
   "execution_count": null,
   "metadata": {},
   "outputs": [],
   "source": [
    "# suv 없는 회사를 위한 추가 작업\n",
    "data['mean'] = (data['cty'] + data['hwy'])/2\n",
    "\n",
    "# 회사별 suv 연비 1~5 순위 출력\n",
    "for a in data['manufacturer'].unique():\n",
    "    if data[(data['class']=='suv')&(data['manufacturer']==a)].count()[0] == 0:\n",
    "        print('{} 회사의 suv 자동차 자료 없음'.format(a))\n",
    "    else:\n",
    "        print(\"{} 회사의 suv 자동차 연비 1~5위\".format(a))\n",
    "        display(data[(data['class']=='suv')&(data['manufacturer']==a)].sort_values(['mean'], ascending=False).head(5))"
   ]
  },
  {
   "cell_type": "markdown",
   "metadata": {},
   "source": [
    "## 6. mpg 데이터의 class는 \"suv\", \"compact\" 등 자동차의 특징에 따라 일곱 종류로 분류한 변수입니다. 어떤 차종의 도시 연비가 높은지 비교하려 합니다. class별 cty 평균을 구하고 cty 평균이 높은 순으로 정렬해 출력하세요.\n"
   ]
  },
  {
   "cell_type": "code",
   "execution_count": null,
   "metadata": {},
   "outputs": [],
   "source": [
    "display(data.groupby(data['class']).mean().sort_values(['cty'], ascending=False))"
   ]
  },
  {
   "cell_type": "markdown",
   "metadata": {},
   "source": [
    "## 7. 어떤 회사 자동차의 hwy(고속도로 연비)가 가장 높은지 알아보려 합니다. hwy(고속도로 연비) 평균이 가장 높은 회사 세 곳을 출력하세요.\n"
   ]
  },
  {
   "cell_type": "code",
   "execution_count": null,
   "metadata": {},
   "outputs": [],
   "source": [
    "display(data.groupby(data['manufacturer']).mean().sort_values(['hwy'], ascending=False).head(3))"
   ]
  },
  {
   "cell_type": "markdown",
   "metadata": {},
   "source": [
    "## 8. 어떤 회사에서 \"compact\" 차종을 가장 많이 생산하는지 알아보려고 합니다. 각 회사별 \"compact\" 차종 수를 내림차순으로 정렬해 출력하세요."
   ]
  },
  {
   "cell_type": "code",
   "execution_count": null,
   "metadata": {},
   "outputs": [],
   "source": [
    "display(data[data['class']=='compact'].groupby(data['manufacturer']).count().sort_values(['class'], ascending=False)['class'])"
   ]
  },
  {
   "cell_type": "markdown",
   "metadata": {},
   "source": [
    "---\n",
    "# 수행평가 문제 3 - 3\n",
    "---\n",
    "1. 성별에 따른 월급 차이 \n",
    "    - 과거에 비해 여성의 사회 진출이 활발하지만 직장에서의 위상에서는 여전히 차별이 존재하고 있는것이 사실. 실제로 그러한지 월급의 차이를 이용하여 사실을 확인해보자.\n",
    "\n",
    "2. 나이와 월급의 관계 \n",
    "    - 평균적으로 몇 살 때 월급을 가장 많이 받을까? 또 그때의 평균 월급은 얼마인가?\n",
    "\n",
    "3. 연령대에 따른 월급 차이 \n",
    "    - [30세 미만을 초년(young), 30~59세 : 중년(middle), 60세 이상 : 노년(old)] \n",
    "    - 위의 범주로 연령대에 따른 월급의 차이를 알아보자\n",
    "\n",
    "4. 연령대 및 성별 월급 차이 \n",
    "    - 성별 월급 차이는 연령대에 따라 다른 양상을 보일 수 있습니다. 성별 월급 차이가 연령대에 따라 다른지 분석해보자. 기존에는 3그룹(초년,중년,노년)이었지만 이젠 6그룹으로 그룹핑을 해야 한다.(초년남성,초년여성,..)\n",
    "\n",
    "5. 직업별 월급 차이\n",
    "    - 어떤 직업이 월급을 가장 많이 받을까? 직업별 월급을 분석해 보자. 직업코드는 제공된 Koweps_Codebook.xlsx을 이용하면 편하게 코드값을 이용 할 수 있습니다.\n",
    "\n",
    "6. 성별 직업 빈도\n",
    "    - 성별로 어떤 직업이 가장 많을까?\n",
    "\n",
    "7. 종교 유무에 따른 이혼율\n",
    "    - 종교가 있는 사람들이 이혼을 덜 할까??\n",
    "\n",
    "8. 지역별 연령대 비율\n",
    "    - 노년층이 많은 지역은 어디일까?"
   ]
  },
  {
   "cell_type": "code",
   "execution_count": 1,
   "metadata": {},
   "outputs": [
    {
     "name": "stdout",
     "output_type": "stream",
     "text": [
      "(16664, 957)\n"
     ]
    },
    {
     "data": {
      "text/plain": [
       "0    1936.0\n",
       "1    1945.0\n",
       "2    1948.0\n",
       "3    1942.0\n",
       "4    1923.0\n",
       "Name: h10_g4, dtype: float64"
      ]
     },
     "execution_count": 1,
     "metadata": {},
     "output_type": "execute_result"
    }
   ],
   "source": [
    "# 한국복지패널데이터를 이용한 데이터 분석 연습\n",
    "\n",
    "# 데이터 준비\n",
    "\n",
    "# 제공된 파일의 압축을 풀면 파일이 2개 있습니다. \n",
    "# Koweps_hpc10_2015_beta1.sav : SPSS 데이터 파일 (128M)\n",
    "# Koweps_Codebook.xlsx : 우리가 사용할 column에 대한 설명\n",
    "# 총 7개의 column만을 이용합니다. \n",
    "\n",
    "\n",
    "# 데이터 파일인 Koweps_hpc10_2015_beta1.sav 파일은 \n",
    "# 상용 통계분석 소프트웨어인 SPSS 전용파일입니다. \n",
    "\n",
    "# 해당 데이터 파일은 SPSS 전용파일이기 때문에 pandas에서 사용하기 \n",
    "# 위해서 다음의 코드를 이용해서 DataFrame으로 변환해야 합니다.\n",
    "\n",
    "\n",
    "# pip install savReaderWriter \n",
    "import numpy as np\n",
    "import pandas as pd\n",
    "import savReaderWriter\n",
    "\n",
    "with savReaderWriter.SavReader('./data/Koweps/Koweps_hpc10_2015_beta1.sav', ioUtf8 = True) as reader:\n",
    "    df = pd.DataFrame(reader.all(), columns = [s for s in reader.header])\n",
    "\n",
    "print(df.shape)      # # (16664, 957)\n",
    "df['h10_g3'].head()  # 성별\n",
    "df['h10_g4'].head()  # 태어난 연도"
   ]
  },
  {
   "cell_type": "code",
   "execution_count": 2,
   "metadata": {
    "scrolled": true
   },
   "outputs": [
    {
     "data": {
      "text/html": [
       "<div>\n",
       "<style scoped>\n",
       "    .dataframe tbody tr th:only-of-type {\n",
       "        vertical-align: middle;\n",
       "    }\n",
       "\n",
       "    .dataframe tbody tr th {\n",
       "        vertical-align: top;\n",
       "    }\n",
       "\n",
       "    .dataframe thead th {\n",
       "        text-align: right;\n",
       "    }\n",
       "</style>\n",
       "<table border=\"1\" class=\"dataframe\">\n",
       "  <thead>\n",
       "    <tr style=\"text-align: right;\">\n",
       "      <th></th>\n",
       "      <th>h10_g3</th>\n",
       "      <th>h10_g4</th>\n",
       "      <th>h10_g10</th>\n",
       "      <th>h10_g11</th>\n",
       "      <th>h10_eco9</th>\n",
       "      <th>p1002_8aq1</th>\n",
       "      <th>h10_reg7</th>\n",
       "    </tr>\n",
       "  </thead>\n",
       "  <tbody>\n",
       "    <tr>\n",
       "      <th>0</th>\n",
       "      <td>2.0</td>\n",
       "      <td>1936.0</td>\n",
       "      <td>2.0</td>\n",
       "      <td>2.0</td>\n",
       "      <td>NaN</td>\n",
       "      <td>NaN</td>\n",
       "      <td>1.0</td>\n",
       "    </tr>\n",
       "    <tr>\n",
       "      <th>1</th>\n",
       "      <td>2.0</td>\n",
       "      <td>1945.0</td>\n",
       "      <td>2.0</td>\n",
       "      <td>2.0</td>\n",
       "      <td>NaN</td>\n",
       "      <td>NaN</td>\n",
       "      <td>1.0</td>\n",
       "    </tr>\n",
       "    <tr>\n",
       "      <th>2</th>\n",
       "      <td>1.0</td>\n",
       "      <td>1948.0</td>\n",
       "      <td>2.0</td>\n",
       "      <td>2.0</td>\n",
       "      <td>942.0</td>\n",
       "      <td>120.0</td>\n",
       "      <td>1.0</td>\n",
       "    </tr>\n",
       "    <tr>\n",
       "      <th>3</th>\n",
       "      <td>1.0</td>\n",
       "      <td>1942.0</td>\n",
       "      <td>3.0</td>\n",
       "      <td>1.0</td>\n",
       "      <td>762.0</td>\n",
       "      <td>200.0</td>\n",
       "      <td>1.0</td>\n",
       "    </tr>\n",
       "    <tr>\n",
       "      <th>4</th>\n",
       "      <td>2.0</td>\n",
       "      <td>1923.0</td>\n",
       "      <td>2.0</td>\n",
       "      <td>1.0</td>\n",
       "      <td>NaN</td>\n",
       "      <td>NaN</td>\n",
       "      <td>1.0</td>\n",
       "    </tr>\n",
       "    <tr>\n",
       "      <th>...</th>\n",
       "      <td>...</td>\n",
       "      <td>...</td>\n",
       "      <td>...</td>\n",
       "      <td>...</td>\n",
       "      <td>...</td>\n",
       "      <td>...</td>\n",
       "      <td>...</td>\n",
       "    </tr>\n",
       "    <tr>\n",
       "      <th>16659</th>\n",
       "      <td>2.0</td>\n",
       "      <td>1967.0</td>\n",
       "      <td>1.0</td>\n",
       "      <td>1.0</td>\n",
       "      <td>NaN</td>\n",
       "      <td>NaN</td>\n",
       "      <td>5.0</td>\n",
       "    </tr>\n",
       "    <tr>\n",
       "      <th>16660</th>\n",
       "      <td>2.0</td>\n",
       "      <td>1992.0</td>\n",
       "      <td>5.0</td>\n",
       "      <td>1.0</td>\n",
       "      <td>314.0</td>\n",
       "      <td>302.5</td>\n",
       "      <td>5.0</td>\n",
       "    </tr>\n",
       "    <tr>\n",
       "      <th>16661</th>\n",
       "      <td>1.0</td>\n",
       "      <td>1995.0</td>\n",
       "      <td>5.0</td>\n",
       "      <td>1.0</td>\n",
       "      <td>NaN</td>\n",
       "      <td>NaN</td>\n",
       "      <td>5.0</td>\n",
       "    </tr>\n",
       "    <tr>\n",
       "      <th>16662</th>\n",
       "      <td>2.0</td>\n",
       "      <td>1998.0</td>\n",
       "      <td>0.0</td>\n",
       "      <td>1.0</td>\n",
       "      <td>NaN</td>\n",
       "      <td>NaN</td>\n",
       "      <td>5.0</td>\n",
       "    </tr>\n",
       "    <tr>\n",
       "      <th>16663</th>\n",
       "      <td>1.0</td>\n",
       "      <td>2001.0</td>\n",
       "      <td>0.0</td>\n",
       "      <td>1.0</td>\n",
       "      <td>NaN</td>\n",
       "      <td>NaN</td>\n",
       "      <td>5.0</td>\n",
       "    </tr>\n",
       "  </tbody>\n",
       "</table>\n",
       "<p>16664 rows × 7 columns</p>\n",
       "</div>"
      ],
      "text/plain": [
       "       h10_g3  h10_g4  h10_g10  h10_g11  h10_eco9  p1002_8aq1  h10_reg7\n",
       "0         2.0  1936.0      2.0      2.0       NaN         NaN       1.0\n",
       "1         2.0  1945.0      2.0      2.0       NaN         NaN       1.0\n",
       "2         1.0  1948.0      2.0      2.0     942.0       120.0       1.0\n",
       "3         1.0  1942.0      3.0      1.0     762.0       200.0       1.0\n",
       "4         2.0  1923.0      2.0      1.0       NaN         NaN       1.0\n",
       "...       ...     ...      ...      ...       ...         ...       ...\n",
       "16659     2.0  1967.0      1.0      1.0       NaN         NaN       5.0\n",
       "16660     2.0  1992.0      5.0      1.0     314.0       302.5       5.0\n",
       "16661     1.0  1995.0      5.0      1.0       NaN         NaN       5.0\n",
       "16662     2.0  1998.0      0.0      1.0       NaN         NaN       5.0\n",
       "16663     1.0  2001.0      0.0      1.0       NaN         NaN       5.0\n",
       "\n",
       "[16664 rows x 7 columns]"
      ]
     },
     "metadata": {},
     "output_type": "display_data"
    },
    {
     "data": {
      "text/html": [
       "<div>\n",
       "<style scoped>\n",
       "    .dataframe tbody tr th:only-of-type {\n",
       "        vertical-align: middle;\n",
       "    }\n",
       "\n",
       "    .dataframe tbody tr th {\n",
       "        vertical-align: top;\n",
       "    }\n",
       "\n",
       "    .dataframe thead th {\n",
       "        text-align: right;\n",
       "    }\n",
       "</style>\n",
       "<table border=\"1\" class=\"dataframe\">\n",
       "  <thead>\n",
       "    <tr style=\"text-align: right;\">\n",
       "      <th></th>\n",
       "      <th>h10_g3</th>\n",
       "      <th>h10_g4</th>\n",
       "      <th>h10_g10</th>\n",
       "      <th>h10_g11</th>\n",
       "      <th>h10_eco9</th>\n",
       "      <th>p1002_8aq1</th>\n",
       "      <th>h10_reg7</th>\n",
       "    </tr>\n",
       "  </thead>\n",
       "  <tbody>\n",
       "    <tr>\n",
       "      <th>count</th>\n",
       "      <td>16664.000000</td>\n",
       "      <td>16664.000000</td>\n",
       "      <td>16664.000000</td>\n",
       "      <td>16664.000000</td>\n",
       "      <td>7529.000000</td>\n",
       "      <td>4634.000000</td>\n",
       "      <td>16664.000000</td>\n",
       "    </tr>\n",
       "    <tr>\n",
       "      <th>mean</th>\n",
       "      <td>1.545247</td>\n",
       "      <td>1967.568711</td>\n",
       "      <td>1.647744</td>\n",
       "      <td>1.517103</td>\n",
       "      <td>591.243724</td>\n",
       "      <td>241.619016</td>\n",
       "      <td>3.704873</td>\n",
       "    </tr>\n",
       "    <tr>\n",
       "      <th>std</th>\n",
       "      <td>0.497963</td>\n",
       "      <td>24.179743</td>\n",
       "      <td>1.571827</td>\n",
       "      <td>0.499722</td>\n",
       "      <td>255.793317</td>\n",
       "      <td>184.423869</td>\n",
       "      <td>2.069207</td>\n",
       "    </tr>\n",
       "    <tr>\n",
       "      <th>min</th>\n",
       "      <td>1.000000</td>\n",
       "      <td>1907.000000</td>\n",
       "      <td>0.000000</td>\n",
       "      <td>1.000000</td>\n",
       "      <td>111.000000</td>\n",
       "      <td>0.000000</td>\n",
       "      <td>1.000000</td>\n",
       "    </tr>\n",
       "    <tr>\n",
       "      <th>25%</th>\n",
       "      <td>1.000000</td>\n",
       "      <td>1946.000000</td>\n",
       "      <td>1.000000</td>\n",
       "      <td>1.000000</td>\n",
       "      <td>314.000000</td>\n",
       "      <td>122.000000</td>\n",
       "      <td>2.000000</td>\n",
       "    </tr>\n",
       "    <tr>\n",
       "      <th>50%</th>\n",
       "      <td>2.000000</td>\n",
       "      <td>1966.000000</td>\n",
       "      <td>1.000000</td>\n",
       "      <td>2.000000</td>\n",
       "      <td>611.000000</td>\n",
       "      <td>192.500000</td>\n",
       "      <td>3.000000</td>\n",
       "    </tr>\n",
       "    <tr>\n",
       "      <th>75%</th>\n",
       "      <td>2.000000</td>\n",
       "      <td>1988.000000</td>\n",
       "      <td>2.000000</td>\n",
       "      <td>2.000000</td>\n",
       "      <td>863.000000</td>\n",
       "      <td>316.600000</td>\n",
       "      <td>6.000000</td>\n",
       "    </tr>\n",
       "    <tr>\n",
       "      <th>max</th>\n",
       "      <td>2.000000</td>\n",
       "      <td>2014.000000</td>\n",
       "      <td>6.000000</td>\n",
       "      <td>2.000000</td>\n",
       "      <td>1012.000000</td>\n",
       "      <td>2400.000000</td>\n",
       "      <td>7.000000</td>\n",
       "    </tr>\n",
       "  </tbody>\n",
       "</table>\n",
       "</div>"
      ],
      "text/plain": [
       "             h10_g3        h10_g4       h10_g10       h10_g11     h10_eco9  \\\n",
       "count  16664.000000  16664.000000  16664.000000  16664.000000  7529.000000   \n",
       "mean       1.545247   1967.568711      1.647744      1.517103   591.243724   \n",
       "std        0.497963     24.179743      1.571827      0.499722   255.793317   \n",
       "min        1.000000   1907.000000      0.000000      1.000000   111.000000   \n",
       "25%        1.000000   1946.000000      1.000000      1.000000   314.000000   \n",
       "50%        2.000000   1966.000000      1.000000      2.000000   611.000000   \n",
       "75%        2.000000   1988.000000      2.000000      2.000000   863.000000   \n",
       "max        2.000000   2014.000000      6.000000      2.000000  1012.000000   \n",
       "\n",
       "        p1002_8aq1      h10_reg7  \n",
       "count  4634.000000  16664.000000  \n",
       "mean    241.619016      3.704873  \n",
       "std     184.423869      2.069207  \n",
       "min       0.000000      1.000000  \n",
       "25%     122.000000      2.000000  \n",
       "50%     192.500000      3.000000  \n",
       "75%     316.600000      6.000000  \n",
       "max    2400.000000      7.000000  "
      ]
     },
     "metadata": {},
     "output_type": "display_data"
    }
   ],
   "source": [
    "display(df[['h10_g3','h10_g4','h10_g10','h10_g11','h10_eco9','p1002_8aq1','h10_reg7']])\n",
    "display(df[['h10_g3','h10_g4','h10_g10','h10_g11','h10_eco9','p1002_8aq1','h10_reg7']].describe())"
   ]
  },
  {
   "cell_type": "code",
   "execution_count": 3,
   "metadata": {},
   "outputs": [
    {
     "name": "stdout",
     "output_type": "stream",
     "text": [
      "성별 미응답자 : 0\n",
      "성별 누락 데이터 : 0\n",
      "출생연도 미응답자 : 0\n",
      "출생연도 누락 데이터 : 0\n",
      "혼인상태 미응답자 : 0\n",
      "혼인상태 누락 데이터 : 0\n",
      "종교 미응답자 : 0\n",
      "종교 누락 데이터 : 0\n",
      "직종 미응답자 : 0\n",
      "직종 누락 데이터 : 9135\n",
      "월 평균 임금 미응답자 : 0\n",
      "월 평금 인금 누락 데이터 : 12030\n",
      "지역 누락 데이터 : 0\n"
     ]
    }
   ],
   "source": [
    "# EDA\n",
    "# 성별 데이터 확인\n",
    "print('성별 미응답자 : {}'.format(df[df['h10_g3']==9].count()['h10_g3']))\n",
    "print('성별 누락 데이터 : {}'.format(df['h10_g3'].isnull().sum()))\n",
    "# 출생연도 데이터 확인\n",
    "print('출생연도 미응답자 : {}'.format(df[df['h10_g4']==9999].count()['h10_g4']))\n",
    "print('출생연도 누락 데이터 : {}'.format(df['h10_g4'].isnull().sum()))\n",
    "# 혼인상태 데이터 확인\n",
    "print('혼인상태 미응답자 : {}'.format(df[df['h10_g10']==9].count()['h10_g10']))\n",
    "print('혼인상태 누락 데이터 : {}'.format(df['h10_g10'].isnull().sum()))\n",
    "# 종교 데이터 확인\n",
    "print('종교 미응답자 : {}'.format(df[df['h10_g11']==9].count()['h10_g11']))\n",
    "print('종교 누락 데이터 : {}'.format(df['h10_g11'].isnull().sum()))\n",
    "# 직종 데이터 확인\n",
    "print('직종 미응답자 : {}'.format(df[df['h10_eco9']==9999].count()['h10_eco9']))\n",
    "print('직종 누락 데이터 : {}'.format(df['h10_eco9'].isnull().sum()))\n",
    "# 월 평균 임금 데이터 확인\n",
    "print('월 평균 임금 미응답자 : {}'.format(df[df['p1002_8aq1']==9999].count()['p1002_8aq1']))\n",
    "print('월 평금 인금 누락 데이터 : {}'.format(df['p1002_8aq1'].isnull().sum()))\n",
    "# 지역 데이터 확인\n",
    "print('지역 누락 데이터 : {}'.format(df['h10_reg7'].isnull().sum()))"
   ]
  },
  {
   "cell_type": "markdown",
   "metadata": {},
   "source": [
    "- 직종과 임금을 제외한 다른 자료는 미응답과 누락데이터는 없음\n",
    "- 직종과 임금의 경우 일을 하지 않는 경우에 해당하므로 이를 고려하여 문제를 해결해야함"
   ]
  },
  {
   "cell_type": "markdown",
   "metadata": {},
   "source": [
    "## 1. 성별에 따른 월급 차이 \n",
    "- 과거에 비해 여성의 사회 진출이 활발하지만 직장에서의 위상에서는 여전히 차별이 존재하고 있는것이 사실. 실제로 그러한지 월급의 차이를 이용하여 사실을 확인해보자."
   ]
  },
  {
   "cell_type": "code",
   "execution_count": null,
   "metadata": {},
   "outputs": [],
   "source": [
    "# 여기엔 미 응답자도 포함?\n",
    "display(df.groupby(df['h10_g3']).mean()['p1002_8aq1'])"
   ]
  },
  {
   "cell_type": "markdown",
   "metadata": {},
   "source": [
    "## 2. 나이와 월급의 관계 \n",
    "- 평균적으로 몇 살 때 월급을 가장 많이 받을까? 또 그때의 평균 월급은 얼마인가?"
   ]
  },
  {
   "cell_type": "code",
   "execution_count": null,
   "metadata": {},
   "outputs": [],
   "source": [
    "df_2 = df.groupby(df['h10_g4']).mean().sort_values(['p1002_8aq1'], ascending=False)['p1002_8aq1']\n",
    "print('가장 많은 월급을 받는 나이 : {}, 평균 월급 : {}'.format(2021-(df_2.index[0]+1), df_2[df_2.index[0]]))"
   ]
  },
  {
   "cell_type": "markdown",
   "metadata": {},
   "source": [
    "## 3. 연령대에 따른 월급 차이 \n",
    "- [30세 미만을 초년(young), 30~59세 : 중년(middle), 60세 이상 : 노년(old)] \n",
    "- 위의 범주로 연령대에 따른 월급의 차이를 알아보자"
   ]
  },
  {
   "cell_type": "code",
   "execution_count": null,
   "metadata": {},
   "outputs": [],
   "source": [
    "df_4 = df[['h10_g4','p1002_8aq1']].copy()\n",
    "df_4['age'] = 2021-(df_4['h10_g4']+1)"
   ]
  },
  {
   "cell_type": "code",
   "execution_count": null,
   "metadata": {},
   "outputs": [],
   "source": [
    "# age_range = 0 초년, = 1 중년, = 2 노년\n",
    "df_4.loc[df_4['age'] < 30,'age_range'] = 0\n",
    "df_4.loc[(df_4['age'] >= 30)&(df_4['age'] < 60),'age_range'] = 1\n",
    "df_4.loc[df_4['age'] >= 60,'age_range'] = 2"
   ]
  },
  {
   "cell_type": "code",
   "execution_count": null,
   "metadata": {},
   "outputs": [],
   "source": [
    "result = df_4.groupby(df_4['age_range']).mean()['p1002_8aq1']\n",
    "print('초년의 월급 : {}'.format(result[0.0]))\n",
    "print('중년의 월급 : {}'.format(result[1.0]))\n",
    "print('노년의 월급 : {}'.format(result[2.0]))"
   ]
  },
  {
   "cell_type": "markdown",
   "metadata": {},
   "source": [
    "## 4. 연령대 및 성별 월급 차이 \n",
    "- 성별 월급 차이는 연령대에 따라 다른 양상을 보일 수 있습니다. 성별 월급 차이가 연령대에 따라 다른지 분석해보자. 기존에는 3그룹(초년,중년,노년)이었지만 이젠 6그룹으로 그룹핑을 해야 한다.(초년남성,초년여성,..)"
   ]
  },
  {
   "cell_type": "code",
   "execution_count": null,
   "metadata": {},
   "outputs": [],
   "source": [
    "df_4.loc[:,'sex'] = df['h10_g3']\n",
    "result = df_4.groupby([df_4['age_range'],df_4['sex']])['p1002_8aq1']\n",
    "print('초년 남성의 월급 : {}'.format(result.get_group((0,1)).mean()))\n",
    "print('초년 여성의 월급 : {}'.format(result.get_group((0,2)).mean()))\n",
    "print('중년 남성의 월급 : {}'.format(result.get_group((1,1)).mean()))\n",
    "print('중년 여성의 월급 : {}'.format(result.get_group((1,2)).mean()))\n",
    "print('노년 남성의 월급 : {}'.format(result.get_group((2,1)).mean()))\n",
    "print('노년 여성의 월급 : {}'.format(result.get_group((2,2)).mean()))"
   ]
  },
  {
   "cell_type": "markdown",
   "metadata": {},
   "source": [
    "## 5. 직업별 월급 차이\n",
    "- 어떤 직업이 월급을 가장 많이 받을까? 직업별 월급을 분석해 보자. 직업코드는 제공된 Koweps_Codebook.xlsx을 이용하면 편하게 코드값을 이용 할 수 있습니다."
   ]
  },
  {
   "cell_type": "code",
   "execution_count": null,
   "metadata": {},
   "outputs": [],
   "source": [
    "result = df.groupby(df['h10_eco9']).mean().sort_values(['p1002_8aq1'], ascending=False)['p1002_8aq1']\n",
    "print(result)\n",
    "print('가장 월급이 높은 직업은 : {}(금속 재료 공학 기술자 및 시험원)'.format(result.index[0]))"
   ]
  },
  {
   "cell_type": "markdown",
   "metadata": {},
   "source": [
    "## 6. 성별 직업 빈도\n",
    "- 성별로 어떤 직업이 가장 많을까?"
   ]
  },
  {
   "cell_type": "code",
   "execution_count": 9,
   "metadata": {
    "collapsed": true
   },
   "outputs": [
    {
     "data": {
      "text/html": [
       "<div>\n",
       "<style scoped>\n",
       "    .dataframe tbody tr th:only-of-type {\n",
       "        vertical-align: middle;\n",
       "    }\n",
       "\n",
       "    .dataframe tbody tr th {\n",
       "        vertical-align: top;\n",
       "    }\n",
       "\n",
       "    .dataframe thead th {\n",
       "        text-align: right;\n",
       "    }\n",
       "</style>\n",
       "<table border=\"1\" class=\"dataframe\">\n",
       "  <thead>\n",
       "    <tr style=\"text-align: right;\">\n",
       "      <th></th>\n",
       "      <th>h10_g3</th>\n",
       "      <th>h10_eco9</th>\n",
       "    </tr>\n",
       "  </thead>\n",
       "  <tbody>\n",
       "    <tr>\n",
       "      <th>0</th>\n",
       "      <td>2.0</td>\n",
       "      <td>0.0</td>\n",
       "    </tr>\n",
       "    <tr>\n",
       "      <th>1</th>\n",
       "      <td>2.0</td>\n",
       "      <td>0.0</td>\n",
       "    </tr>\n",
       "    <tr>\n",
       "      <th>2</th>\n",
       "      <td>1.0</td>\n",
       "      <td>942.0</td>\n",
       "    </tr>\n",
       "    <tr>\n",
       "      <th>3</th>\n",
       "      <td>1.0</td>\n",
       "      <td>762.0</td>\n",
       "    </tr>\n",
       "    <tr>\n",
       "      <th>4</th>\n",
       "      <td>2.0</td>\n",
       "      <td>0.0</td>\n",
       "    </tr>\n",
       "    <tr>\n",
       "      <th>...</th>\n",
       "      <td>...</td>\n",
       "      <td>...</td>\n",
       "    </tr>\n",
       "    <tr>\n",
       "      <th>16659</th>\n",
       "      <td>2.0</td>\n",
       "      <td>0.0</td>\n",
       "    </tr>\n",
       "    <tr>\n",
       "      <th>16660</th>\n",
       "      <td>2.0</td>\n",
       "      <td>314.0</td>\n",
       "    </tr>\n",
       "    <tr>\n",
       "      <th>16661</th>\n",
       "      <td>1.0</td>\n",
       "      <td>0.0</td>\n",
       "    </tr>\n",
       "    <tr>\n",
       "      <th>16662</th>\n",
       "      <td>2.0</td>\n",
       "      <td>0.0</td>\n",
       "    </tr>\n",
       "    <tr>\n",
       "      <th>16663</th>\n",
       "      <td>1.0</td>\n",
       "      <td>0.0</td>\n",
       "    </tr>\n",
       "  </tbody>\n",
       "</table>\n",
       "<p>16664 rows × 2 columns</p>\n",
       "</div>"
      ],
      "text/plain": [
       "       h10_g3  h10_eco9\n",
       "0         2.0       0.0\n",
       "1         2.0       0.0\n",
       "2         1.0     942.0\n",
       "3         1.0     762.0\n",
       "4         2.0       0.0\n",
       "...       ...       ...\n",
       "16659     2.0       0.0\n",
       "16660     2.0     314.0\n",
       "16661     1.0       0.0\n",
       "16662     2.0       0.0\n",
       "16663     1.0       0.0\n",
       "\n",
       "[16664 rows x 2 columns]"
      ]
     },
     "metadata": {},
     "output_type": "display_data"
    },
    {
     "data": {
      "text/plain": [
       "<pandas.core.groupby.generic.DataFrameGroupBy object at 0x0000015DC2660A88>"
      ]
     },
     "execution_count": 9,
     "metadata": {},
     "output_type": "execute_result"
    }
   ],
   "source": [
    "# 필요한 데이터만 추출\n",
    "# 직업이 없는 사람은 0으로 표기\n",
    "df_6 = df[['h10_g3','h10_eco9']].fillna(0).copy()\n",
    "display(df_6)"
   ]
  },
  {
   "cell_type": "code",
   "execution_count": 33,
   "metadata": {},
   "outputs": [
    {
     "data": {
      "text/plain": [
       "h10_eco9\n",
       "0.0       3551\n",
       "611.0      640\n",
       "873.0      251\n",
       "312.0      213\n",
       "510.0      141\n",
       "          ... \n",
       "213.0        2\n",
       "876.0        2\n",
       "1011.0       2\n",
       "871.0        2\n",
       "289.0        1\n",
       "Name: h10_g3, Length: 142, dtype: int64"
      ]
     },
     "execution_count": 33,
     "metadata": {},
     "output_type": "execute_result"
    }
   ],
   "source": [
    "# 남성의 경우\n",
    "df_6.loc[df_6['h10_g3'] == 1].groupby(df_6['h10_eco9']).count().sort_values(['h10_g3'], ascending=False)['h10_g3']"
   ]
  },
  {
   "cell_type": "code",
   "execution_count": 35,
   "metadata": {},
   "outputs": [
    {
     "data": {
      "text/plain": [
       "h10_eco9\n",
       "0.0       5584\n",
       "611.0      680\n",
       "941.0      228\n",
       "521.0      221\n",
       "930.0      185\n",
       "          ... \n",
       "273.0        1\n",
       "242.0        1\n",
       "236.0        1\n",
       "223.0        1\n",
       "1012.0       1\n",
       "Name: h10_g3, Length: 105, dtype: int64"
      ]
     },
     "execution_count": 35,
     "metadata": {},
     "output_type": "execute_result"
    }
   ],
   "source": [
    "# 여성의 경우\n",
    "df_6.loc[df_6['h10_g3'] == 2].groupby(df_6['h10_eco9']).count().sort_values(['h10_g3'], ascending=False)['h10_g3']"
   ]
  },
  {
   "cell_type": "markdown",
   "metadata": {},
   "source": [
    "- 모든 성별에서 직업이 없는 사람이 가장 많고, 그 다음으로 많은 직업은 611 : 작물재배종사자이다. "
   ]
  },
  {
   "cell_type": "markdown",
   "metadata": {},
   "source": [
    "## 7. 종교 유무에 따른 이혼율\n",
    "- 종교가 있는 사람들이 이혼을 덜 할까??"
   ]
  },
  {
   "cell_type": "code",
   "execution_count": null,
   "metadata": {},
   "outputs": [],
   "source": [
    "df_7 = df[['h10_g10','h10_g11']].copy()\n",
    "# 종교가 없는 사람 수\n",
    "print((df_7['h10_g11']==2).sum())\n",
    "# 종교가 없는데 이혼\n",
    "print(df_7[df_7['h10_g11']==2].loc[df_7['h10_g10']==3].count()[0])\n",
    "# 종교가 없는 사람의 이혼율\n",
    "print('종교가 없는 사람의 이혼율 : {}'.format(df_7[df_7['h10_g11']==2].loc[df_7['h10_g10']==3].count()[0]/(df_7['h10_g11']==2).sum()))\n",
    "# 종교가 있는 사람 수\n",
    "print((df_7['h10_g11']==1).sum())\n",
    "# 종교가 있는데 이혼\n",
    "print(df_7[df_7['h10_g11']==1].loc[df_7['h10_g10']==3].count()[0])\n",
    "# 종교가 있는 사람의 이혼율\n",
    "print('종교가 없는 사람의 이혼율 : {}'.format(df_7[df_7['h10_g11']==1].loc[df_7['h10_g10']==3].count()[0]/(df_7['h10_g11']==1).sum()))"
   ]
  },
  {
   "cell_type": "markdown",
   "metadata": {},
   "source": [
    "## 8. 지역별 연령대 비율\n",
    "- 노년층이 많은 지역은 어디일까?"
   ]
  },
  {
   "cell_type": "code",
   "execution_count": null,
   "metadata": {},
   "outputs": [],
   "source": [
    "df_8 = df[['h10_g4','h10_reg7']].copy()\n",
    "# 출생연도 - 나이 변환\n",
    "df_8['age'] = 2021-(df_8['h10_g4']+1)\n",
    "# age_range에 노년 여부 추가\n",
    "df_8.loc[df_8['age'] < 60,'age_range'] = 0\n",
    "df_8.loc[df_8['age'] >= 60,'age_range'] = 1\n",
    "# 지역 구분 문자열로 변경\n",
    "reg_list=['서울','수도권(인천/경기)',\n",
    "          '부산/경남/울산','대구/경북',\n",
    "          '대전/충남','강원/충북',\n",
    "          '광주/전남/전북/제주도']\n",
    "\n",
    "for a in range(len(reg_list)):\n",
    "    df_8.loc[df['h10_reg7']==(a+1),'h10_reg7'] = reg_list[a]\n",
    "\n",
    "display(df_8.groupby(df_8['h10_reg7']).sum().sort_values(['age_range'], ascending=False)['age_range'])"
   ]
  }
 ],
 "metadata": {
  "kernelspec": {
   "display_name": "Python [conda env:data_env] *",
   "language": "python",
   "name": "conda-env-data_env-py"
  },
  "language_info": {
   "codemirror_mode": {
    "name": "ipython",
    "version": 3
   },
   "file_extension": ".py",
   "mimetype": "text/x-python",
   "name": "python",
   "nbconvert_exporter": "python",
   "pygments_lexer": "ipython3",
   "version": "3.7.9"
  }
 },
 "nbformat": 4,
 "nbformat_minor": 4
}
