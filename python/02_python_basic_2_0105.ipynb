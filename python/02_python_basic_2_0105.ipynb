{
 "cells": [
  {
   "cell_type": "markdown",
   "metadata": {},
   "source": [
    "# Python 기본 이어서\n",
    "\n",
    "## 1. python의 Data type (Built-in Data type)\n",
    ">다양한 데이터 타입이 있다\n",
    "1. Numeric\n",
    "    - int, float, complex\n",
    "2. Sequence\n",
    "    - list, tuple, **range**\n",
    "3. Text sequence (문자열)\n",
    "    - str\n",
    "4. Mapping\n",
    "    - dict\n",
    "5. Set\n",
    "    - set\n",
    "6. Bool\n",
    "    - bool\n",
    "---\n",
    "\n",
    "### 2. Sequence\n",
    " 1. range(시작, 끝, 증가치)\n",
    "    - 리스트와 유사하지만 실제 값을 가지지 않고 의미만 가지고 있다\n",
    "    - 그래서 리스트에 비해 메모리를 적게 차지한다\n",
    "    - 인덱싱과 슬라이싱이 모두 가능하다"
   ]
  },
  {
   "cell_type": "code",
   "execution_count": 9,
   "metadata": {},
   "outputs": [
    {
     "name": "stdout",
     "output_type": "stream",
     "text": [
      "range(0, 10)\n",
      "range(1, 11, 2)\n",
      "True\n",
      "False\n",
      "5\n",
      "7\n",
      "range(5, 11, 2)\n"
     ]
    }
   ],
   "source": [
    "# 0부터 9까지 1씩 증가하는 sequence\n",
    "a = range(10)\n",
    "\n",
    "# 리스트는 실제 값이 저장되지만 \n",
    "b = [0, 1, 2, 3, 4, 5, 6, 7, 8, 9]\n",
    "\n",
    "# range는 실제 값이 아닌 의미를 저장하여 크기가 더 작다\n",
    "print(a)\n",
    "\n",
    "# 1, 3, 5, 7, 9\n",
    "c = range(1, 11, 2)\n",
    "print(c)\n",
    "\n",
    "# range에 임의의 값이 있는지 확인\n",
    "print(7 in c)\n",
    "print(10 in c)\n",
    "\n",
    "# 인덱싱도 똑같이 가능\n",
    "print(c[2])\n",
    "print(c[-2])\n",
    "\n",
    "# 슬라이싱도 똑같이 가능\n",
    "print(c[2:])"
   ]
  },
  {
   "cell_type": "markdown",
   "metadata": {},
   "source": [
    "### 3. Text sequence\n",
    "- python에서 문자열을 생성하는 방법\n",
    "- 다른 언어에선 ''(문자), \"\"(문자열)를 구분한다\n",
    "- 파이썬에선 '', \"\"의 구분이 없다\n",
    "- 리스트 안에 문자가 들어가 있다고 생각하면 이해하기 편하다\n",
    "- 대, 소문자 구분한다"
   ]
  },
  {
   "cell_type": "code",
   "execution_count": 18,
   "metadata": {},
   "outputs": [
    {
     "name": "stdout",
     "output_type": "stream",
     "text": [
      "this is a same text\n",
      "pythonpythonpython\n"
     ]
    },
    {
     "ename": "TypeError",
     "evalue": "can only concatenate str (not \"int\") to str",
     "output_type": "error",
     "traceback": [
      "\u001b[1;31m---------------------------------------------------------------------------\u001b[0m",
      "\u001b[1;31mTypeError\u001b[0m                                 Traceback (most recent call last)",
      "\u001b[1;32m<ipython-input-18-3672bfdf3ef5>\u001b[0m in \u001b[0;36m<module>\u001b[1;34m\u001b[0m\n\u001b[0;32m     12\u001b[0m \u001b[1;31m# 두개의 데이터 타입이 달라서 오류가 발생\u001b[0m\u001b[1;33m\u001b[0m\u001b[1;33m\u001b[0m\u001b[1;33m\u001b[0m\u001b[0m\n\u001b[0;32m     13\u001b[0m \u001b[1;31m# 파이썬에선 문자열로 자동으로 캐스팅이 안된다\u001b[0m\u001b[1;33m\u001b[0m\u001b[1;33m\u001b[0m\u001b[1;33m\u001b[0m\u001b[0m\n\u001b[1;32m---> 14\u001b[1;33m \u001b[0mprint\u001b[0m\u001b[1;33m(\u001b[0m\u001b[0me1\u001b[0m \u001b[1;33m+\u001b[0m \u001b[0md1\u001b[0m\u001b[1;33m)\u001b[0m\u001b[1;33m\u001b[0m\u001b[1;33m\u001b[0m\u001b[0m\n\u001b[0m",
      "\u001b[1;31mTypeError\u001b[0m: can only concatenate str (not \"int\") to str"
     ]
    }
   ],
   "source": [
    "a1 = 'this is a'\n",
    "b1 = ' same'\n",
    "c1 = ' text'\n",
    "\n",
    "# 리스트와 비슷하다고 생각하면 된다\n",
    "print(a1 + b1 + c1)\n",
    "print('python'*3)\n",
    "\n",
    "d1 =100\n",
    "e1 = 'count : '\n",
    "\n",
    "# 두개의 데이터 타입이 달라서 오류가 발생\n",
    "# 파이썬에선 문자열로 자동으로 캐스팅이 안된다\n",
    "print(e1 + d1)"
   ]
  },
  {
   "cell_type": "code",
   "execution_count": 28,
   "metadata": {},
   "outputs": [
    {
     "name": "stdout",
     "output_type": "stream",
     "text": [
      "count : 100\n",
      "<class 'str'>\n",
      "s\n",
      "x\n",
      "his\n",
      "True\n",
      "False\n",
      "True\n"
     ]
    }
   ],
   "source": [
    "# 명시적으로 변환해야 한다\n",
    "print(e1 + str(d1))\n",
    "\n",
    "f1 = 'This is a sample text'\n",
    "print(type(f1))\n",
    "\n",
    "# 리스트와 같이 인덱싱과 슬라이싱이 가능하다\n",
    "print(f1[3])\n",
    "print(f1[-2])\n",
    "print(f1[1:4])\n",
    "\n",
    "# 대, 소문자 구분함\n",
    "print('sam' in f1)\n",
    "print('Sam' in f1)\n",
    "\n",
    "print('Sam' not in f1)"
   ]
  },
  {
   "cell_type": "markdown",
   "metadata": {},
   "source": [
    "- 문자열관련 함수\n",
    "    1. 문자열 크기 확인 len()\n",
    "    2. 문자열내 임의의 문자 갯수 확인 .count()\n",
    "    3. 대문자로 변환 .upper()\n",
    "    4. 문자열 출력관련 포멧 .format(), f"
   ]
  },
  {
   "cell_type": "code",
   "execution_count": 41,
   "metadata": {},
   "outputs": [
    {
     "name": "stdout",
     "output_type": "stream",
     "text": [
      "8\n",
      "3\n",
      "COCACOLA\n",
      "나는 사과를 3개 가지고 있어요!\n",
      "나는 사과를 3개, 귤을 10개 가지고 있어요!\n",
      "나는 사과를 3개 가지고 있어요!\n",
      "나는 사과를 3개, 귤을 10개 가지고 있어요!\n"
     ]
    }
   ],
   "source": [
    "a2 = 'cocacola'\n",
    "\n",
    "# 문자열 크기 확인\n",
    "print(len(a2))\n",
    "\n",
    "# 문자열내 임의의 문자 갯수 확인\n",
    "print(a2.count('c'))\n",
    "\n",
    "# 대문자로 변환\n",
    "print(a2.upper())\n",
    "\n",
    "# 문자열 출력관련 포맷 1\n",
    "apple = 3\n",
    "orange = 10\n",
    "b2 = '나는 사과를 {}개 가지고 있어요!'.format(apple)\n",
    "print(b2)\n",
    "\n",
    "c2 = '나는 사과를 {}개, 귤을 {}개 가지고 있어요!'.format(apple, orange)\n",
    "print(c2)\n",
    "\n",
    "# 문자열 출력관련 포맷 2\n",
    "d2 = f'나는 사과를 {apple}개 가지고 있어요!'\n",
    "print(d2)\n",
    "\n",
    "e2 = f'나는 사과를 {apple}개, 귤을 {orange}개 가지고 있어요!'\n",
    "print(e2)"
   ]
  },
  {
   "cell_type": "markdown",
   "metadata": {},
   "source": [
    "### 4. Mapping\n",
    "1. dict(딕셔너리)\n",
    "    - 표현은 { key : value }\n",
    "    - key와 value의 쌍으로 데이터를 표현\n",
    "    - key에 제한은 없음 하지만 문자열을 많이 씀\n",
    "    - 데이터 접근시 dict[key]\n",
    "    - 새로운 내용 추가시 dict[key] = value\n",
    "    - 프로그래밍의 유연성측면에서는 좋다\n",
    "    - 하지만 논리오류에 취약\n",
    "    - key값은 고정된 값만 사용가능"
   ]
  },
  {
   "cell_type": "code",
   "execution_count": 46,
   "metadata": {},
   "outputs": [
    {
     "name": "stdout",
     "output_type": "stream",
     "text": [
      "<class 'dict'>\n",
      "{'name': '홍길동', 'age': 30, 100: 'Helle', 'address': '서울'}\n"
     ]
    }
   ],
   "source": [
    "# key는 name, age, 100, value는 홍길동, 30, hello\n",
    "a3 = { 'name' : '홍길동', 'age' : 30 , 100 : 'Helle' }\n",
    "print(type(a3))\n",
    "\n",
    "# key값이 존재하지 않으면 새로운 데이터 추가\n",
    "a3['address'] = '서울'\n",
    "print(a3)"
   ]
  },
  {
   "cell_type": "code",
   "execution_count": 48,
   "metadata": {},
   "outputs": [
    {
     "name": "stdout",
     "output_type": "stream",
     "text": [
      "{'name': '홍길동', 'age': 30, 'address': '서울'}\n"
     ]
    }
   ],
   "source": [
    "# 값 삭제\n",
    "del a3[100]\n",
    "print(a3)"
   ]
  },
  {
   "cell_type": "code",
   "execution_count": 53,
   "metadata": {},
   "outputs": [
    {
     "name": "stdout",
     "output_type": "stream",
     "text": [
      "{'name': '홍길동', 'age': 20}\n"
     ]
    },
    {
     "ename": "TypeError",
     "evalue": "unhashable type: 'list'",
     "output_type": "error",
     "traceback": [
      "\u001b[1;31m---------------------------------------------------------------------------\u001b[0m",
      "\u001b[1;31mTypeError\u001b[0m                                 Traceback (most recent call last)",
      "\u001b[1;32m<ipython-input-53-8c217f3fb259>\u001b[0m in \u001b[0;36m<module>\u001b[1;34m\u001b[0m\n\u001b[0;32m      5\u001b[0m \u001b[1;33m\u001b[0m\u001b[0m\n\u001b[0;32m      6\u001b[0m \u001b[1;31m# key값은 변하지 않는 고정된 값만 가능\u001b[0m\u001b[1;33m\u001b[0m\u001b[1;33m\u001b[0m\u001b[1;33m\u001b[0m\u001b[0m\n\u001b[1;32m----> 7\u001b[1;33m \u001b[0mc3\u001b[0m \u001b[1;33m=\u001b[0m \u001b[1;33m{\u001b[0m \u001b[1;34m'name'\u001b[0m \u001b[1;33m:\u001b[0m \u001b[1;34m'홍길동'\u001b[0m\u001b[1;33m,\u001b[0m \u001b[1;33m[\u001b[0m\u001b[1;36m1\u001b[0m\u001b[1;33m,\u001b[0m \u001b[1;36m2\u001b[0m\u001b[1;33m]\u001b[0m \u001b[1;33m:\u001b[0m \u001b[1;36m30\u001b[0m \u001b[1;33m}\u001b[0m\u001b[1;33m\u001b[0m\u001b[1;33m\u001b[0m\u001b[0m\n\u001b[0m",
      "\u001b[1;31mTypeError\u001b[0m: unhashable type: 'list'"
     ]
    }
   ],
   "source": [
    "# 동일한 key값을 설정하는 경우\n",
    "# 이 경우 중복된 값중 하나가 사라지는데 어떤 값이 사라지는지 알 수 없다\n",
    "b3 = { 'name' : '홍길동', 'age' : 30 , 'age' : 20 }\n",
    "print(b3)\n",
    "\n",
    "# key값은 변하지 않는 고정된 값만 가능\n",
    "c3 = { 'name' : '홍길동', [1, 2] : 30 }"
   ]
  },
  {
   "cell_type": "code",
   "execution_count": 55,
   "metadata": {},
   "outputs": [
    {
     "name": "stdout",
     "output_type": "stream",
     "text": [
      "dict_keys(['name', (1, 2)])\n",
      "dict_values(['홍길동', 20])\n"
     ]
    }
   ],
   "source": [
    "# 따라서 튜플은 key로 사용가능\n",
    "d3 = { 'name' : '홍길동', (1, 2) : 20 }\n",
    "\n",
    "# key값만 뽑아서 dict_keys라는 데이터 리턴, 리스트와 비슷\n",
    "print(d3.keys())\n",
    "\n",
    "# key값만 뽑아서 dict_values라는 데이터 리턴, 리스트와 비슷\n",
    "print(d3.values())"
   ]
  },
  {
   "cell_type": "code",
   "execution_count": 58,
   "metadata": {},
   "outputs": [
    {
     "name": "stdout",
     "output_type": "stream",
     "text": [
      "key : name, value : 홍길동\n",
      "key : (1, 2), value : 20\n"
     ]
    }
   ],
   "source": [
    "# 모든 key에 대한 value값을 출력\n",
    "# 파이썬은 block을 표현할 때 {}를 사용하지 않고 indent를 사용한다\n",
    "for key in d3.keys():\n",
    "    print('key : {}, value : {}'.format(key, d3[key]))"
   ]
  },
  {
   "cell_type": "code",
   "execution_count": 59,
   "metadata": {},
   "outputs": [
    {
     "name": "stdout",
     "output_type": "stream",
     "text": [
      "True\n",
      "{}\n"
     ]
    }
   ],
   "source": [
    "print('name' in d3)\n",
    "# 딕셔너리안의 모든 데이터 지울때 clear()\n",
    "d3.clear()\n",
    "print(d3)"
   ]
  },
  {
   "cell_type": "markdown",
   "metadata": {},
   "source": [
    "### 5. Set\n",
    "- set은 중복을 허용하지 않는다\n",
    "- 표현은 {}, 대신 key가 존재하지 않는다\n",
    "- 하지만 빈 set을 만들땐 set()을 이용\n",
    "- a = {}을 하면 딕셔너리로 인식함\n",
    "- 순서가 없는 자료구조"
   ]
  },
  {
   "cell_type": "code",
   "execution_count": 60,
   "metadata": {},
   "outputs": [
    {
     "name": "stdout",
     "output_type": "stream",
     "text": [
      "<class 'set'>\n"
     ]
    }
   ],
   "source": [
    "a4 = {1, 2, 3}\n",
    "print(type(a4))"
   ]
  },
  {
   "cell_type": "code",
   "execution_count": 61,
   "metadata": {},
   "outputs": [
    {
     "name": "stdout",
     "output_type": "stream",
     "text": [
      "{1, 2, 3}\n"
     ]
    }
   ],
   "source": [
    "# 중복을 제거한다\n",
    "a4 = {1, 2, 3, 1, 2, 3, 1, 2, 3, 1, 2, 3}\n",
    "print(a4)"
   ]
  },
  {
   "cell_type": "code",
   "execution_count": 66,
   "metadata": {},
   "outputs": [
    {
     "name": "stdout",
     "output_type": "stream",
     "text": [
      "{4, 5}\n",
      "{1, 2, 3, 4, 5, 6, 7, 8}\n",
      "{1, 2, 3}\n"
     ]
    }
   ],
   "source": [
    "b4 = [1, 2, 3, 4, 5]\n",
    "c4 = set(b4)\n",
    "d4 = set([4, 5, 6, 7, 8])\n",
    "\n",
    "# 교집합, intersection\n",
    "result1 = c4 & d4\n",
    "print(result1)\n",
    "\n",
    "# 합집합, union\n",
    "result2 = c4 | d4\n",
    "print(result2)\n",
    "\n",
    "# 차집합, difference\n",
    "result3 = c4 - d4\n",
    "print(result3)"
   ]
  },
  {
   "cell_type": "code",
   "execution_count": 67,
   "metadata": {},
   "outputs": [
    {
     "name": "stdout",
     "output_type": "stream",
     "text": [
      "{7}\n"
     ]
    }
   ],
   "source": [
    "# set에 데이터 추가, 삭제\n",
    "e4 = set()\n",
    "\n",
    "# 하나 추가할때 add()사용 cf) append()의 경우 순서가 있는 리스트등에서 사용\n",
    "e4.add(7)\n",
    "print(e4)"
   ]
  },
  {
   "cell_type": "code",
   "execution_count": 76,
   "metadata": {},
   "outputs": [
    {
     "name": "stdout",
     "output_type": "stream",
     "text": [
      "{1, 2, 3, 4, 7}\n"
     ]
    }
   ],
   "source": [
    "# 여러개를 추가할때 update(list or set)\n",
    "e4.update([1,2,3,4])\n",
    "print(e4)"
   ]
  },
  {
   "cell_type": "code",
   "execution_count": 77,
   "metadata": {},
   "outputs": [
    {
     "name": "stdout",
     "output_type": "stream",
     "text": [
      "{1, 2, 3, 7}\n"
     ]
    }
   ],
   "source": [
    "# 삭제할땐 remove()\n",
    "e4.remove(4)\n",
    "print(e4)"
   ]
  },
  {
   "cell_type": "code",
   "execution_count": 78,
   "metadata": {},
   "outputs": [
    {
     "name": "stdout",
     "output_type": "stream",
     "text": [
      "{2, 7}\n"
     ]
    }
   ],
   "source": [
    "# 여러개를 삭제할때\n",
    "e4.difference_update({1,3})\n",
    "print(e4)"
   ]
  },
  {
   "cell_type": "markdown",
   "metadata": {},
   "source": [
    "### 6. Bool\n",
    "- 논리형 (True, False)\n",
    "- 사용할 수 있는 연산자 (and, or, not)"
   ]
  },
  {
   "cell_type": "code",
   "execution_count": 84,
   "metadata": {},
   "outputs": [
    {
     "name": "stdout",
     "output_type": "stream",
     "text": [
      "True\n",
      "False\n",
      "True\n",
      "False\n",
      "True\n"
     ]
    }
   ],
   "source": [
    "print(True and True)\n",
    "print(True and False)\n",
    "\n",
    "print(True or False)\n",
    "\n",
    "print(not True)\n",
    "print(not False)"
   ]
  },
  {
   "cell_type": "markdown",
   "metadata": {},
   "source": [
    "- 파이썬에 False로 간주하는 경우\n",
    "    1. 빈 문자열 ( '' )\n",
    "    2. 빈 리스트 ( [] )\n",
    "    3. 빈 튜플 ( () )\n",
    "    4. 빈 딕셔너리 ( {} )\n",
    "    5. 숫자 0 (나머지 숫자는 True)\n",
    "    6. None (값이 없음을 의미)"
   ]
  },
  {
   "cell_type": "code",
   "execution_count": 86,
   "metadata": {},
   "outputs": [
    {
     "name": "stdout",
     "output_type": "stream",
     "text": [
      "<class 'NoneType'>\n"
     ]
    }
   ],
   "source": [
    "a5 = None\n",
    "print(type(a5))"
   ]
  },
  {
   "cell_type": "markdown",
   "metadata": {},
   "source": [
    "---\n",
    "## 2. 기타\n",
    "### 1 . Print()"
   ]
  },
  {
   "cell_type": "code",
   "execution_count": 88,
   "metadata": {},
   "outputs": [
    {
     "name": "stdout",
     "output_type": "stream",
     "text": [
      "1\n",
      "2\n",
      "3\n",
      "4\n",
      "5\n",
      "1 2 3 4 5 "
     ]
    }
   ],
   "source": [
    "for tmp in [1, 2, 3, 4, 5]:\n",
    "    # print는 기본적으로 출력하고 줄바꿈한다\n",
    "    # 줄바꿈 말고 다른 처리를 할려면 end속성을 이용하면된다\n",
    "    print(tmp)\n",
    "    \n",
    "for tmp in [1, 2, 3, 4, 5]:\n",
    "    # 줄바꿈 대신 한칸 띄어쓰기 \n",
    "    print(tmp, end = ' ')"
   ]
  },
  {
   "cell_type": "markdown",
   "metadata": {},
   "source": [
    "---\n",
    "\n",
    "## 3. 제어문\n",
    "1. if ~ elif ~ else\n",
    "2. for \n",
    "- 반복횟수를 알고 있는 경우\n",
    "- for ~~~ in range, list 등:\n",
    "3. while\n",
    "- 조건에 따라 반복할때"
   ]
  },
  {
   "cell_type": "code",
   "execution_count": 90,
   "metadata": {},
   "outputs": [
    {
     "name": "stdout",
     "output_type": "stream",
     "text": [
      "5의 배수\n"
     ]
    }
   ],
   "source": [
    "# if ~ elif ~ else\n",
    "a = 20\n",
    "\n",
    "if a % 3 == 0:\n",
    "    print('3의 배수')\n",
    "elif a % 5 == 0:\n",
    "    print('5의 배수')\n",
    "elif a % 7 == 0:\n",
    "    print('7의 배수')\n",
    "elif a % 11 == 0:\n",
    "    # 아무것도 안할때 비워두지말고\n",
    "    pass\n",
    "else:\n",
    "    print('해당되는 조건이 없다')"
   ]
  },
  {
   "cell_type": "code",
   "execution_count": 93,
   "metadata": {},
   "outputs": [
    {
     "name": "stdout",
     "output_type": "stream",
     "text": [
      "[2, 4, 6, 8, 10, 12, 14]\n",
      "[4, 8, 12]\n"
     ]
    }
   ],
   "source": [
    "# python list comprehension\n",
    "list1 = [1, 2, 3, 4, 5, 6, 7]\n",
    "\n",
    "list2 = [tmp * 2 for tmp in list1]\n",
    "print(list2)\n",
    "\n",
    "list3 = [tmp * 2 for tmp in list1 if tmp % 2 == 0]\n",
    "print(list3)"
   ]
  },
  {
   "cell_type": "code",
   "execution_count": 94,
   "metadata": {},
   "outputs": [
    {
     "name": "stdout",
     "output_type": "stream",
     "text": [
      "0\n",
      "1\n",
      "2\n",
      "3\n",
      "4\n",
      "5\n",
      "6\n",
      "7\n",
      "8\n",
      "9\n"
     ]
    }
   ],
   "source": [
    "# while은 다른 언어와 유사하다\n",
    "idx = 0\n",
    "\n",
    "while idx < 10:\n",
    "    print(idx)\n",
    "    idx +=1"
   ]
  }
 ],
 "metadata": {
  "kernelspec": {
   "display_name": "Python [conda env:data_env] *",
   "language": "python",
   "name": "conda-env-data_env-py"
  },
  "language_info": {
   "codemirror_mode": {
    "name": "ipython",
    "version": 3
   },
   "file_extension": ".py",
   "mimetype": "text/x-python",
   "name": "python",
   "nbconvert_exporter": "python",
   "pygments_lexer": "ipython3",
   "version": "3.7.9"
  }
 },
 "nbformat": 4,
 "nbformat_minor": 4
}
