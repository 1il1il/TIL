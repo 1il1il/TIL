{
 "cells": [
  {
   "cell_type": "markdown",
   "metadata": {},
   "source": [
    "# Python의 함수, 객체지향\n",
    "## 1. 함수\n",
    "- 특정 기능을 수행하는 코드 묶음\n",
    "- 함수 만들때 함수명은 가독성을 높이기 위해서 c언어 함수 스타일로 작성\n",
    "    - ex)student_name\n",
    "- 함수는 크게 내장함수(print(), len())와 사용자 정의 함수로 구분\n",
    "### 1. 사용자 정의 함수(user define funcion)\n",
    "- 함수를 정의할때 def 키워드를 이용\n",
    "- 관용적으로 함수 정의 이후 두줄 띄고 다음 코드 작성\n",
    "- 함수이름이 내장함수와 같으면 오버라이딩이 되므로 내장함수와 다르게 설정해야한다"
   ]
  },
  {
   "cell_type": "code",
   "execution_count": 1,
   "metadata": {},
   "outputs": [
    {
     "name": "stdout",
     "output_type": "stream",
     "text": [
      "60\n"
     ]
    }
   ],
   "source": [
    "def my_sum(a, b, c):\n",
    "    result = a + b + c\n",
    "    return result\n",
    "\n",
    "\n",
    "sum_result = my_sum(10, 20, 30)\n",
    "print(sum_result)"
   ]
  },
  {
   "cell_type": "markdown",
   "metadata": {},
   "source": [
    "- 함수를 정의해서 사용할때 인자의 갯수가 달라지는 경우"
   ]
  },
  {
   "cell_type": "code",
   "execution_count": 5,
   "metadata": {},
   "outputs": [
    {
     "name": "stdout",
     "output_type": "stream",
     "text": [
      "결과값은 : 10\n"
     ]
    }
   ],
   "source": [
    "# tuple로 인자를 받는다\n",
    "def my_sum(*tmp):\n",
    "    result = 0\n",
    "    for t in tmp:\n",
    "        result += t\n",
    "    return result\n",
    "\n",
    "print('결과값은 : {}'.format(my_sum(1, 2, 3, 4)))"
   ]
  },
  {
   "cell_type": "code",
   "execution_count": 8,
   "metadata": {},
   "outputs": [
    {
     "name": "stdout",
     "output_type": "stream",
     "text": [
      "<class 'tuple'>\n",
      "30\n",
      "<class 'int'>\n",
      "200\n",
      "<class 'int'>\n"
     ]
    }
   ],
   "source": [
    "# 여러개의 값을 리턴하는 함수\n",
    "\n",
    "def multi_return(a, b):\n",
    "    result1 = a + b\n",
    "    result2 = a * b\n",
    "    # tuple은 () 생략 가능, 즉 tuple을 리턴하는 것\n",
    "    return result1, result2\n",
    "\n",
    "data = multi_return(10, 20)\n",
    "print(type(data))\n",
    "\n",
    "# data1, data2도 tuple인데 괄호 생략된 것\n",
    "data1, data2 = multi_return(10, 20)\n",
    "print(data1)\n",
    "print(data2)"
   ]
  },
  {
   "cell_type": "markdown",
   "metadata": {},
   "source": [
    "- default 인자를 이용할 수 있다"
   ]
  },
  {
   "cell_type": "code",
   "execution_count": 11,
   "metadata": {},
   "outputs": [
    {
     "name": "stdout",
     "output_type": "stream",
     "text": [
      "200\n",
      "200\n",
      "30\n"
     ]
    }
   ],
   "source": [
    "# 마지막 인자에만 default 인자를 지정할 수 있다\n",
    "\n",
    "def default_param(a, b, c = False):\n",
    "    if c:\n",
    "        result = a + b\n",
    "    else:\n",
    "        result = a * b\n",
    "    return result\n",
    "\n",
    "print(default_param(10, 20))\n",
    "print(default_param(10, 20, 0))\n",
    "print(default_param(10, 20, 1))"
   ]
  },
  {
   "cell_type": "markdown",
   "metadata": {},
   "source": [
    "- call by value, call by reference\n",
    "- 넘겨준 인자값이 변경되지 않는 경우 : call by value => immutable(불변의)\n",
    "    - 숫자, 문자, tuple등\n",
    "- 넘겨준 인자값이 변경되는 경우 : call by reference => mutable(가변의)\n",
    "    - list, dict"
   ]
  },
  {
   "cell_type": "code",
   "execution_count": 14,
   "metadata": {},
   "outputs": [
    {
     "name": "stdout",
     "output_type": "stream",
     "text": [
      "data_value : 10\n",
      "data_list : [10, 20, 100]\n"
     ]
    }
   ],
   "source": [
    "def my_func(tmp_value, tmp_list):\n",
    "    tmp_value += 100\n",
    "    tmp_list.append(100)\n",
    "    \n",
    "\n",
    "data_value = 10\n",
    "data_list = [10, 20]\n",
    "my_func(data_value, data_list)\n",
    "\n",
    "# 넘겨준 인자값이 변경되지 않는 경우 : call by value => immutable\n",
    "print('data_value : {}'.format(data_value))\n",
    "\n",
    "# 넘겨준 인자값이 변경되는 경우 : call by reference => mutable\n",
    "print('data_list : {}'.format(data_list))\n",
    "\n",
    "# tuple로 변경해서 넘기면 원본은 그대로 있고 tuple만 변경됨\n",
    "def my_func(tmp_value, tuple(tmp_list)):\n",
    "    tmp_value += 100\n",
    "    tmp_list.append(100)"
   ]
  },
  {
   "cell_type": "markdown",
   "metadata": {},
   "source": [
    "- local variable vs global variable\n",
    "- global keyword로 global variable을 함수내에서 사용할 수 있다\n",
    "- 하지만 이런 방법은 좋지 않다\n",
    "- 함수가 외부의 변수와 연결되어있어 상당히 좋지 않다"
   ]
  },
  {
   "cell_type": "code",
   "execution_count": 16,
   "metadata": {},
   "outputs": [
    {
     "name": "stdout",
     "output_type": "stream",
     "text": [
      "120\n"
     ]
    }
   ],
   "source": [
    "# global scope\n",
    "tmp = 100\n",
    "\n",
    "# 함수안의 tmp와 외부의 tmp가 다르다\n",
    "# local scope\n",
    "def my_func2(x):\n",
    "    # 외부의 tmp를 가져와 쓰기\n",
    "    global tmp\n",
    "    tmp = tmp + x\n",
    "    return tmp\n",
    "\n",
    "\n",
    "print(my_func2(20))"
   ]
  },
  {
   "cell_type": "markdown",
   "metadata": {},
   "source": [
    "### 2. 내장함수\n",
    "- 다양한 내장함수 있다\n",
    "- 많이 알수록 프로그래밍이 쉬워진다\n",
    "---\n",
    "\n",
    "#### 1. all(x)\n",
    "- 반복가능한 자료형 x에 대해서 모든 값이 True이면 True. 하나라도 False이면 False처리를 해주는 함수"
   ]
  },
  {
   "cell_type": "code",
   "execution_count": 23,
   "metadata": {},
   "outputs": [
    {
     "name": "stdout",
     "output_type": "stream",
     "text": [
      "True\n",
      "False\n",
      "False\n"
     ]
    }
   ],
   "source": [
    "a = [3.14, 100, 'Hello', True]\n",
    "print(all(a))\n",
    "\n",
    "b = [3.14, 100, '', True]\n",
    "print(all(b))\n",
    "\n",
    "c = [3.14, 0, 'Hello', True]\n",
    "print(all(c))"
   ]
  },
  {
   "cell_type": "markdown",
   "metadata": {},
   "source": [
    "#### 2. any(x)\n",
    "- 반복가능한 자료형 x에 대해서 하나라도 True이면 True. 모든 데이터가 False이면 False처리를 해주는 함수"
   ]
  },
  {
   "cell_type": "code",
   "execution_count": 24,
   "metadata": {},
   "outputs": [
    {
     "name": "stdout",
     "output_type": "stream",
     "text": [
      "True\n",
      "False\n"
     ]
    }
   ],
   "source": [
    "d = [3.14, 100, 'Hello', True]\n",
    "print(any(d))\n",
    "\n",
    "e = [0, 0, '', None]\n",
    "print(any(e))"
   ]
  },
  {
   "cell_type": "markdown",
   "metadata": {},
   "source": [
    "#### 3. len(x)\n",
    "- x의 길이를 알려주는 함수\n",
    "\n",
    "#### 4. int(), float(), list(), tuple(), dict(), str(), set()\n",
    "- 해당 데이터 타입을 생성하거나 타입으로 변환시켜주는 함수\n",
    "\n",
    "#### 5. lambda\n",
    "- 함수처럼 사용되지만 함수는 아니다\n",
    "- 함수의 이름이 없기 때문에 anonymous function이라고 하기도 함\n",
    "- 그래서 람다식(lambda expression)이라고 부른다\n",
    "- 변수 = lambda 입력변수1, 입력변수2 ... : 대체 표현식\n",
    "- 표현을 바꿔주는 것이라 별도의 local scope를 가지지 않는다"
   ]
  },
  {
   "cell_type": "code",
   "execution_count": 26,
   "metadata": {},
   "outputs": [
    {
     "name": "stdout",
     "output_type": "stream",
     "text": [
      "60\n",
      "60\n"
     ]
    }
   ],
   "source": [
    "f = lambda a, b, c : a + b + c\n",
    "\n",
    "def my_sum(a, b, c):\n",
    "    return a + b + c\n",
    "\n",
    "print(f(10, 20, 30))\n",
    "\n",
    "# 람다식을 이용하면 아래와 같이 변환하는 것과 같다\n",
    "print(10 + 20 + 30)"
   ]
  },
  {
   "cell_type": "markdown",
   "metadata": {},
   "source": [
    "## 2. 객체지향\n",
    "- python 3.X로 변경되면서 객체지향언어로 탈바꿈함\n",
    "- 객체지향에 대한 기본적 이해 필요\n",
    "- 이런 객체지향 개념을 코드상으로 표현하는 방법 이해\n",
    "\n",
    "### 1. 프로그래밍의 패러다임\n",
    "- 과거에는 상당히 프로그래밍하기 힘들었다 (이진수로 프로그래밍)\n",
    "- 프로그래밍 언어가 등장 - 어셈블리어 등\n",
    "- C를 위시한 고급언어(High level language) 등장\n",
    "- 초창기 고급언어는 절차적 프로그래밍(구조적 프로그래밍)\n",
    "- 대표적인 언어는 C\n",
    "- 프로그램을 기능으로 세분화 시킨다\n",
    "- 파악된 각각의 기능을 모듈로 작성 > 함수로 각 모듈을 구현\n",
    "- ex) 은행 프로그램 구현\n",
    "    - 은행의 기능 파악 (예금, 외환, 대출, 보험)\n",
    "    - 예금업무 - 자행입금, 타행입금, 무통장입금, 출금...\n",
    "    - 더이상 세분화 할 수 없는 기능이 도출 - 단위 기능\n",
    "    - 단위기능을 함수로 구현\n",
    "- 절차적 프로그래밍의 장점 \n",
    "    - 프로그램을 쉽고 빠르게 구현\n",
    "    - 거의 동일한 설계가 도출\n",
    "    - 생산성을 높일수 있다\n",
    "- 절차적 프로그래밍의 단점\n",
    "    - 프로그램의 규모가 커지면 복잡해짐 > 유지보수가 힘들다\n",
    "    - 개발비용보다 유지비용이 커지는 현상 발생 가능\n",
    "    - 기존 코드를 재사용하는데 한계가 있다\n",
    "        - 함수단위로 가져다 쓰거나\n",
    "        - 코드 자체를 가져다가 사용\n",
    "    - 인터넷의 보급(변화 가속화)으로 유지보수의 요구사항이 급증\n",
    "    - 새로운 프로그래밍 방식의 요구됨\n",
    "- 객체지향 프로그래밍의 등장(1990년대)\n",
    "- 모든 구현자체가 객체지향으로 전환(C++, JAVA)\n",
    "- 객체지향 프로그래밍 방식\n",
    "    - 프로그램을 기능으로 세분화 하지 않는다\n",
    "    - 해결해야하는 문제를 프로그램으로 묘사\n",
    "    - 은행을 구성하는 주체\n",
    "        - 은행, 계좌, 사람, 지점\n",
    "    - 이런 주체들이 어떻게 서로 상호작용을 하는지를 프로그램으로 표현\n",
    "- 단점 : 프로그램의 설계와 구현이 상대적으로 어렵다\n",
    "- 장점 : 프로그램의 유지보수와 재사용에 이점을 갖는다\n",
    "- 객체지향 프로그램은 현실세계의 개체를 프로그램적으로 모델링하는게 중요!\n",
    "---\n",
    "- 정리\n",
    "- 간단하고 유지보수 필요없는 프로그램들을 절차적 프로그램 방식으로 구현\n",
    "- 서비스류 프로그램은 유지보수를 위해 객체지향 프로그램 방식으로 구현\n",
    "---\n",
    "- 객체지향 프로그램 모델링 예시\n",
    "- 자동차를 객체지향으로 표현\n",
    "- 자동차가 가지는 속성과 행위를 먼저 파악\n",
    "    - 속성 : 도어수, 배기량, 현재 속도, 가격, 색상 ...\n",
    "        - 배기량, 현재속도 => 변수 => 속성, 필드, property, attribute...\n",
    "    - 행위 : 전진, 후진, 깜빡이 점등, 와이퍼 작동\n",
    "        - 기어를 변경한다 => 함수 => 메서드(method)\n",
    "- 객체를 모델링하기 위해서 사용하는 프로그램 단위 => class\n",
    "- class : (현실 세계의)객체를 (프로그램적으로)모델링하는 (프로그래밍)수단\n",
    "- class안에는 변수들과 함수들이 여러개 들어가 있다\n",
    "- class는 데이터 타입의 관점에서 바라볼 수 있다\n",
    "- class : 추상 데이터 타입(새로운 데이터 타입을 만들어내는 수단)\n",
    "- class는 현실세계의 개체를 프로그램적으로 묘사하기 위해 사용하는 설명서와 같음\n",
    "- class를 기반으로 프로그램에서 사용할 수 있는 메모리 영역을 할당할 수 있다\n",
    "- instance라고 한다. 객체 즉, 객체가 있을려면 class가 있어야 한다.\n",
    "---\n",
    "- 학생을 프로그램적으로 표현하기\n",
    "- 이름, 학과, 학점, 학번\n",
    "    - stu1_name = '홍길동'\n",
    "    - stu1_dept = '철학'\n",
    "    - stu1_num = '202020111'\n",
    "    - stu1_grade = '3.5'\n",
    "\n",
    "    - stu2_name = '김길동'\n",
    "    - stu2_dept = '영어영문'\n",
    "    - stu2_num = '202020112'\n",
    "    - stu2_grade = '4.5'\n",
    "- 집합자료구조를 이용해 조금더 나은 표현\n",
    "    - stu_name = ['홍길동', '김길동']\n",
    "    - stu_dept = ['철학', '영어영문']\n",
    "    - stu_num = ['202020111', '202020112']\n",
    "    - stu_grade = ['3.5', '4.5']\n",
    "- 확실하게 모듈화 되어 있지 않고, index를 이용해서 처리를 해야한다\n",
    "- 객체 지향으로 표현하기\n",
    "- 학생\n",
    "    - 속성 : 이름, 학과, 학번, 학점\n",
    "    - 기능 : 자신의 정보를 문자열로 만들어서 리턴"
   ]
  },
  {
   "cell_type": "code",
   "execution_count": 34,
   "metadata": {},
   "outputs": [
    {
     "name": "stdout",
     "output_type": "stream",
     "text": [
      "영어영문\n"
     ]
    }
   ],
   "source": [
    "# 사용자 정의 class를 만들때는 class명의 첫글자는 대문자로 작성\n",
    "# python의 모든 class는 object class를 상속하고 있다\n",
    "\n",
    "class Student(object):\n",
    "    # initializer(생성자 - constructor)\n",
    "    # self는 자바의 this와 유사\n",
    "    def __init__(self, name, dept, num, grade):\n",
    "        # 속성을 __init__안에서 명시\n",
    "        self.name = name # 전달된 값으로 name 속성을 설정\n",
    "        self.dept = dept\n",
    "        self.num = num\n",
    "        self.grade = grade\n",
    "        \n",
    "# instance 만들기\n",
    "students = []\n",
    "students.append(Student('홍길동', '철학', '20200111', 3.5)) # 객체 생성\n",
    "students.append(Student('김길동', '영어영문', '20200112', 4.5))\n",
    "\n",
    "# 두번째 객체인 김길동의 학과 출력\n",
    "print(students[1].dept)\n",
    "\n",
    "class MyClass(Student):\n",
    "    pass"
   ]
  },
  {
   "cell_type": "markdown",
   "metadata": {},
   "source": [
    "- class안에는 변수와 함수\n",
    "- Java에서는 class안의 변수를 field(필드), 함수를 method(메서드)\n",
    "- C++에서는 class안의 변수를 멤버 변수, 함수를 멤버 함수\n",
    "- python에서는 class안의 변수를 property(속성), 함수를 method(메서드)"
   ]
  },
  {
   "cell_type": "code",
   "execution_count": 33,
   "metadata": {},
   "outputs": [
    {
     "name": "stdout",
     "output_type": "stream",
     "text": [
      "<class 'list'>\n"
     ]
    }
   ],
   "source": [
    "# list class의 instance를 생성하는 코드\n",
    "my_list = list()\n",
    "# type()은 인스턴스가 어떤 class로 부터 파생되었는지 출력\n",
    "print(type(my_list))"
   ]
  },
  {
   "cell_type": "code",
   "execution_count": 38,
   "metadata": {},
   "outputs": [
    {
     "name": "stdout",
     "output_type": "stream",
     "text": [
      "이름 : 강감찬, 학과 : 경영학과\n"
     ]
    }
   ],
   "source": [
    "# 메서드 만들기\n",
    "class Student(object):\n",
    "    # initializer(생성자 - constructor)\n",
    "    # self는 자바의 this와 유사\n",
    "    def __init__(self, name, dept, num, grade):\n",
    "        # 속성을 __init__안에서 명시\n",
    "        self.name = name # 전달된 값으로 name 속성을 설정\n",
    "        self.dept = dept\n",
    "        self.num = num\n",
    "        self.grade = grade\n",
    "    \n",
    "    # 객체가 가지고 있는 학생의 정보를 문자열로 리턴하는 함수\n",
    "    def get_stu_info(self):\n",
    "        #return '이름 : {}, 학과 : {}'.format(name, dept) - 이러면 문제발생 self 필요\n",
    "        return '이름 : {}, 학과 : {}'.format(self.name, self.dept)\n",
    "    \n",
    "stu1 = Student('강감찬', '경영학과', '20200113', 3.4)\n",
    "print(stu1.get_stu_info())"
   ]
  }
 ],
 "metadata": {
  "kernelspec": {
   "display_name": "Python [conda env:data_env] *",
   "language": "python",
   "name": "conda-env-data_env-py"
  },
  "language_info": {
   "codemirror_mode": {
    "name": "ipython",
    "version": 3
   },
   "file_extension": ".py",
   "mimetype": "text/x-python",
   "name": "python",
   "nbconvert_exporter": "python",
   "pygments_lexer": "ipython3",
   "version": "3.7.9"
  }
 },
 "nbformat": 4,
 "nbformat_minor": 4
}
