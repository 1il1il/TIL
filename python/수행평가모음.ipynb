{
 "cells": [
  {
   "cell_type": "markdown",
   "metadata": {},
   "source": [
    "# 수행평가\n",
    "[문제 링크](https://moon9342.github.io/python-lecture-python-program-exercise-1)\n",
    "- update at 2021.01.15"
   ]
  },
  {
   "cell_type": "markdown",
   "metadata": {},
   "source": [
    "## 문제 1.\n",
    "\n",
    "- 10보다 작은 자연수 중에서 3 또는 5의 배수는 3,5,6,9가 존재해요! \n",
    "- 이것들의 합은 23입니다.\n",
    "- 1000보다 작은 자연수 중에서 3 또는 5의 배수들을 구해서 모두 합하면 얼마인가요?\n",
    "\n",
    "정답 : 233168"
   ]
  },
  {
   "cell_type": "code",
   "execution_count": 1,
   "metadata": {},
   "outputs": [
    {
     "data": {
      "text/plain": [
       "233168"
      ]
     },
     "execution_count": 1,
     "metadata": {},
     "output_type": "execute_result"
    }
   ],
   "source": [
    "result = set()\n",
    "for i in range(1000):\n",
    "    if i % 3 == 0:\n",
    "        result.add(i)\n",
    "    elif i % 5 == 0:\n",
    "        result.add(i)\n",
    "\n",
    "sum(result)"
   ]
  },
  {
   "cell_type": "markdown",
   "metadata": {},
   "source": [
    "\n",
    "## 문제 2.\n",
    "- 피보나치 수열의 각 항은 바로 앞의 항 두 개를 더한 것이 됩니다. \n",
    "- 1과 2로 시작하는 경우 이 수열은 아래와 같습니다.\n",
    "\n",
    "- 1, 2, 3, 5, 8, 13, 21, 34, 55, 89, ...\n",
    "- 짝수이면서 4백만 이하인 모든 항을 더하면 얼마가 됩니까?\n",
    "\n",
    "정답 : 4613732"
   ]
  },
  {
   "cell_type": "code",
   "execution_count": 3,
   "metadata": {},
   "outputs": [
    {
     "data": {
      "text/plain": [
       "4613732"
      ]
     },
     "execution_count": 3,
     "metadata": {},
     "output_type": "execute_result"
    }
   ],
   "source": [
    "idx_f = 1\n",
    "idx_s = 2\n",
    "total_array = {1, 2}\n",
    "\n",
    "while idx_s < 4.0E6:  \n",
    "    tmp = idx_f\n",
    "    idx_f = idx_s\n",
    "    idx_s = tmp + idx_s\n",
    "    total_array.add(idx_s)\n",
    "\n",
    "sum([a for a in total_array if a % 2 == 0 ])"
   ]
  },
  {
   "cell_type": "code",
   "execution_count": 5,
   "metadata": {},
   "outputs": [
    {
     "data": {
      "text/plain": [
       "4613732"
      ]
     },
     "execution_count": 5,
     "metadata": {},
     "output_type": "execute_result"
    }
   ],
   "source": [
    "# 리스트를 이용하는 방법\n",
    "pivo = [1, 2]\n",
    "while pivo[-1] < 4.0E6:  \n",
    "    pivo.append(pivo[-1] + pivo[-2])\n",
    "\n",
    "sum([a for a in pivo if a % 2 == 0 ])"
   ]
  },
  {
   "cell_type": "markdown",
   "metadata": {},
   "source": [
    "## 문제 3.\n",
    "- 알파벳 대소문자로 된 문자열이 주어지면, 이 문자열에서 가장 많이 사용된 알파벳dl 무엇인지 출력하는 프로그램을 작성하시오. \n",
    "- 단, 대소문자는 구별하지 않아요. 만약 동률이 존재하는 경우 알파벳 순으로 제일 앞에 있는 문자를 출력하세요.\n",
    "\n",
    "    1. 문자열) \"This is a sample Program mississippi river\"\n",
    "    2. 문자열) \"abcdabcdababccddcd\"\n",
    "\n",
    "정답 :  \"This is a sample Program mississippi river\" => I\n",
    "\n",
    "정답 :  \"abcdabcdababccddcd\" => C"
   ]
  },
  {
   "cell_type": "code",
   "execution_count": 8,
   "metadata": {},
   "outputs": [
    {
     "name": "stdout",
     "output_type": "stream",
     "text": [
      "I\n",
      "C\n"
     ]
    }
   ],
   "source": [
    "def findChar(str):\n",
    "    result = {}\n",
    "    for n in set(str):\n",
    "        result[n] = str.count(n)\n",
    "    \n",
    "    mx = 0\n",
    "    mx_char = ''\n",
    "    for b in result.keys():\n",
    "        if mx < result[b]:\n",
    "            mx = result[b]\n",
    "            mx_char = b\n",
    "        elif mx == result[b]:\n",
    "            if mx_char < b:\n",
    "                pass\n",
    "            else:\n",
    "                mx_char = b\n",
    "        else:\n",
    "            pass\n",
    "        \n",
    "    print(mx_char.upper())\n",
    "    \n",
    "str1 = 'This is a sample Program mississippi river'\n",
    "str1 = str1.replace(' ','')\n",
    "findChar(str1)\n",
    "\n",
    "str2 = 'abcdabcdababccddcd'\n",
    "findChar(str2)"
   ]
  },
  {
   "cell_type": "markdown",
   "metadata": {},
   "source": [
    "## 문제 4.\n",
    "-  로또 프로그램 작성 \n",
    "- 5000원으로 로또복권을 5장 자동으로 구매합니다. \n",
    "- 이번 주 로또 당첨번호를 생성하여 로또 당첨을 확인하세요!\n",
    "- 쉬운버전으로 먼저 작성합니다.  \n",
    "- 6숫자가 다 맞으면 1등, 5개 맞으면 2등으로 처리합니다.\n",
    "- 즉, 쉬운버전은 보너스 숫자는 없는 것으로 간주합니다.\n",
    "- 쉬운버전을 해결했다면 보너스 숫자를 이용하여 로또 당첨을 확인합니다.\n",
    "- 보너스 숫자를 제외한 모든 숫자가 다 맞으면 1등, 보너스 숫자를 포함하여 6개의 숫자가 맞으면 2등, 보너스를 제외하고 5개의 숫자가 맞으면 3등으로 처리합니다.\n",
    "\n",
    "- 쉬운버전의 출력은 1등 몇개, 2등 몇개, 3등 몇개, 4등 몇개, 꽝 몇개로 출력\n",
    "- 어려운버전의 출력은 1등 몇개, 2등 몇개, 3등 몇개, 4등 몇개, 5등 몇개, 꽝 몇개로 출력\n",
    "---\n",
    "\n",
    "- 랜덤값을 도출하기 위해서는 다음의 코드를 이용한다.\n",
    "\n",
    "import random\n",
    "\n",
    "- i = random.randint(1, 100)  # 1부터 100 사이의 임의의 정수 \n",
    "- f = random.random()   # 0부터 1 사이의 임의의 float\n",
    "- i = random.randrange(1, 101, 2) # 1부터 100 사이의 임의의 짝수\n",
    "- i = random.randrange(10)  # 0부터 9 사이의 임의의 정수\n",
    "---\n",
    "\n",
    "- 추가문제\n",
    "- 1등에 당첨될려면 평균적으로 얼마만큼의 돈을 투자해야 할까요?\n",
    "- 로또 1게임은 1000원입니다."
   ]
  },
  {
   "cell_type": "code",
   "execution_count": 120,
   "metadata": {},
   "outputs": [],
   "source": [
    "# num개의 랜덤 숫자 뽑는 함수\n",
    "def getNum(num):\n",
    "    import random\n",
    "\n",
    "    numList = []\n",
    "    n = 0\n",
    "    while n < num:\n",
    "        i = random.randint(1, 46)\n",
    "        if i not in numList:\n",
    "            numList.append(i)\n",
    "            n += 1\n",
    "        else:\n",
    "            pass\n",
    "    \n",
    "    return numList\n",
    "\n",
    "# if문 밖에 있던 n += 1을 if문 안으로 넣음(2021.01.15)\n",
    "# 이래야 문제가 생기지 않음"
   ]
  },
  {
   "cell_type": "code",
   "execution_count": 5,
   "metadata": {},
   "outputs": [
    {
     "name": "stdout",
     "output_type": "stream",
     "text": [
      "내 복권 1 [30, 36, 28, 41, 10, 16]\n",
      "내 복권 2 [34, 15, 39, 1, 40, 19]\n",
      "내 복권 3 [9, 10, 25, 19, 31, 45]\n",
      "내 복권 4 [14, 23, 6, 18, 24]\n",
      "내 복권 5 [6, 15, 28, 3, 37, 34]\n",
      "당첨 복권 [11, 45, 46, 27, 10]\n",
      "1등 : 0회, 2등 : 0회, 3등 : 0회, 4등 : 0회, 꽝 : 5회\n"
     ]
    }
   ],
   "source": [
    "# 쉬운 버전\n",
    "def printResult_e(num):\n",
    "    winningList = getNum(num)\n",
    "    result = []\n",
    "    \n",
    "    for i in range(5):\n",
    "        temp = getNum(num)\n",
    "        print(f'내 복권 {i+1}', temp)\n",
    "        count = 0\n",
    "        for a in temp:\n",
    "            if a in winningList:\n",
    "                count += 1\n",
    "            \n",
    "        result.append(count)\n",
    "\n",
    "    print('당첨 복권', winningList)\n",
    "    print('1등 : {}회, 2등 : {}회, 3등 : {}회, 4등 : {}회, 꽝 : {}회'.format(result.count(6),result.count(5),result.count(4),result.count(3),result.count(2)+result.count(1)+result.count(0)))\n",
    "    \n",
    "printResult_e(6)"
   ]
  },
  {
   "cell_type": "code",
   "execution_count": 119,
   "metadata": {},
   "outputs": [
    {
     "name": "stdout",
     "output_type": "stream",
     "text": [
      "내 복권 1 [10, 30, 15, 1, 40, 19]\n",
      "내 복권 2 [28, 24, 27, 4, 8, 22]\n",
      "내 복권 3 [21, 5, 22, 8, 9, 1]\n",
      "내 복권 4 [37, 33, 20, 36, 41, 38]\n",
      "내 복권 5 [38, 24, 1, 42, 13, 18]\n",
      "당첨 복권 [22, 16, 42, 20, 25, 41, 29]\n",
      "1등 : 0회, 2등 : 0회, 3등 : 0회, 4등 : 0회, 5등 : 0, 꽝 : 5회\n"
     ]
    }
   ],
   "source": [
    "# 어려운 버전\n",
    "def printResult_h(num):\n",
    "    winningList = getNum(num)\n",
    "    bouns = winningList[-1]\n",
    "    result = []\n",
    "    \n",
    "    for i in range(5):\n",
    "        temp = getNum(num-1)\n",
    "        print(f'내 복권 {i+1}', temp)\n",
    "        count = 0\n",
    "        for a in temp:\n",
    "            if a in winningList:\n",
    "                count += 1\n",
    "        if (count == 5) & (bouns in temp):\n",
    "            result.append(count ** 2)\n",
    "        else:\n",
    "            result.append(count)\n",
    "    \n",
    "    print('당첨 복권', winningList)\n",
    "    print('1등 : {}회, 2등 : {}회, 3등 : {}회, 4등 : {}회, 5등 : {}, 꽝 : {}회'.format(result.count(6),result.count(25),result.count(5),result.count(4),result.count(3),result.count(2)+result.count(1)+result.count(0)))\n",
    "\n",
    "printResult_h(7)"
   ]
  },
  {
   "cell_type": "markdown",
   "metadata": {},
   "source": [
    "## 문제 5.\n",
    "- 어떤 수를 소수의 곱으로만 나타내는 것을 소인수분해라 하고, 이 소수들을 그 수의 소인수라고 합니다.\n",
    "- 예를 들면 13195의 소인수는 5, 7, 13, 29 입니다.\n",
    "\n",
    "- 600851475143의 소인수 중에서 가장 큰 수를 구하세요.\n",
    "\n",
    "정답 : 6857 "
   ]
  },
  {
   "cell_type": "markdown",
   "metadata": {},
   "source": [
    "- 참고자료 [에라토스테네스의 체](https://en.wikipedia.org/wiki/Sieve_of_Eratosthenes)"
   ]
  },
  {
   "cell_type": "code",
   "execution_count": null,
   "metadata": {},
   "outputs": [],
   "source": [
    "prime = []\n",
    "\n",
    "# 2부터 자기자신까지의 리스트 생성\n",
    "target = 100\n",
    "data = [i+2 for i in range(target-1)]\n",
    "\n",
    "# 소수찾기 ver 1\n",
    "# 이건 2부터 타겟까지 수중 소수를 찾는 방법\n",
    "while len(data) > 0 :\n",
    "    prime.append(data[0])\n",
    "    for a in range(len(data)):\n",
    "        if data[a] % data[0] == 0:\n",
    "            data[a] = data[0]\n",
    "    data = set(data)\n",
    "    data = list(data)\n",
    "    data.sort()\n",
    "    del data[0]\n",
    "    \n",
    "print(prime)"
   ]
  },
  {
   "cell_type": "markdown",
   "metadata": {},
   "source": [
    "- 일단 이거 너무 불필요한 작업이 많음\n",
    "- 타겟 넘버 잡고 그거 나누면서 진행해야 할거 같음\n",
    "- 근데 나누는 수가 소수여야 해서 소수를 찾아야 하긴함\n",
    "- 그럼 반복문이 돌아가면서 안에서 소수도 찾고 나눗셈도 같이 해야함 \n"
   ]
  },
  {
   "cell_type": "code",
   "execution_count": null,
   "metadata": {},
   "outputs": [],
   "source": [
    "# 소수 찾기 ver2\n",
    "# 안됨\n",
    "prime = []\n",
    "data = {2,3,4,5,6,7,8,9,10,11,12,13}\n",
    "\n",
    "while len(data) > 0 :\n",
    "    prime.append(data[0])\n",
    "    tmp_set = set()\n",
    "    for a in range(len(data)):\n",
    "        if data[a] % data[0] == 0:\n",
    "            tmp_set.add(data[a])\n",
    "    data = data - tmp_set\n",
    "    \n",
    "print(prime)\n",
    "\n",
    "# set은 인덱싱 못함"
   ]
  },
  {
   "cell_type": "markdown",
   "metadata": {},
   "source": [
    "- 새로운 소수 찾기 알고리즘 조건\n",
    "1. 리스트를 탐색하지 말것\n",
    "    - 리스트 이용시 리스트 탐색시간이 점점 늘어남\n",
    "    "
   ]
  },
  {
   "cell_type": "code",
   "execution_count": 7,
   "metadata": {},
   "outputs": [
    {
     "name": "stdout",
     "output_type": "stream",
     "text": [
      "6857\n"
     ]
    }
   ],
   "source": [
    "n = 2\n",
    "target = 600851475143\n",
    "prime = []\n",
    "\n",
    "while target > 1:\n",
    "    while True:\n",
    "        if target % n == 0:\n",
    "            target = target/n\n",
    "            prime.append(n)\n",
    "        else:\n",
    "            break\n",
    "    n += 1\n",
    "print(prime[-1])\n",
    "\n",
    "# 문제 소수의 배수를 거르지 못함\n",
    "#(21.01.14)\n",
    "# prime list에 append()하는 위치가 잘못된듯\n",
    "# 나눠지면 바로 더하면됨\n",
    "# 사실 2같은 경우 2,4,8 같이 비슷한 경우가 많아서 while 다 돌고 하나만 넣어야지라고 생각했는데 \n",
    "# while 밖에 하면 2부터 끝날때까지 모든 n을 다 저장하게 됨 \n",
    "# 이걸 거를려면 또 append()할때 길어짐\n",
    "# 하지만 이 코드는 2^3 같은 소인수를 가지고 있는 경우 결과 리스트에 2가 3번 등장함. \n",
    "# 가장 큰 소수를 찾을려면 제일 뒤에 값만 가져오면 되는데\n",
    "# 소인수 전체를 요구하면 set으로 바꾸거나 다른 조치를 취해야함"
   ]
  },
  {
   "cell_type": "markdown",
   "metadata": {},
   "source": [
    "## 문제 6.\n",
    "- 앞에서부터 읽을 때나 뒤에서부터 읽을 때나 모양이 같은 수를 대칭수(palindrome)라고 부릅니다.\n",
    "\n",
    "- 두 자리 수를 곱해 만들 수 있는 대칭수 중 가장 큰 수는 9009 (= 91 × 99) 입니다.\n",
    "\n",
    "- 세 자리 수를 곱해 만들 수 있는 가장 큰 대칭수를 구하세요\n",
    "\n",
    "정답 : 906609"
   ]
  },
  {
   "cell_type": "code",
   "execution_count": null,
   "metadata": {},
   "outputs": [],
   "source": [
    "palindrome = []\n",
    "\n",
    "for i in range(100, 1000):\n",
    "    for j in range(100, 1000):\n",
    "        resultList = []\n",
    "        temp = str(i * j)\n",
    "        # /2로 반복 횟수 절반으로 줄이기 (21.01.10)\n",
    "        for k in range(int(len(temp)/2)):\n",
    "            resultList.append(temp[k] == temp[-(k+1)])\n",
    "            \n",
    "        if False not in resultList:\n",
    "            palindrome.append(int(temp))\n",
    "\n",
    "palindrome.sort()           \n",
    "print(palindrome[-1])"
   ]
  },
  {
   "cell_type": "markdown",
   "metadata": {},
   "source": [
    "- 이 문제는 이중 반복문을 줄여야 실행시간이 단축되는데 어떻게 해야할지 고민좀 해야 할거 같음\n",
    "- 필요한게 콤비네이션이라 찾던중 파이선 기본 라이브러리 itertools를 찾음 [링크](https://ourcstory.tistory.com/414) (21.01.14)\n"
   ]
  },
  {
   "cell_type": "code",
   "execution_count": 8,
   "metadata": {},
   "outputs": [
    {
     "name": "stdout",
     "output_type": "stream",
     "text": [
      "906609\n"
     ]
    }
   ],
   "source": [
    "# itertools를 이용한 콤비네이션\n",
    "from itertools import combinations\n",
    "\n",
    "palindrome = []\n",
    "num_list = combinations(range(100, 1000), 2)\n",
    "\n",
    "for i, j  in num_list:\n",
    "    resultList = []\n",
    "    temp = str(i * j)\n",
    "    for k in range(int(len(temp)/2)):\n",
    "        resultList.append(temp[k] == temp[-(k+1)])\n",
    "\n",
    "    if False not in resultList:\n",
    "        palindrome.append(int(temp))\n",
    "\n",
    "palindrome.sort()           \n",
    "print(palindrome[-1])\n",
    "\n",
    "# 속도가 빨라진거 같음"
   ]
  },
  {
   "cell_type": "markdown",
   "metadata": {},
   "source": [
    "## 문제 7.\n",
    "- 1 ~ 10 사이의 어떤 수로도 나누어 떨어지는 가장 작은 수는 2520입니다.\n",
    "   \n",
    "- 그러면 1 ~ 20 사이의 어떤 수로도 나누어 떨어지는 가장 작은 수는 얼마입니까?\n",
    "\n",
    "정답 : 232792560"
   ]
  },
  {
   "cell_type": "code",
   "execution_count": null,
   "metadata": {},
   "outputs": [],
   "source": [
    "# 각 소수의 거듭제곱중 10 아래에 있는 가장 큰 거듭제곱을 찾기\n",
    "print(2*2*2*3*3*5*7)"
   ]
  },
  {
   "cell_type": "code",
   "execution_count": 9,
   "metadata": {},
   "outputs": [
    {
     "name": "stdout",
     "output_type": "stream",
     "text": [
      "[2, 3, 5, 7, 11, 13, 17, 19]\n"
     ]
    }
   ],
   "source": [
    "# 1~20 사이 소수 찾기\n",
    "prime = []\n",
    "data = range(2, 21)\n",
    "data = list(data)\n",
    "\n",
    "while len(data) > 0 :\n",
    "    prime.append(data[0])\n",
    "    for a in range(len(data)):\n",
    "        if data[a] % data[0] == 0:\n",
    "            data[a] = data[0]\n",
    "    data = set(data)\n",
    "    data = list(data)\n",
    "    data.sort()\n",
    "    del data[0]\n",
    "    \n",
    "print(prime)"
   ]
  },
  {
   "cell_type": "code",
   "execution_count": 10,
   "metadata": {},
   "outputs": [
    {
     "name": "stdout",
     "output_type": "stream",
     "text": [
      "232792560\n"
     ]
    }
   ],
   "source": [
    "# 소수의 거듭제곱중 20보다 작은것 찾아 곱하기\n",
    "# result에 소수의 거듭제곱을 곱하여 정답 도출\n",
    "result = 1\n",
    "\n",
    "for a in prime:\n",
    "    tmp = a\n",
    "    n = 2\n",
    "    while True:\n",
    "        if a**n > 20:\n",
    "            break\n",
    "        else:\n",
    "            tmp = a**n\n",
    "            n += 1\n",
    "    result *= tmp\n",
    "\n",
    "print(result)"
   ]
  },
  {
   "cell_type": "markdown",
   "metadata": {},
   "source": [
    "## 문제 8.\n",
    "- 1부터 10까지 자연수를 각각 제곱해 더하면 다음과 같습니다 (제곱의 합).\n",
    "- 1^2 + 2^2 + ... + 10^2 = 385\n",
    "\n",
    "- 1부터 10을 먼저 더한 다음에 그 결과를 제곱하면 다음과 같습니다 (합의 제곱).\n",
    "- (1 + 2 + ... + 10)^2 = 552 = 3025\n",
    "\n",
    "- 따라서 1부터 10까지 자연수에 대해 \"합의 제곱\"과 \"제곱의 합\"의 차이는 3025 - 385 = 2640 이 됩니다.\n",
    "\n",
    "- 그러면 1부터 100까지 자연수에 대해 \"합의 제곱\"과 \"제곱의 합\"의 차이는 얼마입니까?\n",
    "\n",
    "정답 : 25164150"
   ]
  },
  {
   "cell_type": "code",
   "execution_count": 11,
   "metadata": {},
   "outputs": [
    {
     "name": "stdout",
     "output_type": "stream",
     "text": [
      "25164150\n"
     ]
    }
   ],
   "source": [
    "sumofsquare = 0\n",
    "squaredsum = 0\n",
    "for i in range(1,101):\n",
    "    sumofsquare += i**2\n",
    "    squaredsum += i\n",
    "\n",
    "print((squaredsum**2) - sumofsquare)"
   ]
  },
  {
   "cell_type": "markdown",
   "metadata": {},
   "source": [
    "## 문제 9.\n",
    "- 소수를 크기 순으로 나열하면 2, 3, 5, 7, 11, 13, ... 과 같이 됩니다.\n",
    "\n",
    "- 이 때 10,001번째의 소수를 구하세요.\n",
    "\n",
    "정답 : 104743"
   ]
  },
  {
   "cell_type": "code",
   "execution_count": null,
   "metadata": {},
   "outputs": [],
   "source": [
    "prime = [2]\n",
    "tmp_num = 2\n",
    "while len(prime) < 10001:\n",
    "    tmp_list = []\n",
    "    for a in prime:\n",
    "        if (tmp_num + 1) % a == 0:\n",
    "            tmp_list.append(False)\n",
    "        else:\n",
    "            pass\n",
    "    if False not in tmp_list:\n",
    "        prime.append(tmp_num + 1)\n",
    "        tmp_num += 1\n",
    "    else:\n",
    "        tmp_num += 1\n",
    "\n",
    "        \n",
    "print(prime[-1])"
   ]
  },
  {
   "cell_type": "markdown",
   "metadata": {},
   "source": [
    "- 일단 요구하는 기능은 구현하였는데 문제는 시간이 오래 걸림 1000번까진 1초안에 나오는데 10000번을 하면 시간이 기하급수적으로 늘어남\n",
    "- 그래서 반복문을 손볼 필요가 있음(for문이 소수 리스트를 전부 탐색해서 소수 리스트가 길어질 수록 시간이 오래걸림)"
   ]
  },
  {
   "cell_type": "code",
   "execution_count": 12,
   "metadata": {},
   "outputs": [
    {
     "name": "stdout",
     "output_type": "stream",
     "text": [
      "104743\n"
     ]
    }
   ],
   "source": [
    "prime = [2]\n",
    "tmp_num = 2\n",
    "while len(prime) < 10001:\n",
    "    check_num = 0\n",
    "    for a in prime:\n",
    "        if (tmp_num + 1) % a == 0:\n",
    "            # 여기있던 리스트를 지우고 else로 빠진 횟수만 계산하여 계산량 감소(21.01.14)\n",
    "            break\n",
    "        else:\n",
    "            check_num += 1\n",
    "    if check_num == len(prime):\n",
    "        prime.append(tmp_num + 1)\n",
    "        tmp_num += 1\n",
    "    else:\n",
    "        tmp_num += 1\n",
    "\n",
    "print(prime[-1])"
   ]
  },
  {
   "cell_type": "markdown",
   "metadata": {},
   "source": [
    "## 문제 10.\n",
    "- 세 자연수 a, b, c 가 피타고라스 정리 a^2 + b^2 = c^2 를 만족하면 피타고라스 수라고 부릅니다 (여기서 a < b < c ).\n",
    "- 예를 들면 3^2 + 4^2 = 9 + 16 = 25 = 5^2이므로 3, 4, 5는 피타고라스 수입니다.\n",
    "\n",
    "- a + b + c = 1000 인 피타고라스 수 a, b, c는 한 가지 뿐입니다. \n",
    "- 이 때, a × b × c 는 얼마입니까?\n",
    "\n",
    "정답 : 31875000"
   ]
  },
  {
   "cell_type": "markdown",
   "metadata": {},
   "source": [
    "- 일단 생각나는건 a,b,c는 1-1000사이의 수니까 삼중 for문으로 1-1000까지 모든 경우의수 따져보는 건데 이러면 너무 시간이 오래 걸림\n",
    "---\n",
    "- 일단 이것도 콤비네이션으로 해봄\n",
    "- 혹시 더 줄일수 있나?"
   ]
  },
  {
   "cell_type": "code",
   "execution_count": 13,
   "metadata": {},
   "outputs": [
    {
     "name": "stdout",
     "output_type": "stream",
     "text": [
      "31875000\n"
     ]
    }
   ],
   "source": [
    "num_list = combinations(range(1,1000), 3)\n",
    "\n",
    "for i, j, k in num_list:\n",
    "    if i + j + k == 1000:\n",
    "        if i**2 + j**2 == k**2:\n",
    "            print(i*j*k)\n",
    "            break # 유일한 경우이므로 시간 단축을 위해\n",
    "        else:\n",
    "            pass\n",
    "    else:\n",
    "        pass    "
   ]
  },
  {
   "cell_type": "markdown",
   "metadata": {},
   "source": [
    "# 수행평가 문제 2\n",
    "- 데이터 처리 문제 [링크](https://moon9342.github.io/python-lecture-python-oop-exercise)\n",
    "\n",
    "1. displ(배기량)이 4 이하인 자동차와 5 이상인 자동차 중 어떤 자동차의 hwy(고속도로 연비)가 평균적으로 더 높은지 확인하세요.\n",
    "\n",
    "2. 자동차 제조 회사에 따라 도시 연비가 다른지 알아보려고 한다. \"audi\"와 \"toyota\" 중 어느 manufacturer(제조회사)의 cty(도시 연비)가 평균적으로 더 높은지 확인하세요.\n",
    "\n",
    "3. \"chevrolet\", \"ford\", \"honda\" 자동차의 고속도로 연비 평균을 알아보려고 한다. 이 회사들의 데이터를 추출한 후 hwy(고속도로 연비) 평균을 구하세요.\n",
    "\n",
    "4. \"audi\"에서 생산한 자동차 중에 어떤 자동차 모델의 hwy(고속도로 연비)가 높은지 알아보려고 한다. \"audi\"에서 생산한 자동차 중 hwy가 1~5위에 해당하는 자동차의 데이터를 출력하세요.\n",
    "\n",
    "5. mpg 데이터는 연비를 나타내는 변수가 2개입니다. 두 변수를 각각 활용하는 대신 하나의 통합 연비 변수를 만들어 사용하려 합니다. 평균 연비 변수는 두 연비(고속도로와 도시)의 평균을 이용합니다. 회사별로 \"suv\" 자동차의 평균 연비를 구한후 내림차순으로 정렬한 후 1~5위까지 데이터를 출력하세요.\n",
    "\n",
    "6. mpg 데이터의 class는 \"suv\", \"compact\" 등 자동차의 특징에 따라 일곱 종류로 분류한 변수입니다. 어떤 차종의 도시 연비가 높은지 비교하려 합니다. class별 cty 평균을 구하고 cty 평균이 높은 순으로 정렬해 출력하세요.\n",
    "\n",
    "7. 어떤 회사 자동차의 hwy(고속도로 연비)가 가장 높은지 알아보려 합니다. hwy(고속도로 연비) 평균이 가장 높은 회사 세 곳을 출력하세요.\n",
    "\n",
    "8. 어떤 회사에서 \"compact\" 차종을 가장 많이 생산하는지 알아보려고 합니다. 각 회사별 \"compact\" 차종 수를 내림차순으로 정렬해 출력하세요.\n",
    "---\n",
    "\n",
    "## 문제 분석\n",
    "1. 자동차에 대한 정보(manufacturer,model,displ,year,cyl,trans,drv,cty,hwy,fl,class) \n",
    "    - 11개의 property로 설정\n",
    "2. 조건부 비교(A인 조건에서 B를 확인하기)가 많다\n",
    "3. 각 객체에 대한 임의의 property에 접근할 수 있어야 함\n",
    "3. 특정 property에 대한 평균을 구할 수 있어야 한다\n",
    "\n",
    "---\n",
    "## 분석 결과\n",
    "1. 우선 11가지 property를 지닌 클래스 생성\n",
    "2. 다양한 property을 한번에 출력할 수 있는 method 구상\n",
    "    - 하나의 method로 모든 property를 전달하기\n",
    "        1. 일단 property를 dict로 만들어 전달해보기\n",
    "3. 평균을 어떻게 구할까?\n",
    "    - method로 property 받아서 평균구하기?(일단 이걸로)\n",
    "    - 아니면 자체적으로 평균 구하는 method 구현?"
   ]
  },
  {
   "cell_type": "code",
   "execution_count": 14,
   "metadata": {},
   "outputs": [],
   "source": [
    "class Car(object):\n",
    "    def __init__(self,manu,model,displ,year,cyl,trans,drv,cty,hwy,fl,cls):\n",
    "        self.manufacturer = manu\n",
    "        self.model = model\n",
    "        self.displ = displ\n",
    "        self.year = year\n",
    "        self.cyl = cyl\n",
    "        self.trans = trans\n",
    "        self.drv = drv\n",
    "        self.cty = cty\n",
    "        self.hwy = hwy\n",
    "        self.fl = fl\n",
    "        self.cls = cls\n",
    "        \n",
    "    # 객체의 속성을 속성의 이름을 키값으로 갖는 딕셔너리로 만들어 리턴\n",
    "    def get_info(self):\n",
    "        result = {'manufacturer': self.manufacturer,\n",
    "                  'model': self.model,\n",
    "                  'displ': self.displ,\n",
    "                  'year': self.year,\n",
    "                  'cyl': self.cyl,\n",
    "                  'trans': self.trans,\n",
    "                  'drv': self.drv,\n",
    "                  'cty': self.cty,\n",
    "                  'hwy': self.hwy,\n",
    "                  'fl': self.fl,\n",
    "                  'class': self.cls\n",
    "                 }\n",
    "        return result\n",
    "    \n",
    "    def get_manu(self):\n",
    "        return self.manufacturer\n",
    "    \n",
    "    \n",
    "    \n",
    "# car 인스턴스가 담긴 리스트와 평균을 구하고자 하는 속성을 인자로 받아 평균을 리턴하는 함수\n",
    "def get_mean(car_list, target):\n",
    "    result = []\n",
    "    for car in car_list:\n",
    "        result.append(car.get_info()['{}'.format(target)])\n",
    "    if len(result) == 0:\n",
    "        mean = 0\n",
    "    else:\n",
    "        mean = sum(result)/len(result)\n",
    "    return mean\n",
    "\n",
    "# 특정조건(크다, 작다, 동일하다)에 대한 리스트 출력하기\n",
    "# 이를 위해 특정 조건별 함수 작성하고 이 함수를 또 다른 함수인\n",
    "# get_list()에서 호출\n",
    "\n",
    "def get_list(n, car_list, target, standard):\n",
    "    reuslt = []\n",
    "    if n == 0:\n",
    "        reuslt = larger_than(car_list, target, standard)\n",
    "    elif n == 1:\n",
    "        reuslt = smaller_than(car_list, target, standard)\n",
    "    elif n == 2:\n",
    "        reuslt = euql(car_list, target, standard)\n",
    "    else:\n",
    "        pass\n",
    "    \n",
    "    return reuslt\n",
    "\n",
    "\n",
    "def larger_than(car_list, target, standard):\n",
    "    result = []\n",
    "    for car in car_list:\n",
    "        if car.get_info()[target] >= standard:\n",
    "            result.append(car)\n",
    "            \n",
    "    return result\n",
    "    \n",
    "    \n",
    "def smaller_than(car_list, target, standard):\n",
    "    result = []\n",
    "    for car in car_list:\n",
    "        if car.get_info()[target] <= standard:\n",
    "            result.append(car)\n",
    "\n",
    "    return result\n",
    "\n",
    "\n",
    "def euql(car_list, target, standard):\n",
    "    result = []\n",
    "    for car in car_list:\n",
    "        if car.get_info()[target] == standard:\n",
    "            result.append(car)\n",
    "\n",
    "    return result"
   ]
  },
  {
   "cell_type": "code",
   "execution_count": 15,
   "metadata": {},
   "outputs": [],
   "source": [
    "# 파일 경로, 수행할 작업(r : 읽기)\n",
    "my_file = open('mpg.txt', 'r')\n",
    "# header 버리기\n",
    "my_file.readline()\n",
    "\n",
    "car_list = []\n",
    "# 파일안의 모든 내용(line)을 화면에 출력하기\n",
    "while True:\n",
    "    line = my_file.readline().splitlines()\n",
    "    if not line:\n",
    "        break\n",
    "    else:\n",
    "        tmp_list = line[0].split(',')\n",
    "        # 숫자인 속성값은 실수로 미리 형변환하여 추가(21.01.09)\n",
    "        car_list.append(Car(tmp_list[0],tmp_list[1],float(tmp_list[2]),float(tmp_list[3]),float(tmp_list[4]),\n",
    "                            tmp_list[5],tmp_list[6],float(tmp_list[7]),float(tmp_list[8]),tmp_list[9],tmp_list[10]))\n",
    "\n",
    "# 사용한 리소스는 적절하게 해제처리를 진행\n",
    "my_file.close()"
   ]
  },
  {
   "cell_type": "markdown",
   "metadata": {},
   "source": [
    "## 1. displ(배기량)이 4 이하인 자동차와 5 이상인 자동차 중 어떤 자동차의 hwy(고속도로 연비)가 평균적으로 더 높은지 확인하세요."
   ]
  },
  {
   "cell_type": "code",
   "execution_count": null,
   "metadata": {},
   "outputs": [],
   "source": [
    "# 예전 코드\n",
    "# 배기량이 4이하, 5이상인 자동차 찾기\n",
    "lower_4 = []\n",
    "upper_5 = []\n",
    "for car in car_list:\n",
    "    if  car.get_info()['displ'] <= 4:\n",
    "        lower_4.append(car)\n",
    "    elif car.get_info()['displ'] >= 5:\n",
    "        upper_5.append(car)\n",
    "    else:\n",
    "        pass"
   ]
  },
  {
   "cell_type": "code",
   "execution_count": null,
   "metadata": {},
   "outputs": [],
   "source": [
    "# 평균 구하는 함수를 이용한 코드 (21.01.09)\n",
    "\n",
    "print('배기량 4이하 자동차의 고속도로 연비의 평균 : {}'.format(get_mean(lower_4, 'hwy')))\n",
    "print('배기량 5이상 자동차의 고속도로 연비의 평균 : {}'.format(get_mean(upper_5, 'hwy')))\n",
    "\n",
    "# 이게 아래 코드보다 훨씬 짧고 좋은거 같음"
   ]
  },
  {
   "cell_type": "code",
   "execution_count": null,
   "metadata": {},
   "outputs": [],
   "source": [
    "# 이전 버전 평균 구하는 코드\n",
    "result_lower = []\n",
    "for a in lower_4:\n",
    "    result_lower.append(float(a.get_info()['hwy']))\n",
    "    \n",
    "result_upper = []\n",
    "for b in upper_5:\n",
    "    result_upper.append(float(b.get_info()['hwy']))\n",
    "    \n",
    "print('배기량 4이하 자동차의 고속도로 연비의 평균 : {}'.format(sum(result_lower)/len(result_lower)))\n",
    "print('배기량 5이상 자동차의 고속도로 연비의 평균 : {}'.format(sum(result_upper)/len(result_upper)))"
   ]
  },
  {
   "cell_type": "markdown",
   "metadata": {},
   "source": [
    "- 일단 한번 해봤는데 코드가 상당히 길고 리스트를 너무 많이 남발함\n",
    "- 그리고 특정 property에 대한 평균을 구하는 게 많다\n",
    "    - 이걸 클래스의 메소드로 구현해야 할거 같음\n",
    "    - 다시 생각해보니 클래스의 메소드로 만들수 있을까 고민됨\n",
    "    - 일단 따로 함수로 만들어봄\n",
    "    - 21.01.09 / 함수 만든거 클래스 바로 아래로 올림"
   ]
  },
  {
   "cell_type": "code",
   "execution_count": null,
   "metadata": {},
   "outputs": [],
   "source": [
    "# get_list()를 이용한 평균 출력 (21.01.12)\n",
    "print('배기량 4이하 자동차의 고속도로 연비의 평균 : {}'.format(get_mean(get_list(1, car_list, 'displ', 4), 'hwy')))\n",
    "print('배기량 5이상 자동차의 고속도로 연비의 평균 : {}'.format(get_mean(get_list(0, car_list, 'displ', 5), 'hwy')))"
   ]
  },
  {
   "cell_type": "markdown",
   "metadata": {},
   "source": [
    "## 2. 자동차 제조 회사에 따라 도시 연비가 다른지 알아보려고 한다. \"audi\"와 \"toyota\" 중 어느 manufacturer(제조회사)의 cty(도시 연비)가 평균적으로 더 높은지 확인하세요."
   ]
  },
  {
   "cell_type": "code",
   "execution_count": null,
   "metadata": {},
   "outputs": [],
   "source": [
    "# 제조사가 audi, toyota인 자동차 찾기\n",
    "audi = []\n",
    "toyota = []\n",
    "for car in car_list:\n",
    "\n",
    "    if  car.get_info()['manufacturer'] == 'audi':\n",
    "        audi.append(car)\n",
    "    elif  car.get_info()['manufacturer'] == 'toyota':\n",
    "        toyota.append(car)\n",
    "    else:\n",
    "        pass\n",
    "\n",
    "print('audi 자동차의 도시 연비의 평균 : {}'.format(get_mean(audi, 'cty')))\n",
    "print('toyota 자동차의 도시 연비의 평균 : {}'.format(get_mean(toyota, 'cty')))"
   ]
  },
  {
   "cell_type": "markdown",
   "metadata": {},
   "source": [
    "- 문제 풀다보니 특정 조건 찾는 기능도 자주 씀\n",
    "- 이것도 함수로 만들까 했는데 문제는 중간에 형변환\n",
    "- 그럼 애초에 처음 데이터를 받을때부터 형식 지정해서 가져오자(21.01.09)\n",
    "- 그리고 특정 조건 인스턴스 리스트 출력 함수도 제작했는데 이상, 이하와 특정 조건 이 3가지를 한 함수로 구현할 수 있나?"
   ]
  },
  {
   "cell_type": "code",
   "execution_count": 17,
   "metadata": {},
   "outputs": [
    {
     "name": "stdout",
     "output_type": "stream",
     "text": [
      "audi 자동차의 도시 연비의 평균 : 17.61111111111111\n",
      "toyota 자동차의 도시 연비의 평균 : 17.61111111111111\n"
     ]
    }
   ],
   "source": [
    "# get_list()이후의 코드\n",
    "print('audi 자동차의 도시 연비의 평균 : {}'.format(get_mean(get_list(2,car_list,'manufacturer', 'audi'), 'cty')))\n",
    "print('toyota 자동차의 도시 연비의 평균 : {}'.format(get_mean(get_list(2,car_list,'manufacturer', 'audi'), 'cty')))"
   ]
  },
  {
   "cell_type": "markdown",
   "metadata": {},
   "source": [
    "## 3. \"chevrolet\", \"ford\", \"honda\" 자동차의 고속도로 연비 평균을 알아보려고 한다. 이 회사들의 데이터를 추출한 후 hwy(고속도로 연비) 평균을 구하세요."
   ]
  },
  {
   "cell_type": "code",
   "execution_count": 18,
   "metadata": {},
   "outputs": [
    {
     "name": "stdout",
     "output_type": "stream",
     "text": [
      "chevrolet 자동차의 도시 연비의 평균 : 21.894736842105264\n",
      "ford 자동차의 도시 연비의 평균 : 19.36\n",
      "honda 자동차의 도시 연비의 평균 : 32.55555555555556\n"
     ]
    }
   ],
   "source": [
    "print('chevrolet 자동차의 도시 연비의 평균 : {}'.format(get_mean(get_list(2,car_list,'manufacturer', 'chevrolet'), 'hwy')))\n",
    "print('ford 자동차의 도시 연비의 평균 : {}'.format(get_mean(get_list(2,car_list,'manufacturer', 'ford'), 'hwy')))\n",
    "print('honda 자동차의 도시 연비의 평균 : {}'.format(get_mean(get_list(2,car_list,'manufacturer', 'honda'), 'hwy')))"
   ]
  },
  {
   "cell_type": "markdown",
   "metadata": {},
   "source": [
    "## 4. \"audi\"에서 생산한 자동차 중에 어떤 자동차 모델의 hwy(고속도로 연비)가 높은지 알아보려고 한다. \"audi\"에서 생산한 자동차 중 hwy가 1~5위에 해당하는 자동차의 데이터를 출력하세요."
   ]
  },
  {
   "cell_type": "markdown",
   "metadata": {},
   "source": [
    "- sorted() 참고자료 : [링크](https://docs.python.org/ko/3/howto/sorting.html)"
   ]
  },
  {
   "cell_type": "code",
   "execution_count": 19,
   "metadata": {},
   "outputs": [
    {
     "data": {
      "text/plain": [
       "[('a4', 31.0), ('a4', 30.0), ('a4', 29.0), ('a4', 29.0), ('a4 quattro', 28.0)]"
      ]
     },
     "execution_count": 19,
     "metadata": {},
     "output_type": "execute_result"
    }
   ],
   "source": [
    "audi_list = get_list(2,car_list,'manufacturer', 'audi')\n",
    "result = []\n",
    "# 자동차 모델과 해당 자동차의 고속도로 연비를 tuple로 만들어 list에 저장\n",
    "for car in audi_list:\n",
    "    result.append((car.get_info()['model'], car.get_info()['hwy']))\n",
    "    \n",
    "sorted(result, key=lambda result: result[1] , reverse = True)[0:5]"
   ]
  },
  {
   "cell_type": "markdown",
   "metadata": {},
   "source": [
    "## 5. mpg 데이터는 연비를 나타내는 변수가 2개입니다. 두 변수를 각각 활용하는 대신 하나의 통합 연비 변수를 만들어 사용하려 합니다. 평균 연비 변수는 두 연비(고속도로와 도시)의 평균을 이용합니다. 회사별로 \"suv\" 자동차의 평균 연비를 구한후 내림차순으로 정렬한 후 1~5위까지 데이터를 출력하세요."
   ]
  },
  {
   "cell_type": "markdown",
   "metadata": {},
   "source": [
    "- 이거 회사별 리스트 따로 작성해야하나?\n",
    "- 아니면 하나의 리스트 안에 다 때려 넣고 가져오는게 가능한가?\n",
    "- 일단 get_list()로 suv인 자동차의 리스트는 구할 수 있음\n",
    "- suv_list로 get_info를 이용해서 연비 구하는 거 가능\n",
    "- 일단 보류 회사마다 다 따로 코드 작성해야하면 너무 길어지는데"
   ]
  },
  {
   "cell_type": "code",
   "execution_count": 20,
   "metadata": {},
   "outputs": [
    {
     "name": "stdout",
     "output_type": "stream",
     "text": [
      "{'ford', 'dodge', 'chevrolet', 'mercury', 'land rover', 'subaru', 'honda', 'toyota', 'nissan', 'pontiac', 'audi', 'lincoln', 'volkswagen', 'jeep', 'hyundai'}\n"
     ]
    }
   ],
   "source": [
    "# 회사이름 추출\n",
    "munu_list = []\n",
    "for car in car_list:\n",
    "    munu_list.append(car.get_info()['manufacturer'])\n",
    "munu_list = set(munu_list)\n",
    "print(munu_list)"
   ]
  },
  {
   "cell_type": "code",
   "execution_count": 21,
   "metadata": {},
   "outputs": [],
   "source": [
    "# 회사별 hwy연비 구하기\n",
    "result = []\n",
    "for munu in munu_list:\n",
    "    tmp_list = []\n",
    "    for car in car_list:\n",
    "        if car.get_info()['manufacturer'] == munu and car.get_info()['class'] == 'suv':\n",
    "            tmp_list.append(car)\n",
    "    #회사이름과 령균연비를 튜플로 저장\n",
    "    result.append((munu, (get_mean(tmp_list,'cty')+get_mean(tmp_list,'hwy'))/2))"
   ]
  },
  {
   "cell_type": "code",
   "execution_count": 22,
   "metadata": {},
   "outputs": [
    {
     "data": {
      "text/plain": [
       "[('subaru', 21.916666666666664),\n",
       " ('toyota', 16.3125),\n",
       " ('nissan', 15.875),\n",
       " ('mercury', 15.625),\n",
       " ('jeep', 15.5625)]"
      ]
     },
     "execution_count": 22,
     "metadata": {},
     "output_type": "execute_result"
    }
   ],
   "source": [
    "# 정렬하고 정리\n",
    "sorted(result, key=lambda result: result[1] , reverse = True)[0:5]"
   ]
  },
  {
   "cell_type": "markdown",
   "metadata": {},
   "source": [
    "## 6. mpg 데이터의 class는 \"suv\", \"compact\" 등 자동차의 특징에 따라 일곱 종류로 분류한 변수입니다. 어떤 차종의 도시 연비가 높은지 비교하려 합니다. class별 cty 평균을 구하고 cty 평균이 높은 순으로 정렬해 출력하세요."
   ]
  },
  {
   "cell_type": "code",
   "execution_count": 23,
   "metadata": {},
   "outputs": [
    {
     "name": "stdout",
     "output_type": "stream",
     "text": [
      "{'compact', 'subcompact', 'pickup', 'midsize', '2seater', 'suv', 'minivan'}\n"
     ]
    },
    {
     "data": {
      "text/plain": [
       "[('subcompact', 20.37142857142857),\n",
       " ('compact', 20.127659574468087),\n",
       " ('midsize', 18.75609756097561),\n",
       " ('minivan', 15.818181818181818),\n",
       " ('2seater', 15.4)]"
      ]
     },
     "execution_count": 23,
     "metadata": {},
     "output_type": "execute_result"
    }
   ],
   "source": [
    "# 일단 class의 이름을 알아야함\n",
    "class_list = []\n",
    "for car in car_list:\n",
    "    class_list.append(car.get_info()['class'])\n",
    "class_list = set(class_list)\n",
    "print(class_list)\n",
    "\n",
    "# 클래스별 cty연비 구하기\n",
    "result = []\n",
    "for cls in class_list:\n",
    "    tmp_list = []\n",
    "    for car in car_list:\n",
    "        if car.get_info()['class'] == cls:\n",
    "            tmp_list.append(car)\n",
    "    result.append((cls, get_mean(tmp_list, 'cty')))\n",
    "    \n",
    "sorted(result, key=lambda result: result[1] , reverse = True)[0:5]"
   ]
  },
  {
   "cell_type": "markdown",
   "metadata": {},
   "source": [
    "## 7. 어떤 회사 자동차의 hwy(고속도로 연비)가 가장 높은지 알아보려 합니다. hwy(고속도로 연비) 평균이 가장 높은 회사 세 곳을 출력하세요."
   ]
  },
  {
   "cell_type": "code",
   "execution_count": 24,
   "metadata": {},
   "outputs": [
    {
     "name": "stdout",
     "output_type": "stream",
     "text": [
      "{'ford', 'dodge', 'chevrolet', 'mercury', 'land rover', 'subaru', 'honda', 'toyota', 'nissan', 'pontiac', 'audi', 'lincoln', 'volkswagen', 'jeep', 'hyundai'}\n"
     ]
    },
    {
     "data": {
      "text/plain": [
       "[('honda', 32.55555555555556),\n",
       " ('volkswagen', 29.22222222222222),\n",
       " ('hyundai', 26.857142857142858)]"
      ]
     },
     "execution_count": 24,
     "metadata": {},
     "output_type": "execute_result"
    }
   ],
   "source": [
    "# 회사이름 추출\n",
    "munu_list = []\n",
    "for car in car_list:\n",
    "    munu_list.append(car.get_info()['manufacturer'])\n",
    "munu_list = set(munu_list)\n",
    "print(munu_list)\n",
    "\n",
    "# 회사별 hwy연비 구하기\n",
    "result = []\n",
    "for munu in munu_list:\n",
    "    tmp_list = []\n",
    "    for car in car_list:\n",
    "        if car.get_info()['manufacturer'] == munu:\n",
    "            tmp_list.append(car)\n",
    "    result.append((munu, get_mean(tmp_list, 'hwy')))\n",
    "    \n",
    "sorted(result, key=lambda result: result[1] , reverse = True)[0:3]"
   ]
  },
  {
   "cell_type": "markdown",
   "metadata": {},
   "source": [
    "## 8. 어떤 회사에서 \"compact\" 차종을 가장 많이 생산하는지 알아보려고 합니다. 각 회사별 \"compact\" 차종 수를 내림차순으로 정렬해 출력하세요."
   ]
  },
  {
   "cell_type": "code",
   "execution_count": 25,
   "metadata": {},
   "outputs": [
    {
     "name": "stdout",
     "output_type": "stream",
     "text": [
      "{'ford', 'dodge', 'chevrolet', 'mercury', 'land rover', 'subaru', 'honda', 'toyota', 'nissan', 'pontiac', 'audi', 'lincoln', 'volkswagen', 'jeep', 'hyundai'}\n"
     ]
    },
    {
     "data": {
      "text/plain": [
       "[('audi', 15),\n",
       " ('volkswagen', 14),\n",
       " ('toyota', 12),\n",
       " ('subaru', 4),\n",
       " ('nissan', 2),\n",
       " ('ford', 0),\n",
       " ('dodge', 0),\n",
       " ('chevrolet', 0),\n",
       " ('mercury', 0),\n",
       " ('land rover', 0),\n",
       " ('honda', 0),\n",
       " ('pontiac', 0),\n",
       " ('lincoln', 0),\n",
       " ('jeep', 0),\n",
       " ('hyundai', 0)]"
      ]
     },
     "execution_count": 25,
     "metadata": {},
     "output_type": "execute_result"
    }
   ],
   "source": [
    "# 회사이름 추출\n",
    "munu_list = []\n",
    "for car in car_list:\n",
    "    munu_list.append(car.get_info()['manufacturer'])\n",
    "munu_list = set(munu_list)\n",
    "print(munu_list)\n",
    "\n",
    "# 회사별 hwy연비 구하기\n",
    "result = []\n",
    "for munu in munu_list:\n",
    "    tmp_list = []\n",
    "    for car in car_list:\n",
    "        if car.get_info()['manufacturer'] == munu and car.get_info()['class'] == 'compact':\n",
    "            tmp_list.append(car)\n",
    "    result.append((munu, len(tmp_list)))\n",
    "    \n",
    "sorted(result, key=lambda result: result[1] , reverse = True)"
   ]
  }
 ],
 "metadata": {
  "kernelspec": {
   "display_name": "Python [conda env:data_env] *",
   "language": "python",
   "name": "conda-env-data_env-py"
  },
  "language_info": {
   "codemirror_mode": {
    "name": "ipython",
    "version": 3
   },
   "file_extension": ".py",
   "mimetype": "text/x-python",
   "name": "python",
   "nbconvert_exporter": "python",
   "pygments_lexer": "ipython3",
   "version": "3.7.9"
  }
 },
 "nbformat": 4,
 "nbformat_minor": 4
}
