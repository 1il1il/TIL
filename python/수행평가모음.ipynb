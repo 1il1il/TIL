{
 "cells": [
  {
   "cell_type": "markdown",
   "metadata": {},
   "source": [
    "# 수행평가\n",
    "[문제 링크](https://moon9342.github.io/python-lecture-python-program-exercise-1)\n",
    "- update at 2021.01.10"
   ]
  },
  {
   "cell_type": "markdown",
   "metadata": {},
   "source": [
    "## 문제 1.\n",
    "\n",
    "- 10보다 작은 자연수 중에서 3 또는 5의 배수는 3,5,6,9가 존재해요! \n",
    "- 이것들의 합은 23입니다.\n",
    "- 1000보다 작은 자연수 중에서 3 또는 5의 배수들을 구해서 모두 합하면 얼마인가요?\n",
    "\n",
    "정답 : 233168"
   ]
  },
  {
   "cell_type": "code",
   "execution_count": null,
   "metadata": {},
   "outputs": [],
   "source": [
    "result = set()\n",
    "for i in range(1000):\n",
    "    if i % 3 == 0:\n",
    "        result.add(i)\n",
    "    elif i % 5 == 0:\n",
    "        result.add(i)\n",
    "\n",
    "sum(result)"
   ]
  },
  {
   "cell_type": "markdown",
   "metadata": {},
   "source": [
    "\n",
    "## 문제 2.\n",
    "- 피보나치 수열의 각 항은 바로 앞의 항 두 개를 더한 것이 됩니다. \n",
    "- 1과 2로 시작하는 경우 이 수열은 아래와 같습니다.\n",
    "\n",
    "- 1, 2, 3, 5, 8, 13, 21, 34, 55, 89, ...\n",
    "- 짝수이면서 4백만 이하인 모든 항을 더하면 얼마가 됩니까?\n",
    "\n",
    "정답 : 4613732"
   ]
  },
  {
   "cell_type": "code",
   "execution_count": null,
   "metadata": {},
   "outputs": [],
   "source": [
    "idx_f = 1\n",
    "idx_s = 2\n",
    "total_array = {1, 2}\n",
    "\n",
    "while idx_s < 4.0E6:  \n",
    "    tmp = idx_f\n",
    "    idx_f = idx_s\n",
    "    idx_s = tmp + idx_s\n",
    "    total_array.add(idx_s)\n",
    "\n",
    "sum([a for a in total_array if a % 2 == 0 ])"
   ]
  },
  {
   "cell_type": "markdown",
   "metadata": {},
   "source": [
    "## 문제 3.\n",
    "- 알파벳 대소문자로 된 문자열이 주어지면, 이 문자열에서 가장 많이 사용된 알파벳dl 무엇인지 출력하는 프로그램을 작성하시오. \n",
    "- 단, 대소문자는 구별하지 않아요. 만약 동률이 존재하는 경우 알파벳 순으로 제일 앞에 있는 문자를 출력하세요.\n",
    "\n",
    "    1. 문자열) \"This is a sample Program mississippi river\"\n",
    "    2. 문자열) \"abcdabcdababccddcd\"\n",
    "\n",
    "정답 :  \"This is a sample Program mississippi river\" => I\n",
    "\n",
    "정답 :  \"abcdabcdababccddcd\" => C"
   ]
  },
  {
   "cell_type": "code",
   "execution_count": null,
   "metadata": {},
   "outputs": [],
   "source": [
    "def findChar(str):\n",
    "    result = {}\n",
    "    for n in set(str):\n",
    "        result[n] = str.count(n)\n",
    "    \n",
    "    mx = 0\n",
    "    a = ''\n",
    "    for b in result.keys():\n",
    "        if mx < result[b]:\n",
    "            mx = result[b]\n",
    "            k = b \n",
    "        elif mx == result[b]:\n",
    "            if k < b:\n",
    "                pass\n",
    "            else:\n",
    "                k = b\n",
    "        else:\n",
    "            pass\n",
    "        \n",
    "    print(k.upper())\n",
    "    \n",
    "str1 = 'This is a sample Program mississippi river'\n",
    "str1 = str1.replace(' ','')\n",
    "findChar(str1)\n",
    "\n",
    "str2 = 'abcdabcdababccddcd'\n",
    "findChar(str2)"
   ]
  },
  {
   "cell_type": "markdown",
   "metadata": {},
   "source": [
    "## 문제 4.\n",
    "-  로또 프로그램 작성 \n",
    "- 5000원으로 로또복권을 5장 자동으로 구매합니다. \n",
    "- 이번 주 로또 당첨번호를 생성하여 로또 당첨을 확인하세요!\n",
    "- 쉬운버전으로 먼저 작성합니다.  \n",
    "- 6숫자가 다 맞으면 1등, 5개 맞으면 2등으로 처리합니다.\n",
    "- 즉, 쉬운버전은 보너스 숫자는 없는 것으로 간주합니다.\n",
    "- 쉬운버전을 해결했다면 보너스 숫자를 이용하여 로또 당첨을 확인합니다.\n",
    "- 보너스 숫자를 제외한 모든 숫자가 다 맞으면 1등, 보너스 숫자를 포함하여 6개의 숫자가 맞으면 2등, 보너스를 제외하고 5개의 숫자가 맞으면 3등으로 처리합니다.\n",
    "\n",
    "- 쉬운버전의 출력은 1등 몇개, 2등 몇개, 3등 몇개, 4등 몇개, 꽝 몇개로 출력\n",
    "- 어려운버전의 출력은 1등 몇개, 2등 몇개, 3등 몇개, 4등 몇개, 5등 몇개, 꽝 몇개로 출력\n",
    "---\n",
    "\n",
    "- 랜덤값을 도출하기 위해서는 다음의 코드를 이용한다.\n",
    "\n",
    "import random\n",
    "\n",
    "- i = random.randint(1, 100)  # 1부터 100 사이의 임의의 정수 \n",
    "- f = random.random()   # 0부터 1 사이의 임의의 float\n",
    "- i = random.randrange(1, 101, 2) # 1부터 100 사이의 임의의 짝수\n",
    "- i = random.randrange(10)  # 0부터 9 사이의 임의의 정수\n",
    "---\n",
    "\n",
    "- 추가문제\n",
    "- 1등에 당첨될려면 평균적으로 얼마만큼의 돈을 투자해야 할까요?\n",
    "- 로또 1게임은 1000원입니다."
   ]
  },
  {
   "cell_type": "code",
   "execution_count": 2,
   "metadata": {},
   "outputs": [],
   "source": [
    "def getNum(num):\n",
    "    import random\n",
    "\n",
    "    numList = []\n",
    "    n = 0\n",
    "    while n < num:\n",
    "        i = random.randint(1, 46)\n",
    "        if i not in numList:\n",
    "            numList.append(i)\n",
    "        else:\n",
    "            pass\n",
    "        n += 1\n",
    "    \n",
    "    return numList"
   ]
  },
  {
   "cell_type": "code",
   "execution_count": 3,
   "metadata": {},
   "outputs": [
    {
     "name": "stdout",
     "output_type": "stream",
     "text": [
      "내 복권 1 [14, 26, 6, 41, 5, 2]\n",
      "내 복권 2 [35, 27, 16, 40, 22]\n",
      "내 복권 3 [28, 8, 31, 14, 33, 2]\n",
      "내 복권 4 [5, 37, 29, 41, 19]\n",
      "내 복권 5 [35, 13, 32, 6, 28, 3]\n",
      "당첨 복권 [35, 2, 34, 31, 4]\n",
      "1등 : 0회, 2등 : 0회, 3등 : 0회, 4등 : 0회, 꽝 : 5회\n"
     ]
    }
   ],
   "source": [
    "# 쉬운 버전\n",
    "def printResult_e(num):\n",
    "    winningList = getNum(num)\n",
    "    result = []\n",
    "    \n",
    "    for i in range(5):\n",
    "        temp = getNum(num)\n",
    "        print(f'내 복권 {i+1}', temp)\n",
    "        count = 0\n",
    "        for a in temp:\n",
    "            if a in winningList:\n",
    "                count += 1\n",
    "            \n",
    "        result.append(count)\n",
    "\n",
    "    print('당첨 복권', winningList)\n",
    "    print('1등 : {}회, 2등 : {}회, 3등 : {}회, 4등 : {}회, 꽝 : {}회'.format(result.count(6),result.count(5),result.count(4),result.count(3),result.count(2)+result.count(1)+result.count(0)))\n",
    "    \n",
    "printResult_e(6)"
   ]
  },
  {
   "cell_type": "code",
   "execution_count": 17,
   "metadata": {},
   "outputs": [
    {
     "name": "stdout",
     "output_type": "stream",
     "text": [
      "내 복권 1 [4, 22, 15, 35, 45, 43]\n",
      "내 복권 2 [36, 38, 33, 7, 22, 41]\n",
      "내 복권 3 [32, 31, 1, 12, 28, 22]\n",
      "내 복권 4 [39, 5, 40, 26, 36, 43]\n",
      "내 복권 5 [4, 37, 7, 23, 38, 15]\n",
      "당첨 복권 [40, 46, 25, 35, 36, 26, 37]\n",
      "1등 : 0회, 2등 : 0회, 3등 : 0회, 4등 : 0회, 5등 : 1, 꽝 : 4회\n"
     ]
    }
   ],
   "source": [
    "# 어려운 버전\n",
    "def printResult_h(num):\n",
    "    winningList = getNum(num)\n",
    "    bouns = winningList[-1]\n",
    "    result = []\n",
    "    \n",
    "    for i in range(5):\n",
    "        temp = getNum(num-1)\n",
    "        print(f'내 복권 {i+1}', temp)\n",
    "        count = 0\n",
    "        for a in temp:\n",
    "            if a in winningList:\n",
    "                count += 1\n",
    "        if count == 5 & bouns in temp:\n",
    "            result.append(count ** 2)\n",
    "        else:\n",
    "            result.append(count)\n",
    "    \n",
    "    print('당첨 복권', winningList)\n",
    "    print('1등 : {}회, 2등 : {}회, 3등 : {}회, 4등 : {}회, 5등 : {}, 꽝 : {}회'.format(result.count(6),result.count(25),result.count(5),result.count(4),result.count(3),result.count(2)+result.count(1)+result.count(0)))\n",
    "\n",
    "printResult_h(7)"
   ]
  },
  {
   "cell_type": "markdown",
   "metadata": {},
   "source": [
    "## 문제 5.\n",
    "- 어떤 수를 소수의 곱으로만 나타내는 것을 소인수분해라 하고, 이 소수들을 그 수의 소인수라고 합니다.\n",
    "- 예를 들면 13195의 소인수는 5, 7, 13, 29 입니다.\n",
    "\n",
    "- 600851475143의 소인수 중에서 가장 큰 수를 구하세요.\n",
    "\n",
    "정답 : 6857 "
   ]
  },
  {
   "cell_type": "markdown",
   "metadata": {},
   "source": [
    "- 참고자료 [에라토스테네스의 체](https://en.wikipedia.org/wiki/Sieve_of_Eratosthenes)"
   ]
  },
  {
   "cell_type": "code",
   "execution_count": null,
   "metadata": {},
   "outputs": [],
   "source": [
    "prime = []\n",
    "\n",
    "# 2부터 자기자신까지의 리스트 생성\n",
    "target = 13195\n",
    "data = [i+2 for i in range(target-1)]"
   ]
  },
  {
   "cell_type": "code",
   "execution_count": 25,
   "metadata": {},
   "outputs": [
    {
     "name": "stdout",
     "output_type": "stream",
     "text": [
      "[2, 3, 5, 7, 11, 13]\n"
     ]
    }
   ],
   "source": [
    "# 소수찾기 ver 1\n",
    "prime = []\n",
    "data = [2,3,4,5,6,7,8,9,10,11,12,13]\n",
    "\n",
    "while len(data) > 0 :\n",
    "    prime.append(data[0])\n",
    "    for a in range(len(data)):\n",
    "        if data[a] % data[0] == 0:\n",
    "            data[a] = data[0]\n",
    "    data = set(data)\n",
    "    data = list(data)\n",
    "    data.sort()\n",
    "    del data[0]\n",
    "    \n",
    "print(prime)"
   ]
  },
  {
   "cell_type": "code",
   "execution_count": 24,
   "metadata": {},
   "outputs": [
    {
     "ename": "TypeError",
     "evalue": "'set' object is not subscriptable",
     "output_type": "error",
     "traceback": [
      "\u001b[1;31m---------------------------------------------------------------------------\u001b[0m",
      "\u001b[1;31mTypeError\u001b[0m                                 Traceback (most recent call last)",
      "\u001b[1;32m<ipython-input-24-09bc510b88d4>\u001b[0m in \u001b[0;36m<module>\u001b[1;34m\u001b[0m\n\u001b[0;32m      4\u001b[0m \u001b[1;33m\u001b[0m\u001b[0m\n\u001b[0;32m      5\u001b[0m \u001b[1;32mwhile\u001b[0m \u001b[0mlen\u001b[0m\u001b[1;33m(\u001b[0m\u001b[0mdata\u001b[0m\u001b[1;33m)\u001b[0m \u001b[1;33m>\u001b[0m \u001b[1;36m0\u001b[0m \u001b[1;33m:\u001b[0m\u001b[1;33m\u001b[0m\u001b[1;33m\u001b[0m\u001b[0m\n\u001b[1;32m----> 6\u001b[1;33m     \u001b[0mprime\u001b[0m\u001b[1;33m.\u001b[0m\u001b[0mappend\u001b[0m\u001b[1;33m(\u001b[0m\u001b[0mdata\u001b[0m\u001b[1;33m[\u001b[0m\u001b[1;36m0\u001b[0m\u001b[1;33m]\u001b[0m\u001b[1;33m)\u001b[0m\u001b[1;33m\u001b[0m\u001b[1;33m\u001b[0m\u001b[0m\n\u001b[0m\u001b[0;32m      7\u001b[0m     \u001b[0mtmp_set\u001b[0m \u001b[1;33m=\u001b[0m \u001b[0mset\u001b[0m\u001b[1;33m(\u001b[0m\u001b[1;33m)\u001b[0m\u001b[1;33m\u001b[0m\u001b[1;33m\u001b[0m\u001b[0m\n\u001b[0;32m      8\u001b[0m     \u001b[1;32mfor\u001b[0m \u001b[0ma\u001b[0m \u001b[1;32min\u001b[0m \u001b[0mrange\u001b[0m\u001b[1;33m(\u001b[0m\u001b[0mlen\u001b[0m\u001b[1;33m(\u001b[0m\u001b[0mdata\u001b[0m\u001b[1;33m)\u001b[0m\u001b[1;33m)\u001b[0m\u001b[1;33m:\u001b[0m\u001b[1;33m\u001b[0m\u001b[1;33m\u001b[0m\u001b[0m\n",
      "\u001b[1;31mTypeError\u001b[0m: 'set' object is not subscriptable"
     ]
    }
   ],
   "source": [
    "# 소수 찾기 ver2\n",
    "# 안됨\n",
    "prime = []\n",
    "data = {2,3,4,5,6,7,8,9,10,11,12,13}\n",
    "\n",
    "while len(data) > 0 :\n",
    "    prime.append(data[0])\n",
    "    tmp_set = set()\n",
    "    for a in range(len(data)):\n",
    "        if data[a] % data[0] == 0:\n",
    "            tmp_set.add(data[a])\n",
    "    data = data - tmp_set\n",
    "    \n",
    "print(prime)"
   ]
  },
  {
   "cell_type": "code",
   "execution_count": null,
   "metadata": {},
   "outputs": [],
   "source": []
  },
  {
   "cell_type": "markdown",
   "metadata": {},
   "source": [
    "## 문제 6.\n",
    "- 앞에서부터 읽을 때나 뒤에서부터 읽을 때나 모양이 같은 수를 대칭수(palindrome)라고 부릅니다.\n",
    "\n",
    "- 두 자리 수를 곱해 만들 수 있는 대칭수 중 가장 큰 수는 9009 (= 91 × 99) 입니다.\n",
    "\n",
    "- 세 자리 수를 곱해 만들 수 있는 가장 큰 대칭수를 구하세요\n",
    "\n",
    "정답 : 906609"
   ]
  },
  {
   "cell_type": "code",
   "execution_count": 18,
   "metadata": {},
   "outputs": [
    {
     "name": "stdout",
     "output_type": "stream",
     "text": [
      "906609\n"
     ]
    }
   ],
   "source": [
    "palindrome = []\n",
    "\n",
    "for i in range(100, 1000):\n",
    "    for j in range(100, 1000):\n",
    "        resultList = []\n",
    "        temp = str(i * j)\n",
    "        # /2로 반복 횟수 절반으로 줄이기 (21.01.10)\n",
    "        for k in range(int(len(temp)/2)):\n",
    "            resultList.append(temp[k] == temp[-(k+1)])\n",
    "            \n",
    "        if False not in resultList:\n",
    "            palindrome.append(int(temp))\n",
    "\n",
    "palindrome.sort()           \n",
    "print(palindrome[-1])"
   ]
  },
  {
   "cell_type": "markdown",
   "metadata": {},
   "source": [
    "## 문제 7.\n",
    "- 1 ~ 10 사이의 어떤 수로도 나누어 떨어지는 가장 작은 수는 2520입니다.\n",
    "   \n",
    "- 그러면 1 ~ 20 사이의 어떤 수로도 나누어 떨어지는 가장 작은 수는 얼마입니까?\n",
    "\n",
    "정답 : 232792560"
   ]
  },
  {
   "cell_type": "code",
   "execution_count": null,
   "metadata": {},
   "outputs": [],
   "source": [
    "# 각 소수의 거듭제곱중 10 아래에 있는 가장 큰 거듭제곱을 찾기\n",
    "print(2*2*2*3*3*5*7)\n"
   ]
  },
  {
   "cell_type": "code",
   "execution_count": 28,
   "metadata": {},
   "outputs": [
    {
     "name": "stdout",
     "output_type": "stream",
     "text": [
      "[2, 3, 5, 7, 11, 13, 17, 19]\n"
     ]
    }
   ],
   "source": [
    "# 1~20 사이 소수 찾기\n",
    "prime = []\n",
    "data = range(2, 21)\n",
    "data = list(data)\n",
    "\n",
    "while len(data) > 0 :\n",
    "    prime.append(data[0])\n",
    "    for a in range(len(data)):\n",
    "        if data[a] % data[0] == 0:\n",
    "            data[a] = data[0]\n",
    "    data = set(data)\n",
    "    data = list(data)\n",
    "    data.sort()\n",
    "    del data[0]\n",
    "    \n",
    "print(prime)"
   ]
  },
  {
   "cell_type": "markdown",
   "metadata": {},
   "source": [
    "## 문제 8.\n",
    "- 1부터 10까지 자연수를 각각 제곱해 더하면 다음과 같습니다 (제곱의 합).\n",
    "- 1^2 + 2^2 + ... + 10^2 = 385\n",
    "\n",
    "- 1부터 10을 먼저 더한 다음에 그 결과를 제곱하면 다음과 같습니다 (합의 제곱).\n",
    "- (1 + 2 + ... + 10)^2 = 552 = 3025\n",
    "\n",
    "- 따라서 1부터 10까지 자연수에 대해 \"합의 제곱\"과 \"제곱의 합\"의 차이는 3025 - 385 = 2640 이 됩니다.\n",
    "\n",
    "- 그러면 1부터 100까지 자연수에 대해 \"합의 제곱\"과 \"제곱의 합\"의 차이는 얼마입니까?\n",
    "\n",
    "정답 : 25164150"
   ]
  },
  {
   "cell_type": "code",
   "execution_count": null,
   "metadata": {},
   "outputs": [],
   "source": [
    "sumofsquare = 0\n",
    "squaredsum = 0\n",
    "for i in range(1,101):\n",
    "    sumofsquare += i**2\n",
    "    squaredsum += i\n",
    "\n",
    "print((squaredsum**2) - sumofsquare)"
   ]
  },
  {
   "cell_type": "markdown",
   "metadata": {},
   "source": [
    "## 문제 9.\n",
    "- 소수를 크기 순으로 나열하면 2, 3, 5, 7, 11, 13, ... 과 같이 됩니다.\n",
    "\n",
    "- 이 때 10,001번째의 소수를 구하세요.\n",
    "\n",
    "정답 : 104743"
   ]
  },
  {
   "cell_type": "code",
   "execution_count": null,
   "metadata": {},
   "outputs": [],
   "source": []
  },
  {
   "cell_type": "markdown",
   "metadata": {},
   "source": [
    "## 문제 10.\n",
    "- 세 자연수 a, b, c 가 피타고라스 정리 a^2 + b^2 = c^2 를 만족하면 피타고라스 수라고 부릅니다 (여기서 a < b < c ).\n",
    "- 예를 들면 3^2 + 4^2 = 9 + 16 = 25 = 5^2이므로 3, 4, 5는 피타고라스 수입니다.\n",
    "\n",
    "- a + b + c = 1000 인 피타고라스 수 a, b, c는 한 가지 뿐입니다. \n",
    "- 이 때, a × b × c 는 얼마입니까?\n",
    "\n",
    "정답 : 31875000"
   ]
  },
  {
   "cell_type": "code",
   "execution_count": null,
   "metadata": {},
   "outputs": [],
   "source": []
  },
  {
   "cell_type": "code",
   "execution_count": null,
   "metadata": {},
   "outputs": [],
   "source": []
  },
  {
   "cell_type": "markdown",
   "metadata": {},
   "source": [
    "# 수행평가 문제 2\n",
    "- 데이터 처리 문제 [링크](https://moon9342.github.io/python-lecture-python-oop-exercise)\n",
    "\n",
    "1. displ(배기량)이 4 이하인 자동차와 5 이상인 자동차 중 어떤 자동차의 hwy(고속도로 연비)가 평균적으로 더 높은지 확인하세요.\n",
    "\n",
    "2. 자동차 제조 회사에 따라 도시 연비가 다른지 알아보려고 한다. \"audi\"와 \"toyota\" 중 어느 manufacturer(제조회사)의 cty(도시 연비)가 평균적으로 더 높은지 확인하세요.\n",
    "\n",
    "3. \"chevrolet\", \"ford\", \"honda\" 자동차의 고속도로 연비 평균을 알아보려고 한다. 이 회사들의 데이터를 추출한 후 hwy(고속도로 연비) 평균을 구하세요.\n",
    "\n",
    "4. \"audi\"에서 생산한 자동차 중에 어떤 자동차 모델의 hwy(고속도로 연비)가 높은지 알아보려고 한다. \"audi\"에서 생산한 자동차 중 hwy가 1~5위에 해당하는 자동차의 데이터를 출력하세요.\n",
    "\n",
    "5. mpg 데이터는 연비를 나타내는 변수가 2개입니다. 두 변수를 각각 활용하는 대신 하나의 통합 연비 변수를 만들어 사용하려 합니다. 평균 연비 변수는 두 연비(고속도로와 도시)의 평균을 이용합니다. 회사별로 \"suv\" 자동차의 평균 연비를 구한후 내림차순으로 정렬한 후 1~5위까지 데이터를 출력하세요.\n",
    "\n",
    "6. mpg 데이터의 class는 \"suv\", \"compact\" 등 자동차의 특징에 따라 일곱 종류로 분류한 변수입니다. 어떤 차종의 도시 연비가 높은지 비교하려 합니다. class별 cty 평균을 구하고 cty 평균이 높은 순으로 정렬해 출력하세요.\n",
    "\n",
    "7. 어떤 회사 자동차의 hwy(고속도로 연비)가 가장 높은지 알아보려 합니다. hwy(고속도로 연비) 평균이 가장 높은 회사 세 곳을 출력하세요.\n",
    "\n",
    "8. 어떤 회사에서 \"compact\" 차종을 가장 많이 생산하는지 알아보려고 합니다. 각 회사별 \"compact\" 차종 수를 내림차순으로 정렬해 출력하세요.\n",
    "---\n",
    "\n",
    "## 문제 분석\n",
    "1. 자동차에 대한 정보(manufacturer,model,displ,year,cyl,trans,drv,cty,hwy,fl,class) \n",
    "    - 11개의 property로 설정\n",
    "2. 조건부 비교(A인 조건에서 B를 확인하기)가 많다\n",
    "3. 각 객체에 대한 임의의 property에 접근할 수 있어야 함\n",
    "3. 특정 property에 대한 평균을 구할 수 있어야 한다\n",
    "\n",
    "---\n",
    "## 분석 결과\n",
    "1. 우선 11가지 property를 지닌 클래스 생성\n",
    "2. 다양한 property을 한번에 출력할 수 있는 method 구상\n",
    "    - 하나의 method로 모든 property를 전달하기\n",
    "        1. 일단 property를 dict로 만들어 전달해보기\n",
    "3. 평균을 어떻게 구할까?\n",
    "    - method로 property 받아서 평균구하기?(일단 이걸로)\n",
    "    - 아니면 자체적으로 평균 구하는 method 구현?"
   ]
  },
  {
   "cell_type": "code",
   "execution_count": 12,
   "metadata": {},
   "outputs": [],
   "source": [
    "class Car(object):\n",
    "    def __init__(self,manu,model,displ,year,cyl,trans,drv,cty,hwy,fl,cls):\n",
    "        self.manufacturer = manu\n",
    "        self.model = model\n",
    "        self.displ = displ\n",
    "        self.year = year\n",
    "        self.cyl = cyl\n",
    "        self.trans = trans\n",
    "        self.drv = drv\n",
    "        self.cty = cty\n",
    "        self.hwy = hwy\n",
    "        self.fl = fl\n",
    "        self.calss = cls\n",
    "        \n",
    "    # 객체의 속성을 속성의 이름을 키값으로 갖는 딕셔너리로 만들어 리턴\n",
    "    def get_info(self):\n",
    "        result = {'manufacturer': self.manufacturer,\n",
    "                  'model': self.model,\n",
    "                  'displ': self.displ,\n",
    "                  'year': self.year,\n",
    "                  'cyl': self.cyl,\n",
    "                  'trans': self.trans,\n",
    "                  'drv': self.drv,\n",
    "                  'cty': self.cty,\n",
    "                  'hwy': self.hwy,\n",
    "                  'fl': self.fl,\n",
    "                  'calss': self.calss\n",
    "                 }\n",
    "        return result\n",
    "    \n",
    "    def get_manu(self):\n",
    "        return self.manufacturer\n",
    "    \n",
    "    \n",
    "    \n",
    "# car 인스턴스가 담긴 리스트와 평균을 구하고자 하는 속성을 인자로 받아 평균을 리턴하는 함수\n",
    "def get_mean(car_list, target):\n",
    "    result = []\n",
    "    for car in car_list:\n",
    "        result.append(car.get_info()['{}'.format(target)])\n",
    "    \n",
    "    mean = sum(result)/len(result)\n",
    "    return mean\n",
    "\n",
    "# 특정조건의 인스턴스 리스트 리턴인데 조건 3가지 한번에 구현 가능한가?\n",
    "# 일단 보류 좀더 고민해봐야 할듯\n",
    "def get_list(car_list, target, n):\n",
    "    스위치 n == 1:\n",
    "    # 조건 1. ~~보다 작다\n",
    "    for car in car_list:\n",
    "        if  tmp <= 4:\n",
    "            lower_4.append(car)\n",
    "        elif tmp >= 5:\n",
    "            upper_5.append(car)\n",
    "        else:\n",
    "            pass\n",
    "    스위치 n == 2\n",
    "    # 조건 2. ~~보다 크다\n",
    "    \n",
    "    n==3\n",
    "    # 조건 3. ~~이인거\n",
    "    \n",
    "def 조건 찾기(n):\n",
    "    스위치 nn ==0\n",
    "    크다()\n",
    "    \n",
    "\n",
    "def 크다():\n",
    "    \n",
    "def 작다():\n",
    "    \n",
    "def 동일():"
   ]
  },
  {
   "cell_type": "code",
   "execution_count": 11,
   "metadata": {},
   "outputs": [],
   "source": [
    "# 파일 경로, 수행할 작업(r : 읽기)\n",
    "my_file = open('mpg.txt', 'r')\n",
    "# header 버리기\n",
    "my_file.readline()\n",
    "\n",
    "car_list = []\n",
    "# 파일안의 모든 내용(line)을 화면에 출력하기\n",
    "while True:\n",
    "    line = my_file.readline().splitlines()\n",
    "    if not line:\n",
    "        break\n",
    "    else:\n",
    "        tmp_list = line[0].split(',')\n",
    "        # 숫자인 속성값은 실수로 미리 형변환하여 추가(21.01.09)\n",
    "        car_list.append(Car(tmp_list[0],tmp_list[1],float(tmp_list[2]),float(tmp_list[3]),float(tmp_list[4]),\n",
    "                            tmp_list[5],tmp_list[6],float(tmp_list[7]),float(tmp_list[8]),tmp_list[9],tmp_list[10]))\n",
    "\n",
    "# 사용한 리소스는 적절하게 해제처리를 진행\n",
    "my_file.close()"
   ]
  },
  {
   "cell_type": "markdown",
   "metadata": {},
   "source": [
    "1. displ(배기량)이 4 이하인 자동차와 5 이상인 자동차 중 어떤 자동차의 hwy(고속도로 연비)가 평균적으로 더 높은지 확인하세요."
   ]
  },
  {
   "cell_type": "code",
   "execution_count": 16,
   "metadata": {},
   "outputs": [],
   "source": [
    "# 배기량이 4이하, 5이상인 자동차 찾기\n",
    "lower_4 = []\n",
    "upper_5 = []\n",
    "for car in car_list:\n",
    "    if  car.get_info()['displ'] <= 4:\n",
    "        lower_4.append(car)\n",
    "    elif car.get_info()['displ'] >= 5:\n",
    "        upper_5.append(car)\n",
    "    else:\n",
    "        pass"
   ]
  },
  {
   "cell_type": "code",
   "execution_count": 17,
   "metadata": {},
   "outputs": [
    {
     "name": "stdout",
     "output_type": "stream",
     "text": [
      "배기량 4이하 자동차의 고속도로 연비의 평균 : 25.96319018404908\n",
      "배기량 5이상 자동차의 고속도로 연비의 평균 : 18.07894736842105\n"
     ]
    }
   ],
   "source": [
    "# 평균 구하는 함수를 이용한 코드 (21.01.09)\n",
    "\n",
    "print('배기량 4이하 자동차의 고속도로 연비의 평균 : {}'.format(get_mean(lower_4, 'hwy')))\n",
    "print('배기량 5이상 자동차의 고속도로 연비의 평균 : {}'.format(get_mean(upper_5, 'hwy')))\n",
    "\n",
    "# 이게 아래 코드보다 훨씬 짧고 좋은거 같음"
   ]
  },
  {
   "cell_type": "code",
   "execution_count": 68,
   "metadata": {},
   "outputs": [
    {
     "name": "stdout",
     "output_type": "stream",
     "text": [
      "배기량 4이하 자동차의 고속도로 연비의 평균 : 25.96319018404908\n",
      "배기량 5이상 자동차의 고속도로 연비의 평균 : 18.07894736842105\n"
     ]
    }
   ],
   "source": [
    "# 이전 버전 평균 구하는 코드\n",
    "result_lower = []\n",
    "for a in lower_4:\n",
    "    result_lower.append(float(a.get_info()['hwy']))\n",
    "    \n",
    "result_upper = []\n",
    "for b in upper_5:\n",
    "    result_upper.append(float(b.get_info()['hwy']))\n",
    "    \n",
    "print('배기량 4이하 자동차의 고속도로 연비의 평균 : {}'.format(sum(result_lower)/len(result_lower)))\n",
    "print('배기량 5이상 자동차의 고속도로 연비의 평균 : {}'.format(sum(result_upper)/len(result_upper)))"
   ]
  },
  {
   "cell_type": "markdown",
   "metadata": {},
   "source": [
    "- 일단 한번 해봤는데 코드가 상당히 길고 리스트를 너무 많이 남발함\n",
    "- 그리고 특정 property에 대한 평균을 구하는 게 많다\n",
    "    - 이걸 클래스의 메소드로 구현해야 할거 같음\n",
    "    - 다시 생각해보니 클래스의 메소드로 만들수 있을까 고민됨\n",
    "    - 일단 따로 함수로 만들어봄\n",
    "    - 21.01.09 / 함수 만든거 클래스 바로 아래로 올림"
   ]
  },
  {
   "cell_type": "markdown",
   "metadata": {},
   "source": [
    "2. 자동차 제조 회사에 따라 도시 연비가 다른지 알아보려고 한다. \"audi\"와 \"toyota\" 중 어느 manufacturer(제조회사)의 cty(도시 연비)가 평균적으로 더 높은지 확인하세요."
   ]
  },
  {
   "cell_type": "code",
   "execution_count": 15,
   "metadata": {},
   "outputs": [
    {
     "name": "stdout",
     "output_type": "stream",
     "text": [
      "audi 자동차의 도시 연비의 평균 : 17.61111111111111\n",
      "toyota 자동차의 도시 연비의 평균 : 18.529411764705884\n"
     ]
    }
   ],
   "source": [
    "# 제조사가 audi, toyota인 자동차 찾기\n",
    "audi = []\n",
    "toyota = []\n",
    "for car in car_list:\n",
    "\n",
    "    if  car.get_info()['manufacturer'] == 'audi':\n",
    "        audi.append(car)\n",
    "    elif  car.get_info()['manufacturer'] == 'toyota':\n",
    "        toyota.append(car)\n",
    "    else:\n",
    "        pass\n",
    "\n",
    "print('audi 자동차의 도시 연비의 평균 : {}'.format(get_mean(audi, 'cty')))\n",
    "print('toyota 자동차의 도시 연비의 평균 : {}'.format(get_mean(toyota, 'cty')))"
   ]
  },
  {
   "cell_type": "markdown",
   "metadata": {},
   "source": [
    "- 문제 풀다보니 특정 조건 찾는 기능도 자주 씀\n",
    "- 이것도 함수로 만들까 했는데 문제는 중간에 형변환\n",
    "- 그럼 애초에 처음 데이터를 받을때부터 형식 지정해서 가져오자(21.01.09)\n",
    "- 그리고 특정 조건 인스턴스 리스트 출력 함수도 제작했는데 이상, 이하와 특정 조건 이 3가지를 한 함수로 구현할 수 있나?"
   ]
  },
  {
   "cell_type": "markdown",
   "metadata": {},
   "source": [
    "3. \"chevrolet\", \"ford\", \"honda\" 자동차의 고속도로 연비 평균을 알아보려고 한다. 이 회사들의 데이터를 추출한 후 hwy(고속도로 연비) 평균을 구하세요."
   ]
  },
  {
   "cell_type": "code",
   "execution_count": null,
   "metadata": {},
   "outputs": [],
   "source": []
  },
  {
   "cell_type": "markdown",
   "metadata": {},
   "source": [
    "4. \"audi\"에서 생산한 자동차 중에 어떤 자동차 모델의 hwy(고속도로 연비)가 높은지 알아보려고 한다. \"audi\"에서 생산한 자동차 중 hwy가 1~5위에 해당하는 자동차의 데이터를 출력하세요."
   ]
  },
  {
   "cell_type": "code",
   "execution_count": null,
   "metadata": {},
   "outputs": [],
   "source": []
  },
  {
   "cell_type": "markdown",
   "metadata": {},
   "source": [
    "5. mpg 데이터는 연비를 나타내는 변수가 2개입니다. 두 변수를 각각 활용하는 대신 하나의 통합 연비 변수를 만들어 사용하려 합니다. 평균 연비 변수는 두 연비(고속도로와 도시)의 평균을 이용합니다. 회사별로 \"suv\" 자동차의 평균 연비를 구한후 내림차순으로 정렬한 후 1~5위까지 데이터를 출력하세요."
   ]
  },
  {
   "cell_type": "code",
   "execution_count": null,
   "metadata": {},
   "outputs": [],
   "source": []
  },
  {
   "cell_type": "markdown",
   "metadata": {},
   "source": [
    "6. mpg 데이터의 class는 \"suv\", \"compact\" 등 자동차의 특징에 따라 일곱 종류로 분류한 변수입니다. 어떤 차종의 도시 연비가 높은지 비교하려 합니다. class별 cty 평균을 구하고 cty 평균이 높은 순으로 정렬해 출력하세요."
   ]
  },
  {
   "cell_type": "code",
   "execution_count": null,
   "metadata": {},
   "outputs": [],
   "source": []
  },
  {
   "cell_type": "markdown",
   "metadata": {},
   "source": [
    "7. 어떤 회사 자동차의 hwy(고속도로 연비)가 가장 높은지 알아보려 합니다. hwy(고속도로 연비) 평균이 가장 높은 회사 세 곳을 출력하세요."
   ]
  },
  {
   "cell_type": "code",
   "execution_count": null,
   "metadata": {},
   "outputs": [],
   "source": []
  },
  {
   "cell_type": "markdown",
   "metadata": {},
   "source": [
    "8. 어떤 회사에서 \"compact\" 차종을 가장 많이 생산하는지 알아보려고 합니다. 각 회사별 \"compact\" 차종 수를 내림차순으로 정렬해 출력하세요."
   ]
  },
  {
   "cell_type": "code",
   "execution_count": null,
   "metadata": {},
   "outputs": [],
   "source": []
  }
 ],
 "metadata": {
  "kernelspec": {
   "display_name": "Python [conda env:data_env] *",
   "language": "python",
   "name": "conda-env-data_env-py"
  },
  "language_info": {
   "codemirror_mode": {
    "name": "ipython",
    "version": 3
   },
   "file_extension": ".py",
   "mimetype": "text/x-python",
   "name": "python",
   "nbconvert_exporter": "python",
   "pygments_lexer": "ipython3",
   "version": "3.7.9"
  }
 },
 "nbformat": 4,
 "nbformat_minor": 4
}
