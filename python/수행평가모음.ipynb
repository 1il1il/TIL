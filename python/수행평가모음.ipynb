{
 "cells": [
  {
   "cell_type": "markdown",
   "metadata": {},
   "source": [
    "# 수행평가\n",
    "[문제 링크](https://moon9342.github.io/python-lecture-python-program-exercise-1)\n",
    "- update at 2021.01.05"
   ]
  },
  {
   "cell_type": "markdown",
   "metadata": {},
   "source": [
    "## 문제 1.\n",
    "\n",
    "- 10보다 작은 자연수 중에서 3 또는 5의 배수는 3,5,6,9가 존재해요! \n",
    "- 이것들의 합은 23입니다.\n",
    "- 1000보다 작은 자연수 중에서 3 또는 5의 배수들을 구해서 모두 합하면 얼마인가요?\n",
    "\n",
    "정답 : 233168"
   ]
  },
  {
   "cell_type": "code",
   "execution_count": null,
   "metadata": {},
   "outputs": [],
   "source": [
    "result = set()\n",
    "for i in range(1000):\n",
    "    if i % 3 == 0:\n",
    "        result.add(i)\n",
    "    elif i % 5 == 0:\n",
    "        result.add(i)\n",
    "\n",
    "sum(result)"
   ]
  },
  {
   "cell_type": "markdown",
   "metadata": {},
   "source": [
    "\n",
    "## 문제 2.\n",
    "- 피보나치 수열의 각 항은 바로 앞의 항 두 개를 더한 것이 됩니다. \n",
    "- 1과 2로 시작하는 경우 이 수열은 아래와 같습니다.\n",
    "\n",
    "- 1, 2, 3, 5, 8, 13, 21, 34, 55, 89, ...\n",
    "- 짝수이면서 4백만 이하인 모든 항을 더하면 얼마가 됩니까?\n",
    "\n",
    "정답 : 4613732"
   ]
  },
  {
   "cell_type": "code",
   "execution_count": 29,
   "metadata": {},
   "outputs": [
    {
     "data": {
      "text/plain": [
       "4613732"
      ]
     },
     "execution_count": 29,
     "metadata": {},
     "output_type": "execute_result"
    }
   ],
   "source": [
    "idx_f = 1\n",
    "idx_s = 2\n",
    "total_array = {1, 2}\n",
    "\n",
    "while idx_s < 4.0E6:  \n",
    "    tmp = idx_f\n",
    "    idx_f = idx_s\n",
    "    idx_s = tmp + idx_s\n",
    "    total_array.add(idx_s)\n",
    "\n",
    "sum([a for a in total_array if a % 2 == 0 ])"
   ]
  },
  {
   "cell_type": "markdown",
   "metadata": {},
   "source": [
    "## 문제 3.\n",
    "- 알파벳 대소문자로 된 문자열이 주어지면, 이 문자열에서 가장 많이 사용된 알파벳dl 무엇인지 출력하는 프로그램을 작성하시오. \n",
    "- 단, 대소문자는 구별하지 않아요. 만약 동률이 존재하는 경우 알파벳 순으로 제일 앞에 있는 문자를 출력하세요.\n",
    "\n",
    "    1. 문자열) \"This is a sample Program mississippi river\"\n",
    "    2. 문자열) \"abcdabcdababccddcd\"\n",
    "\n",
    "정답 :  \"This is a sample Program mississippi river\" => I\n",
    "\n",
    "정답 :  \"abcdabcdababccddcd\" => C"
   ]
  },
  {
   "cell_type": "code",
   "execution_count": null,
   "metadata": {},
   "outputs": [],
   "source": [
    "def findChar(str):\n",
    "    result = {}\n",
    "    for n in set(str):\n",
    "        result[n] = str.count(n)\n",
    "    \n",
    "    mx = 0\n",
    "    a = ''\n",
    "    for b in result.keys():\n",
    "        if mx < result[b]:\n",
    "            mx = result[b]\n",
    "            k = b \n",
    "        elif mx == result[b]:\n",
    "            if k < b:\n",
    "                pass\n",
    "            else:\n",
    "                k = b\n",
    "        else:\n",
    "            pass\n",
    "        \n",
    "    print(k.upper())\n",
    "    \n",
    "str1 = 'This is a sample Program mississippi river'\n",
    "str1 = str1.replace(' ','')\n",
    "findChar(str1)\n",
    "\n",
    "str2 = 'abcdabcdababccddcd'\n",
    "findChar(str2)"
   ]
  },
  {
   "cell_type": "markdown",
   "metadata": {},
   "source": [
    "## 문제 4.\n",
    "-  로또 프로그램 작성 \n",
    "- 5000원으로 로또복권을 5장 자동으로 구매합니다. \n",
    "- 이번 주 로또 당첨번호를 생성하여 로또 당첨을 확인하세요!\n",
    "- 쉬운버전으로 먼저 작성합니다.  \n",
    "- 6숫자가 다 맞으면 1등, 5개 맞으면 2등으로 처리합니다.\n",
    "- 즉, 쉬운버전은 보너스 숫자는 없는 것으로 간주합니다.\n",
    "- 쉬운버전을 해결했다면 보너스 숫자를 이용하여 로또 당첨을 확인합니다.\n",
    "- 보너스 숫자를 제외한 모든 숫자가 다 맞으면 1등, 보너스 숫자를 포함하여 6개의 숫자가 맞으면 2등, 보너스를 제외하고 5개의 숫자가 맞으면 3등으로 처리합니다.\n",
    "\n",
    "- 쉬운버전의 출력은 1등 몇개, 2등 몇개, 3등 몇개, 4등 몇개, 꽝 몇개로 출력\n",
    "- 어려운버전의 출력은 1등 몇개, 2등 몇개, 3등 몇개, 4등 몇개, 5등 몇개, 꽝 몇개로 출력\n",
    "---\n",
    "\n",
    "- 랜덤값을 도출하기 위해서는 다음의 코드를 이용한다.\n",
    "\n",
    "import random\n",
    "\n",
    "- i = random.randint(1, 100)  # 1부터 100 사이의 임의의 정수 \n",
    "- f = random.random()   # 0부터 1 사이의 임의의 float\n",
    "- i = random.randrange(1, 101, 2) # 1부터 100 사이의 임의의 짝수\n",
    "- i = random.randrange(10)  # 0부터 9 사이의 임의의 정수\n",
    "---\n",
    "\n",
    "- 추가문제\n",
    "- 1등에 당첨될려면 평균적으로 얼마만큼의 돈을 투자해야 할까요?\n",
    "- 로또 1게임은 1000원입니다."
   ]
  },
  {
   "cell_type": "code",
   "execution_count": null,
   "metadata": {},
   "outputs": [],
   "source": [
    "def getNum(num):\n",
    "    import random\n",
    "\n",
    "    numList = []\n",
    "    n = 0\n",
    "    while n < num:\n",
    "        i = random.randint(1, 46)\n",
    "        if i not in numList:\n",
    "            numList.append(i)\n",
    "        else:\n",
    "            pass\n",
    "        n += 1\n",
    "    \n",
    "    return numList"
   ]
  },
  {
   "cell_type": "code",
   "execution_count": null,
   "metadata": {},
   "outputs": [],
   "source": [
    "# 쉬운 버전\n",
    "def printResult_e(num):\n",
    "    winningList = getNum(num)\n",
    "    result = []\n",
    "    \n",
    "    for i in range(5):\n",
    "        temp = getNum(num)\n",
    "        print(f'내 복권 {i+1}', temp)\n",
    "        count = 0\n",
    "        for a in temp:\n",
    "            if a in winningList:\n",
    "                count += 1\n",
    "            \n",
    "        result.append(count)\n",
    "\n",
    "    print('당첨 복권', winningList)\n",
    "    print('1등 : {}회, 2등 : {}회, 3등 : {}회, 4등 : {}회, 꽝 : {}회'.format(result.count(6),result.count(5),result.count(4),result.count(3),result.count(2)+result.count(1)+result.count(0)))\n",
    "    \n",
    "printResult_e(6)"
   ]
  },
  {
   "cell_type": "code",
   "execution_count": null,
   "metadata": {},
   "outputs": [],
   "source": [
    "# 어려운 버전\n",
    "def printResult_h(num):\n",
    "    winningList = getNum(num)\n",
    "    bouns = winningList[-1]\n",
    "    result = []\n",
    "    \n",
    "    for i in range(5):\n",
    "        temp = getNum(num-1)\n",
    "        print(f'내 복권 {i+1}', temp)\n",
    "        count = 0\n",
    "        for a in temp:\n",
    "            if a in winningList:\n",
    "                count += 1\n",
    "        if count == 5 & bouns in temp:\n",
    "            result.append(count ** 2)\n",
    "        else:\n",
    "            result.append(count)\n",
    "    \n",
    "    print('당첨 복권', winningList)\n",
    "    print('1등 : {}회, 2등 : {}회, 3등 : {}회, 4등 : {}회, 5등 : {}, 꽝 : {}회'.format(result.count(6),result.count(25),result.count(5),result.count(4),result.count(3),result.count(2)+result.count(1)+result.count(0)))\n",
    "\n",
    "printResult_h(7)"
   ]
  },
  {
   "cell_type": "markdown",
   "metadata": {},
   "source": [
    "## 문제 5.\n",
    "- 어떤 수를 소수의 곱으로만 나타내는 것을 소인수분해라 하고, 이 소수들을 그 수의 소인수라고 합니다.\n",
    "- 예를 들면 13195의 소인수는 5, 7, 13, 29 입니다.\n",
    "\n",
    "- 600851475143의 소인수 중에서 가장 큰 수를 구하세요.\n",
    "\n",
    "정답 : 6857 "
   ]
  },
  {
   "cell_type": "code",
   "execution_count": 27,
   "metadata": {},
   "outputs": [],
   "source": [
    "prime = []\n",
    "\n",
    "# 2부터 자기자신까지의 리스트 생성\n",
    "target = 13195\n",
    "data = [i+2 for i in range(target-1)]"
   ]
  },
  {
   "cell_type": "code",
   "execution_count": 26,
   "metadata": {},
   "outputs": [],
   "source": [
    "prime = []\n",
    "data = [2,3,4,5,6,7,8,9,10,11,12,13]"
   ]
  },
  {
   "cell_type": "markdown",
   "metadata": {},
   "source": [
    "## 문제 6.\n",
    "- 앞에서부터 읽을 때나 뒤에서부터 읽을 때나 모양이 같은 수를 대칭수(palindrome)라고 부릅니다.\n",
    "\n",
    "- 두 자리 수를 곱해 만들 수 있는 대칭수 중 가장 큰 수는 9009 (= 91 × 99) 입니다.\n",
    "\n",
    "- 세 자리 수를 곱해 만들 수 있는 가장 큰 대칭수를 구하세요\n",
    "\n",
    "정답 : 906609"
   ]
  },
  {
   "cell_type": "code",
   "execution_count": 7,
   "metadata": {},
   "outputs": [
    {
     "name": "stdout",
     "output_type": "stream",
     "text": [
      "906609\n"
     ]
    }
   ],
   "source": [
    "palindrome = []\n",
    "\n",
    "for i in range(100, 1000):\n",
    "    for j in range(100, 1000):\n",
    "        resultList = []\n",
    "        temp = str(i * j)\n",
    "        \n",
    "        for k in range(len(temp)):\n",
    "            resultList.append(temp[k] == temp[-(k+1)])\n",
    "            \n",
    "        if False not in resultList:\n",
    "            palindrome.append(int(temp))\n",
    "\n",
    "palindrome.sort()           \n",
    "print(palindrome[-1])"
   ]
  },
  {
   "cell_type": "markdown",
   "metadata": {},
   "source": [
    "## 문제 7.\n",
    "- 1 ~ 10 사이의 어떤 수로도 나누어 떨어지는 가장 작은 수는 2520입니다.\n",
    "   \n",
    "- 그러면 1 ~ 20 사이의 어떤 수로도 나누어 떨어지는 가장 작은 수는 얼마입니까?\n",
    "\n",
    "정답 : 232792560"
   ]
  },
  {
   "cell_type": "code",
   "execution_count": null,
   "metadata": {},
   "outputs": [],
   "source": []
  },
  {
   "cell_type": "markdown",
   "metadata": {},
   "source": [
    "## 문제 8.\n",
    "- 1부터 10까지 자연수를 각각 제곱해 더하면 다음과 같습니다 (제곱의 합).\n",
    "- 1^2 + 2^2 + ... + 10^2 = 385\n",
    "\n",
    "- 1부터 10을 먼저 더한 다음에 그 결과를 제곱하면 다음과 같습니다 (합의 제곱).\n",
    "- (1 + 2 + ... + 10)^2 = 552 = 3025\n",
    "\n",
    "- 따라서 1부터 10까지 자연수에 대해 \"합의 제곱\"과 \"제곱의 합\"의 차이는 3025 - 385 = 2640 이 됩니다.\n",
    "\n",
    "- 그러면 1부터 100까지 자연수에 대해 \"합의 제곱\"과 \"제곱의 합\"의 차이는 얼마입니까?\n",
    "\n",
    "정답 : 25164150"
   ]
  },
  {
   "cell_type": "code",
   "execution_count": 30,
   "metadata": {},
   "outputs": [
    {
     "name": "stdout",
     "output_type": "stream",
     "text": [
      "25164150\n"
     ]
    }
   ],
   "source": [
    "sumofsquare = 0\n",
    "squaredsum = 0\n",
    "for i in range(1,101):\n",
    "    sumofsquare += i**2\n",
    "    squaredsum += i\n",
    "\n",
    "print((squaredsum**2) - sumofsquare)"
   ]
  },
  {
   "cell_type": "markdown",
   "metadata": {},
   "source": [
    "## 문제 9.\n",
    "- 소수를 크기 순으로 나열하면 2, 3, 5, 7, 11, 13, ... 과 같이 됩니다.\n",
    "\n",
    "- 이 때 10,001번째의 소수를 구하세요.\n",
    "\n",
    "정답 : 104743"
   ]
  },
  {
   "cell_type": "code",
   "execution_count": null,
   "metadata": {},
   "outputs": [],
   "source": []
  },
  {
   "cell_type": "markdown",
   "metadata": {},
   "source": [
    "## 문제 10.\n",
    "- 세 자연수 a, b, c 가 피타고라스 정리 a^2 + b^2 = c^2 를 만족하면 피타고라스 수라고 부릅니다 (여기서 a < b < c ).\n",
    "- 예를 들면 3^2 + 4^2 = 9 + 16 = 25 = 5^2이므로 3, 4, 5는 피타고라스 수입니다.\n",
    "\n",
    "- a + b + c = 1000 인 피타고라스 수 a, b, c는 한 가지 뿐입니다. \n",
    "- 이 때, a × b × c 는 얼마입니까?\n",
    "\n",
    "정답 : 31875000"
   ]
  },
  {
   "cell_type": "code",
   "execution_count": null,
   "metadata": {},
   "outputs": [],
   "source": []
  }
 ],
 "metadata": {
  "kernelspec": {
   "display_name": "Python [conda env:data_env] *",
   "language": "python",
   "name": "conda-env-data_env-py"
  },
  "language_info": {
   "codemirror_mode": {
    "name": "ipython",
    "version": 3
   },
   "file_extension": ".py",
   "mimetype": "text/x-python",
   "name": "python",
   "nbconvert_exporter": "python",
   "pygments_lexer": "ipython3",
   "version": "3.7.9"
  }
 },
 "nbformat": 4,
 "nbformat_minor": 4
}
