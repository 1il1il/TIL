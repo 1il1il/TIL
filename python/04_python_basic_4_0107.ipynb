{
 "cells": [
  {
   "cell_type": "markdown",
   "metadata": {},
   "source": [
    "# python 객체지향\n",
    "---\n",
    "\n",
    "## 1. instance"
   ]
  },
  {
   "cell_type": "code",
   "execution_count": null,
   "metadata": {},
   "outputs": [],
   "source": [
    "# object 안써도 됨\n",
    "class Student(object):\n",
    "    # class variable\n",
    "    # student class의 instance는 아래 변수를 모두 공유한다\n",
    "    scholarship_rate = 3.0\n",
    "    \n",
    "    # self : instance의 메모리 공간의 시작 주소할당\n",
    "    def __init__(self, name, dept):\n",
    "        # instance variable\n",
    "        # 각각의 instance 마다 다른 값을 가진다\n",
    "        self.name = name\n",
    "        self.dept = dept\n",
    "        \n",
    "    # instance method\n",
    "    def get_student_info(self):\n",
    "        return '이름은 : {}, 학과는 : {} 예요.'.format(self.name, self.dept)\n",
    "    \n",
    "\n",
    "stu1 = Student('홍길동', '철학')\n",
    "stu2 = Student('신사임당', '컴퓨터')\n",
    "\n",
    "# 본래 객체지향에서는 instance가 가지고 있는 property와 method만 사용 가능\n",
    "# 현재 stu1 instance는 2개의 property와 1개의 method를 가지고 있다\n",
    "# 하지만 object class를 상속하여 더 많은 property와 method를 가지고 있다\n",
    "\n",
    "print(stu1.name)\n",
    "stu1.name = '강감찬'\n",
    "print(stu1.name)\n",
    "\n",
    "# class variable를 변경\n",
    "print(stu1.scholarship_rate)\n",
    "stu1.scholarship_rate = 3.5\n",
    "\n",
    "# class variable를 변경? 아니다 stu1의 값만 바뀐것이다\n",
    "# 정확히 stu1의 instance variable에 scholarship_rate라는 새로운 variabledl 추가되는 것\n",
    "\n",
    "# instance variable 가져오기\n",
    "print(stu1.scholarship_rate)\n",
    "\n",
    "# instance variable에 없어서 class variable 가져오기\n",
    "print(stu2.scholarship_rate)\n",
    "\n",
    "# class로 접근해서 값을 변경해야 한다\n",
    "# 그래야 모든 instance에 적용이 된다\n",
    "Student.scholarship_rate = 3.5\n",
    "\n",
    "# namespace를 알면 이해 할 수 있다"
   ]
  },
  {
   "cell_type": "markdown",
   "metadata": {},
   "source": [
    "## 2. 상속(inherittance)\n",
    "- 객체지향의 꽃 => 재사용성 확보\n",
    "- 상속은 상위 클래스의 특징을 이어받아서 확장된 하위 클래스 만드는 방법\n",
    "- 코드의 재사용성에 장점\n",
    "\n",
    "- 상속을 이용하면 클래스간 계층관계가 성립\n",
    "- 상위 클래스 = 상속을 내려주는 클래스\n",
    "- 상위 클래스 = *super class*, upper class, parent class, 부모 클래스 ...\n",
    "- 하위 클래스 = 상속을 받아 확장하는 클래스\n",
    "- 하위 클래스 = sub class, child class, 자식 클래스 ...\n",
    "\n",
    "- namespace는 instance들의 요소들을 나누어서 관리하는 메모리 공간\n",
    "- 우리가 속성이나 method를 이용할때 계층구조를 이용해서(namespace를 따라가면서) 속성과  method를 찾는다\n",
    "- instance namespace > class namespace > super class namespace ..."
   ]
  },
  {
   "cell_type": "code",
   "execution_count": null,
   "metadata": {},
   "outputs": [],
   "source": [
    "class Student(object):\n",
    "    scholarship_rate = 3.0\n",
    "    \n",
    "    def __init__(self, name, dept, grade):\n",
    "        self.name = name # public\n",
    "        self.__dept = dept #privat으로 설정해서 직접 접근하지 못함\n",
    "        self.grade = grade\n",
    "        \n",
    "    def get_student_info(self):\n",
    "        return '이름은 : {}, 학과는 : {} 예요.'.format(self.name, self.dept)\n",
    "    \n",
    "    def is_scholarship(self):\n",
    "        # Student.scholarship_rate => self.scholarship_rate로 써도 작동함\n",
    "        if self.grade >= Student.scholarship_rate:\n",
    "            return True\n",
    "        else:\n",
    "            return False\n",
    "            \n",
    "    def change_info(self, name, dept):\n",
    "        self.name = name\n",
    "        self.dept = dept\n",
    "    \n",
    "    # class method를 만들기위해 특수한 데코레이터를 이용해야한다\n",
    "    # 특수한 형식의 표기법\n",
    "    @classmethod\n",
    "    def change_scholarship_rate(cls, rate):\n",
    "        cls.scholarship_rate = rate\n",
    "        \n",
    "    # static method를 만들려면 특수한 테코레이터 필요\n",
    "    # self, cls같은 인자 필요 없다\n",
    "    @staticmethod\n",
    "    def print_hello():\n",
    "        print('Hello')\n",
    "\n",
    "stu1 = Student('홍길동', '철학', 2.0)\n",
    "stu2 = Student('신사임당', '컴퓨터', 4.0)\n",
    "\n",
    "print(stu1.is_scholarship())\n",
    "print(stu2.is_scholarship())\n",
    "\n",
    "# ionstace의 variable에 접근하여 변경하는게 가능\n",
    "# 이게 옳은 방법인가?\n",
    "stu1.name = ''\n",
    "\n",
    "# instance가 가지고 있는 property은 외부에서 직접적인 변경이 불가능 하도록 코드를 작성하는 것이 좋다.\n",
    "# method를 통해서 변경하도록 만드는게 좋다\n",
    "stu1.change_info('강감찬', '영어영문')\n",
    "\n",
    "# class method 사용\n",
    "Student.change_scholarship_rate(4.0)"
   ]
  },
  {
   "cell_type": "code",
   "execution_count": null,
   "metadata": {},
   "outputs": [],
   "source": [
    "# 원래 없는 property를 만들기, 새로운 property을 동적으로 추가 가능\n",
    "# 파이썬은 이게 가능하다(자바스크립트와 유사)\n",
    "stu1.names = '이황'\n",
    "print(stu1.names)\n",
    "print(stu1.get_student_info())\n",
    "\n",
    "# class 안에 있는 method이고 할당된 메모리 블럭이 어디인지 출력\n",
    "print(stu1.get_student_info)\n",
    "\n",
    "# 함수 추가\n",
    "def my_func():\n",
    "    pass\n",
    "\n",
    "stu1.my_func = my_func\n",
    "\n",
    "# 이렇게 동적으로 추가하는게 가능은 하지만 좋은 방법은 아니다"
   ]
  },
  {
   "cell_type": "markdown",
   "metadata": {},
   "source": [
    "- __init__()에서만 instance variable을 만들수 있는건 아니다\n",
    "- __init__()은 초기화하는 것이고, 다른 곳에서 변수를 추가할 수도 있다\n",
    "\n",
    "\n",
    "- instance method에서 self를 인자로 받아서 사용\n",
    "    - ex) def is_scholarship(**self**)\n",
    "- instance를 생성, 변경, 참조하기 위해서 사용\n",
    "\n",
    "- class variable를 생성, 변경, 참조하기 위해 class method를 이용\n",
    "- class method는 cls를 인자로 받는다 = cls는 class를 지칭\n",
    "---\n",
    "\n",
    "## public vs private\n",
    "- public : property와 method를 어디에서나 사용할 수 있는 경우\n",
    "    - ex) stu1.name = '이황'  - 바람직하지 않지만 틀린건 아님\n",
    "    - ex) stu1.change_info('이이', '영어영문')처럼 method를 이용해서 변경\n",
    "- 기본적으로 python은 instance variable과 method를 public으로 지정\n",
    "- private의 경우 같은 class내의 다른 method에서만 사용할 수 있다\n",
    "- private으로 지정하기 위해선 variable과 method앞에 __를 붙이면 된다"
   ]
  },
  {
   "cell_type": "code",
   "execution_count": 1,
   "metadata": {},
   "outputs": [],
   "source": [
    "class Student(object):\n",
    "    scholarship_rate = 3.0\n",
    "    \n",
    "    def __init__(self, name, dept, grade):\n",
    "        self.name = name # public\n",
    "        self.__dept = dept #privat으로 설정해서 직접 접근하지 못함\n",
    "        self.grade = grade\n",
    "        \n",
    "stu1 = Student('홍길동', '철학', 2.0)\n",
    "stu1.__dept = ''"
   ]
  },
  {
   "cell_type": "markdown",
   "metadata": {},
   "source": [
    "## 상속\n",
    "- 한번 정의한 class를 필요에 따라 재활용하기 위해서\n",
    "- 코드의 반복을 줄이고, compact한 코드를 작성하기 위해서\n",
    "- 단점으로 class를 재활용하기 위해선 독립적인 class인 경우 더 좋다\n",
    "- 상위 클래스와 하위 클래스가 서로 긴밀하게 연결(tightly coupled)\n",
    "- 게임 캐릭터를 이용한 예시\n",
    "- 상위 클래스 1개 하위 클래스 1개"
   ]
  },
  {
   "cell_type": "code",
   "execution_count": 5,
   "metadata": {},
   "outputs": [
    {
     "name": "stdout",
     "output_type": "stream",
     "text": [
      "Unit\n"
     ]
    }
   ],
   "source": [
    "class Unit(object):\n",
    "    def __init__(self, damage, life):\n",
    "        # class의 이름을 갖는 property\n",
    "        # 현재 instance의 class를 지칭하는 property(__class__)\n",
    "        # class의 이름(__name__)\n",
    "        self.utype = self.__class__.__name__ \n",
    "        self.damage = damage\n",
    "        self.life = life\n",
    "\n",
    "my_unit = Unit(100, 200)\n",
    "print(my_unit.utype)"
   ]
  },
  {
   "cell_type": "markdown",
   "metadata": {},
   "source": [
    "- 하위 클래스, sub class "
   ]
  },
  {
   "cell_type": "code",
   "execution_count": 6,
   "metadata": {},
   "outputs": [
    {
     "name": "stdout",
     "output_type": "stream",
     "text": [
      "100\n",
      "Marine\n"
     ]
    }
   ],
   "source": [
    "class Marine(Unit):\n",
    "    pass\n",
    "\n",
    "# 자신의 init이 없다면 상위 class의 init을 그대로 이용\n",
    "marine_1 = Marine(100, 200)\n",
    "print(marine_1.damage)\n",
    "print(marine_1.utype)"
   ]
  },
  {
   "cell_type": "code",
   "execution_count": 7,
   "metadata": {},
   "outputs": [
    {
     "name": "stdout",
     "output_type": "stream",
     "text": [
      "100\n",
      "Marine\n",
      "2\n"
     ]
    }
   ],
   "source": [
    "class Marine(Unit):\n",
    "    def __init__(self, damage, life, offense_upgrade):\n",
    "        # 상위 class를 찾아가시오\n",
    "        super(Marine, self).__init__(damage, life)\n",
    "        self.offense_upgrade = offense_upgrade\n",
    "\n",
    "marine_1 = Marine(100, 200, 2)\n",
    "print(marine_1.damage)\n",
    "print(marine_1.utype)\n",
    "print(marine_1.offense_upgrade)"
   ]
  },
  {
   "cell_type": "markdown",
   "metadata": {},
   "source": [
    "## 3.  magic function\n",
    "- class안에 들어있는 magic function(__로 시작하는)\n",
    "- __init_(), __str_(), __del_(), __it_()\n",
    "- 이 magic function의 특징은 일반적으로 우리가 직접 호출하지 않는다\n",
    "- 특정 상황이 되면 자동적으로(내부적으로) 호출된다"
   ]
  },
  {
   "cell_type": "code",
   "execution_count": null,
   "metadata": {},
   "outputs": [],
   "source": [
    "class Student(object):\n",
    "    def __init__(self, name, dept, grade):\n",
    "        print('객체가 생성됩니다')\n",
    "        self.name = name\n",
    "        self.dept = dept\n",
    "        self.grade = grade\n",
    "    \n",
    "    # instance가 메모리에서 삭제될때 호출\n",
    "    def __del__(self):\n",
    "        print('객체가 지워집니다')\n",
    "        # instance가 삭제될 때 이 instance가 사용한 resource를 해제\n",
    "    \n",
    "    # 이 class로 부터 파생된 instance가 문자열로 변경될때 호출\n",
    "    def __str__(self):\n",
    "        return '이름은 : {}, 학과는 : {}'.format(self.name, self.dept)\n",
    "    \n",
    "    # > 연산자가 있을때 호출\n",
    "    def __gt__(self, other):\n",
    "        if self.grade > other.grade:\n",
    "            return True\n",
    "        else:\n",
    "            return False\n",
    "        \n",
    "    # < 연산자가 있을때 호출\n",
    "    def __lt__(self, other):\n",
    "        if self.grade < other.grade:\n",
    "            return True\n",
    "        else:\n",
    "            return False\n",
    "        \n",
    "stu1 = Student('홍길동','영어영문', 3.0)\n",
    "stu2 = Student('신사임당','철학', 4.0)\n",
    "\n",
    "\n",
    "\n",
    "# 메모리 주소값이 출력되는 것이 원래 동작\n",
    "# 하지만 특정한 문자열을 출력하고 싶은 경우 __str__()을 이용\n",
    "print(stu1)\n",
    "\n",
    "del stu1\n",
    "\n",
    "# 학점 비교하기\n",
    "print(stu1 > stu2)\n",
    "print(stu1 < stu2)"
   ]
  },
  {
   "cell_type": "markdown",
   "metadata": {},
   "source": [
    "## module\n",
    "- module : function나 variablr 혹은 class를 모아놓은 파일을 지칭\n",
    "- 확장자가 .py로 끝나는 python 소스코드는 무조건 module\n",
    "- jupyter notevook의 확장자인 .ipynb는 module이 아니다\n",
    "- module은 다른 python 파일을 불러와서 우리 코드에서 이용할 수 있도록 해주는 기능\n",
    "- module을 이용하는 이유(파일을 나누어서 작성하는 이유)\n",
    "    - 코드의 재사용성을 높이고 관리를 쉽게 하기 위함\n",
    "- module을 사용하는 방법\n",
    "    - import: 모듈을 불러들이는 키워드, 파일을 객체화 시켜서 우리 코드가 사용하는 메모리에 로드\n",
    "    - 윈도우의 환경변수 하나를 생성해서 특정 폴더를 지정해서 그 안에 python 파일을 작성하면 그것을 모듈로 사용할 수 있다"
   ]
  },
  {
   "cell_type": "code",
   "execution_count": null,
   "metadata": {},
   "outputs": [],
   "source": [
    "# import를 이용해서 module을 사용하면 모듈이 객체화되서 들어옴\n",
    "import module1 as m1\n",
    "\n",
    "print(m1.my_pi)\n",
    "print(m1.my_sum(10, 20))"
   ]
  },
  {
   "cell_type": "markdown",
   "metadata": {},
   "source": [
    "- 다양한 module을 불러오는 방법"
   ]
  },
  {
   "cell_type": "code",
   "execution_count": null,
   "metadata": {},
   "outputs": [],
   "source": [
    "from module1 import my_pi\n",
    "\n",
    "print(my_pi)"
   ]
  },
  {
   "cell_type": "code",
   "execution_count": null,
   "metadata": {},
   "outputs": [],
   "source": [
    "import network.my_sub_floder.my_network_module as m1\n",
    "\n",
    "print(m1.variable1)"
   ]
  },
  {
   "cell_type": "code",
   "execution_count": null,
   "metadata": {},
   "outputs": [],
   "source": [
    "from network.my_sub_folder import my_network_module\n",
    "\n",
    "print(my_network_module.variable1)"
   ]
  }
 ],
 "metadata": {
  "kernelspec": {
   "display_name": "Python [conda env:data_env] *",
   "language": "python",
   "name": "conda-env-data_env-py"
  },
  "language_info": {
   "codemirror_mode": {
    "name": "ipython",
    "version": 3
   },
   "file_extension": ".py",
   "mimetype": "text/x-python",
   "name": "python",
   "nbconvert_exporter": "python",
   "pygments_lexer": "ipython3",
   "version": "3.7.9"
  }
 },
 "nbformat": 4,
 "nbformat_minor": 4
}
