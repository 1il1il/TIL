{
 "cells": [
  {
   "cell_type": "markdown",
   "metadata": {},
   "source": [
    "- pandas는 2개의 자료구조를 사용\n",
    "- numpy를 기본으로 그 위에 Series와 Dataframe이라는 자료구조를 정의하여 사용\n",
    "---\n",
    "\n",
    "1. Series :  동일한 데이터 타입의 복수개의 성분으로 구성\n",
    "2. Dataframe : Table 형식으로 데이터를 저장하는 자료구조\n",
    "\n",
    "- pandas는 따로 설치해야함"
   ]
  },
  {
   "cell_type": "code",
   "execution_count": 3,
   "metadata": {},
   "outputs": [],
   "source": [
    "import numpy as np\n",
    "import pandas as pd"
   ]
  },
  {
   "cell_type": "markdown",
   "metadata": {},
   "source": [
    "- Series\n",
    "- ndarray와 비슷하다\n",
    "- 1차원 자료구조, 같은 데이터 타입이 들어온다"
   ]
  },
  {
   "cell_type": "code",
   "execution_count": 7,
   "metadata": {},
   "outputs": [
    {
     "name": "stdout",
     "output_type": "stream",
     "text": [
      "[1. 2. 3. 4. 5.]\n",
      "[1 3.14 True 'Hello']\n"
     ]
    }
   ],
   "source": [
    "arr = np.array([1,2,3,4,5], dtype=np.float64)\n",
    "print(arr)\n",
    "# 결국 문자열로 바뀜\n",
    "arr = np.array([1, 3.14, True, 'Hello'], dtype=np.object)\n",
    "print(arr)"
   ]
  },
  {
   "cell_type": "code",
   "execution_count": 12,
   "metadata": {},
   "outputs": [
    {
     "name": "stdout",
     "output_type": "stream",
     "text": [
      "0    1.0\n",
      "1    2.0\n",
      "2    3.0\n",
      "3    4.0\n",
      "4    5.0\n",
      "dtype: float64\n",
      "Series의 값만 가져오기 : [1. 2. 3. 4. 5.]\n",
      "Series의 인덱스만 가져오기 : RangeIndex(start=0, stop=5, step=1)\n"
     ]
    }
   ],
   "source": [
    "# ndarray와 조금 다름, 1차원 자료구조\n",
    "s = pd.Series([1,2,3,4,5], dtype=np.float64)\n",
    "print(s)\n",
    "print('Series의 값만 가져오기 : {}'.format(s.values))\n",
    "print('Series의 index만 가져오기 : {}'.format(s.index))"
   ]
  },
  {
   "cell_type": "code",
   "execution_count": 15,
   "metadata": {},
   "outputs": [
    {
     "name": "stdout",
     "output_type": "stream",
     "text": [
      "a     1\n",
      "b     5\n",
      "c     8\n",
      "d    10\n",
      "dtype: int32\n",
      "5\n",
      "5\n"
     ]
    }
   ],
   "source": [
    "s = pd.Series([1,5,8,10], \n",
    "              dtype=np.int32,\n",
    "             index=['a','b','c','d'])\n",
    "print(s)\n",
    "# 이때 5라는 값을 출력할려면?\n",
    "# 숫자 인덱스도 같이 사용가능\n",
    "\n",
    "print(s['b'])\n",
    "print(s[1])"
   ]
  },
  {
   "cell_type": "code",
   "execution_count": 29,
   "metadata": {},
   "outputs": [
    {
     "name": "stdout",
     "output_type": "stream",
     "text": [
      "a     1\n",
      "b     5\n",
      "a     8\n",
      "d    10\n",
      "dtype: int32\n",
      "a    1\n",
      "a    8\n",
      "dtype: int32\n",
      "<class 'pandas.core.series.Series'>\n"
     ]
    }
   ],
   "source": [
    "# 만약 인덱스를 동일하게 설정했다면\n",
    "# 내부 숫자 인덱스가 있어 가능\n",
    "s = pd.Series([1,5,8,10], \n",
    "              dtype=np.int32,\n",
    "             index=['a','b','a','d'])\n",
    "print(s)\n",
    "result = s['a']\n",
    "print(result)\n",
    "print(type(result))"
   ]
  },
  {
   "cell_type": "code",
   "execution_count": 31,
   "metadata": {},
   "outputs": [
    {
     "name": "stdout",
     "output_type": "stream",
     "text": [
      "a     True\n",
      "a    False\n",
      "dtype: bool\n"
     ]
    }
   ],
   "source": [
    "print(s['a']+s['b'] < 10)"
   ]
  },
  {
   "cell_type": "code",
   "execution_count": 36,
   "metadata": {},
   "outputs": [
    {
     "name": "stdout",
     "output_type": "stream",
     "text": [
      "a    1\n",
      "1    5\n",
      "c    8\n",
      "dtype: int32\n",
      "a     1\n",
      "1     5\n",
      "c     8\n",
      "d    10\n",
      "dtype: int32\n"
     ]
    }
   ],
   "source": [
    "# Slicing\n",
    "s = pd.Series([1,5,8,10], \n",
    "              dtype=np.int32,\n",
    "              index=['a', 1, 'c','d'])\n",
    "print(s[0:3])\n",
    "# 내가 지정한 index로 하면 마지막까지 포함한다\n",
    "# 어차피 내장된 숫자 index를 이용하여 출력하는거 같음\n",
    "print(s['a':'d'])"
   ]
  },
  {
   "cell_type": "code",
   "execution_count": 39,
   "metadata": {},
   "outputs": [
    {
     "name": "stdout",
     "output_type": "stream",
     "text": [
      "a    1\n",
      "c    8\n",
      "dtype: int32\n",
      "a    1\n",
      "c    8\n",
      "dtype: int32\n"
     ]
    }
   ],
   "source": [
    "# fancy indexing\n",
    "s = pd.Series([1,5,8,10], \n",
    "              dtype=np.int32,\n",
    "              index=['a', 'b', 'c','d'])\n",
    "print(s[[0,2]])\n",
    "print(s[['a','c']])\n",
    "# 내부 숫자 인덱스보다 내가 지정한 인덱스가 우선인거 같음\n",
    "# 인덱스에 숫자를 섞어서 지정하면 숫자를 이용한 fancy indexing이 제대로 안됨"
   ]
  },
  {
   "cell_type": "code",
   "execution_count": 40,
   "metadata": {},
   "outputs": [
    {
     "name": "stdout",
     "output_type": "stream",
     "text": [
      "c     8\n",
      "d    10\n",
      "dtype: int32\n"
     ]
    }
   ],
   "source": [
    "# boolean indxing\n",
    "print(s[s%2==0])"
   ]
  },
  {
   "cell_type": "code",
   "execution_count": 48,
   "metadata": {},
   "outputs": [
    {
     "name": "stdout",
     "output_type": "stream",
     "text": [
      "x      21\n",
      "h      55\n",
      "g    True\n",
      "e      33\n",
      "a      11\n",
      "dtype: object\n"
     ]
    }
   ],
   "source": [
    "# 인덱스 정렬\n",
    "s = pd.Series([11,21,33,True,'55'], dtype=np.object, index=['a','x','e','g','h'])\n",
    "s.sort_index(ascending=False)\n",
    "print(s.sort_index(ascending=False))"
   ]
  },
  {
   "cell_type": "code",
   "execution_count": null,
   "metadata": {},
   "outputs": [],
   "source": [
    "# 집계함수"
   ]
  },
  {
   "cell_type": "code",
   "execution_count": 51,
   "metadata": {},
   "outputs": [
    {
     "name": "stdout",
     "output_type": "stream",
     "text": [
      "24\n"
     ]
    }
   ],
   "source": [
    "s = pd.Series([1,5,8,10], \n",
    "              dtype=np.int32,\n",
    "              index=['a', 'b', 'c','d'])\n",
    "print(s.sum())"
   ]
  },
  {
   "cell_type": "markdown",
   "metadata": {},
   "source": [
    "- 날짜 데이터\n",
    "- A 공장의 2020-01-01부터 10일간 생산량을 Series로 저장\n",
    "- 생산량은 평균이 50이고 표준편차가 5인 정규분포에서 랜덤하게 생성(정수)\n",
    "    - 2020-01-01 50\n",
    "    - 2020-01-02 49\n",
    "    - ...\n",
    "- B 공장의 2020-01-01부터 10일간 생산량을 Series로 저장\n",
    "- 생산량은 평균이 70이고 표준편차가 8인 정규분포에서 랜덤하게 생성(정수)\n",
    "\n",
    "- 날짜별 모든 공장의 생산량 합계 구하기"
   ]
  },
  {
   "cell_type": "code",
   "execution_count": 60,
   "metadata": {},
   "outputs": [
    {
     "name": "stdout",
     "output_type": "stream",
     "text": [
      "2020-01-01    58\n",
      "2020-01-02    46\n",
      "2020-01-03    47\n",
      "2020-01-04    44\n",
      "2020-01-05    54\n",
      "2020-01-06    38\n",
      "2020-01-07    58\n",
      "2020-01-08    46\n",
      "2020-01-09    51\n",
      "2020-01-10    48\n",
      "dtype: int32\n",
      "2020-01-05    81\n",
      "2020-01-06    53\n",
      "2020-01-07    67\n",
      "2020-01-08    66\n",
      "2020-01-09    79\n",
      "2020-01-10    61\n",
      "2020-01-11    68\n",
      "2020-01-12    62\n",
      "2020-01-13    70\n",
      "2020-01-14    74\n",
      "dtype: int32\n"
     ]
    }
   ],
   "source": [
    "from datetime import datetime, timedelta\n",
    "\n",
    "\n",
    "np.random.seed(1)\n",
    "start_day = datetime(2020,1,1)\n",
    "# 날짜연산은 일반적으로 함수를 이용하여 일, 월, 연단위로 증감연산 \n",
    "# 또한 주단위로 증감연산 가능\n",
    "\n",
    "factory_A = pd.Series([int(x) for x in np.random.normal(50,5,(10,))],\n",
    "                      dtype=np.int32,\n",
    "                      index=[start_day + timedelta(days=x) for x in range(10)])\n",
    "print(factory_A)\n",
    "\n",
    "start_day = datetime(2020,1,5)\n",
    "factory_B = pd.Series([int(x) for x in np.random.normal(70,8,(10,))],\n",
    "                      dtype=np.int32,\n",
    "                      index=[start_day + timedelta(days=x) for x in range(10)])\n",
    "print(factory_B)"
   ]
  },
  {
   "cell_type": "code",
   "execution_count": 61,
   "metadata": {},
   "outputs": [
    {
     "name": "stdout",
     "output_type": "stream",
     "text": [
      "2020-01-01      NaN\n",
      "2020-01-02      NaN\n",
      "2020-01-03      NaN\n",
      "2020-01-04      NaN\n",
      "2020-01-05    135.0\n",
      "2020-01-06     91.0\n",
      "2020-01-07    125.0\n",
      "2020-01-08    112.0\n",
      "2020-01-09    130.0\n",
      "2020-01-10    109.0\n",
      "2020-01-11      NaN\n",
      "2020-01-12      NaN\n",
      "2020-01-13      NaN\n",
      "2020-01-14      NaN\n",
      "dtype: float64\n"
     ]
    }
   ],
   "source": [
    "# Series를 연산은 같은 index를 기반으로 진행된다\n",
    "print(factory_A + factory_B)\n",
    "# NaN : Not a Number"
   ]
  },
  {
   "cell_type": "markdown",
   "metadata": {},
   "source": [
    "- Series를 리스트를 이용해서 만들고 있음\n",
    "- Series를 dict를 이용해서도 만들수 있아"
   ]
  },
  {
   "cell_type": "code",
   "execution_count": 65,
   "metadata": {},
   "outputs": [
    {
     "name": "stdout",
     "output_type": "stream",
     "text": [
      "서울    1000\n",
      "인천    2000\n",
      "수원    3000\n",
      "dtype: int64\n",
      "서울    1000\n",
      "인천    2000\n",
      "수원    3000\n",
      "Name: 지역별 가격 데이터, dtype: int64\n",
      "Index(['서울', '인천', '수원'], dtype='object')\n",
      "Seoul     1000\n",
      "Inchon    2000\n",
      "Suwon     3000\n",
      "Name: 지역별 가격 데이터, dtype: int64\n",
      "Region\n",
      "Seoul     1000\n",
      "Inchon    2000\n",
      "Suwon     3000\n",
      "Name: 지역별 가격 데이터, dtype: int64\n"
     ]
    }
   ],
   "source": [
    "my_dict = {'서울' : 1000, '인천' : 2000, '수원' : 3000}\n",
    "\n",
    "s = pd.Series(my_dict)\n",
    "print(s)\n",
    "\n",
    "s.name = '지역별 가격 데이터'\n",
    "print(s)\n",
    "print(s.index)\n",
    "# 인덱스는 리스트와 다른 객체지만 사용법은 유사하다\n",
    "s.index = ['Seoul', 'Inchon', 'Suwon']\n",
    "print(s)\n",
    "s.index.name = 'Region'\n",
    "print(s)"
   ]
  },
  {
   "cell_type": "markdown",
   "metadata": {},
   "source": [
    "- Dataframe을 만드는 방법\n",
    "- dict를 이용해서 dataframe만들기"
   ]
  },
  {
   "cell_type": "code",
   "execution_count": 73,
   "metadata": {},
   "outputs": [
    {
     "name": "stdout",
     "output_type": "stream",
     "text": [
      "   name  year  point\n",
      "0   홍길동  2015    3.5\n",
      "1  신사임당  2016    1.4\n",
      "2   김연아  2019    2.0\n",
      "3   강감찬  2016    4.5\n"
     ]
    },
    {
     "data": {
      "text/html": [
       "<div>\n",
       "<style scoped>\n",
       "    .dataframe tbody tr th:only-of-type {\n",
       "        vertical-align: middle;\n",
       "    }\n",
       "\n",
       "    .dataframe tbody tr th {\n",
       "        vertical-align: top;\n",
       "    }\n",
       "\n",
       "    .dataframe thead th {\n",
       "        text-align: right;\n",
       "    }\n",
       "</style>\n",
       "<table border=\"1\" class=\"dataframe\">\n",
       "  <thead>\n",
       "    <tr style=\"text-align: right;\">\n",
       "      <th></th>\n",
       "      <th>name</th>\n",
       "      <th>year</th>\n",
       "      <th>point</th>\n",
       "    </tr>\n",
       "  </thead>\n",
       "  <tbody>\n",
       "    <tr>\n",
       "      <th>0</th>\n",
       "      <td>홍길동</td>\n",
       "      <td>2015</td>\n",
       "      <td>3.5</td>\n",
       "    </tr>\n",
       "    <tr>\n",
       "      <th>1</th>\n",
       "      <td>신사임당</td>\n",
       "      <td>2016</td>\n",
       "      <td>1.4</td>\n",
       "    </tr>\n",
       "    <tr>\n",
       "      <th>2</th>\n",
       "      <td>김연아</td>\n",
       "      <td>2019</td>\n",
       "      <td>2.0</td>\n",
       "    </tr>\n",
       "    <tr>\n",
       "      <th>3</th>\n",
       "      <td>강감찬</td>\n",
       "      <td>2016</td>\n",
       "      <td>4.5</td>\n",
       "    </tr>\n",
       "  </tbody>\n",
       "</table>\n",
       "</div>"
      ],
      "text/plain": [
       "   name  year  point\n",
       "0   홍길동  2015    3.5\n",
       "1  신사임당  2016    1.4\n",
       "2   김연아  2019    2.0\n",
       "3   강감찬  2016    4.5"
      ]
     },
     "metadata": {},
     "output_type": "display_data"
    }
   ],
   "source": [
    "my_dict = {'name' : ['홍길동', '신사임당', '김연아', '강감찬'], \n",
    "           'year' : [2015, 2016, 2019, 2016], \n",
    "           'point' : [3.5, 1.4, 2.0, 4.5]}\n",
    "df = pd.DataFrame(my_dict)\n",
    "# dataframe을 출력할땐 print보다 display를 이용\n",
    "print(df)\n",
    "display(df)"
   ]
  },
  {
   "cell_type": "code",
   "execution_count": 78,
   "metadata": {},
   "outputs": [
    {
     "name": "stdout",
     "output_type": "stream",
     "text": [
      "(4, 3)\n",
      "12\n",
      "2\n",
      "RangeIndex(start=0, stop=4, step=1)\n",
      "Index(['name', 'year', 'point'], dtype='object')\n",
      "[['홍길동' 2015 3.5]\n",
      " ['신사임당' 2016 1.4]\n",
      " ['김연아' 2019 2.0]\n",
      " ['강감찬' 2016 4.5]]\n"
     ]
    }
   ],
   "source": [
    "print(df.shape)\n",
    "print(df.size)\n",
    "# 차원 리턴\n",
    "print(df.ndim)\n",
    "# rangeindex 리턴\n",
    "print(df.index)\n",
    "# index 리턴\n",
    "print(df.columns)\n",
    "# 2차원 numpy\n",
    "print(df.values)"
   ]
  },
  {
   "cell_type": "code",
   "execution_count": 79,
   "metadata": {},
   "outputs": [
    {
     "data": {
      "text/html": [
       "<div>\n",
       "<style scoped>\n",
       "    .dataframe tbody tr th:only-of-type {\n",
       "        vertical-align: middle;\n",
       "    }\n",
       "\n",
       "    .dataframe tbody tr th {\n",
       "        vertical-align: top;\n",
       "    }\n",
       "\n",
       "    .dataframe thead th {\n",
       "        text-align: right;\n",
       "    }\n",
       "</style>\n",
       "<table border=\"1\" class=\"dataframe\">\n",
       "  <thead>\n",
       "    <tr style=\"text-align: right;\">\n",
       "      <th>학생정보</th>\n",
       "      <th>name</th>\n",
       "      <th>year</th>\n",
       "      <th>point</th>\n",
       "    </tr>\n",
       "    <tr>\n",
       "      <th>학생번호</th>\n",
       "      <th></th>\n",
       "      <th></th>\n",
       "      <th></th>\n",
       "    </tr>\n",
       "  </thead>\n",
       "  <tbody>\n",
       "    <tr>\n",
       "      <th>0</th>\n",
       "      <td>홍길동</td>\n",
       "      <td>2015</td>\n",
       "      <td>3.5</td>\n",
       "    </tr>\n",
       "    <tr>\n",
       "      <th>1</th>\n",
       "      <td>신사임당</td>\n",
       "      <td>2016</td>\n",
       "      <td>1.4</td>\n",
       "    </tr>\n",
       "    <tr>\n",
       "      <th>2</th>\n",
       "      <td>김연아</td>\n",
       "      <td>2019</td>\n",
       "      <td>2.0</td>\n",
       "    </tr>\n",
       "    <tr>\n",
       "      <th>3</th>\n",
       "      <td>강감찬</td>\n",
       "      <td>2016</td>\n",
       "      <td>4.5</td>\n",
       "    </tr>\n",
       "  </tbody>\n",
       "</table>\n",
       "</div>"
      ],
      "text/plain": [
       "학생정보  name  year  point\n",
       "학생번호                   \n",
       "0      홍길동  2015    3.5\n",
       "1     신사임당  2016    1.4\n",
       "2      김연아  2019    2.0\n",
       "3      강감찬  2016    4.5"
      ]
     },
     "metadata": {},
     "output_type": "display_data"
    }
   ],
   "source": [
    "df.index.name = '학생번호'\n",
    "df.columns.name = '학생정보'\n",
    "display(df)"
   ]
  },
  {
   "cell_type": "markdown",
   "metadata": {},
   "source": [
    "- dict로 dataframe을 만드는 방식은 연습을 하거나 아주 작은 양의 데이터를 처리할때 적합\n",
    "- 많은 양의 데이터(파일, database, open API)을 이용할땐 적합하지 않음\n",
    "- 일반적으로 많이 사용되어지는 데이터 표현 방식(3가지)\n",
    "1. CSV(Comma Seperated Values)\n",
    "    - 표현방법 : 홍길동, 서울, 20, 김길동, 인천, 30...\n",
    "    - 장점 : 많은 데이터를 표현하기에 적합, 데이터 사이즈를 작게할 수 있다\n",
    "    - 단점 : 데이터의 구성을 알기 어렵다, 구조적 데이터 표현이 힘들다, 사용이 힘들다, 데이터처리를 위해서 따로 프로그램을 만들어야 한다, 데이터가 변경됬을때 프로그램도 같이 변경되야 한다 = > 유지보수 문제 발생\n",
    "    - 데이터의 크기가 크고 형태가 변하지 않는 경우 가장 알맞는 형태\n",
    "\n",
    "2. XML(eXtended Markup Language) : 1990년 초반, 중반\n",
    "    - 표현방법 :  <person><name>홍길동</name><age>20</age><address>서울</address></person>\n",
    "    - 장점 : 데이터의 구성을 알기 편하다, 사용하기 편하다, 프로그램적 유지보수가 편하다\n",
    "    - 단점 : 부가적인 데이터가 많다\n",
    "    \n",
    "3. JSON(JavaScript Object Notation) : 현재 일반적인 데이터 표현방식\n",
    "    - 자바스크립트의 객체 표현방식을 이용해서 데이터를 표현하는 방식\n",
    "    - JSON은 데이터 표현방식이지 특정 프로그래밍 언어와는 상관이 없다\n",
    "    - 표현방법 : {'name' : '홍길동', 'age' : 20, 'address' : '서울'}\n",
    "    - 장점 : XML와 동일하다,XML에 비해 부가적인 데이터가 적다\n",
    "    - 단점 : 여전히 CSV에 비해선 부가적인 데이터가 있다\n",
    "\n",
    "---\n",
    "\n",
    "- csv파일을 이용해서 dataframe을 만들기"
   ]
  },
  {
   "cell_type": "code",
   "execution_count": 83,
   "metadata": {},
   "outputs": [
    {
     "data": {
      "text/html": [
       "<div>\n",
       "<style scoped>\n",
       "    .dataframe tbody tr th:only-of-type {\n",
       "        vertical-align: middle;\n",
       "    }\n",
       "\n",
       "    .dataframe tbody tr th {\n",
       "        vertical-align: top;\n",
       "    }\n",
       "\n",
       "    .dataframe thead th {\n",
       "        text-align: right;\n",
       "    }\n",
       "</style>\n",
       "<table border=\"1\" class=\"dataframe\">\n",
       "  <thead>\n",
       "    <tr style=\"text-align: right;\">\n",
       "      <th></th>\n",
       "      <th>movieId</th>\n",
       "      <th>title</th>\n",
       "      <th>genres</th>\n",
       "    </tr>\n",
       "  </thead>\n",
       "  <tbody>\n",
       "    <tr>\n",
       "      <th>0</th>\n",
       "      <td>1</td>\n",
       "      <td>Toy Story (1995)</td>\n",
       "      <td>Adventure|Animation|Children|Comedy|Fantasy</td>\n",
       "    </tr>\n",
       "    <tr>\n",
       "      <th>1</th>\n",
       "      <td>2</td>\n",
       "      <td>Jumanji (1995)</td>\n",
       "      <td>Adventure|Children|Fantasy</td>\n",
       "    </tr>\n",
       "    <tr>\n",
       "      <th>2</th>\n",
       "      <td>3</td>\n",
       "      <td>Grumpier Old Men (1995)</td>\n",
       "      <td>Comedy|Romance</td>\n",
       "    </tr>\n",
       "    <tr>\n",
       "      <th>3</th>\n",
       "      <td>4</td>\n",
       "      <td>Waiting to Exhale (1995)</td>\n",
       "      <td>Comedy|Drama|Romance</td>\n",
       "    </tr>\n",
       "    <tr>\n",
       "      <th>4</th>\n",
       "      <td>5</td>\n",
       "      <td>Father of the Bride Part II (1995)</td>\n",
       "      <td>Comedy</td>\n",
       "    </tr>\n",
       "  </tbody>\n",
       "</table>\n",
       "</div>"
      ],
      "text/plain": [
       "   movieId                               title  \\\n",
       "0        1                    Toy Story (1995)   \n",
       "1        2                      Jumanji (1995)   \n",
       "2        3             Grumpier Old Men (1995)   \n",
       "3        4            Waiting to Exhale (1995)   \n",
       "4        5  Father of the Bride Part II (1995)   \n",
       "\n",
       "                                        genres  \n",
       "0  Adventure|Animation|Children|Comedy|Fantasy  \n",
       "1                   Adventure|Children|Fantasy  \n",
       "2                               Comedy|Romance  \n",
       "3                         Comedy|Drama|Romance  \n",
       "4                                       Comedy  "
      ]
     },
     "metadata": {},
     "output_type": "display_data"
    },
    {
     "name": "stdout",
     "output_type": "stream",
     "text": [
      "(9742, 3)\n"
     ]
    }
   ],
   "source": [
    "df = pd.read_csv('movies.csv')\n",
    "# 상위 5개의 행만 출력\n",
    "display(df.head())\n",
    "print(df.shape)"
   ]
  },
  {
   "cell_type": "markdown",
   "metadata": {},
   "source": [
    "- database로부터 데이터를 읽어서 datagrame을 만드는 방법\n",
    "- database 설정하기(MySQL을 이용)\n",
    " ---\n",
    "- MySQL 설치\n",
    "    - 설치버전을 이용하지 않고, 단독실행파일을 이용한 실행함(stand alone)\n",
    "    1. MySQL 5.6버전 이용\n",
    "    2. MySQL 홈페이지에서 Downloads - MySQL community Downloads - MySQL community Server - looking for previous GA versions - 5.6.50 다운\n",
    "    3. 압축해제\n",
    "    4. cmd창을 열고 bin 폴더로 이동\n",
    "    5. cmd에 mysqld를 입력(mysql dbms를 기동하는 명령어)\n",
    "    6. 정상적이라면 mysql deamon이 동작하게 됨\n",
    "        - 문제가 발생한 경우\n",
    "        1. 일단 bin폴더에 정상적으로 있는지 확인\n",
    "        2. mysqld\n",
    "        3. 환경변수에서 path확인 bin 주소와 :. 추가\n",
    "    7. 종료할려면 새로운 cmd창을 열고 bin 폴더로 이동\n",
    "    8. mysqladmin -u root shutdown 입력\n",
    "    9. 서버를 기동한 상태에서 사용자 ID/PW를 설정하여 이용가능\n",
    "    10. 서버 기동한 상태에서 새로운 cmd열고 관리자 권한으로 mysql console에 접근\n",
    "    11. mysql -u root를 입력하면 mysql console에 진입\n",
    "    12. create user ID identified by \"PW\";를 이용해서 계정 생성\n",
    "    13. Query ok가 출력되면 정상\n",
    "    14. 외부접속을 위해 다음 명령 실행 \n",
    "        - create user ID@localhost identified by \"PW\";\n",
    "    15. 데이터가 저장될 데이터 베이스 생성\n",
    "        - mysql은 dbms(데이터베이스 관리 시스템)이다\n",
    "    16. create database db이름;\n",
    "    17. 새로운 사용자가 db를 사용할 수 있게 권한 부여\n",
    "        - grant all privileaes on db이름.* to ID\n",
    "        - grant all privileaes on db이름.* to ID@localhost\n",
    "    18. 권한 설정에 대한 refresh\n",
    "        - flush privileaes;\n",
    "    19. 설정이 완료되면 console에서 나온뒤\n",
    "        - exit;\n",
    "        도스창에서 script file을 이용해서 데이터 적재\n",
    "    20. mysql -u data -p library < _BookTableDump.sql"
   ]
  },
  {
   "cell_type": "code",
   "execution_count": null,
   "metadata": {},
   "outputs": [],
   "source": []
  }
 ],
 "metadata": {
  "kernelspec": {
   "display_name": "Python [conda env:data_env] *",
   "language": "python",
   "name": "conda-env-data_env-py"
  },
  "language_info": {
   "codemirror_mode": {
    "name": "ipython",
    "version": 3
   },
   "file_extension": ".py",
   "mimetype": "text/x-python",
   "name": "python",
   "nbconvert_exporter": "python",
   "pygments_lexer": "ipython3",
   "version": "3.7.9"
  }
 },
 "nbformat": 4,
 "nbformat_minor": 4
}
