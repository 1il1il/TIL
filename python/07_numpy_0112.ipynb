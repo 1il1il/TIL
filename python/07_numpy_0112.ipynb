{
 "cells": [
  {
   "cell_type": "markdown",
   "metadata": {},
   "source": [
    "- Numpy(Numertical Puthon)\n",
    "- Numpy => Vector와 Matrix연산에 강점\n",
    "- ndarray => n-차원의 배열\n",
    "- list와 거의 유사. 하지만 ndarray의 각 요소는 모두 같은 데이터 타입\n",
    "- ndarray 생성하는 방법들\n",
    "    - numpy.array([1,2,3])\n",
    "    - numpy.arange()\n",
    "    - numpy.ones(), zeros(), empty(), full()\n",
    "- shpae, reshape() => view\n",
    "---\n",
    "\n",
    "- indexing, slicing\n",
    "- 기본 indexingm boolean indexing, fancy indexing"
   ]
  },
  {
   "cell_type": "code",
   "execution_count": 7,
   "metadata": {},
   "outputs": [
    {
     "name": "stdout",
     "output_type": "stream",
     "text": [
      "인덱스 : 0, 값 : 10\n",
      "인덱스 : 1, 값 : 11\n",
      "인덱스 : 2, 값 : 12\n",
      "인덱스 : 3, 값 : 13\n",
      "인덱스 : 4, 값 : 14\n",
      "인덱스 : 5, 값 : 15\n",
      "인덱스 : 6, 값 : 16\n",
      "인덱스 : 7, 값 : 17\n",
      "인덱스 : 8, 값 : 18\n",
      "인덱스 : 9, 값 : 19\n"
     ]
    }
   ],
   "source": [
    "import numpy as np\n",
    "\n",
    "arr = np.arange(10, 20, 1)\n",
    "\n",
    "# 열겨형(enumerate)을 사용하면 index와 원소를 함께 알 수 있다\n",
    "for index, temp in enumerate(arr):\n",
    "    print('인덱스 : {}, 값 : {}'.format(index, temp))"
   ]
  },
  {
   "cell_type": "markdown",
   "metadata": {},
   "source": [
    "- ndarray의 sclicing도 python의 list와 동일한 형태로 사용"
   ]
  },
  {
   "cell_type": "code",
   "execution_count": 11,
   "metadata": {},
   "outputs": [
    {
     "name": "stdout",
     "output_type": "stream",
     "text": [
      "[0 1]\n",
      "[0 1 2 3]\n",
      "[1 3]\n"
     ]
    }
   ],
   "source": [
    "arr = np.arange(0, 5, 1)\n",
    "print(arr[0:2])\n",
    "print(arr[0:-1])\n",
    "# 시작:끝:간격\n",
    "print(arr[1:4:2])"
   ]
  },
  {
   "cell_type": "code",
   "execution_count": 17,
   "metadata": {},
   "outputs": [
    {
     "name": "stdout",
     "output_type": "stream",
     "text": [
      "6\n",
      "[5 6 7 8]\n",
      "[[ 5  6  7  8]\n",
      " [ 9 10 11 12]]\n",
      "[1 2 3 4]\n"
     ]
    }
   ],
   "source": [
    "arr = np.array([[1,2,3,4],\n",
    "                [5,6,7,8],\n",
    "                [9,10,11,12],\n",
    "                [13,14,15,16]])\n",
    "# 2행 2열\n",
    "print(arr[1,1])\n",
    "# 2행의 전체\n",
    "print(arr[1,:])\n",
    "# 2행, 3행 전체\n",
    "print(arr[1:3,:])\n",
    "# 행만 명시 가능\n",
    "print(arr[0])"
   ]
  },
  {
   "cell_type": "markdown",
   "metadata": {},
   "source": [
    "- boolean indexing"
   ]
  },
  {
   "cell_type": "code",
   "execution_count": 21,
   "metadata": {},
   "outputs": [
    {
     "name": "stdout",
     "output_type": "stream",
     "text": [
      "[ 6 12 13  9 10 12  6 16  1 17]\n"
     ]
    }
   ],
   "source": [
    "np.random.seed(1)\n",
    "arr = np.random.randint(1,20,(10,))\n",
    "print(arr)\n",
    "\n",
    "for temp in arr:\n",
    "    if temp % 2 == 0:\n",
    "        print(temp, end=' ')"
   ]
  },
  {
   "cell_type": "markdown",
   "metadata": {},
   "source": [
    "- boolean mask: 원본 ndarray와 shpae이 같지만 그 요소값이 모두 boolean으로 구성된 ndarray를 지칭\n",
    "- 이러한 boolean mask를 이용하여 indexingㅘ는 것이 boolean indexing"
   ]
  },
  {
   "cell_type": "code",
   "execution_count": 23,
   "metadata": {},
   "outputs": [
    {
     "name": "stdout",
     "output_type": "stream",
     "text": [
      "[ True  True False False  True  True  True  True False False]\n"
     ]
    }
   ],
   "source": [
    "print(arr % 2 == 0)"
   ]
  },
  {
   "cell_type": "code",
   "execution_count": 24,
   "metadata": {},
   "outputs": [
    {
     "name": "stdout",
     "output_type": "stream",
     "text": [
      "[ 6 12 10 12  6 16]\n"
     ]
    }
   ],
   "source": [
    "print(arr[arr % 2 == 0])"
   ]
  },
  {
   "cell_type": "markdown",
   "metadata": {},
   "source": [
    "- fancy indexing\n",
    "- ndarray에 index배열(일반적으로 list)을 전달하여 배열요소는 참조하는 방식\n",
    "- 연속적이지 않은 요소를 가져오는 방법"
   ]
  },
  {
   "cell_type": "code",
   "execution_count": 26,
   "metadata": {},
   "outputs": [
    {
     "name": "stdout",
     "output_type": "stream",
     "text": [
      "[1 2 3 4 5]\n",
      "[2 4 5]\n"
     ]
    }
   ],
   "source": [
    "arr = np.array([1,2,3,4,5])\n",
    "print(arr)\n",
    "print(arr[[1,3,4]])"
   ]
  },
  {
   "cell_type": "code",
   "execution_count": 29,
   "metadata": {},
   "outputs": [
    {
     "name": "stdout",
     "output_type": "stream",
     "text": [
      "[[ 0  1  2  3]\n",
      " [ 4  5  6  7]\n",
      " [ 8  9 10 11]]\n"
     ]
    }
   ],
   "source": [
    "arr = np.arange(0,12,1).reshape(3,4).copy()\n",
    "# 행부터 채워감\n",
    "print(arr)"
   ]
  },
  {
   "cell_type": "code",
   "execution_count": 35,
   "metadata": {},
   "outputs": [
    {
     "name": "stdout",
     "output_type": "stream",
     "text": [
      "10\n",
      "[6]\n",
      "[[5]]\n",
      "[ 2 10]\n",
      "[[ 2]\n",
      " [10]]\n",
      "[ 0 10]\n"
     ]
    }
   ],
   "source": [
    "print(arr[2,2])\n",
    "print(arr[1:2,2])\n",
    "print(arr[1:2,1:2])\n",
    "print(arr[[0,2],2])\n",
    "print(arr[[0,2],2:3])\n",
    "\n",
    "# 다차원에서 fancy indexing이 안됨\n",
    "print(arr[[0,2],[0,2]])\n",
    "# 이런 경우를 위해 numpy가 함수를 제공 np.ix_()\n",
    "print(arr[[0,2],[0,2]])"
   ]
  },
  {
   "cell_type": "markdown",
   "metadata": {},
   "source": [
    "- ndarray에 대한 연산"
   ]
  },
  {
   "cell_type": "code",
   "execution_count": 38,
   "metadata": {},
   "outputs": [],
   "source": [
    "arr1 = np.array([[1,2,3], \n",
    "                 [4,5,6]])\n",
    "arr2 = np.arange(10,16,1).reshape(2,3).copy()\n",
    "arr3 = np.arange(10,16,1).reshape(3,2).copy()"
   ]
  },
  {
   "cell_type": "markdown",
   "metadata": {},
   "source": [
    "- ndarray의 연산의 기본은 같은 위치에 있는 원소끼리 연산\n",
    "- shape가 다르면 연산이 수행되지 않는다"
   ]
  },
  {
   "cell_type": "code",
   "execution_count": 39,
   "metadata": {},
   "outputs": [
    {
     "name": "stdout",
     "output_type": "stream",
     "text": [
      "[[11 13 15]\n",
      " [17 19 21]]\n"
     ]
    }
   ],
   "source": [
    "# 행렬합 연산\n",
    "print(arr1 + arr2)"
   ]
  },
  {
   "cell_type": "code",
   "execution_count": 42,
   "metadata": {},
   "outputs": [
    {
     "ename": "ValueError",
     "evalue": "operands could not be broadcast together with shapes (2,3) (3,2) ",
     "output_type": "error",
     "traceback": [
      "\u001b[1;31m---------------------------------------------------------------------------\u001b[0m",
      "\u001b[1;31mValueError\u001b[0m                                Traceback (most recent call last)",
      "\u001b[1;32m<ipython-input-42-216fc2ed7057>\u001b[0m in \u001b[0;36m<module>\u001b[1;34m\u001b[0m\n\u001b[1;32m----> 1\u001b[1;33m \u001b[0mprint\u001b[0m\u001b[1;33m(\u001b[0m\u001b[0marr1\u001b[0m \u001b[1;33m+\u001b[0m \u001b[0marr3\u001b[0m\u001b[1;33m)\u001b[0m\u001b[1;33m\u001b[0m\u001b[1;33m\u001b[0m\u001b[0m\n\u001b[0m",
      "\u001b[1;31mValueError\u001b[0m: operands could not be broadcast together with shapes (2,3) (3,2) "
     ]
    }
   ],
   "source": [
    "# shape가 맞지 않아 연산이 불가능\n",
    "print(arr1 + arr3)"
   ]
  },
  {
   "cell_type": "code",
   "execution_count": 45,
   "metadata": {},
   "outputs": [
    {
     "name": "stdout",
     "output_type": "stream",
     "text": [
      "[[ 76  82]\n",
      " [184 199]]\n",
      "[[ 76  82]\n",
      " [184 199]]\n"
     ]
    }
   ],
   "source": [
    "# 행렬곱 연산\n",
    "print(np.matmul(arr1, arr3))\n",
    "print(arr1@arr3)"
   ]
  },
  {
   "cell_type": "markdown",
   "metadata": {},
   "source": [
    "- 같은 shape을 가지는 ndarray끼리만 4칙연산이 가능한가?\n",
    "- numpy는 다른 shape을 가지는 ndarray를 이용하여 4칙연산이 가능하도록 broadcating을 지원\n",
    "- 가능한 경우에만 형태를 변경하여 연산을 진행\n",
    "- 행렬 곱에는 적용안됨"
   ]
  },
  {
   "cell_type": "code",
   "execution_count": 51,
   "metadata": {},
   "outputs": [
    {
     "name": "stdout",
     "output_type": "stream",
     "text": [
      "[[1 2 3]\n",
      " [4 5 6]]\n",
      "[7 8 9]\n",
      "[[ 8 10 12]\n",
      " [11 13 15]]\n"
     ]
    }
   ],
   "source": [
    "#(2,3)\n",
    "arr1 = np.array([[1,2,3], \n",
    "                 [4,5,6]])\n",
    "# (3,)\n",
    "arr2 = np.array([7,8,9])\n",
    "print(arr1)\n",
    "print(arr2)\n",
    "# 이론상 연산이 불가능하지만 broadcating되어 arr2가 [[7 8 9] [7 8 9]]로 변경\n",
    "print(arr1 + arr2)"
   ]
  },
  {
   "cell_type": "code",
   "execution_count": 50,
   "metadata": {},
   "outputs": [
    {
     "name": "stdout",
     "output_type": "stream",
     "text": [
      "[[11 12 13]\n",
      " [14 15 16]]\n"
     ]
    }
   ],
   "source": [
    "# broadcating되어 10이 [[10 10 10] [10 10 10]]로 변경\n",
    "print(arr1 + 10)"
   ]
  },
  {
   "cell_type": "markdown",
   "metadata": {},
   "source": [
    "- 전지행렬 & iterator(반복자) - for문보다 더 쉽게 반복할 수 있다\n",
    "- 0차원 => 하나의 숫자 : scalar ex) 5\n",
    "- 1차원 => 열로 구성 : ㅍㄷㅊ색 ex) [1 2 3 4 5]\n",
    "- 2차원 => 행과 열로 구성 : matrix ex) [[1 2] [3 4]]\n",
    "- 3차원 => array라는 표현\n",
    "\n",
    "- 전치행렬 : 행은 열로, 열을 행으로 바꾼 matrix\n",
    "- 이렇게 만는 전치행렬(transpose)는 view\n",
    "- 수학적으로 전치행렬을 표현할때 위첨자로 T를 이용"
   ]
  },
  {
   "cell_type": "code",
   "execution_count": 55,
   "metadata": {},
   "outputs": [
    {
     "name": "stdout",
     "output_type": "stream",
     "text": [
      "[[1 2 3]\n",
      " [4 5 6]]\n",
      "[[1 4]\n",
      " [2 5]\n",
      " [3 6]]\n"
     ]
    }
   ],
   "source": [
    "arr = np.array([[1,2,3], \n",
    "                [4,5,6]])\n",
    "print(arr)\n",
    "# 전치 행렬을 수할때 T 속성을 이용\n",
    "print(arr.T)\n",
    "\n",
    "# 1차원 vector에 대한 전치행렬은 구할 수 없다"
   ]
  },
  {
   "cell_type": "markdown",
   "metadata": {},
   "source": [
    "- iterator(반복자)\n",
    "- 반복문은 일반적으로 for문과 while문을 사용\n",
    "- 반복하는 횟수를 알고있는 경우 for\n",
    "- 조건에 따라 반복할때는 while\n",
    "- numpy ndarray를 반복처리할 때는 일반적으로 for"
   ]
  },
  {
   "cell_type": "code",
   "execution_count": 59,
   "metadata": {},
   "outputs": [
    {
     "name": "stdout",
     "output_type": "stream",
     "text": [
      "1 2 3 4 5 \n",
      "1 2 3 4 5 "
     ]
    }
   ],
   "source": [
    "# 1차원 numpy ndarray에 대한 요소를 출력\n",
    "arr = np.array([1,2,3,4,5])\n",
    "\n",
    "# for문을 이용한 반복처리\n",
    "for tmp in arr:\n",
    "    print(tmp, end=' ')\n",
    "\n",
    "print()\n",
    "# while문과 iterator를 이용한 반복처리\n",
    "# 1. 반복자 추출, flags: 인덱스를 사용할때 어떤 방식으로 사용할 것인지\n",
    "# iterator는 지시자, 포인터 정도로 생각하면 됨\n",
    "it = np.nditer(arr, flags=['c_index'])\n",
    "while not it.finished:\n",
    "    # c 스타일의 인덱스이므로 0부터 시작\n",
    "    idx = it.index\n",
    "    print(arr[idx], end=' ')\n",
    "    # 화살표 옮기는 작업\n",
    "    it.iternext()"
   ]
  },
  {
   "cell_type": "code",
   "execution_count": 60,
   "metadata": {},
   "outputs": [
    {
     "name": "stdout",
     "output_type": "stream",
     "text": [
      "[[1 2 3]\n",
      " [4 5 6]]\n"
     ]
    }
   ],
   "source": [
    "# 2차원 matrix에 대해서 각 요소를 출력하기\n",
    "arr = np.array([[1,2,3],\n",
    "                [4,5,6]])\n",
    "print(arr)"
   ]
  },
  {
   "cell_type": "code",
   "execution_count": 63,
   "metadata": {},
   "outputs": [
    {
     "name": "stdout",
     "output_type": "stream",
     "text": [
      "1 2 3 4 5 6 "
     ]
    }
   ],
   "source": [
    "# for문을 이용한 반복처리\n",
    "for tmp1 in range(arr.shape[0]):\n",
    "    for tmp2 in range(arr.shape[1]):\n",
    "        print(arr[tmp1,tmp2], end=' ')"
   ]
  },
  {
   "cell_type": "code",
   "execution_count": 69,
   "metadata": {},
   "outputs": [
    {
     "name": "stdout",
     "output_type": "stream",
     "text": [
      "[[1 2 3]\n",
      " [4 5 6]]\n",
      "1 2 3 4 5 6 "
     ]
    }
   ],
   "source": [
    "print(arr)\n",
    "\n",
    "# itterator을 이용한 반복처리\n",
    "it = np.nditer(arr, flags=['multi_index'])\n",
    "while not it.finished:\n",
    "    # 튜플형태의 인덱스를 가져온다\n",
    "    idx = it.multi_index\n",
    "    # fancy indexing 형태\n",
    "    print(arr[idx], end=' ')\n",
    "    it.iternext()"
   ]
  },
  {
   "cell_type": "markdown",
   "metadata": {},
   "source": [
    "- iterator를 이용하면 동일한 코드를 사용하여 다양한 차수의 ndarray를 flags만 바꾸면 접근할 수 있다\n",
    "---\n",
    "\n",
    "- numpy ndarray의 비교연산\n",
    "- 사칙연산과 유사하게 동작"
   ]
  },
  {
   "cell_type": "code",
   "execution_count": 85,
   "metadata": {},
   "outputs": [
    {
     "name": "stdout",
     "output_type": "stream",
     "text": [
      "[[7 5 1]\n",
      " [8 7 8]]\n",
      "[[2 9 7]\n",
      " [7 7 9]]\n",
      "[[False False False]\n",
      " [False  True False]]\n",
      "[[ True False False]\n",
      " [ True False False]]\n",
      "[[False  True  True]\n",
      " [False False  True]]\n"
     ]
    }
   ],
   "source": [
    "np.random.seed(4)\n",
    "arr1 = np.random.randint(0,10,(2,3))\n",
    "arr2 = np.random.randint(0,10,(2,3))\n",
    "print(arr1)\n",
    "print(arr2)\n",
    "# boolean mask\n",
    "print(arr1 == arr2)\n",
    "print(arr1 > arr2)\n",
    "print(arr1 < arr2)"
   ]
  },
  {
   "cell_type": "code",
   "execution_count": 82,
   "metadata": {},
   "outputs": [
    {
     "name": "stdout",
     "output_type": "stream",
     "text": [
      "True\n"
     ]
    }
   ],
   "source": [
    "arr1 = np.arange(10)\n",
    "arr2 = np.arange(10)\n",
    "print(np.array_equal(arr1,arr2))"
   ]
  },
  {
   "cell_type": "markdown",
   "metadata": {},
   "source": [
    "- 집계함수와 axis\n",
    "- 집계함수 : 합, 평균, 표준편차, 분산\n",
    "- 수학함수 : 최대, 최소, 재곱근, 제곱값, 로그값"
   ]
  },
  {
   "cell_type": "code",
   "execution_count": 93,
   "metadata": {},
   "outputs": [
    {
     "name": "stdout",
     "output_type": "stream",
     "text": [
      "[[1 2 3]\n",
      " [4 5 6]]\n",
      "21\n",
      "21\n",
      "3.5\n",
      "6\n",
      "1\n",
      "5\n",
      "0\n",
      "1.707825127659933\n",
      "[[1.         1.41421356 1.73205081]\n",
      " [2.         2.23606798 2.44948974]]\n"
     ]
    }
   ],
   "source": [
    "arr = np.arange(1,7).reshape(2,3).copy()\n",
    "print(arr)\n",
    "print(np.sum(arr))\n",
    "print(arr.sum())\n",
    "print(np.mean(arr))\n",
    "print(np.max(arr))\n",
    "print(np.min(arr))\n",
    "# 최대값의 index 리턴\n",
    "print(np.argmax(arr))\n",
    "# 최소값의 index 리턴\n",
    "print(np.argmin(arr))\n",
    "# 표준편차\n",
    "print(np.std(arr))\n",
    "# 제곱근\n",
    "print(np.sqrt(arr))"
   ]
  },
  {
   "cell_type": "markdown",
   "metadata": {},
   "source": [
    "- axis 개념\n",
    "- numpy의 모든 집계함수는 기본적으로 axis를 기준으로 계싼\n",
    "- axis를 지정하지 않으면 axis는 none으로 설정 - 대상범위가 배열 전체로 지정"
   ]
  },
  {
   "cell_type": "code",
   "execution_count": 98,
   "metadata": {},
   "outputs": [
    {
     "name": "stdout",
     "output_type": "stream",
     "text": [
      "15\n"
     ]
    },
    {
     "ename": "AxisError",
     "evalue": "axis 1 is out of bounds for array of dimension 1",
     "output_type": "error",
     "traceback": [
      "\u001b[1;31m---------------------------------------------------------------------------\u001b[0m",
      "\u001b[1;31mAxisError\u001b[0m                                 Traceback (most recent call last)",
      "\u001b[1;32m<ipython-input-98-c653582c7ebc>\u001b[0m in \u001b[0;36m<module>\u001b[1;34m\u001b[0m\n\u001b[0;32m      6\u001b[0m \u001b[0mprint\u001b[0m\u001b[1;33m(\u001b[0m\u001b[0marr\u001b[0m\u001b[1;33m.\u001b[0m\u001b[0msum\u001b[0m\u001b[1;33m(\u001b[0m\u001b[0maxis\u001b[0m\u001b[1;33m=\u001b[0m\u001b[1;36m0\u001b[0m\u001b[1;33m)\u001b[0m\u001b[1;33m)\u001b[0m\u001b[1;33m\u001b[0m\u001b[1;33m\u001b[0m\u001b[0m\n\u001b[0;32m      7\u001b[0m \u001b[1;31m# 1차원에서 axis 1은 존재하지 않으므로 에러\u001b[0m\u001b[1;33m\u001b[0m\u001b[1;33m\u001b[0m\u001b[1;33m\u001b[0m\u001b[0m\n\u001b[1;32m----> 8\u001b[1;33m \u001b[0mprint\u001b[0m\u001b[1;33m(\u001b[0m\u001b[0marr\u001b[0m\u001b[1;33m.\u001b[0m\u001b[0msum\u001b[0m\u001b[1;33m(\u001b[0m\u001b[0maxis\u001b[0m\u001b[1;33m=\u001b[0m\u001b[1;36m1\u001b[0m\u001b[1;33m)\u001b[0m\u001b[1;33m)\u001b[0m\u001b[1;33m\u001b[0m\u001b[1;33m\u001b[0m\u001b[0m\n\u001b[0m",
      "\u001b[1;32m~\\anaconda3\\envs\\data_env\\lib\\site-packages\\numpy\\core\\_methods.py\u001b[0m in \u001b[0;36m_sum\u001b[1;34m(a, axis, dtype, out, keepdims, initial, where)\u001b[0m\n\u001b[0;32m     45\u001b[0m def _sum(a, axis=None, dtype=None, out=None, keepdims=False,\n\u001b[0;32m     46\u001b[0m          initial=_NoValue, where=True):\n\u001b[1;32m---> 47\u001b[1;33m     \u001b[1;32mreturn\u001b[0m \u001b[0mumr_sum\u001b[0m\u001b[1;33m(\u001b[0m\u001b[0ma\u001b[0m\u001b[1;33m,\u001b[0m \u001b[0maxis\u001b[0m\u001b[1;33m,\u001b[0m \u001b[0mdtype\u001b[0m\u001b[1;33m,\u001b[0m \u001b[0mout\u001b[0m\u001b[1;33m,\u001b[0m \u001b[0mkeepdims\u001b[0m\u001b[1;33m,\u001b[0m \u001b[0minitial\u001b[0m\u001b[1;33m,\u001b[0m \u001b[0mwhere\u001b[0m\u001b[1;33m)\u001b[0m\u001b[1;33m\u001b[0m\u001b[1;33m\u001b[0m\u001b[0m\n\u001b[0m\u001b[0;32m     48\u001b[0m \u001b[1;33m\u001b[0m\u001b[0m\n\u001b[0;32m     49\u001b[0m def _prod(a, axis=None, dtype=None, out=None, keepdims=False,\n",
      "\u001b[1;31mAxisError\u001b[0m: axis 1 is out of bounds for array of dimension 1"
     ]
    }
   ],
   "source": [
    "# aixs는 축을 의미하고 이 축을 숫자로 표현(0,1,2...)\n",
    "\n",
    "# 1차원에서 aixs는 축이 하나고 axis값은 0, 열방향\n",
    "arr = np.array([1,2,3,4,5])\n",
    "\n",
    "print(arr.sum(axis=0))\n",
    "# 1차원에서 axis 1은 존재하지 않으므로 에러\n",
    "print(arr.sum(axis=1))"
   ]
  },
  {
   "cell_type": "markdown",
   "metadata": {},
   "source": [
    "- 1차원이면 axis는 0 1개\n",
    "    - 0 => 열방향\n",
    "- 2차원이면 axis는 0,1 총 2개\n",
    "    - 0 => 행뱡향, 1 => 열방향\n",
    "- 3차원이면 axis는 0,1,2 총 3개 사용할 수 있다\n",
    "    - 0 => 면, 1 => 행방향, 3 => 열방향\n",
    "\n",
    "- **차원이 바꾸면 축이 의미하는 것이 바뀐다**"
   ]
  },
  {
   "cell_type": "code",
   "execution_count": 112,
   "metadata": {},
   "outputs": [
    {
     "name": "stdout",
     "output_type": "stream",
     "text": [
      "[[ 5 11  8]\n",
      " [ 9 11  5]\n",
      " [ 0  0  1]\n",
      " [ 7  6  9]]\n",
      "72\n",
      "[21 28 23]\n",
      "[24 25  1 22]\n",
      "[1 0 3]\n",
      "[1 1 2 2]\n"
     ]
    }
   ],
   "source": [
    "np.random.seed(1)\n",
    "arr = np.random.randint(0,12,(4,3))\n",
    "print(arr)\n",
    "# axis 명시 x, sum()의 대상은 전체 ndarray\n",
    "print(arr.sum())\n",
    "# axis 0 => 행방향, sum()의 대상은 ndarray의 열방향\n",
    "print(arr.sum(axis=0))\n",
    "# axis 1 => 열방향, sum()의 대상은 ndarray의 행방향\n",
    "print(arr.sum(axis=1))\n",
    "# axis 0 => 행방향의 값중 가장 큰값의 index\n",
    "print(arr.argmax(axis=0))\n",
    "# axis 1 => 열방향의 값중 가장 큰값의 index\n",
    "print(arr.argmax(axis=1))"
   ]
  },
  {
   "cell_type": "markdown",
   "metadata": {},
   "source": [
    "- 집계함수를 사용하지 않아도 되지만 속도차이가 많이 난다"
   ]
  },
  {
   "cell_type": "code",
   "execution_count": 118,
   "metadata": {},
   "outputs": [
    {
     "name": "stdout",
     "output_type": "stream",
     "text": [
      "6\n",
      "6\n"
     ]
    }
   ],
   "source": [
    "arr = np.arange(1,17).reshape(4,4).copy()\n",
    "print(len(arr[arr>10]))\n",
    "# False는 0 True는 1, 10이 broadcasting되어 비교연산\n",
    "print((arr > 10).sum())"
   ]
  },
  {
   "cell_type": "markdown",
   "metadata": {},
   "source": [
    "- 정렬"
   ]
  },
  {
   "cell_type": "markdown",
   "metadata": {},
   "source": [
    "- numpy가 제공하는 정렬함수\n",
    "- np.sort() : 인자로 들어가는 원본 ndarray는 변화가 없고 정렬된 array를 리턴\n",
    "- array.sort() : 원본 배열을 정렬하고 리턴이 없다"
   ]
  },
  {
   "cell_type": "code",
   "execution_count": 121,
   "metadata": {},
   "outputs": [
    {
     "name": "stdout",
     "output_type": "stream",
     "text": [
      "[0 1 2 3 4 5 6 7 8 9]\n",
      "[8 3 5 9 0 6 1 7 4 2]\n"
     ]
    }
   ],
   "source": [
    "arr = np.arange(10)\n",
    "print(arr)\n",
    "np.random.shuffle(arr)\n",
    "print(arr)"
   ]
  },
  {
   "cell_type": "code",
   "execution_count": 122,
   "metadata": {},
   "outputs": [
    {
     "name": "stdout",
     "output_type": "stream",
     "text": [
      "[0 1 2 3 4 5 6 7 8 9]\n",
      "[8 3 5 9 0 6 1 7 4 2]\n"
     ]
    }
   ],
   "source": [
    "# 원본은 정렬안됨\n",
    "print(np.sort(arr))\n",
    "print(arr)"
   ]
  },
  {
   "cell_type": "code",
   "execution_count": 123,
   "metadata": {},
   "outputs": [
    {
     "name": "stdout",
     "output_type": "stream",
     "text": [
      "None\n",
      "[0 1 2 3 4 5 6 7 8 9]\n"
     ]
    }
   ],
   "source": [
    "# 원본을 정렬시키고 리턴이 없다\n",
    "print(arr.sort())\n",
    "print(arr)"
   ]
  },
  {
   "cell_type": "markdown",
   "metadata": {},
   "source": [
    "- 특수한 슬라이싱을 이용하면 역순으로 정렬할 수 있다"
   ]
  },
  {
   "cell_type": "code",
   "execution_count": 126,
   "metadata": {},
   "outputs": [
    {
     "name": "stdout",
     "output_type": "stream",
     "text": [
      "[2 7 4 0 9 8 1 5 6 3]\n",
      "[9 8 7 6 5 4 3 2 1 0]\n"
     ]
    }
   ],
   "source": [
    "arr = np.arange(10)\n",
    "np.random.shuffle(arr)\n",
    "print(arr)\n",
    "# 내림차순 정렬\n",
    "print(np.sort(arr)[::-1])"
   ]
  },
  {
   "cell_type": "markdown",
   "metadata": {},
   "source": [
    "- 2차원 데이터에 대한 정렬은 추천되지 않음\n",
    "---\n",
    "\n",
    "- numpy array의 병합"
   ]
  },
  {
   "cell_type": "code",
   "execution_count": 131,
   "metadata": {},
   "outputs": [
    {
     "name": "stdout",
     "output_type": "stream",
     "text": [
      "[[1 2 3]\n",
      " [4 5 6]\n",
      " [7 8 9]]\n"
     ]
    }
   ],
   "source": [
    "arr1 = np.arange(1,7).reshape(2,3).copy()\n",
    "arr2 = np.arange(7,10)\n",
    "result1 = np.concatenate((arr1, arr2.reshape(1,3)), axis=0)\n",
    "print(result1)"
   ]
  },
  {
   "cell_type": "code",
   "execution_count": 133,
   "metadata": {},
   "outputs": [
    {
     "name": "stdout",
     "output_type": "stream",
     "text": [
      "[[ 1  2  3  7  8]\n",
      " [ 4  5  6  9 10]]\n"
     ]
    }
   ],
   "source": [
    "col = np.array([7,8,9,10])\n",
    "result2 = np.concatenate((arr1, col.reshape(2,-1)), axis=1)\n",
    "print(result2)"
   ]
  },
  {
   "cell_type": "markdown",
   "metadata": {},
   "source": [
    "- Numpy의 delete()\n",
    "- delete()도 axis를 기준으로 삭제가 진행\n",
    "- 만약 axis를 명시하지 않으면 자동으로 1차 배열로 변환된 후 삭제"
   ]
  },
  {
   "cell_type": "code",
   "execution_count": 137,
   "metadata": {},
   "outputs": [
    {
     "name": "stdout",
     "output_type": "stream",
     "text": [
      "[[1 2 3]\n",
      " [4 5 6]]\n",
      "[1 3 4 5 6]\n"
     ]
    }
   ],
   "source": [
    "arr = np.array([[1,2,3],\n",
    "                [4,5,6]])\n",
    "print(arr)\n",
    "# 인덱스를 기준으로 지우기\n",
    "result = np.delete(arr, 1)\n",
    "print(result)"
   ]
  },
  {
   "cell_type": "code",
   "execution_count": 138,
   "metadata": {},
   "outputs": [
    {
     "name": "stdout",
     "output_type": "stream",
     "text": [
      "[[1 2 3]]\n"
     ]
    }
   ],
   "source": [
    "# 특정 행 지우기\n",
    "result = np.delete(arr, 1, axis = 0)\n",
    "print(result)"
   ]
  },
  {
   "cell_type": "code",
   "execution_count": 139,
   "metadata": {},
   "outputs": [
    {
     "name": "stdout",
     "output_type": "stream",
     "text": [
      "[[1 3]\n",
      " [4 6]]\n"
     ]
    }
   ],
   "source": [
    "# 특정 열 지우기\n",
    "result = np.delete(arr, 1, axis = 1)\n",
    "print(result)"
   ]
  },
  {
   "cell_type": "markdown",
   "metadata": {},
   "source": [
    "- axis을 -1으로 지정하면 존재하는 axis중 마지막 axis를 지칭한다"
   ]
  }
 ],
 "metadata": {
  "kernelspec": {
   "display_name": "Python [conda env:data_env] *",
   "language": "python",
   "name": "conda-env-data_env-py"
  },
  "language_info": {
   "codemirror_mode": {
    "name": "ipython",
    "version": 3
   },
   "file_extension": ".py",
   "mimetype": "text/x-python",
   "name": "python",
   "nbconvert_exporter": "python",
   "pygments_lexer": "ipython3",
   "version": "3.7.9"
  }
 },
 "nbformat": 4,
 "nbformat_minor": 4
}
