{
 "cells": [
  {
   "cell_type": "markdown",
   "metadata": {},
   "source": [
    "# Numpy\n",
    "- numpy module은 vector, martix 연산에 있어서 상당한 편리성을 제공\n",
    "- numpy module이 제공하는 자료구조 ndarray(n-dimensional array)\n",
    "- numpy를 사용하기 위해서는 먼저 module을 다운로드 해야한다\n",
    "- anaconda prompt를 실행해서 conda install numpy로 설치"
   ]
  },
  {
   "cell_type": "markdown",
   "metadata": {},
   "source": [
    "## 1. list와 ndarray의 차이\n",
    "    - list는 원소를 콤마(, )로 구분\n",
    "    - ndarray는 원소를 띄어쓰기(' ')로 구분"
   ]
  },
  {
   "cell_type": "code",
   "execution_count": 23,
   "metadata": {},
   "outputs": [
    {
     "name": "stdout",
     "output_type": "stream",
     "text": [
      "[1, 2, 3, 4]\n",
      "<class 'list'>\n",
      "[1 2 3 4]\n",
      "<class 'numpy.ndarray'>\n",
      "int32\n",
      "<class 'numpy.int32'>\n"
     ]
    }
   ],
   "source": [
    "import numpy as np\n",
    "\n",
    "# python의 list\n",
    "\n",
    "# literal (프로그램적 기호를 이용해서 표현)\n",
    "a = [1, 2, 3, 4]\n",
    "\n",
    "# list라는 class를 이용해서 생성\n",
    "b = list()\n",
    "\n",
    "print(a)\n",
    "print(type(a))\n",
    "\n",
    "# numpy의 ndarry\n",
    "c = np.array([1, 2, 3, 4])\n",
    "print(c)\n",
    "print(type(c))\n",
    "# ndarry안에 들어있는 데이터의 형태\n",
    "print(c.dtype)\n",
    "# 원소의 데이터 타입도 변경됨\n",
    "print(type(c[0]))"
   ]
  },
  {
   "cell_type": "markdown",
   "metadata": {},
   "source": [
    "- ndarry는 모든 원소가 같은 데이터 타입을 가져야 한다\n",
    "- list는 모든 원소가 같은 데이터 타입을 가지지 않아도 상관없다"
   ]
  },
  {
   "cell_type": "code",
   "execution_count": 8,
   "metadata": {},
   "outputs": [
    {
     "name": "stdout",
     "output_type": "stream",
     "text": [
      "['1' '2' '3' '4' 'Hello']\n",
      "<U11\n"
     ]
    }
   ],
   "source": [
    "# 서로 다른 데이터 타입이 들어있는 경우 모든원소를 포괄할 수 있도록 변경\n",
    "c = np.array([1, 2, 3, 4, 'Hello'])\n",
    "print(c)\n",
    "print(c.dtype)"
   ]
  },
  {
   "cell_type": "markdown",
   "metadata": {},
   "source": [
    "- 다차원 표현"
   ]
  },
  {
   "cell_type": "code",
   "execution_count": 12,
   "metadata": {},
   "outputs": [
    {
     "name": "stdout",
     "output_type": "stream",
     "text": [
      "[[1, 2, 3], [4, 5, 6]]\n",
      "[[1. 2. 3.]\n",
      " [4. 5. 6.]]\n",
      "5.0\n"
     ]
    }
   ],
   "source": [
    "# list\n",
    "my_list = [[1,2,3], [4,5,6]]\n",
    "print(my_list)\n",
    "\n",
    "# 데이터 타입을 지정하여 ndarry 생성가능\n",
    "my_array = np.array([[1,2,3], [4,5,6]], dtype = np.float64)\n",
    "print(my_array)\n",
    "\n",
    "# 행, 열의 개념이 있다\n",
    "print(my_array[1,1])"
   ]
  },
  {
   "cell_type": "markdown",
   "metadata": {},
   "source": [
    "## 2. ndarray의 대표적인 속성"
   ]
  },
  {
   "cell_type": "code",
   "execution_count": 18,
   "metadata": {},
   "outputs": [
    {
     "name": "stdout",
     "output_type": "stream",
     "text": [
      "[1 2 3 4]\n",
      "1\n",
      "(4,)\n"
     ]
    }
   ],
   "source": [
    "# 1차원\n",
    "my_list = [1,2,3,4]\n",
    "arr = np.array(my_list)\n",
    "\n",
    "print(arr)\n",
    "# ndim은 차원의 수를 나타냄\n",
    "print(arr.ndim)\n",
    "\n",
    "# shape는 차원과 요소의 갯수를 tuple로 표현\n",
    "print(arr.shape)"
   ]
  },
  {
   "cell_type": "code",
   "execution_count": 19,
   "metadata": {},
   "outputs": [
    {
     "name": "stdout",
     "output_type": "stream",
     "text": [
      "[[1 2 3]\n",
      " [4 5 6]]\n",
      "2\n",
      "(2, 3)\n"
     ]
    }
   ],
   "source": [
    "# 2 차원\n",
    "my_list = [[1,2,3], [4,5,6]]\n",
    "arr = np.array(my_list)\n",
    "\n",
    "print(arr)\n",
    "# ndim은 차원의 수를 나타냄\n",
    "print(arr.ndim)\n",
    "\n",
    "# shape는 차원과 요소의 갯수를 tuple로 표현\n",
    "print(arr.shape)"
   ]
  },
  {
   "cell_type": "code",
   "execution_count": 20,
   "metadata": {},
   "outputs": [
    {
     "name": "stdout",
     "output_type": "stream",
     "text": [
      "[[[ 1  2  3]\n",
      "  [ 4  5  6]]\n",
      "\n",
      " [[ 7  8  9]\n",
      "  [10 11 12]]]\n",
      "3\n",
      "(2, 2, 3)\n"
     ]
    }
   ],
   "source": [
    "# 3 차원\n",
    "my_list = [[[1,2,3], [4,5,6]], [[7,8,9], [10,11,12]]]\n",
    "arr = np.array(my_list)\n",
    "\n",
    "print(arr)\n",
    "# ndim은 차원의 수를 나타냄\n",
    "print(arr.ndim)\n",
    "\n",
    "# shape는 차원과 요소의 갯수를 tuple로 표현\n",
    "print(arr.shape)"
   ]
  },
  {
   "cell_type": "code",
   "execution_count": 30,
   "metadata": {},
   "outputs": [
    {
     "name": "stdout",
     "output_type": "stream",
     "text": [
      "shape : (4,)\n",
      "크기(len) : 4\n",
      "크기(size): 4\n",
      "shape : (2, 3)\n",
      "크기(len) : 2\n",
      "크기(size): 6\n"
     ]
    }
   ],
   "source": [
    "# 1차원\n",
    "my_list = [1,2,3,4]\n",
    "arr = np.array(my_list)\n",
    "\n",
    "print('shape : {}'.format(arr.shape))\n",
    "print('크기(len) : {}'.format(len(arr)))\n",
    "print('크기(size): {}'.format(arr.size))\n",
    "\n",
    "# 2차원\n",
    "my_list = [[1,2,3], [4,5,6]]\n",
    "arr = np.array(my_list)\n",
    "\n",
    "print('shape : {}'.format(arr.shape))\n",
    "# 1차원에 있는 요소의 수\n",
    "print('크기(len) : {}'.format(len(arr)))\n",
    "# 전체 크기를 확인하기 위해선 .size를 사용\n",
    "print('크기(size): {}'.format(arr.size))"
   ]
  },
  {
   "cell_type": "code",
   "execution_count": 34,
   "metadata": {},
   "outputs": [
    {
     "name": "stdout",
     "output_type": "stream",
     "text": [
      "[1 2 3 4]\n",
      "(4,)\n",
      "[[1 2]\n",
      " [3 4]]\n",
      "(2, 2)\n"
     ]
    }
   ],
   "source": [
    "my_list = [1,2,3,4]\n",
    "arr = np.array(my_list)\n",
    "print(arr)\n",
    "print(arr.shape)\n",
    "\n",
    "# ndarry는 차원의 변환이 편하다\n",
    "# 하지만 shape를 변경할때 이렇게 직접적으로 변경하지 않는다\n",
    "# reshape()를 사용해야 한다\n",
    "arr.shape = (2, 2)\n",
    "print(arr)\n",
    "print(arr.shape)\n",
    "\n"
   ]
  },
  {
   "cell_type": "code",
   "execution_count": 36,
   "metadata": {},
   "outputs": [
    {
     "name": "stdout",
     "output_type": "stream",
     "text": [
      "[1.2 2.3 3.5 4.1 5.7]\n",
      "[1 2 3 4 5]\n"
     ]
    }
   ],
   "source": [
    "# astype()를 이용해서 ndarray의 data type를 변경\n",
    "\n",
    "arr = np.array([1.2,2.3,3.5,4.1,5.7])\n",
    "print(arr)\n",
    "\n",
    "# int32로 data type를 변경\n",
    "arr = arr.astype(np.int32)\n",
    "print(arr)"
   ]
  },
  {
   "cell_type": "markdown",
   "metadata": {},
   "source": [
    "- ndarray를 만드는 다양한 방법"
   ]
  },
  {
   "cell_type": "code",
   "execution_count": 49,
   "metadata": {},
   "outputs": [
    {
     "name": "stdout",
     "output_type": "stream",
     "text": [
      "[[0. 0. 0. 0.]\n",
      " [0. 0. 0. 0.]\n",
      " [0. 0. 0. 0.]]\n",
      "[[0 0 0 0]\n",
      " [0 0 0 0]\n",
      " [0 0 0 0]]\n",
      "[[1. 1. 1. 1.]\n",
      " [1. 1. 1. 1.]\n",
      " [1. 1. 1. 1.]]\n",
      "[[1. 1. 1. 1.]\n",
      " [1. 1. 1. 1.]\n",
      " [1. 1. 1. 1.]]\n",
      "[[7. 7. 7. 7.]\n",
      " [7. 7. 7. 7.]\n",
      " [7. 7. 7. 7.]]\n"
     ]
    }
   ],
   "source": [
    "# ndarray의 다양한 생성 함수(zeros, ones, empty, full)\n",
    "\n",
    "# 특정 형태의 ndarray를 만들어 내용을 0으로 채우기\n",
    "# 기본 데이터 타입은 np.float64\n",
    "arr_zeros = np.zeros((3,4))\n",
    "print(arr_zeros)\n",
    "\n",
    "arr_zeros_int = np.zeros((3,4), dtype=np.int32)\n",
    "print(arr_zeros_int)\n",
    "\n",
    "# 특정 형태의 ndarray를 만들어 내용을 1로 채우기\n",
    "arr_ones = np.ones((3,4))\n",
    "print(arr_ones)\n",
    "\n",
    "# (3,4)짜리 공간만 설정할\n",
    "# 초기화를 하지않아 빠르다\n",
    "arr_empty = np.empty((3,4))\n",
    "print(arr_empty)\n",
    "\n",
    "# (3,4)짜리 공간을 원하는 값(7)으로 채움\n",
    "arr_full = np.full((3,4), 7, dtype=np.float64)\n",
    "print(arr_full)"
   ]
  },
  {
   "cell_type": "code",
   "execution_count": 54,
   "metadata": {},
   "outputs": [
    {
     "name": "stdout",
     "output_type": "stream",
     "text": [
      "[[0 1 2 3 4]\n",
      " [5 6 7 8 9]]\n"
     ]
    }
   ],
   "source": [
    "# ndarray를 만드는 다른 방법 - arange()\n",
    "arr = np.arange(0,10,1)\n",
    "print(arr.reshape(2,-1))"
   ]
  },
  {
   "cell_type": "code",
   "execution_count": 58,
   "metadata": {},
   "outputs": [
    {
     "name": "stdout",
     "output_type": "stream",
     "text": [
      "[53.71020329 49.22831573 50.55764513 ... 52.68006681 51.09404706\n",
      " 49.87669334]\n"
     ]
    },
    {
     "data": {
      "image/png": "[encoded data removed]",
      "text/plain": [
       "<Figure size 432x288 with 1 Axes>"
      ]
     },
     "metadata": {
      "needs_background": "light"
     },
     "output_type": "display_data"
    }
   ],
   "source": [
    "# ndarray를 만드는 또 다른 방법\n",
    "# random기반의 생성방법(5가지 정도)\n",
    "# 간단한 그래프 모듈을 이용해서 데이터의 분포도 확인\n",
    "\n",
    "# np.random.normal() : 정규분포에서 난수 추출\n",
    "import matplotlib.pyplot as plt\n",
    "\n",
    "my_mean = 50\n",
    "my_std = 2\n",
    "arr = np.random.normal(my_mean, my_std, (10000,))\n",
    "print(arr)\n",
    "plt.hist(arr, bins=100)\n",
    "plt.show()"
   ]
  },
  {
   "cell_type": "code",
   "execution_count": 60,
   "metadata": {},
   "outputs": [
    {
     "name": "stdout",
     "output_type": "stream",
     "text": [
      "[0.88498637 0.62037666 0.20337318 ... 0.69694942 0.81959564 0.18868678]\n"
     ]
    },
    {
     "data": {
      "image/png": "[encoded data removed]",
      "text/plain": [
       "<Figure size 432x288 with 1 Axes>"
      ]
     },
     "metadata": {
      "needs_background": "light"
     },
     "output_type": "display_data"
    }
   ],
   "source": [
    "# np.random.rand(): 0이상 1미만의 실수를 균등분포로 추출\n",
    "# np.random.rand(d0, d1, d2, d3,...)(d는 차원)\n",
    "# 1차원\n",
    "arr = np.random.rand(10000)\n",
    "print(arr)\n",
    "plt.hist(arr, bins=100)\n",
    "plt.show()"
   ]
  },
  {
   "cell_type": "code",
   "execution_count": 61,
   "metadata": {},
   "outputs": [
    {
     "name": "stdout",
     "output_type": "stream",
     "text": [
      "[-0.6107524   1.92448956 -0.52406776 ... -0.52600477  0.36686659\n",
      "  0.29348001]\n"
     ]
    },
    {
     "data": {
      "image/png": "[encoded data removed]",
      "text/plain": [
       "<Figure size 432x288 with 1 Axes>"
      ]
     },
     "metadata": {
      "needs_background": "light"
     },
     "output_type": "display_data"
    }
   ],
   "source": [
    "# np.random.randn(): 표준 정규분포에서 실수형태로 난수 추출\n",
    "# 가장 많이 쓰인다\n",
    "arr = np.random.randn(10000)\n",
    "print(arr)\n",
    "plt.hist(arr, bins=100)\n",
    "plt.show()"
   ]
  },
  {
   "cell_type": "code",
   "execution_count": 64,
   "metadata": {},
   "outputs": [
    {
     "name": "stdout",
     "output_type": "stream",
     "text": [
      "[81 27 96 ... 91 42 22]\n"
     ]
    },
    {
     "data": {
      "image/png": "[encoded data removed]",
      "text/plain": [
       "<Figure size 432x288 with 1 Axes>"
      ]
     },
     "metadata": {
      "needs_background": "light"
     },
     "output_type": "display_data"
    }
   ],
   "source": [
    "# np.random.randint(low, high, shpae) : 균등분포로 정수형 난수를 추출\n",
    "\n",
    "arr = np.random.randint(0,100, (10000,))\n",
    "print(arr)\n",
    "plt.hist(arr, bins=10)\n",
    "plt.show()"
   ]
  },
  {
   "cell_type": "code",
   "execution_count": 65,
   "metadata": {},
   "outputs": [
    {
     "name": "stdout",
     "output_type": "stream",
     "text": [
      "[0.6256988  0.91306057 0.67235678 ... 0.47782582 0.73490065 0.76639192]\n"
     ]
    },
    {
     "data": {
      "image/png": "[encoded data removed]",
      "text/plain": [
       "<Figure size 432x288 with 1 Axes>"
      ]
     },
     "metadata": {
      "needs_background": "light"
     },
     "output_type": "display_data"
    }
   ],
   "source": [
    "# np.random.random(): 0이상 1미만의 실수를 균등분포로 추출\n",
    "# 대신 shape을 인자로 받음\n",
    "\n",
    "arr = np.random.random((10000,))\n",
    "print(arr)\n",
    "plt.hist(arr, bins=100)\n",
    "plt.show()"
   ]
  },
  {
   "cell_type": "markdown",
   "metadata": {},
   "source": [
    "## Numpy (Numerical Python)\n",
    "1. ndarray를 만드는 방법\n",
    "    - np.array(), np.ones(),np.zeros(),np.full(), np.empty(), np.arange()\n",
    "    - np.random.normal(), np.random.rand(), np.random.randn(), np.random.random(), np.random.randint()"
   ]
  },
  {
   "cell_type": "code",
   "execution_count": 67,
   "metadata": {},
   "outputs": [
    {
     "name": "stdout",
     "output_type": "stream",
     "text": [
      "[85 31 91 74  7 80 19  8 67 25]\n"
     ]
    }
   ],
   "source": [
    "# random에 관련된 함수\n",
    "\n",
    "# 실행할 때마다 같은 난수가 나오도록 설정(난수의 재현)\n",
    "# 0과 양의 정수만 사용 가능\n",
    "np.random.seed(3)\n",
    "\n",
    "arr = np.random.randint(0, 100, (10,))\n",
    "print(arr)"
   ]
  },
  {
   "cell_type": "code",
   "execution_count": 71,
   "metadata": {},
   "outputs": [
    {
     "name": "stdout",
     "output_type": "stream",
     "text": [
      "[0 1 2 3 4 5 6 7 8 9]\n",
      "[8 9 1 5 6 4 3 0 7 2]\n"
     ]
    }
   ],
   "source": [
    "# 간단하게 ndarray를 만들기\n",
    "arr = np.arange(10)\n",
    "print(arr)\n",
    "\n",
    "# 이미 만들어진 ndarray의 데이터를 순서를 섞기(shuffle)\n",
    "np.random.shuffle(arr)\n",
    "print(arr)"
   ]
  },
  {
   "cell_type": "code",
   "execution_count": 79,
   "metadata": {},
   "outputs": [
    {
     "name": "stdout",
     "output_type": "stream",
     "text": [
      "[ 0  1  2  3  4  5  6  7  8  9 10 11]\n",
      "[[ 0  1  2  3]\n",
      " [ 4  5  6  7]\n",
      " [ 8  9 10 11]]\n",
      "[  0   1 200   3   4   5   6   7   8   9  10  11]\n",
      "[[  0   1 200   3]\n",
      " [  4   5   6   7]\n",
      " [  8   9  10  11]]\n"
     ]
    }
   ],
   "source": [
    "#  생성된 ndarray의 shape을 제어하기\n",
    "# reshape() > ndarray의 형태 조절\n",
    "\n",
    "arr = np.arange(12)\n",
    "print(arr)\n",
    "\n",
    "# 행부터 데이터를 채운다\n",
    "\n",
    "# reshape()은 새로운 ndarray를 만들지 않는다.\n",
    "# veiw가 생성된다\n",
    "# 데이터는 같지만 보이는 형태만 다른것\n",
    "arr1 = arr.reshape(3,4)\n",
    "print(arr1)\n",
    "\n",
    "arr1[0,2] = 200\n",
    "print(arr)\n",
    "print(arr1)"
   ]
  },
  {
   "cell_type": "code",
   "execution_count": 80,
   "metadata": {},
   "outputs": [
    {
     "name": "stdout",
     "output_type": "stream",
     "text": [
      "[ 0  1  2  3  4  5  6  7  8  9 10 11]\n"
     ]
    },
    {
     "ename": "ValueError",
     "evalue": "cannot reshape array of size 12 into shape (3,5)",
     "output_type": "error",
     "traceback": [
      "\u001b[1;31m---------------------------------------------------------------------------\u001b[0m",
      "\u001b[1;31mValueError\u001b[0m                                Traceback (most recent call last)",
      "\u001b[1;32m<ipython-input-80-30f3f2b9e0e4>\u001b[0m in \u001b[0;36m<module>\u001b[1;34m\u001b[0m\n\u001b[0;32m      2\u001b[0m \u001b[0mprint\u001b[0m\u001b[1;33m(\u001b[0m\u001b[0marr\u001b[0m\u001b[1;33m)\u001b[0m\u001b[1;33m\u001b[0m\u001b[1;33m\u001b[0m\u001b[0m\n\u001b[0;32m      3\u001b[0m \u001b[1;33m\u001b[0m\u001b[0m\n\u001b[1;32m----> 4\u001b[1;33m \u001b[0marr1\u001b[0m \u001b[1;33m=\u001b[0m \u001b[0marr\u001b[0m\u001b[1;33m.\u001b[0m\u001b[0mreshape\u001b[0m\u001b[1;33m(\u001b[0m\u001b[1;36m3\u001b[0m\u001b[1;33m,\u001b[0m\u001b[1;36m5\u001b[0m\u001b[1;33m)\u001b[0m\u001b[1;33m\u001b[0m\u001b[1;33m\u001b[0m\u001b[0m\n\u001b[0m\u001b[0;32m      5\u001b[0m \u001b[0mprint\u001b[0m\u001b[1;33m(\u001b[0m\u001b[0marr1\u001b[0m\u001b[1;33m)\u001b[0m\u001b[1;33m\u001b[0m\u001b[1;33m\u001b[0m\u001b[0m\n",
      "\u001b[1;31mValueError\u001b[0m: cannot reshape array of size 12 into shape (3,5)"
     ]
    }
   ],
   "source": [
    "arr = np.arange(12)\n",
    "print(arr)\n",
    "\n",
    "# 크기가 맞지 않으면 에러가 발생\n",
    "arr1 = arr.reshape(3,5)\n",
    "print(arr1)"
   ]
  },
  {
   "cell_type": "code",
   "execution_count": 84,
   "metadata": {},
   "outputs": [
    {
     "name": "stdout",
     "output_type": "stream",
     "text": [
      "[[ 0  1  2  3]\n",
      " [ 4  5  6  7]\n",
      " [ 8  9 10 11]]\n",
      "[[ 0  1]\n",
      " [ 2  3]\n",
      " [ 4  5]\n",
      " [ 6  7]\n",
      " [ 8  9]\n",
      " [10 11]]\n",
      "[[[ 0  1]\n",
      "  [ 2  3]\n",
      "  [ 4  5]]\n",
      "\n",
      " [[ 6  7]\n",
      "  [ 8  9]\n",
      "  [10 11]]]\n"
     ]
    }
   ],
   "source": [
    "# -1은 특별한 의미를 갖는다\n",
    "arr1 = arr.reshape(3,-1)\n",
    "print(arr1)\n",
    "\n",
    "arr1 = arr.reshape(-1,2)\n",
    "print(arr1)\n",
    "\n",
    "arr1 = arr.reshape(2,3,-1)\n",
    "print(arr1)"
   ]
  },
  {
   "cell_type": "code",
   "execution_count": 85,
   "metadata": {},
   "outputs": [
    {
     "ename": "ValueError",
     "evalue": "can only specify one unknown dimension",
     "output_type": "error",
     "traceback": [
      "\u001b[1;31m---------------------------------------------------------------------------\u001b[0m",
      "\u001b[1;31mValueError\u001b[0m                                Traceback (most recent call last)",
      "\u001b[1;32m<ipython-input-85-77f6e208fbcb>\u001b[0m in \u001b[0;36m<module>\u001b[1;34m\u001b[0m\n\u001b[0;32m      1\u001b[0m \u001b[1;31m# -1은 하나만 가능\u001b[0m\u001b[1;33m\u001b[0m\u001b[1;33m\u001b[0m\u001b[1;33m\u001b[0m\u001b[0m\n\u001b[1;32m----> 2\u001b[1;33m \u001b[0marr1\u001b[0m \u001b[1;33m=\u001b[0m \u001b[0marr\u001b[0m\u001b[1;33m.\u001b[0m\u001b[0mreshape\u001b[0m\u001b[1;33m(\u001b[0m\u001b[1;36m2\u001b[0m\u001b[1;33m,\u001b[0m\u001b[1;33m-\u001b[0m\u001b[1;36m1\u001b[0m\u001b[1;33m,\u001b[0m\u001b[1;33m-\u001b[0m\u001b[1;36m1\u001b[0m\u001b[1;33m)\u001b[0m\u001b[1;33m\u001b[0m\u001b[1;33m\u001b[0m\u001b[0m\n\u001b[0m\u001b[0;32m      3\u001b[0m \u001b[0mprint\u001b[0m\u001b[1;33m(\u001b[0m\u001b[0marr1\u001b[0m\u001b[1;33m)\u001b[0m\u001b[1;33m\u001b[0m\u001b[1;33m\u001b[0m\u001b[0m\n",
      "\u001b[1;31mValueError\u001b[0m: can only specify one unknown dimension"
     ]
    }
   ],
   "source": [
    "# -1은 하나만 가능\n",
    "arr1 = arr.reshape(2,-1,-1)\n",
    "print(arr1)"
   ]
  },
  {
   "cell_type": "code",
   "execution_count": 87,
   "metadata": {},
   "outputs": [
    {
     "name": "stdout",
     "output_type": "stream",
     "text": [
      "[ 0  1  2  3  4  5  6  7  8  9 10 11]\n",
      "[[ 0  1  2  3]\n",
      " [ 4  5  6  7]\n",
      " [ 8  9 10 11]]\n",
      "[ 0  1  2  3  4  5  6  7  8  9 10 11]\n",
      "[[  0   1 200   3]\n",
      " [  4   5   6   7]\n",
      " [  8   9  10  11]]\n"
     ]
    }
   ],
   "source": [
    "arr = np.arange(12)\n",
    "print(arr)\n",
    "\n",
    "# copy() : 내용을 복사해서 새로운 ndarray를 생성\n",
    "arr1 = arr.reshape(3, 4).copy()\n",
    "print(arr1)\n",
    "\n",
    "arr1[0,2] = 200\n",
    "print(arr)\n",
    "print(arr1)"
   ]
  },
  {
   "cell_type": "code",
   "execution_count": 89,
   "metadata": {},
   "outputs": [
    {
     "name": "stdout",
     "output_type": "stream",
     "text": [
      "[[1 2 3]\n",
      " [4 5 6]]\n",
      "[1 2 3 4 5 6]\n"
     ]
    }
   ],
   "source": [
    "# reval() : ndarray가 가지고 있는 모든 요소를 1차원의 ndarray로 변경\n",
    "# reval()은 view를 리턴한다\n",
    "arr = np.array([[1,2,3], [4,5,6]])\n",
    "print(arr)\n",
    "\n",
    "arr1 = arr.ravel()\n",
    "print(arr1)"
   ]
  },
  {
   "cell_type": "code",
   "execution_count": 95,
   "metadata": {},
   "outputs": [
    {
     "name": "stdout",
     "output_type": "stream",
     "text": [
      "[[1 2 3]\n",
      " [4 5 6]]\n",
      "[[1 2 3 4 5 6]]\n",
      "[[1 2 3 4 5 6]]\n",
      "[[1 2]\n",
      " [3 4]]\n"
     ]
    }
   ],
   "source": [
    "# resize()를 이용해서 형태 변경\n",
    "arr = np.array([[1,2,3], [4,5,6]])\n",
    "print(arr)\n",
    "\n",
    "# 결과를 리턴하지 않고 원본을 변경\n",
    "# arr1 = arr.resize(1,6) - 옳은 표현이 아니다\n",
    "arr.resize(1,6)\n",
    "print(arr)\n",
    "\n",
    "# 원본은 그대로 복사본 생성\n",
    "arr1 = np.resize(arr,(1,6))\n",
    "print(arr1)\n",
    "\n",
    "# resize()는 원소의 크기가 다르면 빈자리를 0으로 채움\n",
    "# 크기가 더 작으면 나머지를 버림\n",
    "arr.resize(2,2)\n",
    "print(arr)"
   ]
  },
  {
   "cell_type": "markdown",
   "metadata": {},
   "source": [
    "## numpy의 기본적인 생성, shape의 변경에 대한 내용\n",
    "- numpy의 사용법에 대한 애용\n",
    "- indexing, slicing, boolean, fancy indexing"
   ]
  }
 ],
 "metadata": {
  "kernelspec": {
   "display_name": "Python [conda env:data_env] *",
   "language": "python",
   "name": "conda-env-data_env-py"
  },
  "language_info": {
   "codemirror_mode": {
    "name": "ipython",
    "version": 3
   },
   "file_extension": ".py",
   "mimetype": "text/x-python",
   "name": "python",
   "nbconvert_exporter": "python",
   "pygments_lexer": "ipython3",
   "version": "3.7.9"
  }
 },
 "nbformat": 4,
 "nbformat_minor": 4
}
