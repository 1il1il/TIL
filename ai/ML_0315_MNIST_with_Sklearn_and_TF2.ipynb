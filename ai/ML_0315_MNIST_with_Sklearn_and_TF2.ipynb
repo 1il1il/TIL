{
 "cells": [
  {
   "cell_type": "code",
   "execution_count": 1,
   "metadata": {},
   "outputs": [],
   "source": [
    "# MNIST, Sklearn, Tensorflow 2.x으로 구현\n",
    "\n",
    "import numpy as np\n",
    "import pandas as pd\n",
    "from sklearn.preprocessing import MinMaxScaler\n",
    "from sklearn.linear_model import LogisticRegression\n",
    "from sklearn.model_selection import train_test_split\n",
    "from sklearn.metrics import classification_report\n",
    "import warnings\n",
    "\n",
    "warnings.filterwarnings(action='ignore')"
   ]
  },
  {
   "cell_type": "code",
   "execution_count": 4,
   "metadata": {},
   "outputs": [
    {
     "name": "stdout",
     "output_type": "stream",
     "text": [
      "sklearn result : \n",
      "              precision    recall  f1-score   support\n",
      "\n",
      "           0       0.96      0.96      0.96      1242\n",
      "           1       0.95      0.97      0.96      1429\n",
      "           2       0.92      0.90      0.91      1276\n",
      "           3       0.91      0.90      0.90      1298\n",
      "           4       0.92      0.92      0.92      1236\n",
      "           5       0.88      0.88      0.88      1119\n",
      "           6       0.93      0.96      0.94      1243\n",
      "           7       0.94      0.93      0.94      1334\n",
      "           8       0.89      0.88      0.88      1204\n",
      "           9       0.89      0.89      0.89      1219\n",
      "\n",
      "    accuracy                           0.92     12600\n",
      "   macro avg       0.92      0.92      0.92     12600\n",
      "weighted avg       0.92      0.92      0.92     12600\n",
      "\n"
     ]
    }
   ],
   "source": [
    "# Raw Data Loading\n",
    "df = pd.read_csv('../data/digit-recognizer/train.csv')\n",
    "\n",
    "# 결측치와 이상치를 처리해야함\n",
    "# feature engineering - 학습에 필요없는 column을 삭제, \n",
    "# 기존 column을 이용해서 새로운 column을 생성\n",
    "# Binning 처리 (연속적인 숫자값을 categorical value로 변환)\n",
    "\n",
    "# 독립변수와 종속변수 분리\n",
    "x_data = df.drop('label', axis=1, inplace=False)\n",
    "t_data = df['label']\n",
    "\n",
    "# 정규화\n",
    "scaler = MinMaxScaler()\n",
    "# df넣으면 알아서 ndarray로 변환하여 사용\n",
    "scaler.fit(x_data)\n",
    "x_data_norm = scaler.transform(x_data)\n",
    "\n",
    "# Data Split\n",
    "x_data_train, x_data_test, t_data_train, t_data_test = \\\n",
    "train_test_split(x_data_norm, t_data, test_size=0.3, random_state=0)\n",
    "\n",
    "# Sklearn 구현\n",
    "\n",
    "# LogisticRegression은 solver를 지정해야 한다\n",
    "# 어떠한 형태로 모델을 만들것인지 (상대적으로 데이터의 크기 유무 - 많고, 적고)\n",
    "# default인 lbfgs는 작은 데이터에 최적화 > 데이터가 많으면 성능이 떨어진다\n",
    "# 현재 4만개의 데이터가 있기 때문에 작은 데이터는 아니다 \n",
    "# 일반적으로 데이터량이 많은 경우는 saga를 이용\n",
    "# sag > Stochastic Average Gradient Descent , saga는 sag의 확장판\n",
    "sklearn_model = LogisticRegression(solver='saga')\n",
    "sklearn_model.fit(x_data_train, t_data_train)\n",
    "print('sklearn result : ')\n",
    "print(classification_report(t_data_test, sklearn_model.predict(x_data_test)))"
   ]
  },
  {
   "cell_type": "code",
   "execution_count": 5,
   "metadata": {},
   "outputs": [
    {
     "name": "stdout",
     "output_type": "stream",
     "text": [
      "Once deleted, variables cannot be recovered. Proceed (y/[n])? y\n"
     ]
    }
   ],
   "source": [
    "%reset"
   ]
  },
  {
   "cell_type": "code",
   "execution_count": 8,
   "metadata": {},
   "outputs": [],
   "source": [
    "# Tensorflow 2.x 구현\n",
    "import numpy as np\n",
    "import pandas as pd\n",
    "import tensorflow as tf\n",
    "from tensorflow.keras.models import Sequential\n",
    "from tensorflow.keras.layers import Flatten, Dense\n",
    "from tensorflow.keras.optimizers import SGD\n",
    "from sklearn.preprocessing import MinMaxScaler\n",
    "from sklearn.model_selection import train_test_split\n",
    "from sklearn.metrics import classification_report\n",
    "\n",
    "import matplotlib.pyplot as plt\n",
    "import warnings"
   ]
  },
  {
   "cell_type": "code",
   "execution_count": 11,
   "metadata": {},
   "outputs": [
    {
     "name": "stdout",
     "output_type": "stream",
     "text": [
      "394/394 [==============================] - 0s 409us/step - loss: 0.2963 - sparse_categorical_accuracy: 0.9171\n",
      "[0.2962534427642822, 0.9171428680419922]\n"
     ]
    }
   ],
   "source": [
    "# Raw Data Loading\n",
    "df = pd.read_csv('../data/digit-recognizer/train.csv')\n",
    "\n",
    "# 독립변수와 종속변수 분리\n",
    "x_data = df.drop('label', axis=1, inplace=False)\n",
    "t_data = df['label']\n",
    "# TF 1.x에선 one-hot해야함\n",
    "# TF 2.x에선 설정만 하면 one-hot처리를 안해도 됨\n",
    "\n",
    "# 정규화\n",
    "scaler = MinMaxScaler()\n",
    "# df넣으면 알아서 ndarray로 변환하여 사용\n",
    "scaler.fit(x_data)\n",
    "x_data_norm = scaler.transform(x_data)\n",
    "\n",
    "# Data Split\n",
    "x_data_train, x_data_test, t_data_train, t_data_test = \\\n",
    "train_test_split(x_data_norm, t_data, test_size=0.3, random_state=0)\n",
    "\n",
    "# Tensorflow 2.x\n",
    "keras_model = Sequential()\n",
    "keras_model.add(Flatten(input_shape=(x_data_train.shape[1],)))\n",
    "keras_model.add(Dense(10, activation='softmax'))\n",
    "\n",
    "# one-hot을 사용하지 않은 경우 sparse_categorical_crossentropy\n",
    "keras_model.compile(optimizer=SGD(learning_rate=1e-1), \n",
    "                    loss='sparse_categorical_crossentropy',\n",
    "                    metrics=['sparse_categorical_accuracy'])\n",
    "\n",
    "# 추후에 history를 이용해서 조절\n",
    "# verbose는 출력 옵션, 어떠한 내용을 출력할 것인가\n",
    "history = keras_model.fit(x_data_train, t_data_train, \n",
    "                          epochs=100, batch_size=512, verbose=0, \n",
    "                          validation_split=0.2)\n",
    "\n",
    "print(keras_model.evaluate(x_data_test, t_data_test))"
   ]
  },
  {
   "cell_type": "code",
   "execution_count": 23,
   "metadata": {},
   "outputs": [
    {
     "name": "stdout",
     "output_type": "stream",
     "text": [
      "<class 'dict'>\n",
      "dict_keys(['loss', 'sparse_categorical_accuracy', 'val_loss', 'val_sparse_categorical_accuracy'])\n"
     ]
    },
    {
     "data": {
      "image/png": "[encoded data removed]",
      "text/plain": [
       "<Figure size 432x288 with 1 Axes>"
      ]
     },
     "metadata": {
      "needs_background": "light"
     },
     "output_type": "display_data"
    }
   ],
   "source": [
    "# history객체 내에 history라는 속성이 있다 > dict\n",
    "print(type(history.history))\n",
    "# epoch당 각 key값에 대한 정보가 담겨있다\n",
    "print(history.history.keys())\n",
    "\n",
    "# epoch당 training data를 이용한 sparse_categorical_accuracy\n",
    "plt.plot(history.history['sparse_categorical_accuracy'], color='r')\n",
    "\n",
    "# epoch당 validation data를 이용한 val_sparse_categorical_accuracy\n",
    "plt.plot(history.history['val_sparse_categorical_accuracy'], color='b')\n",
    "plt.show()"
   ]
  },
  {
   "cell_type": "code",
   "execution_count": 27,
   "metadata": {},
   "outputs": [
    {
     "name": "stdout",
     "output_type": "stream",
     "text": [
      "Once deleted, variables cannot be recovered. Proceed (y/[n])? y\n"
     ]
    }
   ],
   "source": [
    "%reset"
   ]
  },
  {
   "cell_type": "code",
   "execution_count": 28,
   "metadata": {},
   "outputs": [
    {
     "name": "stdout",
     "output_type": "stream",
     "text": [
      "WARNING:tensorflow:From C:\\Users\\LiO\\anaconda3\\envs\\data_env_tf2\\lib\\site-packages\\tensorflow\\python\\compat\\v2_compat.py:96: disable_resource_variables (from tensorflow.python.ops.variable_scope) is deprecated and will be removed in a future version.\n",
      "Instructions for updating:\n",
      "non-resource variables are not supported in the long term\n"
     ]
    }
   ],
   "source": [
    "# Logistic Regression(Perceptron)\n",
    "# And, OR Gate를 학습시켜서 Prediction을 할 수 있는가?\n",
    "# Tensorflow 1.15를 이용해서 학습\n",
    "\n",
    "import numpy as np\n",
    "import tensorflow.compat.v1 as tf\n",
    "from sklearn.metrics import classification_report\n",
    "tf.disable_v2_behavior()"
   ]
  },
  {
   "cell_type": "markdown",
   "metadata": {},
   "source": [
    "- And Gate"
   ]
  },
  {
   "cell_type": "code",
   "execution_count": 29,
   "metadata": {},
   "outputs": [],
   "source": [
    "# Trainin Data Set\n",
    "x_data = np.array([[0,0], [0,1], [1,0], [1,1]], dtype=np.float32)\n",
    "\n",
    "# AND t_data\n",
    "t_data = np.array([[0], [0], [0], [1]], dtype=np.float32)\n",
    "\n",
    "# placeholder\n",
    "X = tf.placeholder(shape=[None, 2], dtype=tf.float32)\n",
    "T = tf.placeholder(shape=[None, 1], dtype=tf.float32)\n",
    "\n",
    "# W & b\n",
    "W = tf.Variable(tf.random.normal([2,1]))\n",
    "b = tf.Variable(tf.random.normal([1]))\n",
    "\n",
    "# Hypothesis\n",
    "logit = tf.matmul(X, W) + b\n",
    "H = tf.sigmoid(logit)\n",
    "\n",
    "# loss function\n",
    "loss = tf.reduce_mean(tf.nn.sigmoid_cross_entropy_with_logits(logits=logit, \n",
    "                                                              labels=T))\n",
    "\n",
    "# train\n",
    "train = tf.train.GradientDescentOptimizer(learning_rate=1e-2).minimize(loss)\n",
    "\n",
    "# Session\n",
    "sess = tf.Session()\n",
    "sess.run(tf.global_variables_initializer())"
   ]
  },
  {
   "cell_type": "code",
   "execution_count": 31,
   "metadata": {},
   "outputs": [
    {
     "name": "stdout",
     "output_type": "stream",
     "text": [
      "loss : 1.0008327960968018\n",
      "loss : 0.334287166595459\n",
      "loss : 0.2172527015209198\n",
      "loss : 0.1624193787574768\n",
      "loss : 0.1296493262052536\n",
      "loss : 0.10770364105701447\n",
      "loss : 0.09196663647890091\n",
      "loss : 0.0801398754119873\n",
      "loss : 0.07093765586614609\n",
      "loss : 0.06358186900615692\n"
     ]
    }
   ],
   "source": [
    "for step in range(30000):\n",
    "    _, loss_val = sess.run([train, loss], feed_dict={X : x_data, T: t_data})\n",
    "    \n",
    "    if step % 3000 == 0:\n",
    "        print('loss : {}'.format(loss_val))"
   ]
  },
  {
   "cell_type": "code",
   "execution_count": 34,
   "metadata": {},
   "outputs": [
    {
     "name": "stdout",
     "output_type": "stream",
     "text": [
      "              precision    recall  f1-score   support\n",
      "\n",
      "         0.0       1.00      1.00      1.00         3\n",
      "         1.0       1.00      1.00      1.00         1\n",
      "\n",
      "    accuracy                           1.00         4\n",
      "   macro avg       1.00      1.00      1.00         4\n",
      "weighted avg       1.00      1.00      1.00         4\n",
      "\n"
     ]
    }
   ],
   "source": [
    "# Accuracy\n",
    "accuracy = tf.cast(H >= 0.5, dtype=tf.float32)\n",
    "\n",
    "result = sess.run(accuracy, feed_dict={X: x_data})\n",
    "print(classification_report(t_data, result.ravel()))"
   ]
  },
  {
   "cell_type": "markdown",
   "metadata": {},
   "source": [
    "- OR Gate"
   ]
  },
  {
   "cell_type": "code",
   "execution_count": 35,
   "metadata": {},
   "outputs": [],
   "source": [
    "# Trainin Data Set\n",
    "x_data = np.array([[0,0], [0,1], [1,0], [1,1]], dtype=np.float32)\n",
    "\n",
    "# OR t_data\n",
    "t_data = np.array([[0], [1], [1], [1]], dtype=np.float32)\n",
    "\n",
    "# placeholder\n",
    "X = tf.placeholder(shape=[None, 2], dtype=tf.float32)\n",
    "T = tf.placeholder(shape=[None, 1], dtype=tf.float32)\n",
    "\n",
    "# W & b\n",
    "W = tf.Variable(tf.random.normal([2,1]))\n",
    "b = tf.Variable(tf.random.normal([1]))\n",
    "\n",
    "# Hypothesis\n",
    "logit = tf.matmul(X, W) + b\n",
    "H = tf.sigmoid(logit)\n",
    "\n",
    "# loss function\n",
    "loss = tf.reduce_mean(tf.nn.sigmoid_cross_entropy_with_logits(logits=logit, \n",
    "                                                              labels=T))\n",
    "\n",
    "# train\n",
    "train = tf.train.GradientDescentOptimizer(learning_rate=1e-2).minimize(loss)\n",
    "\n",
    "# Session\n",
    "sess = tf.Session()\n",
    "sess.run(tf.global_variables_initializer())"
   ]
  },
  {
   "cell_type": "code",
   "execution_count": 36,
   "metadata": {},
   "outputs": [
    {
     "name": "stdout",
     "output_type": "stream",
     "text": [
      "loss : 0.41868582367897034\n",
      "loss : 0.20556461811065674\n",
      "loss : 0.13196562230587006\n",
      "loss : 0.09587672352790833\n",
      "loss : 0.0747547447681427\n",
      "loss : 0.06101207807660103\n",
      "loss : 0.0514104887843132\n",
      "loss : 0.04434897378087044\n",
      "loss : 0.03895070403814316\n",
      "loss : 0.03469713777303696\n"
     ]
    }
   ],
   "source": [
    "for step in range(30000):\n",
    "    _, loss_val = sess.run([train, loss], feed_dict={X : x_data, T: t_data})\n",
    "    \n",
    "    if step % 3000 == 0:\n",
    "        print('loss : {}'.format(loss_val))"
   ]
  },
  {
   "cell_type": "code",
   "execution_count": 37,
   "metadata": {},
   "outputs": [
    {
     "name": "stdout",
     "output_type": "stream",
     "text": [
      "              precision    recall  f1-score   support\n",
      "\n",
      "         0.0       1.00      1.00      1.00         1\n",
      "         1.0       1.00      1.00      1.00         3\n",
      "\n",
      "    accuracy                           1.00         4\n",
      "   macro avg       1.00      1.00      1.00         4\n",
      "weighted avg       1.00      1.00      1.00         4\n",
      "\n"
     ]
    }
   ],
   "source": [
    "# Accuracy\n",
    "accuracy = tf.cast(H >= 0.5, dtype=tf.float32)\n",
    "\n",
    "result = sess.run(accuracy, feed_dict={X: x_data})\n",
    "print(classification_report(t_data, result.ravel()))"
   ]
  },
  {
   "cell_type": "markdown",
   "metadata": {},
   "source": [
    "- XOR Gate"
   ]
  },
  {
   "cell_type": "code",
   "execution_count": 38,
   "metadata": {},
   "outputs": [],
   "source": [
    "# Trainin Data Set\n",
    "x_data = np.array([[0,0], [0,1], [1,0], [1,1]], dtype=np.float32)\n",
    "\n",
    "# XOR t_data\n",
    "t_data = np.array([[0], [1], [1], [0]], dtype=np.float32)\n",
    "\n",
    "# placeholder\n",
    "X = tf.placeholder(shape=[None, 2], dtype=tf.float32)\n",
    "T = tf.placeholder(shape=[None, 1], dtype=tf.float32)\n",
    "\n",
    "# W & b\n",
    "W = tf.Variable(tf.random.normal([2,1]))\n",
    "b = tf.Variable(tf.random.normal([1]))\n",
    "\n",
    "# Hypothesis\n",
    "logit = tf.matmul(X, W) + b\n",
    "H = tf.sigmoid(logit)\n",
    "\n",
    "# loss function\n",
    "loss = tf.reduce_mean(tf.nn.sigmoid_cross_entropy_with_logits(logits=logit, \n",
    "                                                              labels=T))\n",
    "\n",
    "# train\n",
    "train = tf.train.GradientDescentOptimizer(learning_rate=1e-2).minimize(loss)\n",
    "\n",
    "# Session\n",
    "sess = tf.Session()\n",
    "sess.run(tf.global_variables_initializer())"
   ]
  },
  {
   "cell_type": "code",
   "execution_count": 39,
   "metadata": {},
   "outputs": [
    {
     "name": "stdout",
     "output_type": "stream",
     "text": [
      "loss : 0.7997751832008362\n",
      "loss : 0.7003811597824097\n",
      "loss : 0.6938228607177734\n",
      "loss : 0.6932108998298645\n",
      "loss : 0.6931532025337219\n",
      "loss : 0.6931477189064026\n",
      "loss : 0.6931472420692444\n",
      "loss : 0.6931471824645996\n",
      "loss : 0.6931471824645996\n",
      "loss : 0.6931471824645996\n"
     ]
    }
   ],
   "source": [
    "for step in range(30000):\n",
    "    _, loss_val = sess.run([train, loss], feed_dict={X : x_data, T: t_data})\n",
    "    \n",
    "    if step % 3000 == 0:\n",
    "        print('loss : {}'.format(loss_val))"
   ]
  },
  {
   "cell_type": "code",
   "execution_count": 40,
   "metadata": {},
   "outputs": [
    {
     "name": "stdout",
     "output_type": "stream",
     "text": [
      "              precision    recall  f1-score   support\n",
      "\n",
      "         0.0       1.00      0.50      0.67         2\n",
      "         1.0       0.67      1.00      0.80         2\n",
      "\n",
      "    accuracy                           0.75         4\n",
      "   macro avg       0.83      0.75      0.73         4\n",
      "weighted avg       0.83      0.75      0.73         4\n",
      "\n"
     ]
    }
   ],
   "source": [
    "# Accuracy\n",
    "accuracy = tf.cast(H >= 0.5, dtype=tf.float32)\n",
    "\n",
    "result = sess.run(accuracy, feed_dict={X: x_data})\n",
    "print(classification_report(t_data, result.ravel()))\n",
    "\n",
    "# XOR는 구현할 수 없다\n",
    "# 어떻게 구현해야 하는가?"
   ]
  }
 ],
 "metadata": {
  "kernelspec": {
   "display_name": "Python [conda env:data_env_tf2]",
   "language": "python",
   "name": "conda-env-data_env_tf2-py"
  },
  "language_info": {
   "codemirror_mode": {
    "name": "ipython",
    "version": 3
   },
   "file_extension": ".py",
   "mimetype": "text/x-python",
   "name": "python",
   "nbconvert_exporter": "python",
   "pygments_lexer": "ipython3",
   "version": "3.7.10"
  }
 },
 "nbformat": 4,
 "nbformat_minor": 5
}
