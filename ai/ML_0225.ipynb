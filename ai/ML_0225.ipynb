{
 "cells": [
  {
   "cell_type": "code",
   "execution_count": 1,
   "metadata": {},
   "outputs": [],
   "source": [
    "import numpy as np\n",
    "import pandas as pd\n",
    "import matplotlib.pyplot as plt\n",
    "import tensorflow as tf"
   ]
  },
  {
   "cell_type": "code",
   "execution_count": 2,
   "metadata": {
    "scrolled": true
   },
   "outputs": [
    {
     "data": {
      "text/html": [
       "<div>\n",
       "<style scoped>\n",
       "    .dataframe tbody tr th:only-of-type {\n",
       "        vertical-align: middle;\n",
       "    }\n",
       "\n",
       "    .dataframe tbody tr th {\n",
       "        vertical-align: top;\n",
       "    }\n",
       "\n",
       "    .dataframe thead th {\n",
       "        text-align: right;\n",
       "    }\n",
       "</style>\n",
       "<table border=\"1\" class=\"dataframe\">\n",
       "  <thead>\n",
       "    <tr style=\"text-align: right;\">\n",
       "      <th></th>\n",
       "      <th>Temp</th>\n",
       "      <th>Ozone</th>\n",
       "    </tr>\n",
       "  </thead>\n",
       "  <tbody>\n",
       "    <tr>\n",
       "      <th>0</th>\n",
       "      <td>67</td>\n",
       "      <td>41.0</td>\n",
       "    </tr>\n",
       "    <tr>\n",
       "      <th>1</th>\n",
       "      <td>72</td>\n",
       "      <td>36.0</td>\n",
       "    </tr>\n",
       "    <tr>\n",
       "      <th>2</th>\n",
       "      <td>74</td>\n",
       "      <td>12.0</td>\n",
       "    </tr>\n",
       "    <tr>\n",
       "      <th>3</th>\n",
       "      <td>62</td>\n",
       "      <td>18.0</td>\n",
       "    </tr>\n",
       "    <tr>\n",
       "      <th>4</th>\n",
       "      <td>56</td>\n",
       "      <td>NaN</td>\n",
       "    </tr>\n",
       "    <tr>\n",
       "      <th>...</th>\n",
       "      <td>...</td>\n",
       "      <td>...</td>\n",
       "    </tr>\n",
       "    <tr>\n",
       "      <th>148</th>\n",
       "      <td>70</td>\n",
       "      <td>30.0</td>\n",
       "    </tr>\n",
       "    <tr>\n",
       "      <th>149</th>\n",
       "      <td>77</td>\n",
       "      <td>NaN</td>\n",
       "    </tr>\n",
       "    <tr>\n",
       "      <th>150</th>\n",
       "      <td>75</td>\n",
       "      <td>14.0</td>\n",
       "    </tr>\n",
       "    <tr>\n",
       "      <th>151</th>\n",
       "      <td>76</td>\n",
       "      <td>18.0</td>\n",
       "    </tr>\n",
       "    <tr>\n",
       "      <th>152</th>\n",
       "      <td>68</td>\n",
       "      <td>20.0</td>\n",
       "    </tr>\n",
       "  </tbody>\n",
       "</table>\n",
       "<p>153 rows × 2 columns</p>\n",
       "</div>"
      ],
      "text/plain": [
       "     Temp  Ozone\n",
       "0      67   41.0\n",
       "1      72   36.0\n",
       "2      74   12.0\n",
       "3      62   18.0\n",
       "4      56    NaN\n",
       "..    ...    ...\n",
       "148    70   30.0\n",
       "149    77    NaN\n",
       "150    75   14.0\n",
       "151    76   18.0\n",
       "152    68   20.0\n",
       "\n",
       "[153 rows x 2 columns]"
      ]
     },
     "metadata": {},
     "output_type": "display_data"
    }
   ],
   "source": [
    "df = pd.read_csv('../data/ozone.csv')\n",
    "data = df[['Temp', 'Ozone']]\n",
    "display(data)"
   ]
  },
  {
   "cell_type": "code",
   "execution_count": 3,
   "metadata": {},
   "outputs": [
    {
     "name": "stdout",
     "output_type": "stream",
     "text": [
      "오존의 결측치 : 37개\n",
      "온도의 결측치 : 0개\n"
     ]
    }
   ],
   "source": [
    "# 결측치 확인\n",
    "print('오존의 결측치 : {}개'.format(data['Ozone'].isnull().sum()))\n",
    "print('온도의 결측치 : {}개'.format(data['Temp'].isnull().sum()))"
   ]
  },
  {
   "cell_type": "code",
   "execution_count": 4,
   "metadata": {},
   "outputs": [
    {
     "data": {
      "text/html": [
       "<div>\n",
       "<style scoped>\n",
       "    .dataframe tbody tr th:only-of-type {\n",
       "        vertical-align: middle;\n",
       "    }\n",
       "\n",
       "    .dataframe tbody tr th {\n",
       "        vertical-align: top;\n",
       "    }\n",
       "\n",
       "    .dataframe thead th {\n",
       "        text-align: right;\n",
       "    }\n",
       "</style>\n",
       "<table border=\"1\" class=\"dataframe\">\n",
       "  <thead>\n",
       "    <tr style=\"text-align: right;\">\n",
       "      <th></th>\n",
       "      <th>Temp</th>\n",
       "      <th>Ozone</th>\n",
       "    </tr>\n",
       "  </thead>\n",
       "  <tbody>\n",
       "    <tr>\n",
       "      <th>0</th>\n",
       "      <td>67</td>\n",
       "      <td>41.0</td>\n",
       "    </tr>\n",
       "    <tr>\n",
       "      <th>1</th>\n",
       "      <td>72</td>\n",
       "      <td>36.0</td>\n",
       "    </tr>\n",
       "    <tr>\n",
       "      <th>2</th>\n",
       "      <td>74</td>\n",
       "      <td>12.0</td>\n",
       "    </tr>\n",
       "    <tr>\n",
       "      <th>3</th>\n",
       "      <td>62</td>\n",
       "      <td>18.0</td>\n",
       "    </tr>\n",
       "    <tr>\n",
       "      <th>5</th>\n",
       "      <td>66</td>\n",
       "      <td>28.0</td>\n",
       "    </tr>\n",
       "    <tr>\n",
       "      <th>...</th>\n",
       "      <td>...</td>\n",
       "      <td>...</td>\n",
       "    </tr>\n",
       "    <tr>\n",
       "      <th>147</th>\n",
       "      <td>63</td>\n",
       "      <td>14.0</td>\n",
       "    </tr>\n",
       "    <tr>\n",
       "      <th>148</th>\n",
       "      <td>70</td>\n",
       "      <td>30.0</td>\n",
       "    </tr>\n",
       "    <tr>\n",
       "      <th>150</th>\n",
       "      <td>75</td>\n",
       "      <td>14.0</td>\n",
       "    </tr>\n",
       "    <tr>\n",
       "      <th>151</th>\n",
       "      <td>76</td>\n",
       "      <td>18.0</td>\n",
       "    </tr>\n",
       "    <tr>\n",
       "      <th>152</th>\n",
       "      <td>68</td>\n",
       "      <td>20.0</td>\n",
       "    </tr>\n",
       "  </tbody>\n",
       "</table>\n",
       "<p>116 rows × 2 columns</p>\n",
       "</div>"
      ],
      "text/plain": [
       "     Temp  Ozone\n",
       "0      67   41.0\n",
       "1      72   36.0\n",
       "2      74   12.0\n",
       "3      62   18.0\n",
       "5      66   28.0\n",
       "..    ...    ...\n",
       "147    63   14.0\n",
       "148    70   30.0\n",
       "150    75   14.0\n",
       "151    76   18.0\n",
       "152    68   20.0\n",
       "\n",
       "[116 rows x 2 columns]"
      ]
     },
     "metadata": {},
     "output_type": "display_data"
    }
   ],
   "source": [
    "# 결측치 처리\n",
    "data = data.dropna(how='any')\n",
    "display(data)"
   ]
  },
  {
   "cell_type": "code",
   "execution_count": 30,
   "metadata": {},
   "outputs": [
    {
     "data": {
      "text/html": [
       "<div>\n",
       "<style scoped>\n",
       "    .dataframe tbody tr th:only-of-type {\n",
       "        vertical-align: middle;\n",
       "    }\n",
       "\n",
       "    .dataframe tbody tr th {\n",
       "        vertical-align: top;\n",
       "    }\n",
       "\n",
       "    .dataframe thead th {\n",
       "        text-align: right;\n",
       "    }\n",
       "</style>\n",
       "<table border=\"1\" class=\"dataframe\">\n",
       "  <thead>\n",
       "    <tr style=\"text-align: right;\">\n",
       "      <th></th>\n",
       "      <th>Temp</th>\n",
       "      <th>Ozone</th>\n",
       "    </tr>\n",
       "  </thead>\n",
       "  <tbody>\n",
       "    <tr>\n",
       "      <th>count</th>\n",
       "      <td>116.000000</td>\n",
       "      <td>116.000000</td>\n",
       "    </tr>\n",
       "    <tr>\n",
       "      <th>mean</th>\n",
       "      <td>77.870690</td>\n",
       "      <td>42.129310</td>\n",
       "    </tr>\n",
       "    <tr>\n",
       "      <th>std</th>\n",
       "      <td>9.485486</td>\n",
       "      <td>32.987885</td>\n",
       "    </tr>\n",
       "    <tr>\n",
       "      <th>min</th>\n",
       "      <td>57.000000</td>\n",
       "      <td>1.000000</td>\n",
       "    </tr>\n",
       "    <tr>\n",
       "      <th>25%</th>\n",
       "      <td>71.000000</td>\n",
       "      <td>18.000000</td>\n",
       "    </tr>\n",
       "    <tr>\n",
       "      <th>50%</th>\n",
       "      <td>79.000000</td>\n",
       "      <td>31.500000</td>\n",
       "    </tr>\n",
       "    <tr>\n",
       "      <th>75%</th>\n",
       "      <td>85.000000</td>\n",
       "      <td>63.250000</td>\n",
       "    </tr>\n",
       "    <tr>\n",
       "      <th>max</th>\n",
       "      <td>97.000000</td>\n",
       "      <td>168.000000</td>\n",
       "    </tr>\n",
       "  </tbody>\n",
       "</table>\n",
       "</div>"
      ],
      "text/plain": [
       "             Temp       Ozone\n",
       "count  116.000000  116.000000\n",
       "mean    77.870690   42.129310\n",
       "std      9.485486   32.987885\n",
       "min     57.000000    1.000000\n",
       "25%     71.000000   18.000000\n",
       "50%     79.000000   31.500000\n",
       "75%     85.000000   63.250000\n",
       "max     97.000000  168.000000"
      ]
     },
     "execution_count": 30,
     "metadata": {},
     "output_type": "execute_result"
    }
   ],
   "source": [
    "data.describe()"
   ]
  },
  {
   "cell_type": "code",
   "execution_count": 5,
   "metadata": {},
   "outputs": [],
   "source": [
    "# 1. training data\n",
    "x_data = data[['Temp']].values\n",
    "t_data = data['Ozone'].values.reshape(-1,1)"
   ]
  },
  {
   "cell_type": "markdown",
   "metadata": {},
   "source": [
    "- Tendorflow"
   ]
  },
  {
   "cell_type": "code",
   "execution_count": null,
   "metadata": {},
   "outputs": [],
   "source": [
    "import tensorflow as tf"
   ]
  },
  {
   "cell_type": "code",
   "execution_count": 6,
   "metadata": {},
   "outputs": [],
   "source": [
    "# 2. placeholder\n",
    "X = tf.placeholder(shape=[None,1], dtype=tf.float32)\n",
    "T = tf.placeholder(shape=[None,1], dtype=tf.float32)\n",
    "\n",
    "# 3. Weight & bias\n",
    "W = tf.Variable(tf.random.normal([1,1]), name='weight')\n",
    "b = tf.Variable(tf.random.normal([1]), name='bias')\n",
    "\n",
    "# 4. model\n",
    "H = tf.matmul(X, W) + b\n",
    "\n",
    "# 5. loss function\n",
    "loss = tf.reduce_mean(tf.square(H - T))\n",
    "\n",
    "# 6. train\n",
    "train = tf.train.GradientDescentOptimizer(learning_rate=1e-4).minimize(loss)\n",
    "\n",
    "# 7. session, 초기화\n",
    "sess = tf.Session()\n",
    "sess.run(tf.global_variables_initializer())"
   ]
  },
  {
   "cell_type": "code",
   "execution_count": 7,
   "metadata": {},
   "outputs": [
    {
     "name": "stdout",
     "output_type": "stream",
     "text": [
      "W : [[0.5005274]], b : [0.7854434], loss :889.9051513671875\n",
      "W : [[0.5746221]], b : [-0.4934553], loss :863.8118896484375\n",
      "W : [[0.5906765]], b : [-1.7620064], loss :858.4468383789062\n",
      "W : [[0.6065919]], b : [-3.0195768], loss :853.1744384765625\n",
      "W : [[0.62236935]], b : [-4.2662506], loss :847.992919921875\n",
      "W : [[0.6380102]], b : [-5.5021276], loss :842.9007568359375\n",
      "W : [[0.6535157]], b : [-6.72731], loss :837.8963623046875\n",
      "W : [[0.6688871]], b : [-7.941888], loss :832.9781494140625\n",
      "W : [[0.68412375]], b : [-9.145835], loss :828.1453857421875\n",
      "W : [[0.69923073]], b : [-10.339525], loss :823.3951416015625\n"
     ]
    }
   ],
   "source": [
    "# 8. 학습\n",
    "for step in range(30000):\n",
    "    _,W_val,b_val,loss_val = sess.run([train, W, b, loss ], \n",
    "                                      feed_dict={X : x_data, T : t_data})\n",
    "    \n",
    "    if step % 3000 == 0:\n",
    "        print('W : {}, b : {}, loss :{}'.format(W_val, b_val, loss_val))"
   ]
  },
  {
   "cell_type": "code",
   "execution_count": 8,
   "metadata": {},
   "outputs": [
    {
     "data": {
      "image/png": "[encoded data removed]",
      "text/plain": [
       "<Figure size 432x288 with 1 Axes>"
      ]
     },
     "metadata": {
      "needs_background": "light"
     },
     "output_type": "display_data"
    },
    {
     "name": "stdout",
     "output_type": "stream",
     "text": [
      "[[47.042076]]\n"
     ]
    }
   ],
   "source": [
    "import matplotlib.pyplot as plt\n",
    "\n",
    "plt.scatter(x_data, t_data)\n",
    "plt.plot(x_data, x_data*W_val + b_val, color='r')\n",
    "plt.show()\n",
    "\n",
    "# 9. predict\n",
    "result = sess.run(H, feed_dict={X : [[82]] })\n",
    "print(result)"
   ]
  },
  {
   "cell_type": "code",
   "execution_count": 9,
   "metadata": {},
   "outputs": [
    {
     "name": "stdout",
     "output_type": "stream",
     "text": [
      "W : [[2.4287033]], b : [-146.99549097]\n",
      "[[52.15818003]]\n"
     ]
    },
    {
     "data": {
      "image/png": "[encoded data removed]",
      "text/plain": [
       "<Figure size 432x288 with 1 Axes>"
      ]
     },
     "metadata": {
      "needs_background": "light"
     },
     "output_type": "display_data"
    }
   ],
   "source": [
    "from sklearn import linear_model\n",
    "\n",
    "# 2. model\n",
    "model = linear_model.LinearRegression()\n",
    "\n",
    "# 3. 학습\n",
    "model.fit(x_data, t_data)\n",
    "\n",
    "# 4. Weight & bias\n",
    "# W : [[1.6470598]], b : [-85.23316] - tensorflow\n",
    "print('W : {}, b : {}'.format(model.coef_, model.intercept_))\n",
    "\n",
    "# 5. predict\n",
    "# [[50.020073]] - tensorflow\n",
    "print(model.predict([[82]]))\n",
    "\n",
    "# 6. 시각화하여 tensorflow와 비교\n",
    "plt.scatter(x_data, t_data)\n",
    "plt.plot(x_data, x_data*W_val + b_val, color='r')\n",
    "plt.plot(x_data, x_data*model.coef_ + model.intercept_, color='b')\n",
    "plt.show()"
   ]
  },
  {
   "cell_type": "markdown",
   "metadata": {},
   "source": [
    "# 이상치 처리\n",
    "---\n",
    "## 1. boxplot을 이용하여 이상치를 확인"
   ]
  },
  {
   "cell_type": "code",
   "execution_count": 28,
   "metadata": {},
   "outputs": [
    {
     "name": "stdout",
     "output_type": "stream",
     "text": [
      "8.0\n",
      "4.5\n",
      "8.0\n",
      "11.5\n",
      "[22.1]\n"
     ]
    },
    {
     "data": {
      "image/png": "[encoded data removed]",
      "text/plain": [
       "<Figure size 432x288 with 2 Axes>"
      ]
     },
     "metadata": {
      "needs_background": "light"
     },
     "output_type": "display_data"
    }
   ],
   "source": [
    "dt = np.array([1,2,3,4,5,6,7,8,9,10,11,12,13,14,22.1])\n",
    "\n",
    "fig = plt.figure() # 새로운 figure를 생성\n",
    "fig_1 = fig.add_subplot(1,2,1)\n",
    "fig_2 = fig.add_subplot(1,2,2)\n",
    "\n",
    "fig_1.set_title('Original Data')\n",
    "fig_1.boxplot(dt)\n",
    "\n",
    "# numpy를 이용하여 사분위수 구하기\n",
    "print(np.median(dt))\n",
    "print(np.percentile(dt,25)) # 1사분위값\n",
    "print(np.percentile(dt,50)) # 2사분위값\n",
    "print(np.percentile(dt,75)) # 3사분위값\n",
    "\n",
    "# IQR 구하기\n",
    "iqr_value = np.percentile(dt,75) - np.percentile(dt,25)\n",
    "\n",
    "upper_fense = np.percentile(dt,75) + (iqr_value * 1.5)\n",
    "lower_fense = np.percentile(dt,25) - (iqr_value * 1.5)\n",
    "\n",
    "# 이상치 출력\n",
    "print(dt[(dt > upper_fense) | (dt < lower_fense)])\n",
    "\n",
    "# 이상치 제외\n",
    "result = dt[(dt <= upper_fense) & (dt >= lower_fense)]\n",
    "\n",
    "fig_2.set_title('Remove Outiler')\n",
    "fig_2.boxplot(result)\n",
    "\n",
    "fig.tight_layout()\n",
    "plt.show()"
   ]
  },
  {
   "cell_type": "markdown",
   "metadata": {},
   "source": [
    "## 2. Z -score"
   ]
  },
  {
   "cell_type": "code",
   "execution_count": 29,
   "metadata": {},
   "outputs": [
    {
     "name": "stdout",
     "output_type": "stream",
     "text": [
      "[22.1]\n"
     ]
    },
    {
     "data": {
      "text/plain": [
       "array([ 1.,  2.,  3.,  4.,  5.,  6.,  7.,  8.,  9., 10., 11., 12., 13.,\n",
       "       14.])"
      ]
     },
     "execution_count": 29,
     "metadata": {},
     "output_type": "execute_result"
    }
   ],
   "source": [
    "from scipy import stats\n",
    "\n",
    "zscore_threshold = 1.8 # 2.0이 optimal value\n",
    "\n",
    "dt = np.array([1,2,3,4,5,6,7,8,9,10,11,12,13,14,22.1])\n",
    "\n",
    "# Outlier 출력\n",
    "outlier = dt[np.abs(stats.zscore(dt)) > zscore_threshold]\n",
    "print(dt[np.abs(((dt - dt.mean()) / dt.std()) > zscore_threshold)])\n",
    "\n",
    "# Outlier 제거\n",
    "dt[np.isin(dt, outlier, invert=True)]"
   ]
  },
  {
   "cell_type": "markdown",
   "metadata": {},
   "source": [
    "# 이상치 처리를 이용한 단순 회귀 분석\n",
    "---\n",
    "## 1. Tukey fense를 이용한 단순 회귀 분석"
   ]
  },
  {
   "cell_type": "code",
   "execution_count": 10,
   "metadata": {},
   "outputs": [
    {
     "data": {
      "image/png": "[encoded data removed]",
      "text/plain": [
       "<Figure size 432x288 with 2 Axes>"
      ]
     },
     "metadata": {
      "needs_background": "light"
     },
     "output_type": "display_data"
    }
   ],
   "source": [
    "# 일단 그래프 그려서 확인\n",
    "fig_t = plt.figure()\n",
    "fig_t1 = fig_t.add_subplot(1,2,1)\n",
    "fig_t2 = fig_t.add_subplot(1,2,2)\n",
    "\n",
    "fig_t1.set_title('Temp')\n",
    "fig_t1.boxplot(data['Temp'])\n",
    "\n",
    "fig_t2.set_title('Ozone')\n",
    "fig_t2.boxplot(data['Ozone'])\n",
    "\n",
    "fig_t.tight_layout()"
   ]
  },
  {
   "cell_type": "code",
   "execution_count": 24,
   "metadata": {
    "scrolled": true
   },
   "outputs": [
    {
     "name": "stdout",
     "output_type": "stream",
     "text": [
      "Outlier\n"
     ]
    },
    {
     "data": {
      "text/html": [
       "<div>\n",
       "<style scoped>\n",
       "    .dataframe tbody tr th:only-of-type {\n",
       "        vertical-align: middle;\n",
       "    }\n",
       "\n",
       "    .dataframe tbody tr th {\n",
       "        vertical-align: top;\n",
       "    }\n",
       "\n",
       "    .dataframe thead th {\n",
       "        text-align: right;\n",
       "    }\n",
       "</style>\n",
       "<table border=\"1\" class=\"dataframe\">\n",
       "  <thead>\n",
       "    <tr style=\"text-align: right;\">\n",
       "      <th></th>\n",
       "      <th>Temp</th>\n",
       "      <th>Ozone</th>\n",
       "    </tr>\n",
       "  </thead>\n",
       "  <tbody>\n",
       "    <tr>\n",
       "      <th>61</th>\n",
       "      <td>84</td>\n",
       "      <td>135.0</td>\n",
       "    </tr>\n",
       "    <tr>\n",
       "      <th>116</th>\n",
       "      <td>81</td>\n",
       "      <td>168.0</td>\n",
       "    </tr>\n",
       "  </tbody>\n",
       "</table>\n",
       "</div>"
      ],
      "text/plain": [
       "     Temp  Ozone\n",
       "61     84  135.0\n",
       "116    81  168.0"
      ]
     },
     "metadata": {},
     "output_type": "display_data"
    },
    {
     "name": "stdout",
     "output_type": "stream",
     "text": [
      "Remove Outlier\n"
     ]
    },
    {
     "data": {
      "text/html": [
       "<div>\n",
       "<style scoped>\n",
       "    .dataframe tbody tr th:only-of-type {\n",
       "        vertical-align: middle;\n",
       "    }\n",
       "\n",
       "    .dataframe tbody tr th {\n",
       "        vertical-align: top;\n",
       "    }\n",
       "\n",
       "    .dataframe thead th {\n",
       "        text-align: right;\n",
       "    }\n",
       "</style>\n",
       "<table border=\"1\" class=\"dataframe\">\n",
       "  <thead>\n",
       "    <tr style=\"text-align: right;\">\n",
       "      <th></th>\n",
       "      <th>Temp</th>\n",
       "      <th>Ozone</th>\n",
       "    </tr>\n",
       "  </thead>\n",
       "  <tbody>\n",
       "    <tr>\n",
       "      <th>0</th>\n",
       "      <td>67</td>\n",
       "      <td>41.0</td>\n",
       "    </tr>\n",
       "    <tr>\n",
       "      <th>1</th>\n",
       "      <td>72</td>\n",
       "      <td>36.0</td>\n",
       "    </tr>\n",
       "    <tr>\n",
       "      <th>2</th>\n",
       "      <td>74</td>\n",
       "      <td>12.0</td>\n",
       "    </tr>\n",
       "    <tr>\n",
       "      <th>3</th>\n",
       "      <td>62</td>\n",
       "      <td>18.0</td>\n",
       "    </tr>\n",
       "    <tr>\n",
       "      <th>5</th>\n",
       "      <td>66</td>\n",
       "      <td>28.0</td>\n",
       "    </tr>\n",
       "    <tr>\n",
       "      <th>...</th>\n",
       "      <td>...</td>\n",
       "      <td>...</td>\n",
       "    </tr>\n",
       "    <tr>\n",
       "      <th>147</th>\n",
       "      <td>63</td>\n",
       "      <td>14.0</td>\n",
       "    </tr>\n",
       "    <tr>\n",
       "      <th>148</th>\n",
       "      <td>70</td>\n",
       "      <td>30.0</td>\n",
       "    </tr>\n",
       "    <tr>\n",
       "      <th>150</th>\n",
       "      <td>75</td>\n",
       "      <td>14.0</td>\n",
       "    </tr>\n",
       "    <tr>\n",
       "      <th>151</th>\n",
       "      <td>76</td>\n",
       "      <td>18.0</td>\n",
       "    </tr>\n",
       "    <tr>\n",
       "      <th>152</th>\n",
       "      <td>68</td>\n",
       "      <td>20.0</td>\n",
       "    </tr>\n",
       "  </tbody>\n",
       "</table>\n",
       "<p>114 rows × 2 columns</p>\n",
       "</div>"
      ],
      "text/plain": [
       "     Temp  Ozone\n",
       "0      67   41.0\n",
       "1      72   36.0\n",
       "2      74   12.0\n",
       "3      62   18.0\n",
       "5      66   28.0\n",
       "..    ...    ...\n",
       "147    63   14.0\n",
       "148    70   30.0\n",
       "150    75   14.0\n",
       "151    76   18.0\n",
       "152    68   20.0\n",
       "\n",
       "[114 rows x 2 columns]"
      ]
     },
     "metadata": {},
     "output_type": "display_data"
    }
   ],
   "source": [
    "# 이상치 제거\n",
    "iqr_value = np.percentile(data['Ozone'],75) - np.percentile(data['Ozone'],25)\n",
    "\n",
    "upper_fense = np.percentile(data['Ozone'],75) + (iqr_value * 1.5)\n",
    "lower_fense = np.percentile(data['Ozone'],25) - (iqr_value * 1.5)\n",
    "\n",
    "# 이상치 확인\n",
    "print('Outlier')\n",
    "display(data[(data['Ozone'] > upper_fense) | (data['Ozone'] < lower_fense)])\n",
    "\n",
    "result_t = data[(data['Ozone'] <= upper_fense) & (data['Ozone'] >= lower_fense)]\n",
    "print('Remove Outlier')\n",
    "display(result_t)"
   ]
  },
  {
   "cell_type": "code",
   "execution_count": 25,
   "metadata": {},
   "outputs": [],
   "source": [
    "# 1. training data\n",
    "x_data = result_t['Temp'].values.reshape(-1,1)\n",
    "t_data = result_t['Ozone'].values.reshape(-1,1)\n",
    "\n",
    "# 2. X 와 T node\n",
    "X = tf.placeholder(shape=[None,1], dtype=tf.float32)\n",
    "T = tf.placeholder(shape=[None,1], dtype=tf.float32)\n",
    "\n",
    "# 3. W, b\n",
    "W = tf.Variable(tf.random.normal([1,1]), name='weight')\n",
    "b = tf.Variable(tf.random.normal([1]), name='bias')\n",
    "\n",
    "# 4. 모델\n",
    "H = tf.matmul(X, W) + b\n",
    "\n",
    "# 5. loss\n",
    "loss = tf.reduce_mean(tf.square(H - T))\n",
    "\n",
    "# 6. train\n",
    "train = tf.train.GradientDescentOptimizer(learning_rate=1e-6).minimize(loss)\n",
    "\n",
    "# 7. seession\n",
    "sess = tf.Session()\n",
    "sess.run(tf.global_variables_initializer())"
   ]
  },
  {
   "cell_type": "code",
   "execution_count": 33,
   "metadata": {},
   "outputs": [
    {
     "name": "stdout",
     "output_type": "stream",
     "text": [
      "W : [[0.5546871]], b : [-0.85951084] , loss : 676.5438842773438\n",
      "W : [[0.55627257]], b : [-0.9846806] , loss : 676.023681640625\n",
      "W : [[0.55785793]], b : [-1.1098503] , loss : 675.50390625\n",
      "W : [[0.55944335]], b : [-1.23502] , loss : 674.984619140625\n",
      "W : [[0.5610288]], b : [-1.3601898] , loss : 674.4657592773438\n",
      "W : [[0.5626142]], b : [-1.4853595] , loss : 673.9473876953125\n",
      "W : [[0.5641996]], b : [-1.6105293] , loss : 673.429443359375\n",
      "W : [[0.56578505]], b : [-1.735699] , loss : 672.9119873046875\n",
      "W : [[0.5673704]], b : [-1.8608688] , loss : 672.39501953125\n",
      "W : [[0.56895584]], b : [-1.9860386] , loss : 671.87841796875\n"
     ]
    }
   ],
   "source": [
    "# 8. 학습\n",
    "for step in range(300000):\n",
    "    _,W_val,b_val,loss_val = sess.run([train, W, b, loss], \n",
    "                                      feed_dict={X : x_data, T : t_data})\n",
    "    \n",
    "    if step % 30000 == 0:\n",
    "        print('W : {}, b : {} , loss : {}'.format(W_val,b_val,loss_val))"
   ]
  },
  {
   "cell_type": "code",
   "execution_count": 34,
   "metadata": {},
   "outputs": [
    {
     "name": "stdout",
     "output_type": "stream",
     "text": [
      "[[44.673054]]\n"
     ]
    }
   ],
   "source": [
    "# 9. 예측 \n",
    "print(sess.run(H, feed_dict={X : [[82]]}))"
   ]
  },
  {
   "cell_type": "code",
   "execution_count": 35,
   "metadata": {},
   "outputs": [
    {
     "data": {
      "image/png": "[encoded data removed]",
      "text/plain": [
       "<Figure size 432x288 with 1 Axes>"
      ]
     },
     "metadata": {
      "needs_background": "light"
     },
     "output_type": "display_data"
    }
   ],
   "source": [
    "# sklearn과 비교? 이거 위에 있는걸로 비교?\n",
    "plt.scatter(x_data, t_data)\n",
    "plt.plot(x_data, x_data*W_val + b_val, color='r')\n",
    "plt.show()"
   ]
  },
  {
   "cell_type": "markdown",
   "metadata": {},
   "source": [
    "## 2. Z-score"
   ]
  },
  {
   "cell_type": "code",
   "execution_count": 18,
   "metadata": {},
   "outputs": [
    {
     "data": {
      "text/html": [
       "<div>\n",
       "<style scoped>\n",
       "    .dataframe tbody tr th:only-of-type {\n",
       "        vertical-align: middle;\n",
       "    }\n",
       "\n",
       "    .dataframe tbody tr th {\n",
       "        vertical-align: top;\n",
       "    }\n",
       "\n",
       "    .dataframe thead th {\n",
       "        text-align: right;\n",
       "    }\n",
       "</style>\n",
       "<table border=\"1\" class=\"dataframe\">\n",
       "  <thead>\n",
       "    <tr style=\"text-align: right;\">\n",
       "      <th></th>\n",
       "      <th>Temp</th>\n",
       "      <th>Ozone</th>\n",
       "    </tr>\n",
       "  </thead>\n",
       "  <tbody>\n",
       "    <tr>\n",
       "      <th>29</th>\n",
       "      <td>79</td>\n",
       "      <td>2.209014</td>\n",
       "    </tr>\n",
       "    <tr>\n",
       "      <th>61</th>\n",
       "      <td>84</td>\n",
       "      <td>2.815297</td>\n",
       "    </tr>\n",
       "    <tr>\n",
       "      <th>85</th>\n",
       "      <td>85</td>\n",
       "      <td>1.996815</td>\n",
       "    </tr>\n",
       "    <tr>\n",
       "      <th>98</th>\n",
       "      <td>89</td>\n",
       "      <td>2.421213</td>\n",
       "    </tr>\n",
       "    <tr>\n",
       "      <th>100</th>\n",
       "      <td>90</td>\n",
       "      <td>2.057443</td>\n",
       "    </tr>\n",
       "    <tr>\n",
       "      <th>116</th>\n",
       "      <td>81</td>\n",
       "      <td>3.815664</td>\n",
       "    </tr>\n",
       "    <tr>\n",
       "      <th>120</th>\n",
       "      <td>94</td>\n",
       "      <td>2.299956</td>\n",
       "    </tr>\n",
       "  </tbody>\n",
       "</table>\n",
       "</div>"
      ],
      "text/plain": [
       "     Temp     Ozone\n",
       "29     79  2.209014\n",
       "61     84  2.815297\n",
       "85     85  1.996815\n",
       "98     89  2.421213\n",
       "100    90  2.057443\n",
       "116    81  3.815664\n",
       "120    94  2.299956"
      ]
     },
     "metadata": {},
     "output_type": "display_data"
    }
   ],
   "source": [
    "# 이상치 제거\n",
    "data_o = data.copy()\n",
    "data_o.loc[:,['Ozone']] = (data_o['Ozone'] - data_o['Ozone'].mean()) / data_o['Ozone'].std()\n",
    "\n",
    "zscore_threshold = 1.8\n",
    "\n",
    "# 이상치\n",
    "display(data_o.loc[np.abs(data_o['Ozone']) > zscore_threshold])\n",
    "\n",
    "# 이상치 제거\n",
    "result_z = data_o.loc[np.abs(data_o['Ozone']) <= zscore_threshold]"
   ]
  },
  {
   "cell_type": "code",
   "execution_count": 21,
   "metadata": {},
   "outputs": [],
   "source": [
    "# 1. training data\n",
    "x_data = result_z['Temp'].values.reshape(-1,1)\n",
    "t_data = result_z['Ozone'].values.reshape(-1,1)\n",
    "\n",
    "# 2. X 와 T node\n",
    "X = tf.placeholder(shape=[None,1], dtype=tf.float32)\n",
    "T = tf.placeholder(shape=[None,1], dtype=tf.float32)\n",
    "\n",
    "# 3. W, b\n",
    "W = tf.Variable(tf.random.normal([1,1]), name='weight')\n",
    "b = tf.Variable(tf.random.normal([1]), name='bias')\n",
    "\n",
    "# 4. 모델\n",
    "H = tf.matmul(X, W) + b\n",
    "\n",
    "# 5. loss\n",
    "loss = tf.reduce_mean(tf.square(H - T))\n",
    "\n",
    "# 6. train\n",
    "train = tf.train.GradientDescentOptimizer(learning_rate=1e-4).minimize(loss)\n",
    "\n",
    "# 7. seession\n",
    "sess = tf.Session()\n",
    "sess.run(tf.global_variables_initializer())"
   ]
  },
  {
   "cell_type": "code",
   "execution_count": 22,
   "metadata": {},
   "outputs": [
    {
     "name": "stdout",
     "output_type": "stream",
     "text": [
      "W : [[-0.36202285]], b : [-0.27364218] , loss : 806.7474365234375\n",
      "W : [[0.00746782]], b : [-0.67456394] , loss : 0.5246478915214539\n",
      "W : [[0.01219995]], b : [-1.0460231] , loss : 0.47861433029174805\n",
      "W : [[0.01653412]], b : [-1.386244] , loss : 0.4399959444999695\n",
      "W : [[0.02050472]], b : [-1.6979258] , loss : 0.40759092569351196\n",
      "W : [[0.02414116]], b : [-1.9833773] , loss : 0.38040798902511597\n",
      "W : [[0.02747118]], b : [-2.2447748] , loss : 0.3576079308986664\n",
      "W : [[0.03052162]], b : [-2.4842262] , loss : 0.33847731351852417\n",
      "W : [[0.03331758]], b : [-2.7037024] , loss : 0.3224169611930847\n",
      "W : [[0.03587497]], b : [-2.9044502] , loss : 0.30896180868148804\n"
     ]
    }
   ],
   "source": [
    "# 8. 학습\n",
    "for step in range(300000):\n",
    "    _,W_val,b_val,loss_val = sess.run([train, W, b, loss], \n",
    "                                      feed_dict={X : x_data, T : t_data})\n",
    "    \n",
    "    if step % 30000 == 0:\n",
    "        print('W : {}, b : {} , loss : {}'.format(W_val,b_val,loss_val))"
   ]
  },
  {
   "cell_type": "code",
   "execution_count": 32,
   "metadata": {},
   "outputs": [
    {
     "name": "stdout",
     "output_type": "stream",
     "text": [
      "[[44.62483]]\n"
     ]
    }
   ],
   "source": [
    "# 9. 예측 \n",
    "print(sess.run(H, feed_dict={X : [[82]]}))"
   ]
  },
  {
   "cell_type": "code",
   "execution_count": 23,
   "metadata": {},
   "outputs": [
    {
     "data": {
      "image/png": "[encoded data removed]",
      "text/plain": [
       "<Figure size 432x288 with 1 Axes>"
      ]
     },
     "metadata": {
      "needs_background": "light"
     },
     "output_type": "display_data"
    }
   ],
   "source": [
    "# sklearn과 비교? 이거 위에 있는걸로 비교?\n",
    "plt.scatter(x_data, t_data)\n",
    "plt.plot(x_data, x_data*W_val + b_val, color='r')\n",
    "plt.show()\n"
   ]
  },
  {
   "cell_type": "code",
   "execution_count": null,
   "metadata": {},
   "outputs": [],
   "source": []
  }
 ],
 "metadata": {
  "kernelspec": {
   "display_name": "Python [conda env:data_env] *",
   "language": "python",
   "name": "conda-env-data_env-py"
  },
  "language_info": {
   "codemirror_mode": {
    "name": "ipython",
    "version": 3
   },
   "file_extension": ".py",
   "mimetype": "text/x-python",
   "name": "python",
   "nbconvert_exporter": "python",
   "pygments_lexer": "ipython3",
   "version": "3.7.9"
  }
 },
 "nbformat": 4,
 "nbformat_minor": 4
}
