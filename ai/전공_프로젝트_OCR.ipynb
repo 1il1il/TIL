{
 "cells": [
  {
   "cell_type": "code",
   "execution_count": 1,
   "metadata": {},
   "outputs": [],
   "source": [
    "import cv2\n",
    "import requests\n",
    "import io\n",
    "import json\n",
    "import os\n",
    "import random\n",
    "from tqdm import tqdm\n",
    "import shutil\n",
    "\n",
    "\n",
    "# ocr 이전 파일 위치\n",
    "src = '../data/telemoji/MTCNN/train/disgust/'    # *수정 필요*   \n",
    "# ocr 이후 파일 위치\n",
    "to_dir = '../data/telemoji/OCR/train/disgust/disgust_filter/'   # 이미지 # *수정 필요*\n",
    "char_dir = '../data/telemoji/OCR/train/disgust/character/'   # 글자\n",
    "\n",
    "url_api = \"https://api.ocr.space/parse/image\"\n",
    "files_ls = os.listdir(src)"
   ]
  },
  {
   "cell_type": "code",
   "execution_count": null,
   "metadata": {},
   "outputs": [],
   "source": [
    "file_path = os.path.join(src, '1376d0360b9856299a9ad4bea70b4760369ec77eb2df113f9871d67f.jpg')\n",
    "img = cv2.imread(file_path) \n",
    "_, compressedimage = cv2.imencode(\".jpg\", img)  # (Boolean, ndarray)\n",
    "                                                # memory buffer에 이미지 넣기\n",
    "file_bytes = io.BytesIO(compressedimage)        # memory buffer에 있는 byte 형태 데이터 \n",
    "\n",
    "result = requests.post(url_api,\n",
    "                       files={file_path: file_bytes},\n",
    "                       data={\"apikey\": \"78c8df23e688957\", # *수정 필요*\n",
    "                             \"language\": \"eng\"})\n",
    "result = result.content.decode() \n",
    "result = json.loads(result)\n",
    "print(result)"
   ]
  },
  {
   "cell_type": "code",
   "execution_count": 2,
   "metadata": {},
   "outputs": [
    {
     "name": "stderr",
     "output_type": "stream",
     "text": [
      "  0%|                                                                                         | 0/3020 [00:00<?, ?it/s]"
     ]
    },
    {
     "name": "stdout",
     "output_type": "stream",
     "text": [
      "'str' object has no attribute 'get'\n",
      "267a099884c08390fc336ad139ac6c0c0e8436b7ccc864d76e0349aa.jpg\n"
     ]
    },
    {
     "name": "stderr",
     "output_type": "stream",
     "text": [
      "\n"
     ]
    }
   ],
   "source": [
    "# Ocr\n",
    "for file in tqdm(files_ls): \n",
    "    try:\n",
    "        file_path = os.path.join(src, file)\n",
    "        img = cv2.imread(file_path) \n",
    "        _, compressedimage = cv2.imencode(\".jpg\", img)  # (Boolean, ndarray)\n",
    "                                                        # memory buffer에 이미지 넣기\n",
    "        file_bytes = io.BytesIO(compressedimage)        # memory buffer에 있는 byte 형태 데이터 \n",
    "\n",
    "        result = requests.post(url_api,\n",
    "                               files={file_path: file_bytes},\n",
    "                               data={\"apikey\": \"78c8df23e688957\", # *수정 필요*\n",
    "                                     \"language\": \"eng\"})\n",
    "        result = result.content.decode() \n",
    "        result = json.loads(result)\n",
    "        parsed_results = result.get(\"ParsedResults\")[0]\n",
    "        text_detected = parsed_results.get(\"ParsedText\")\n",
    "        if bool(text_detected) == True:\n",
    "            print(text_detected)\n",
    "            shutil.move(file_path, char_dir + file)        # char_dir로 파일 이동\n",
    "        else:\n",
    "            shutil.move(file_path, to_dir + file)          # to_dir로 파일 이동\n",
    "    except (AttributeError, IndexError, TypeError) as e:\n",
    "        print(e)\n",
    "        print(file)\n",
    "        break"
   ]
  }
 ],
 "metadata": {
  "kernelspec": {
   "display_name": "Python [conda env:data_env_tf2] *",
   "language": "python",
   "name": "conda-env-data_env_tf2-py"
  },
  "language_info": {
   "codemirror_mode": {
    "name": "ipython",
    "version": 3
   },
   "file_extension": ".py",
   "mimetype": "text/x-python",
   "name": "python",
   "nbconvert_exporter": "python",
   "pygments_lexer": "ipython3",
   "version": "3.7.10"
  }
 },
 "nbformat": 4,
 "nbformat_minor": 4
}
