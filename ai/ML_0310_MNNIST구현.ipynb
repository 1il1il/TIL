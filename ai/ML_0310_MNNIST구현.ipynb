{
 "cells": [
  {
   "cell_type": "code",
   "execution_count": null,
   "metadata": {},
   "outputs": [],
   "source": [
    "import numpy as np\n",
    "import pandas as pd\n",
    "import tensorflow as tf\n",
    "import matplotlib.pyplot as plt\n",
    "\n",
    "from sklearn.preprocessing import MinMaxScaler\n",
    "from sklearn.model_selection import train_test_split\n",
    "from sklearn.model_selection import KFold\n",
    "from sklearn.metrics import confusion_matrix, classification_report"
   ]
  },
  {
   "cell_type": "code",
   "execution_count": null,
   "metadata": {},
   "outputs": [],
   "source": [
    "# Raw Data Loading\n",
    "df = pd.read_csv('../data/digit-recognizer/train.csv')\n",
    "display(df.head(),df.shape)\n",
    "\n",
    "# 데이터 명세를 파악하기\n",
    "# 각 픽셀의 값은 0 ~ 255 크면 클수록 어두운 색상\n",
    "# 결측치, 이상치 확인 > 현재 데이터에는 이상치와 결측치가 없음"
   ]
  },
  {
   "cell_type": "code",
   "execution_count": null,
   "metadata": {},
   "outputs": [],
   "source": [
    "# 이미지 확인\n",
    "img_data = df.drop('label', axis=1, inplace=False).values\n",
    "\n",
    "fig = plt.figure()\n",
    "fig_arr = [] # 10개의 subplot을 만들고 리스트에 저장\n",
    "\n",
    "for n in range(10):\n",
    "    fig_arr.append(fig.add_subplot(2,5,n+1))\n",
    "    fig_arr[n].imshow(img_data[n].reshape(28,28), cmap='Greys', \n",
    "                     interpolation='nearest')\n",
    "plt.tight_layout()\n",
    "plt.show()"
   ]
  },
  {
   "cell_type": "code",
   "execution_count": null,
   "metadata": {},
   "outputs": [],
   "source": [
    "# 데이터 분할\n",
    "x_data_train, x_data_test, t_data_train, t_data_test = \\\n",
    "train_test_split(df.drop('label', axis=1,inplace=False), df['label'], \n",
    "                 test_size=0.3, random_state=0)\n",
    "\n",
    "# 데이터 정규화\n",
    "scaler = MinMaxScaler()\n",
    "scaler.fit(x_data_train)\n",
    "\n",
    "x_data_train_norm = scaler.transform(x_data_train)\n",
    "x_data_test_norm = scaler.transform(x_data_test)"
   ]
  },
  {
   "cell_type": "code",
   "execution_count": null,
   "metadata": {},
   "outputs": [],
   "source": [
    "# Tensorflow 구현\n",
    "sess = tf.Session()\n",
    "\n",
    "# one-hot encoding\n",
    "t_data_train_onehot = sess.run(tf.one_hot(t_data_train, depth=10))\n",
    "t_data_test_onehot = sess.run(tf.one_hot(t_data_test, depth=10))\n",
    "\n",
    "# placeholder\n",
    "X = tf.placeholder(shape=[None,784], dtype=tf.float32)\n",
    "T = tf.placeholder(shape=[None,10], dtype=tf.float32)\n",
    "\n",
    "# Weight & bias\n",
    "W = tf.Variable(tf.random.normal([784,10]), name='weight')\n",
    "b = tf.Variable(tf.random.normal([10]), name='bias')\n",
    "\n",
    "# Hypothesis\n",
    "logit = tf.matmul(X,W) + b\n",
    "H = tf.nn.softmax(logit)  # softmax activation function\n",
    "\n",
    "# loss function\n",
    "loss = tf.reduce_mean(tf.nn.softmax_cross_entropy_with_logits_v2(logits=logit,\n",
    "                                                                 labels=T))\n",
    "\n",
    "# train\n",
    "train = tf.train.GradientDescentOptimizer(learning_rate=0.1).minimize(loss)\n",
    "\n",
    "\n",
    "# parameter\n",
    "num_of_epoch = 1000\n",
    "batch_size = 100\n",
    "\n",
    "# 학습용 함수\n",
    "def run_train(sess,train_x, train_t):\n",
    "    print('### 학습 시작 ###')\n",
    "    # 초기화\n",
    "    sess.run(tf.global_variables_initializer())\n",
    "    \n",
    "    for step in range(num_of_epoch):\n",
    "        total_batch = int(train_x.shape[0] / batch_size)\n",
    "        \n",
    "        for i in range(total_batch):\n",
    "            batch_x = train_x[i*batch_size:(i+1)*batch_size]\n",
    "            batch_t = train_t[i*batch_size:(i+1)*batch_size]           \n",
    "            _, loss_val = sess.run([train,loss],\n",
    "                                   feed_dict={X: batch_x,\n",
    "                                              T: batch_t})\n",
    "            \n",
    "        if step % 100 == 0:\n",
    "            print('Loss : {}'.format(loss_val))\n",
    "    print('### 학습 종료 ###')\n",
    "    \n",
    "# Accuracy 측정(정확도)    \n",
    "predict = tf.argmax(H,1)\n",
    "correct = tf.equal(predict, tf.argmax(T,1))\n",
    "accuracy = tf.reduce_mean(tf.cast(correct, dtype=tf.float32))"
   ]
  },
  {
   "cell_type": "code",
   "execution_count": null,
   "metadata": {},
   "outputs": [],
   "source": [
    "# learning\n",
    "run_train(sess,x_data_train_norm, t_data_train_onehot)"
   ]
  },
  {
   "cell_type": "code",
   "execution_count": null,
   "metadata": {},
   "outputs": [],
   "source": [
    "# 학습때도 데이터를 배치처리를 해서 했으므로 성능평가도 마찬가지로 진행해야함\n",
    "print('### Test Data Set을 이용하여 성능평가! ###')\n",
    "result_t = sess.run(accuracy, feed_dict={X:x_data_test_norm,\n",
    "                                       T:t_data_test_onehot})\n",
    "print('Accuracy : {}'.format(result_t))"
   ]
  },
  {
   "cell_type": "code",
   "execution_count": null,
   "metadata": {},
   "outputs": [],
   "source": [
    "# learning with kfold\n",
    "cv = 5\n",
    "results = []\n",
    "\n",
    "kf = KFold(n_splits=cv, shuffle=True)\n",
    "\n",
    "for train_idx, val_idx in kf.split(x_data_train_norm):\n",
    "    training_x = x_data_train_norm[train_idx]\n",
    "    training_t = t_data_train_onehot[train_idx]\n",
    "    \n",
    "    val_x = x_data_train_norm[val_idx]\n",
    "    val_t = t_data_test_onehot[val_idx]\n",
    "    \n",
    "    run_train(sess, training_x, training_t)\n",
    "    results.append(sess.run(accuracy, feed_dict={X: val_x, T: val_t}))\n",
    "\n",
    "print('측정한 각각의 결과값 : {}'.format(results))\n",
    "print('최종 k-fold 교차검증을 사용한 Accuracy : {}'.format(np.mean(results)))"
   ]
  },
  {
   "cell_type": "code",
   "execution_count": null,
   "metadata": {},
   "outputs": [],
   "source": [
    "# 만약 precision, recall, f1, accuracy를 각각 구하고 싶다면?\n",
    "# 첫번쨰 인자로 정답이 들어가야함(one-hot encoding 안한 값)\n",
    "target_names = ['num 0', 'num 1', 'num 2', 'num 3', 'num 4', \n",
    "                'num 5', 'num 6', 'num 7', 'num 8', 'num 9']\n",
    "result = classification_report(t_data_test, \n",
    "                      sess.run(predict, feed_dict={X:x_data_test_norm}),\n",
    "                      target_names = target_names)\n",
    "print(result)"
   ]
  },
  {
   "cell_type": "code",
   "execution_count": null,
   "metadata": {},
   "outputs": [],
   "source": [
    "# sample code로 confusion matrix 출력하기\n",
    "# 3개의 label이 있는 multinomial classification\n",
    "y_true = [2, 0, 2, 2, 0, 1]\n",
    "y_pred = [0, 0, 2, 2, 0, 2]\n",
    "\n",
    "print(confusion_matrix(y_true, y_pred))"
   ]
  },
  {
   "cell_type": "code",
   "execution_count": null,
   "metadata": {},
   "outputs": [],
   "source": [
    "print(confusion_matrix(t_data_test, \n",
    "                      sess.run(predict, feed_dict={X:x_data_test_norm})))"
   ]
  },
  {
   "cell_type": "code",
   "execution_count": null,
   "metadata": {},
   "outputs": [],
   "source": [
    "# 실제 이미지를 가지고 예측하기\n",
    "import cv2\n",
    "from PIL import Image\n",
    "\n",
    "# 사진 가져오서 흑백으로 변환\n",
    "my_img = cv2.imread('../data/digit-recognizer/sample.jpg', cv2.IMREAD_COLOR)\n",
    "print(my_img.shape)\n",
    "im_grey = cv2.cvtColor(my_img, cv2.COLOR_BGR2GRAY)\n",
    "print(im_grey.shape)\n",
    "cv2.imwrite('../data/digit-recognizer/sample_grey.jpg', im_grey)\n",
    "\n",
    "# 이미지 가져와서 화면에 출력\n",
    "img = Image.open('../data/digit-recognizer/sample_grey.jpg')\n",
    "plt.imshow(img, cmap='Greys')\n",
    "plt.show()"
   ]
  },
  {
   "cell_type": "code",
   "execution_count": null,
   "metadata": {},
   "outputs": [],
   "source": [
    "pixel = np.array(img)\n",
    "pixel_inverse = 255 - pixel\n",
    "\n",
    "plt.imshow(pixel_inverse, cmap='Greys')\n",
    "plt.show()"
   ]
  }
 ],
 "metadata": {
  "kernelspec": {
   "display_name": "Python [conda env:data_env] *",
   "language": "python",
   "name": "conda-env-data_env-py"
  },
  "language_info": {
   "codemirror_mode": {
    "name": "ipython",
    "version": 3
   },
   "file_extension": ".py",
   "mimetype": "text/x-python",
   "name": "python",
   "nbconvert_exporter": "python",
   "pygments_lexer": "ipython3",
   "version": "3.7.9"
  }
 },
 "nbformat": 4,
 "nbformat_minor": 4
}
