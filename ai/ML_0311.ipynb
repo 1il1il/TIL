{
 "cells": [
  {
   "cell_type": "code",
   "execution_count": 3,
   "id": "searching-constitution",
   "metadata": {},
   "outputs": [
    {
     "name": "stdout",
     "output_type": "stream",
     "text": [
      "2.3.0\n"
     ]
    }
   ],
   "source": [
    "import tensorflow as tf\n",
    "\n",
    "print(tf.__version__)"
   ]
  },
  {
   "cell_type": "code",
   "execution_count": 4,
   "id": "equivalent-score",
   "metadata": {},
   "outputs": [
    {
     "name": "stdout",
     "output_type": "stream",
     "text": [
      "[[-1.3653859  0.7593602]\n",
      " [-1.7673316  0.7712682]]\n"
     ]
    }
   ],
   "source": [
    "# W & b\n",
    "W = tf.Variable(tf.random.normal([2,2]), dtype=tf.float32)\n",
    "\n",
    "# 1.15 버전에서는\n",
    "# 1. session이 있어야 한다\n",
    "# 2. sess.run(초기화)\n",
    "\n",
    "# 2.x 버전에서는\n",
    "print(W.numpy())  # Eager Excution(즉시 실행 모드) "
   ]
  },
  {
   "cell_type": "code",
   "execution_count": 5,
   "id": "bound-destruction",
   "metadata": {},
   "outputs": [
    {
     "name": "stdout",
     "output_type": "stream",
     "text": [
      "결과는 : 120\n"
     ]
    }
   ],
   "source": [
    "a = 50\n",
    "b = 70\n",
    "\n",
    "def my_sum(x, y):\n",
    "    \n",
    "    t1 = tf.convert_to_tensor(x)\n",
    "    t2 = tf.convert_to_tensor(y)\n",
    "    \n",
    "    return t1 + t2\n",
    "\n",
    "result = my_sum(a, b)\n",
    "print('결과는 : {}'.format(result.numpy()))\n",
    "\n",
    "# 더이상 placeholder를 사용하지 않는다"
   ]
  },
  {
   "cell_type": "code",
   "execution_count": 6,
   "id": "eastern-annotation",
   "metadata": {},
   "outputs": [],
   "source": [
    "# Keras를 이용한 코드\n",
    "\n",
    "import tensorflow as tf\n",
    "from tensorflow.keras.models import Sequential\n",
    "from tensorflow.keras.layers import Flatten, Dense\n",
    "from tensorflow.keras.optimizers import SGD, Adam"
   ]
  },
  {
   "cell_type": "code",
   "execution_count": null,
   "id": "unavailable-commerce",
   "metadata": {},
   "outputs": [],
   "source": [
    "model = Sequential() # model 생성\n",
    "model.add(Flatten(input_shape=(1,))) # input layer\n",
    "model.add(Dense(2, activaiton='sigmoid')) # 로지스틱의 개수, 활성화 함수\n",
    "\n",
    "model.compile(optimizers=SGD(learning_rate=1e-3), \n",
    "              loss='mse') \n",
    "# 최적화 방법, loss function 지정\n",
    "\n",
    "model.fit(x_data_train, t_data_train, \n",
    "          epochs=10, batch_size=200, validation_split=0.2)\n",
    "\n",
    "model.evaluate(x_data_test, t_data_test)\n",
    "model.predict(x_data_pred)\n",
    "model.save('./myModel.h5')\n",
    "\n",
    "model = tf.keras.models.load_model('./myModel.h5')"
   ]
  },
  {
   "cell_type": "code",
   "execution_count": 16,
   "id": "enormous-representation",
   "metadata": {},
   "outputs": [],
   "source": [
    "# linear Regression\n",
    "\n",
    "import numpy as np\n",
    "import pandas as pd\n",
    "\n",
    "from sklearn.preprocessing import MinMaxScaler\n",
    "from sklearn.model_selection import train_test_split\n",
    "from sklearn.linear_model import LogisticRegression\n",
    "from sklearn.neighbors import KNeighborsClassifier"
   ]
  },
  {
   "cell_type": "markdown",
   "id": "operational-repair",
   "metadata": {},
   "source": [
    "- sklearn을 이용한 BMI 예제를 Logistic Regression으로 예측하고 이를 KNN을 이용한 Model과 비교한다"
   ]
  },
  {
   "cell_type": "code",
   "execution_count": 13,
   "id": "sticky-phone",
   "metadata": {},
   "outputs": [],
   "source": [
    "# Raw Data Loading\n",
    "df = pd.read_csv('../data/bmi/bmi.csv', skiprows=3)\n",
    "\n",
    "# Data Split\n",
    "x_data_trian, x_data_test, t_data_train, t_data_test = \\\n",
    "train_test_split(df[['height','weight']], df['label'], \n",
    "                 test_size= 0.3, random_state=0)\n",
    "\n",
    "# Normalization\n",
    "scaler = MinMaxScaler()\n",
    "scaler.fit(x_data_trian)\n",
    "x_data_trian_norm = scaler.transform(x_data_trian)\n",
    "x_data_test_norm = scaler.transform(x_data_test)"
   ]
  },
  {
   "cell_type": "code",
   "execution_count": 14,
   "id": "private-community",
   "metadata": {},
   "outputs": [
    {
     "name": "stdout",
     "output_type": "stream",
     "text": [
      "0.9845\n"
     ]
    }
   ],
   "source": [
    "# Logistic Regression with sklearn\n",
    "model = LogisticRegression()\n",
    "model.fit(x_data_trian_norm, t_data_train)\n",
    "print(model.score(x_data_test_norm, t_data_test))"
   ]
  },
  {
   "cell_type": "code",
   "execution_count": 15,
   "id": "willing-entrance",
   "metadata": {},
   "outputs": [
    {
     "name": "stdout",
     "output_type": "stream",
     "text": [
      "0.998\n"
     ]
    }
   ],
   "source": [
    "# KNeighborsClassifier\n",
    "knn_classifier = KNeighborsClassifier(n_neighbors=3)\n",
    "knn_classifier.fit(x_data_trian_norm, t_data_train)\n",
    "print(knn_classifier.score(x_data_test_norm, t_data_test))"
   ]
  }
 ],
 "metadata": {
  "kernelspec": {
   "display_name": "Python [conda env:data_env_tf2] *",
   "language": "python",
   "name": "conda-env-data_env_tf2-py"
  },
  "language_info": {
   "codemirror_mode": {
    "name": "ipython",
    "version": 3
   },
   "file_extension": ".py",
   "mimetype": "text/x-python",
   "name": "python",
   "nbconvert_exporter": "python",
   "pygments_lexer": "ipython3",
   "version": "3.7.10"
  }
 },
 "nbformat": 4,
 "nbformat_minor": 5
}
