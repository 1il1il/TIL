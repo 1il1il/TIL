{
 "cells": [
  {
   "cell_type": "markdown",
   "id": "israeli-isaac",
   "metadata": {},
   "source": [
    "# HOG를 이용한 특성 추출\n",
    "- [참고](https://www.thepythoncode.com/article/hog-feature-extraction-in-python)"
   ]
  },
  {
   "cell_type": "code",
   "execution_count": 1,
   "id": "verified-brave",
   "metadata": {},
   "outputs": [],
   "source": [
    "from skimage.io import imread\n",
    "from skimage.transform import resize\n",
    "from skimage.feature import hog\n",
    "from skimage import exposure\n",
    "import matplotlib.pyplot as plt\n",
    "from PIL import Image\n",
    "import numpy as np\n",
    "import os\n",
    "import cv2\n",
    "from tqdm.notebook import tqdm"
   ]
  },
  {
   "cell_type": "code",
   "execution_count": 30,
   "id": "acknowledged-origin",
   "metadata": {},
   "outputs": [
    {
     "name": "stdout",
     "output_type": "stream",
     "text": [
      "(48, 48)\n"
     ]
    },
    {
     "data": {
      "image/png": "[encoded data removed]",
      "text/plain": [
       "<Figure size 432x288 with 1 Axes>"
      ]
     },
     "metadata": {
      "needs_background": "light"
     },
     "output_type": "display_data"
    }
   ],
   "source": [
    "img = imread('../data/FER2013/train/angry/Training_10120469.jpg')\n",
    "plt.axis(\"off\")\n",
    "plt.imshow(img)\n",
    "print(img.shape)"
   ]
  },
  {
   "cell_type": "code",
   "execution_count": 31,
   "id": "nonprofit-nickel",
   "metadata": {},
   "outputs": [
    {
     "data": {
      "text/plain": [
       "<matplotlib.image.AxesImage at 0x206d261c788>"
      ]
     },
     "execution_count": 31,
     "metadata": {},
     "output_type": "execute_result"
    },
    {
     "data": {
      "image/png": "[encoded data removed]",
      "text/plain": [
       "<Figure size 432x288 with 1 Axes>"
      ]
     },
     "metadata": {
      "needs_background": "light"
     },
     "output_type": "display_data"
    }
   ],
   "source": [
    "#creating hog features\n",
    "fd, hog_image = hog(img, orientations=9, pixels_per_cell=(4, 4),\n",
    "                    cells_per_block=(2, 2), visualize=True)\n",
    "plt.axis(\"off\")\n",
    "plt.imshow(hog_image, cmap=\"gray\")"
   ]
  },
  {
   "cell_type": "code",
   "execution_count": null,
   "id": "cooperative-supplement",
   "metadata": {},
   "outputs": [],
   "source": [
    "# save the images\n",
    "plt.imsave(\"hog_image.jpg\", hog_image, cmap=\"gray\")"
   ]
  },
  {
   "cell_type": "code",
   "execution_count": 2,
   "id": "ethical-liberal",
   "metadata": {},
   "outputs": [
    {
     "data": {
      "application/vnd.jupyter.widget-view+json": {
       "model_id": "e67c3d3e9acb48178ff80af3727347a2",
       "version_major": 2,
       "version_minor": 0
      },
      "text/plain": [
       "  0%|          | 0/3995 [00:00<?, ?it/s]"
      ]
     },
     "metadata": {},
     "output_type": "display_data"
    },
    {
     "data": {
      "application/vnd.jupyter.widget-view+json": {
       "model_id": "74052a71fd454e198b9ac0b96276e7c5",
       "version_major": 2,
       "version_minor": 0
      },
      "text/plain": [
       "  0%|          | 0/436 [00:00<?, ?it/s]"
      ]
     },
     "metadata": {},
     "output_type": "display_data"
    },
    {
     "data": {
      "application/vnd.jupyter.widget-view+json": {
       "model_id": "81fd5c34ed66418eab7cf2b58eb78ad9",
       "version_major": 2,
       "version_minor": 0
      },
      "text/plain": [
       "  0%|          | 0/4097 [00:00<?, ?it/s]"
      ]
     },
     "metadata": {},
     "output_type": "display_data"
    },
    {
     "data": {
      "application/vnd.jupyter.widget-view+json": {
       "model_id": "830b0ea5875341a0b73a75eec26cf84c",
       "version_major": 2,
       "version_minor": 0
      },
      "text/plain": [
       "  0%|          | 0/7215 [00:00<?, ?it/s]"
      ]
     },
     "metadata": {},
     "output_type": "display_data"
    },
    {
     "data": {
      "application/vnd.jupyter.widget-view+json": {
       "model_id": "a2022338c8b847f1adb095ceb3d4438f",
       "version_major": 2,
       "version_minor": 0
      },
      "text/plain": [
       "  0%|          | 0/4965 [00:00<?, ?it/s]"
      ]
     },
     "metadata": {},
     "output_type": "display_data"
    },
    {
     "data": {
      "application/vnd.jupyter.widget-view+json": {
       "model_id": "0b220f5c76c449af926662e6a4186940",
       "version_major": 2,
       "version_minor": 0
      },
      "text/plain": [
       "  0%|          | 0/4830 [00:00<?, ?it/s]"
      ]
     },
     "metadata": {},
     "output_type": "display_data"
    },
    {
     "data": {
      "application/vnd.jupyter.widget-view+json": {
       "model_id": "5e440a9c82dd490f914188064bd4196d",
       "version_major": 2,
       "version_minor": 0
      },
      "text/plain": [
       "  0%|          | 0/3171 [00:00<?, ?it/s]"
      ]
     },
     "metadata": {},
     "output_type": "display_data"
    }
   ],
   "source": [
    "# train 폴더 변환\n",
    "path_dir = '../data/FER2013/HE/train'\n",
    "file_list = os.listdir(path_dir)\n",
    "\n",
    "for fname in file_list:\n",
    "    # train 폴더 안의 폴더 경로\n",
    "    temp_dir = os.path.join(path_dir, fname)\n",
    "    for iname in tqdm(os.listdir(temp_dir),total=len(os.listdir(temp_dir)),position=0,leave=True):\n",
    "        img = imread(os.path.join(temp_dir, iname))\n",
    "        fd, hog_image = hog(img, orientations=9, pixels_per_cell=(8, 8), cells_per_block=(2, 2), visualize=True)\n",
    "        # 저장되는 파일 포맷을 jpg로 지정\n",
    "        # 중간에 TIF파일이 있는데 이거 때문에 오류나서 포맷을 지정함\n",
    "        plt.imsave(f\"../data/FER2013/HE_HOG/train/{fname}/{iname.split('.')[0]}.jpg\", \n",
    "                   hog_image, cmap=\"gray\")"
   ]
  },
  {
   "cell_type": "code",
   "execution_count": 3,
   "id": "liked-football",
   "metadata": {},
   "outputs": [
    {
     "data": {
      "application/vnd.jupyter.widget-view+json": {
       "model_id": "8883b33d489e4cff96272154dca91c9a",
       "version_major": 2,
       "version_minor": 0
      },
      "text/plain": [
       "  0%|          | 0/958 [00:00<?, ?it/s]"
      ]
     },
     "metadata": {},
     "output_type": "display_data"
    },
    {
     "data": {
      "application/vnd.jupyter.widget-view+json": {
       "model_id": "bbcf47aa0d86428fa1e1120f408729e9",
       "version_major": 2,
       "version_minor": 0
      },
      "text/plain": [
       "  0%|          | 0/111 [00:00<?, ?it/s]"
      ]
     },
     "metadata": {},
     "output_type": "display_data"
    },
    {
     "data": {
      "application/vnd.jupyter.widget-view+json": {
       "model_id": "f9d20c63dc0a46a58d2a1ca1f2371ada",
       "version_major": 2,
       "version_minor": 0
      },
      "text/plain": [
       "  0%|          | 0/1024 [00:00<?, ?it/s]"
      ]
     },
     "metadata": {},
     "output_type": "display_data"
    },
    {
     "data": {
      "application/vnd.jupyter.widget-view+json": {
       "model_id": "7c30df1c3e8145d9b1ea211141b24e82",
       "version_major": 2,
       "version_minor": 0
      },
      "text/plain": [
       "  0%|          | 0/1774 [00:00<?, ?it/s]"
      ]
     },
     "metadata": {},
     "output_type": "display_data"
    },
    {
     "data": {
      "application/vnd.jupyter.widget-view+json": {
       "model_id": "1bd67e05a5704a97881488c6bdc22929",
       "version_major": 2,
       "version_minor": 0
      },
      "text/plain": [
       "  0%|          | 0/1233 [00:00<?, ?it/s]"
      ]
     },
     "metadata": {},
     "output_type": "display_data"
    },
    {
     "data": {
      "application/vnd.jupyter.widget-view+json": {
       "model_id": "5995a955e7754c52b303e402f8cf0863",
       "version_major": 2,
       "version_minor": 0
      },
      "text/plain": [
       "  0%|          | 0/1247 [00:00<?, ?it/s]"
      ]
     },
     "metadata": {},
     "output_type": "display_data"
    },
    {
     "data": {
      "application/vnd.jupyter.widget-view+json": {
       "model_id": "58ca9e41daff45248f1dbb95b0d482eb",
       "version_major": 2,
       "version_minor": 0
      },
      "text/plain": [
       "  0%|          | 0/831 [00:00<?, ?it/s]"
      ]
     },
     "metadata": {},
     "output_type": "display_data"
    }
   ],
   "source": [
    "# validation 폴더 변환\n",
    "path_dir = '../data/FER2013/HE/test/'\n",
    "file_list = os.listdir(path_dir)\n",
    "\n",
    "for fname in file_list:\n",
    "    # train 폴더 안의 폴더 경로\n",
    "    temp_dir = os.path.join(path_dir, fname)\n",
    "    for iname in tqdm(os.listdir(temp_dir),total=len(os.listdir(temp_dir)),position=0,leave=True):\n",
    "        img = imread(os.path.join(temp_dir, iname))\n",
    "        fd, hog_image = hog(img, orientations=9, pixels_per_cell=(8, 8),\n",
    "                            cells_per_block=(2, 2), visualize=True, \n",
    "                            # multichannel=True\n",
    "                           )\n",
    "        # 저장되는 파일 포맷을 jpg로 지정\n",
    "        # 중간에 TIF파일이 있는데 이거 때문에 오류나서 포맷을 지정함\n",
    "        plt.imsave(f\"../data/FER2013/HE_HOG/test/{fname}/{iname.split('.')[0]}.jpg\", \n",
    "                   hog_image, cmap=\"gray\")"
   ]
  },
  {
   "cell_type": "markdown",
   "id": "excited-trade",
   "metadata": {},
   "source": [
    "# HOG를 이용한 학습"
   ]
  },
  {
   "cell_type": "code",
   "execution_count": 4,
   "id": "higher-sphere",
   "metadata": {},
   "outputs": [],
   "source": [
    "import os\n",
    "import numpy as np\n",
    "import matplotlib.pyplot as plt\n",
    "from tensorflow.keras.preprocessing.image import ImageDataGenerator\n",
    "from tensorflow.keras.models import Sequential\n",
    "from tensorflow.keras.layers import Dense, Dropout, Flatten, BatchNormalization, Activation, Conv2D, MaxPooling2D\n",
    "from tensorflow.keras.optimizers import RMSprop, Adam\n",
    "from tensorflow.keras.applications import EfficientNetB3, ResNet50"
   ]
  },
  {
   "cell_type": "code",
   "execution_count": 5,
   "id": "civilian-symphony",
   "metadata": {},
   "outputs": [
    {
     "name": "stdout",
     "output_type": "stream",
     "text": [
      "Found 28709 images belonging to 7 classes.\n",
      "Found 7178 images belonging to 7 classes.\n"
     ]
    }
   ],
   "source": [
    "base_dir = '../data/FER2013/HE_HOG'\n",
    "train_dir = os.path.join(base_dir, 'train')\n",
    "validation_dir = os.path.join(base_dir, 'test')\n",
    "\n",
    "train_datagen = ImageDataGenerator(\n",
    "      rescale=1/255,    \n",
    "#     rotation_range=40,\n",
    "#     width_shift_range=0.1,\n",
    "#     height_shift_range=0.1,\n",
    "#     zoom_range=0.2,\n",
    "#     horizontal_flip=True,\n",
    "#     vertical_flip=True\n",
    ")\n",
    "\n",
    "validation_datagen = ImageDataGenerator(\n",
    "    rescale=1/255\n",
    ")\n",
    "\n",
    "train_generator = train_datagen.flow_from_directory(\n",
    "    train_dir, \n",
    "    color_mode='grayscale',\n",
    "    target_size=(48,48),\n",
    "    batch_size=100,\n",
    "    class_mode='categorical'\n",
    ")\n",
    "\n",
    "validation_generator = validation_datagen.flow_from_directory(\n",
    "    validation_dir,\n",
    "    color_mode='grayscale',\n",
    "    target_size=(48,48),\n",
    "    batch_size=100,\n",
    "    class_mode='categorical'\n",
    ")"
   ]
  },
  {
   "cell_type": "code",
   "execution_count": 4,
   "id": "harmful-graham",
   "metadata": {
    "scrolled": true
   },
   "outputs": [
    {
     "name": "stdout",
     "output_type": "stream",
     "text": [
      "Model: \"sequential\"\n",
      "_________________________________________________________________\n",
      "Layer (type)                 Output Shape              Param #   \n",
      "=================================================================\n",
      "conv2d (Conv2D)              (None, 112, 112, 64)      128       \n",
      "_________________________________________________________________\n",
      "batch_normalization (BatchNo (None, 112, 112, 64)      256       \n",
      "_________________________________________________________________\n",
      "dropout (Dropout)            (None, 112, 112, 64)      0         \n",
      "_________________________________________________________________\n",
      "conv2d_1 (Conv2D)            (None, 112, 112, 128)     73856     \n",
      "_________________________________________________________________\n",
      "batch_normalization_1 (Batch (None, 112, 112, 128)     512       \n",
      "_________________________________________________________________\n",
      "dropout_1 (Dropout)          (None, 112, 112, 128)     0         \n",
      "_________________________________________________________________\n",
      "conv2d_2 (Conv2D)            (None, 112, 112, 256)     819456    \n",
      "_________________________________________________________________\n",
      "batch_normalization_2 (Batch (None, 112, 112, 256)     1024      \n",
      "_________________________________________________________________\n",
      "max_pooling2d (MaxPooling2D) (None, 56, 56, 256)       0         \n",
      "_________________________________________________________________\n",
      "dropout_2 (Dropout)          (None, 56, 56, 256)       0         \n",
      "_________________________________________________________________\n",
      "flatten (Flatten)            (None, 802816)            0         \n",
      "_________________________________________________________________\n",
      "dense (Dense)                (None, 128)               102760576 \n",
      "_________________________________________________________________\n",
      "batch_normalization_3 (Batch (None, 128)               512       \n",
      "_________________________________________________________________\n",
      "activation (Activation)      (None, 128)               0         \n",
      "_________________________________________________________________\n",
      "dropout_3 (Dropout)          (None, 128)               0         \n",
      "_________________________________________________________________\n",
      "dense_1 (Dense)              (None, 256)               33024     \n",
      "_________________________________________________________________\n",
      "batch_normalization_4 (Batch (None, 256)               1024      \n",
      "_________________________________________________________________\n",
      "activation_1 (Activation)    (None, 256)               0         \n",
      "_________________________________________________________________\n",
      "dropout_4 (Dropout)          (None, 256)               0         \n",
      "_________________________________________________________________\n",
      "dense_2 (Dense)              (None, 7)                 1799      \n",
      "=================================================================\n",
      "Total params: 103,692,167\n",
      "Trainable params: 103,690,503\n",
      "Non-trainable params: 1,664\n",
      "_________________________________________________________________\n"
     ]
    }
   ],
   "source": [
    "## 다른 모델\n",
    "\n",
    "model = Sequential()\n",
    "model.add(Conv2D(64, (1, 1), padding='same', activation='relu', \n",
    "                 input_shape=(112, 112, 1)))\n",
    "model.add(BatchNormalization())\n",
    "model.add(Dropout(0.25))\n",
    "\n",
    "model.add(Conv2D(128, (3, 3),padding='same', activation='relu'))\n",
    "model.add(BatchNormalization())\n",
    "model.add(Dropout(0.25))\n",
    "\n",
    "model.add(Conv2D(256, (5, 5),padding='same', activation='relu'))\n",
    "model.add(BatchNormalization())\n",
    "model.add(MaxPooling2D((2, 2),padding=\"same\"))\n",
    "model.add(Dropout(0.25))\n",
    "\n",
    "\n",
    "model.add(Flatten())\n",
    "\n",
    "model.add(Dense(128))\n",
    "model.add(BatchNormalization())\n",
    "model.add(Activation('relu'))\n",
    "model.add(Dropout(0.25))\n",
    "\n",
    "model.add(Dense(256))\n",
    "model.add(BatchNormalization())\n",
    "model.add(Activation('relu'))\n",
    "model.add(Dropout(0.25))\n",
    "\n",
    "model.add(Dense(7, activation='softmax'))\n",
    "model.summary()\n",
    "\n",
    "model.compile(optimizer=Adam(learning_rate=1e-5), \n",
    "              loss='categorical_crossentropy',\n",
    "              metrics=['accuracy'])"
   ]
  },
  {
   "cell_type": "code",
   "execution_count": 8,
   "id": "distinct-retail",
   "metadata": {},
   "outputs": [
    {
     "name": "stdout",
     "output_type": "stream",
     "text": [
      "Model: \"sequential_1\"\n",
      "_________________________________________________________________\n",
      "Layer (type)                 Output Shape              Param #   \n",
      "=================================================================\n",
      "conv2d_4 (Conv2D)            (None, 48, 48, 64)        640       \n",
      "_________________________________________________________________\n",
      "batch_normalization_6 (Batch (None, 48, 48, 64)        256       \n",
      "_________________________________________________________________\n",
      "max_pooling2d_4 (MaxPooling2 (None, 24, 24, 64)        0         \n",
      "_________________________________________________________________\n",
      "dropout_6 (Dropout)          (None, 24, 24, 64)        0         \n",
      "_________________________________________________________________\n",
      "conv2d_5 (Conv2D)            (None, 24, 24, 128)       73856     \n",
      "_________________________________________________________________\n",
      "batch_normalization_7 (Batch (None, 24, 24, 128)       512       \n",
      "_________________________________________________________________\n",
      "max_pooling2d_5 (MaxPooling2 (None, 12, 12, 128)       0         \n",
      "_________________________________________________________________\n",
      "dropout_7 (Dropout)          (None, 12, 12, 128)       0         \n",
      "_________________________________________________________________\n",
      "conv2d_6 (Conv2D)            (None, 12, 12, 512)       590336    \n",
      "_________________________________________________________________\n",
      "batch_normalization_8 (Batch (None, 12, 12, 512)       2048      \n",
      "_________________________________________________________________\n",
      "max_pooling2d_6 (MaxPooling2 (None, 6, 6, 512)         0         \n",
      "_________________________________________________________________\n",
      "dropout_8 (Dropout)          (None, 6, 6, 512)         0         \n",
      "_________________________________________________________________\n",
      "conv2d_7 (Conv2D)            (None, 6, 6, 512)         2359808   \n",
      "_________________________________________________________________\n",
      "batch_normalization_9 (Batch (None, 6, 6, 512)         2048      \n",
      "_________________________________________________________________\n",
      "max_pooling2d_7 (MaxPooling2 (None, 3, 3, 512)         0         \n",
      "_________________________________________________________________\n",
      "dropout_9 (Dropout)          (None, 3, 3, 512)         0         \n",
      "_________________________________________________________________\n",
      "flatten_1 (Flatten)          (None, 4608)              0         \n",
      "_________________________________________________________________\n",
      "dense_3 (Dense)              (None, 256)               1179904   \n",
      "_________________________________________________________________\n",
      "batch_normalization_10 (Batc (None, 256)               1024      \n",
      "_________________________________________________________________\n",
      "activation_2 (Activation)    (None, 256)               0         \n",
      "_________________________________________________________________\n",
      "dropout_10 (Dropout)         (None, 256)               0         \n",
      "_________________________________________________________________\n",
      "dense_4 (Dense)              (None, 512)               131584    \n",
      "_________________________________________________________________\n",
      "batch_normalization_11 (Batc (None, 512)               2048      \n",
      "_________________________________________________________________\n",
      "activation_3 (Activation)    (None, 512)               0         \n",
      "_________________________________________________________________\n",
      "dropout_11 (Dropout)         (None, 512)               0         \n",
      "_________________________________________________________________\n",
      "dense_5 (Dense)              (None, 7)                 3591      \n",
      "=================================================================\n",
      "Total params: 4,347,655\n",
      "Trainable params: 4,343,687\n",
      "Non-trainable params: 3,968\n",
      "_________________________________________________________________\n"
     ]
    }
   ],
   "source": [
    "## 다른 모델 논문 참고 모델\n",
    "model = Sequential()\n",
    "model.add(Conv2D(64, (3, 3), padding='same', activation='relu', \n",
    "                 input_shape=(48, 48, 1)))\n",
    "model.add(BatchNormalization())\n",
    "model.add(MaxPooling2D((2, 2)))\n",
    "model.add(Dropout(0.25))\n",
    "\n",
    "model.add(Conv2D(128, (3, 3),padding='same', activation='relu'))\n",
    "model.add(BatchNormalization())\n",
    "model.add(MaxPooling2D((2, 2)))\n",
    "model.add(Dropout(0.25))\n",
    "\n",
    "model.add(Conv2D(512, (3, 3),padding='same', activation='relu'))\n",
    "model.add(BatchNormalization())\n",
    "model.add(MaxPooling2D((2, 2)))\n",
    "model.add(Dropout(0.25))\n",
    "\n",
    "model.add(Conv2D(512, (3, 3),padding='same', activation='relu'))\n",
    "model.add(BatchNormalization())\n",
    "model.add(MaxPooling2D((2, 2)))\n",
    "model.add(Dropout(0.25))\n",
    "\n",
    "model.add(Flatten())\n",
    "\n",
    "model.add(Dense(256))\n",
    "model.add(BatchNormalization())\n",
    "model.add(Activation('relu'))\n",
    "model.add(Dropout(0.25))\n",
    "\n",
    "model.add(Dense(512))\n",
    "model.add(BatchNormalization())\n",
    "model.add(Activation('relu'))\n",
    "model.add(Dropout(0.5))\n",
    "\n",
    "model.add(Dense(7, activation='softmax'))\n",
    "model.summary()\n",
    "\n",
    "model.compile(optimizer=Adam(learning_rate=1e-4), \n",
    "              loss='categorical_crossentropy',\n",
    "              metrics=['accuracy'])"
   ]
  },
  {
   "cell_type": "code",
   "execution_count": 10,
   "id": "august-hydrogen",
   "metadata": {},
   "outputs": [
    {
     "name": "stdout",
     "output_type": "stream",
     "text": [
      "Epoch 1/40\n",
      "280/280 [==============================] - 13s 48ms/step - loss: 0.6510 - accuracy: 0.7604 - val_loss: 1.4221 - val_accuracy: 0.5513\n",
      "Epoch 2/40\n",
      "280/280 [==============================] - 13s 47ms/step - loss: 0.6200 - accuracy: 0.7710 - val_loss: 1.4273 - val_accuracy: 0.5628\n",
      "Epoch 3/40\n",
      "280/280 [==============================] - 13s 47ms/step - loss: 0.5963 - accuracy: 0.7809 - val_loss: 1.4920 - val_accuracy: 0.5538\n",
      "Epoch 4/40\n",
      "280/280 [==============================] - 13s 47ms/step - loss: 0.5692 - accuracy: 0.7914 - val_loss: 1.4763 - val_accuracy: 0.5631\n",
      "Epoch 5/40\n",
      "280/280 [==============================] - 13s 47ms/step - loss: 0.5323 - accuracy: 0.8044 - val_loss: 1.5134 - val_accuracy: 0.5579\n",
      "Epoch 6/40\n",
      "280/280 [==============================] - 14s 48ms/step - loss: 0.5070 - accuracy: 0.8149 - val_loss: 1.5181 - val_accuracy: 0.5549\n",
      "Epoch 7/40\n",
      "280/280 [==============================] - 13s 48ms/step - loss: 0.4799 - accuracy: 0.8240 - val_loss: 1.5684 - val_accuracy: 0.5537\n",
      "Epoch 8/40\n",
      "280/280 [==============================] - 13s 48ms/step - loss: 0.4650 - accuracy: 0.8315 - val_loss: 1.6062 - val_accuracy: 0.5545\n",
      "Epoch 9/40\n",
      "280/280 [==============================] - 13s 47ms/step - loss: 0.4506 - accuracy: 0.8365 - val_loss: 1.6382 - val_accuracy: 0.5570\n",
      "Epoch 10/40\n",
      "280/280 [==============================] - 13s 45ms/step - loss: 0.4203 - accuracy: 0.8504 - val_loss: 1.6332 - val_accuracy: 0.5599\n",
      "Epoch 11/40\n",
      "280/280 [==============================] - 13s 45ms/step - loss: 0.3950 - accuracy: 0.8574 - val_loss: 1.6538 - val_accuracy: 0.5577\n",
      "Epoch 12/40\n",
      "280/280 [==============================] - 13s 45ms/step - loss: 0.3870 - accuracy: 0.8622 - val_loss: 1.7121 - val_accuracy: 0.5577\n",
      "Epoch 13/40\n",
      "280/280 [==============================] - 13s 45ms/step - loss: 0.3706 - accuracy: 0.8674 - val_loss: 1.7237 - val_accuracy: 0.5539\n",
      "Epoch 14/40\n",
      "280/280 [==============================] - 13s 45ms/step - loss: 0.3548 - accuracy: 0.8753 - val_loss: 1.7554 - val_accuracy: 0.5559\n",
      "Epoch 15/40\n",
      "280/280 [==============================] - 13s 45ms/step - loss: 0.3361 - accuracy: 0.8810 - val_loss: 1.7693 - val_accuracy: 0.5615\n",
      "Epoch 16/40\n",
      "280/280 [==============================] - 13s 45ms/step - loss: 0.3170 - accuracy: 0.8876 - val_loss: 1.7772 - val_accuracy: 0.5587\n",
      "Epoch 17/40\n",
      "280/280 [==============================] - 13s 45ms/step - loss: 0.3052 - accuracy: 0.8904 - val_loss: 1.8169 - val_accuracy: 0.5593\n",
      "Epoch 18/40\n",
      "280/280 [==============================] - 13s 45ms/step - loss: 0.2873 - accuracy: 0.8972 - val_loss: 1.8427 - val_accuracy: 0.5545\n",
      "Epoch 19/40\n",
      "280/280 [==============================] - 13s 45ms/step - loss: 0.2790 - accuracy: 0.9011 - val_loss: 1.8707 - val_accuracy: 0.5586\n",
      "Epoch 20/40\n",
      "280/280 [==============================] - 13s 45ms/step - loss: 0.2708 - accuracy: 0.9039 - val_loss: 1.9013 - val_accuracy: 0.5531\n",
      "Epoch 21/40\n",
      "280/280 [==============================] - 13s 46ms/step - loss: 0.2524 - accuracy: 0.9098 - val_loss: 1.9426 - val_accuracy: 0.5611\n",
      "Epoch 22/40\n",
      "280/280 [==============================] - 13s 45ms/step - loss: 0.2487 - accuracy: 0.9112 - val_loss: 1.9482 - val_accuracy: 0.5600\n",
      "Epoch 23/40\n",
      "280/280 [==============================] - 13s 45ms/step - loss: 0.2411 - accuracy: 0.9141 - val_loss: 1.9608 - val_accuracy: 0.5532\n",
      "Epoch 24/40\n",
      "280/280 [==============================] - 13s 45ms/step - loss: 0.2315 - accuracy: 0.9173 - val_loss: 1.9720 - val_accuracy: 0.5592\n",
      "Epoch 25/40\n",
      "280/280 [==============================] - 13s 45ms/step - loss: 0.2256 - accuracy: 0.9194 - val_loss: 1.9720 - val_accuracy: 0.5587\n",
      "Epoch 26/40\n",
      "280/280 [==============================] - 13s 45ms/step - loss: 0.2184 - accuracy: 0.9231 - val_loss: 1.9963 - val_accuracy: 0.5599\n",
      "Epoch 27/40\n",
      "280/280 [==============================] - 13s 45ms/step - loss: 0.2107 - accuracy: 0.9263 - val_loss: 2.0516 - val_accuracy: 0.5610\n",
      "Epoch 28/40\n",
      "280/280 [==============================] - 13s 45ms/step - loss: 0.2043 - accuracy: 0.9294 - val_loss: 2.0859 - val_accuracy: 0.5607\n",
      "Epoch 29/40\n",
      "280/280 [==============================] - 13s 45ms/step - loss: 0.1969 - accuracy: 0.9305 - val_loss: 2.0814 - val_accuracy: 0.5652\n",
      "Epoch 30/40\n",
      "280/280 [==============================] - 13s 45ms/step - loss: 0.1905 - accuracy: 0.9342 - val_loss: 2.0803 - val_accuracy: 0.5606\n",
      "Epoch 31/40\n",
      "280/280 [==============================] - 13s 45ms/step - loss: 0.1849 - accuracy: 0.9356 - val_loss: 2.1106 - val_accuracy: 0.5630\n",
      "Epoch 32/40\n",
      "280/280 [==============================] - 13s 45ms/step - loss: 0.1821 - accuracy: 0.9359 - val_loss: 2.1475 - val_accuracy: 0.5608\n",
      "Epoch 33/40\n",
      "280/280 [==============================] - 13s 45ms/step - loss: 0.1811 - accuracy: 0.9348 - val_loss: 2.1426 - val_accuracy: 0.5658\n",
      "Epoch 34/40\n",
      "280/280 [==============================] - 13s 45ms/step - loss: 0.1730 - accuracy: 0.9382 - val_loss: 2.1212 - val_accuracy: 0.5596\n",
      "Epoch 35/40\n",
      "280/280 [==============================] - 13s 46ms/step - loss: 0.1791 - accuracy: 0.9366 - val_loss: 2.1562 - val_accuracy: 0.5580\n",
      "Epoch 36/40\n",
      "280/280 [==============================] - 13s 45ms/step - loss: 0.1623 - accuracy: 0.9432 - val_loss: 2.1829 - val_accuracy: 0.5575\n",
      "Epoch 37/40\n",
      "280/280 [==============================] - 13s 45ms/step - loss: 0.1612 - accuracy: 0.9455 - val_loss: 2.1719 - val_accuracy: 0.5593\n",
      "Epoch 38/40\n",
      "280/280 [==============================] - 13s 45ms/step - loss: 0.1569 - accuracy: 0.9473 - val_loss: 2.1659 - val_accuracy: 0.5623\n",
      "Epoch 39/40\n",
      "280/280 [==============================] - 13s 45ms/step - loss: 0.1526 - accuracy: 0.9471 - val_loss: 2.2125 - val_accuracy: 0.5656\n",
      "Epoch 40/40\n",
      "280/280 [==============================] - 13s 45ms/step - loss: 0.1429 - accuracy: 0.9505 - val_loss: 2.2122 - val_accuracy: 0.5654\n"
     ]
    }
   ],
   "source": [
    "history = model.fit(train_generator, steps_per_epoch=280, epochs=40,\n",
    "                    validation_data=validation_generator,\n",
    "                    validation_steps=71)"
   ]
  }
 ],
 "metadata": {
  "kernelspec": {
   "display_name": "Python [conda env:data_env_tf2] *",
   "language": "python",
   "name": "conda-env-data_env_tf2-py"
  },
  "language_info": {
   "codemirror_mode": {
    "name": "ipython",
    "version": 3
   },
   "file_extension": ".py",
   "mimetype": "text/x-python",
   "name": "python",
   "nbconvert_exporter": "python",
   "pygments_lexer": "ipython3",
   "version": "3.7.10"
  }
 },
 "nbformat": 4,
 "nbformat_minor": 5
}
