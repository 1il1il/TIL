{
 "cells": [
  {
   "cell_type": "code",
   "execution_count": null,
   "metadata": {
    "colab": {
     "base_uri": "https://localhost:8080/",
     "height": 365
    },
    "executionInfo": {
     "elapsed": 9758,
     "status": "ok",
     "timestamp": 1616726075670,
     "user": {
      "displayName": "Younghyun Yoo",
      "photoUrl": "https://lh3.googleusercontent.com/a-/AOh14GgdMDHlo3qc4dJT7pI8ecV9MF5A3HHpbXZPbLH4Cw=s64",
      "userId": "17820475346707346775"
     },
     "user_tz": -540
    },
    "id": "h1tztCHfDyw_",
    "outputId": "e63f9847-34cf-4b2d-ae78-72611a04853b"
   },
   "outputs": [],
   "source": [
    "import os\n",
    "from tensorflow.keras.preprocessing.image import ImageDataGenerator\n",
    "import matplotlib.pyplot as plt\n",
    "\n",
    "train_dir = '../data/cat_dog_small/train'\n",
    "validation_dir = '../data/cat_dog_small/validation'\n",
    "\n",
    "# ImageDataGenerator 생성\n",
    "# train data 생성 ImageDataGenerator, validation data 생성 ImageDataGenerator 각각 생성\n",
    "# 정규화(MinMaxScaling 이용)\n",
    "train_datagen = ImageDataGenerator(rescale=1/255)\n",
    "validation_datagen = ImageDataGenerator(rescale=1/255)\n",
    "\n",
    "train_generator = train_datagen.flow_from_directory(\n",
    "    train_dir,                # target directory\n",
    "    classes=['cats', 'dogs'], # 순서대로 0,1..., classes 속성을 생략하면 폴더 순서대로 label이 결정\n",
    "    target_size=(150,150),    # 일반적으로 정방향으로 resize, CNN구조에 따라 이 값은 달라진다\n",
    "    batch_size=20,            # 한번에 20개 이미지 가져와서 변환, label에 상관 없이 가져온다\n",
    "    class_mode='binary'       # 다중분류면 categorical(default)\n",
    "                              # 'sparse도 이용가능 - onehot처리 안하고 사용\n",
    ")\n",
    "\n",
    "validation_generator = validation_datagen.flow_from_directory(\n",
    "    validation_dir,               \n",
    "    classes=['cats', 'dogs'], \n",
    "    target_size=(150,150),   \n",
    "    batch_size=20,            \n",
    "    class_mode='binary'\n",
    ")\n",
    "\n",
    "# 생성한 generator를 사용하기\n",
    "for x_data, t_data in train_generator:\n",
    "    print(x_data.shape) # (20,150,150,3)\n",
    "    print(t_data.shape) # (20,)\n",
    "    break\n",
    "\n",
    "  # 그림 이미지를 matplotlib을 이용해서 출력\n",
    "fig = plt.figure()\n",
    "fig_arr = list()\n",
    "for i in range(20):\n",
    "    fig_arr.append(fig.add_subplot(4,5,i+1))\n",
    "\n",
    "for data_batch, lable_batch in train_generator:\n",
    "    for idx, img_data in enumerate(data_batch):\n",
    "        fig_arr[idx].imshow(img_data)\n",
    "    break\n",
    "\n",
    "plt.tight_layout()\n",
    "plt.show()\n",
    "\n",
    "# CNN을 구성하고 학습 진행\n",
    "# 이전에 했던 MNIST와 유사, convolution, pooling layer 추가"
   ]
  },
  {
   "cell_type": "code",
   "execution_count": null,
   "metadata": {
    "colab": {
     "base_uri": "https://localhost:8080/"
    },
    "executionInfo": {
     "elapsed": 931714,
     "status": "ok",
     "timestamp": 1616734014150,
     "user": {
      "displayName": "Younghyun Yoo",
      "photoUrl": "https://lh3.googleusercontent.com/a-/AOh14GgdMDHlo3qc4dJT7pI8ecV9MF5A3HHpbXZPbLH4Cw=s64",
      "userId": "17820475346707346775"
     },
     "user_tz": -540
    },
    "id": "4hEAxa89HZu_",
    "outputId": "fc9f3997-6d3b-42f4-a4b4-b907f2910453"
   },
   "outputs": [],
   "source": [
    "import numpy as np\n",
    "import tensorflow as tf\n",
    "from tensorflow.keras.models import Sequential\n",
    "from tensorflow.keras.layers import Conv2D, MaxPooling2D, Flatten, Dense, Dropout\n",
    "from tensorflow.keras.optimizers import Adam\n",
    "\n",
    "model = Sequential()\n",
    "model.add(Conv2D(filters=32, kernel_size=(3,3), \n",
    "                 activation='relu', input_shape=(150,150,3)))\n",
    "model.add(MaxPooling2D(pool_size=(2,2)))\n",
    "\n",
    "model.add(Conv2D(filters=64, kernel_size=(3,3), \n",
    "                 activation='relu'))\n",
    "model.add(MaxPooling2D(pool_size=(2,2)))\n",
    "\n",
    "model.add(Conv2D(filters=128, kernel_size=(3,3), \n",
    "                 activation='relu'))\n",
    "model.add(MaxPooling2D(pool_size=(2,2)))\n",
    "\n",
    "model.add(Conv2D(filters=128, kernel_size=(3,3), \n",
    "                 activation='relu'))\n",
    "model.add(MaxPooling2D(pool_size=(2,2)))\n",
    "\n",
    "model.add(Flatten())\n",
    "\n",
    "model.add(Dense(units=512, activation='relu'))\n",
    "model.add(Dropout(rate=0.5))\n",
    "model.add(Dense(units=1, activation='sigmoid'))\n",
    "\n",
    "print(model.summary())\n",
    "\n",
    "model.compile(optimizer=Adam(learning_rate=1e-3), \n",
    "              loss='binary_crossentropy',\n",
    "              metrics=['accuracy'])\n",
    "\n",
    "# steps_per_epoch : 몇번 뽑아야 1 epoch이 되는가\n",
    "history = model.fit(train_generator, steps_per_epoch=100, epochs=30, \n",
    "                    validation_data=validation_generator,\n",
    "                    validation_steps=50)"
   ]
  },
  {
   "cell_type": "code",
   "execution_count": null,
   "metadata": {
    "executionInfo": {
     "elapsed": 544,
     "status": "ok",
     "timestamp": 1616735368090,
     "user": {
      "displayName": "Younghyun Yoo",
      "photoUrl": "https://lh3.googleusercontent.com/a-/AOh14GgdMDHlo3qc4dJT7pI8ecV9MF5A3HHpbXZPbLH4Cw=s64",
      "userId": "17820475346707346775"
     },
     "user_tz": -540
    },
    "id": "PdcVkoVm65xI"
   },
   "outputs": [],
   "source": [
    "# 학습이 종료된 후 모델을 저장 하기\n",
    "model.save('../data/cat_dog_small/cat_god_small_cnn_tf2.4.h5')"
   ]
  },
  {
   "cell_type": "code",
   "execution_count": null,
   "metadata": {
    "colab": {
     "base_uri": "https://localhost:8080/",
     "height": 282
    },
    "executionInfo": {
     "elapsed": 648,
     "status": "ok",
     "timestamp": 1616735999665,
     "user": {
      "displayName": "Younghyun Yoo",
      "photoUrl": "https://lh3.googleusercontent.com/a-/AOh14GgdMDHlo3qc4dJT7pI8ecV9MF5A3HHpbXZPbLH4Cw=s64",
      "userId": "17820475346707346775"
     },
     "user_tz": -540
    },
    "id": "He4dYLSa8UDT",
    "outputId": "23841227-b9aa-410c-d7a7-ba01df444701"
   },
   "outputs": [],
   "source": [
    "# history 객체 확인\n",
    "print(history.history.keys())\n",
    "\n",
    "train_acc = history.history['accuracy']\n",
    "validation_acc = history.history['val_accuracy']\n",
    "\n",
    "train_loss = history.history['loss']\n",
    "validation_loss = history.history['val_loss']\n",
    "\n",
    "plt.plot(train_loss, color='r', label='training_accuracy')\n",
    "plt.plot(validation_loss, color='b', label='validation_accuracy')\n",
    "plt.legend()\n",
    "plt.show()"
   ]
  },
  {
   "cell_type": "code",
   "execution_count": null,
   "metadata": {
    "colab": {
     "base_uri": "https://localhost:8080/"
    },
    "executionInfo": {
     "elapsed": 2679,
     "status": "ok",
     "timestamp": 1616737102086,
     "user": {
      "displayName": "Younghyun Yoo",
      "photoUrl": "https://lh3.googleusercontent.com/a-/AOh14GgdMDHlo3qc4dJT7pI8ecV9MF5A3HHpbXZPbLH4Cw=s64",
      "userId": "17820475346707346775"
     },
     "user_tz": -540
    },
    "id": "-ou4Hti-Ckor",
    "outputId": "a49dc73f-309b-433f-c782-ae0670416032"
   },
   "outputs": [],
   "source": [
    "%reset"
   ]
  },
  {
   "cell_type": "code",
   "execution_count": null,
   "metadata": {
    "colab": {
     "base_uri": "https://localhost:8080/",
     "height": 314
    },
    "executionInfo": {
     "elapsed": 2713,
     "status": "ok",
     "timestamp": 1616739767383,
     "user": {
      "displayName": "Younghyun Yoo",
      "photoUrl": "https://lh3.googleusercontent.com/a-/AOh14GgdMDHlo3qc4dJT7pI8ecV9MF5A3HHpbXZPbLH4Cw=s64",
      "userId": "17820475346707346775"
     },
     "user_tz": -540
    },
    "id": "Gg-RfGUGA0Wh",
    "outputId": "6508c87c-6bdf-46e6-a55e-e17eccef7846"
   },
   "outputs": [],
   "source": [
    "# computer vision에서 이미지를 다룰때 일반적으로 사용하는 과대적합 감소방법이 있다\n",
    "# 데이터 증식(Data augmentation) : 기존 데이터에 약간의 변형을 주어 데이터를 추가적으로 만들어내는 기법\n",
    "from tensorflow.keras.preprocessing import image\n",
    "from tensorflow.keras.preprocessing.image import ImageDataGenerator\n",
    "import matplotlib.pyplot as plt\n",
    "\n",
    "# rotation_range : 지정된 각도 범위 내에서 임의로 원본 이미지를 회전\n",
    "# width_shift_range : 지정된 범위 내에서 임의로 원본 이미지를 가로 방향으로 이동\n",
    "# height_shift_range : 지정된 범위 내에서 임의로 원본 이미지를 세로 방향으로 이동\n",
    "# zoom_range : 지정된 범위 내에서 임의로 원본 이미지를 확대하거나 축소\n",
    "# horizontal_flip : 수평방향으로 이미지 반전\n",
    "# vertical_flip : 수직방향으로 이미지 반전\n",
    "datagen = ImageDataGenerator(rotation_range=20, \n",
    "                             width_shift_range=0.1,\n",
    "                             height_shift_range=0.1,\n",
    "                             zoom_range=0.1,\n",
    "                             horizontal_flip=True,\n",
    "                             vertical_flip=True)\n",
    "\n",
    "img = image.load_img('/content/drive/MyDrive/Machine Learning Colab/data/cat_dog_small/train/cats/cat.3.jpg', \n",
    "                     target_size=(150,150))\n",
    "x = image.img_to_array(img)\n",
    "x = x.reshape((1,) + x.shape)\n",
    "print(x.shape)\n",
    "\n",
    "fig = plt.figure()\n",
    "fig_arr = list()\n",
    "\n",
    "for i in range(20):\n",
    "    fig_arr.append(fig.add_subplot(4,5,i+1))\n",
    "\n",
    "idx = 0\n",
    "for batch in datagen.flow(x, batch_size=1):\n",
    "    fig_arr[idx].imshow(image.array_to_img(batch[0]))\n",
    "    idx+=1\n",
    "    if idx % 20 == 0:\n",
    "        break\n",
    "\n",
    "fig.tight_layout()\n",
    "plt.show()"
   ]
  },
  {
   "cell_type": "markdown",
   "metadata": {
    "id": "iUv5K1Q4OGSL"
   },
   "source": [
    "# 증식을 이용한 코드\n",
    "- 증식은 train만 validataion은 평가용"
   ]
  },
  {
   "cell_type": "code",
   "execution_count": null,
   "metadata": {
    "colab": {
     "base_uri": "https://localhost:8080/"
    },
    "executionInfo": {
     "elapsed": 2710,
     "status": "ok",
     "timestamp": 1616745893380,
     "user": {
      "displayName": "Younghyun Yoo",
      "photoUrl": "https://lh3.googleusercontent.com/a-/AOh14GgdMDHlo3qc4dJT7pI8ecV9MF5A3HHpbXZPbLH4Cw=s64",
      "userId": "17820475346707346775"
     },
     "user_tz": -540
    },
    "id": "jxg0jE1GO8TC",
    "outputId": "56805b6d-4404-4104-c9fd-b16cc2aa47ff"
   },
   "outputs": [],
   "source": [
    "%reset"
   ]
  },
  {
   "cell_type": "code",
   "execution_count": 2,
   "metadata": {
    "colab": {
     "base_uri": "https://localhost:8080/"
    },
    "executionInfo": {
     "elapsed": 2939,
     "status": "ok",
     "timestamp": 1616747716580,
     "user": {
      "displayName": "Younghyun Yoo",
      "photoUrl": "https://lh3.googleusercontent.com/a-/AOh14GgdMDHlo3qc4dJT7pI8ecV9MF5A3HHpbXZPbLH4Cw=s64",
      "userId": "17820475346707346775"
     },
     "user_tz": -540
    },
    "id": "LTDb0YS6OCXD",
    "outputId": "926194c0-b0f4-4f94-972b-47ba12cdb01c"
   },
   "outputs": [
    {
     "name": "stdout",
     "output_type": "stream",
     "text": [
      "Found 20000 images belonging to 2 classes.\n",
      "Found 5000 images belonging to 2 classes.\n",
      "(100, 150, 150, 3)\n",
      "(100,)\n"
     ]
    }
   ],
   "source": [
    "import os\n",
    "from tensorflow.keras.preprocessing.image import ImageDataGenerator\n",
    "import matplotlib.pyplot as plt\n",
    "\n",
    "train_dir = '../data/cat_dog/train'\n",
    "validation_dir = '../data/cat_dog/validation'\n",
    "\n",
    "# ImageDataGenerator 생성\n",
    "# train data 생성 ImageDataGenerator, validation data 생성 ImageDataGenerator 각각 생성\n",
    "# 정규화(MinMaxScaling 이용)\n",
    "train_datagen = ImageDataGenerator(rescale=1/255,                     \n",
    "                                   rotation_range=20, \n",
    "                                   width_shift_range=0.1,\n",
    "                                   height_shift_range=0.1,\n",
    "                                   zoom_range=0.1,\n",
    "                                   horizontal_flip=True,\n",
    "                                   vertical_flip=True)\n",
    "validation_datagen = ImageDataGenerator(rescale=1/255)\n",
    "\n",
    "train_generator = train_datagen.flow_from_directory(\n",
    "    train_dir,                # target directory\n",
    "    classes=['cats', 'dogs'], # 순서대로 0,1..., classes 속성을 생략하면 폴더 순서대로 label이 결정\n",
    "    target_size=(150,150),    # 일반적으로 정방향으로 resize, CNN구조에 따라 이 값은 달라진다\n",
    "    batch_size=100,            # 한번에 20개 이미지 가져와서 변환, label에 상관 없이 가져온다\n",
    "    class_mode='binary'       # 다중분류면 categorical(default)\n",
    "                              # 'sparse도 이용가능 - onehot처리 안하고 사용\n",
    ")\n",
    "\n",
    "validation_generator = validation_datagen.flow_from_directory(\n",
    "    validation_dir,               \n",
    "    classes=['cats', 'dogs'], \n",
    "    target_size=(150,150),   \n",
    "    batch_size=100,            \n",
    "    class_mode='binary'\n",
    ")\n",
    "\n",
    "# 생성한 generator를 사용하기\n",
    "for x_data, t_data in train_generator:\n",
    "    print(x_data.shape) # (20,150,150,3)\n",
    "    print(t_data.shape) # (20,)\n",
    "    break\n",
    "\n",
    "# CNN을 구성하고 학습 진행\n",
    "# 이전에 했던 MNIST와 유사, convolution, pooling layer 추가"
   ]
  },
  {
   "cell_type": "code",
   "execution_count": 3,
   "metadata": {
    "colab": {
     "base_uri": "https://localhost:8080/"
    },
    "executionInfo": {
     "elapsed": 1252231,
     "status": "ok",
     "timestamp": 1616749279453,
     "user": {
      "displayName": "Younghyun Yoo",
      "photoUrl": "https://lh3.googleusercontent.com/a-/AOh14GgdMDHlo3qc4dJT7pI8ecV9MF5A3HHpbXZPbLH4Cw=s64",
      "userId": "17820475346707346775"
     },
     "user_tz": -540
    },
    "id": "TUiiMwFfOtUk",
    "outputId": "76c9faea-8c0a-4d9e-af64-2e0ea8810b40"
   },
   "outputs": [
    {
     "name": "stdout",
     "output_type": "stream",
     "text": [
      "Model: \"sequential\"\n",
      "_________________________________________________________________\n",
      "Layer (type)                 Output Shape              Param #   \n",
      "=================================================================\n",
      "conv2d (Conv2D)              (None, 148, 148, 32)      896       \n",
      "_________________________________________________________________\n",
      "max_pooling2d (MaxPooling2D) (None, 74, 74, 32)        0         \n",
      "_________________________________________________________________\n",
      "conv2d_1 (Conv2D)            (None, 72, 72, 64)        18496     \n",
      "_________________________________________________________________\n",
      "max_pooling2d_1 (MaxPooling2 (None, 36, 36, 64)        0         \n",
      "_________________________________________________________________\n",
      "conv2d_2 (Conv2D)            (None, 34, 34, 128)       73856     \n",
      "_________________________________________________________________\n",
      "max_pooling2d_2 (MaxPooling2 (None, 17, 17, 128)       0         \n",
      "_________________________________________________________________\n",
      "conv2d_3 (Conv2D)            (None, 15, 15, 256)       295168    \n",
      "_________________________________________________________________\n",
      "max_pooling2d_3 (MaxPooling2 (None, 7, 7, 256)         0         \n",
      "_________________________________________________________________\n",
      "flatten (Flatten)            (None, 12544)             0         \n",
      "_________________________________________________________________\n",
      "dense (Dense)                (None, 1024)              12846080  \n",
      "_________________________________________________________________\n",
      "dense_1 (Dense)              (None, 512)               524800    \n",
      "_________________________________________________________________\n",
      "dropout (Dropout)            (None, 512)               0         \n",
      "_________________________________________________________________\n",
      "dense_2 (Dense)              (None, 1)                 513       \n",
      "=================================================================\n",
      "Total params: 13,759,809\n",
      "Trainable params: 13,759,809\n",
      "Non-trainable params: 0\n",
      "_________________________________________________________________\n",
      "None\n",
      "Epoch 1/30\n",
      "  2/200 [..............................] - ETA: 8s - loss: 0.6919 - accuracy: 0.4950WARNING:tensorflow:Callbacks method `on_train_batch_end` is slow compared to the batch time (batch time: 0.0270s vs `on_train_batch_end` time: 0.0590s). Check your callbacks.\n",
      "200/200 [==============================] - 233s 1s/step - loss: 0.6651 - accuracy: 0.5850 - val_loss: 0.6681 - val_accuracy: 0.5816\n",
      "Epoch 2/30\n",
      "200/200 [==============================] - 126s 628ms/step - loss: 0.6032 - accuracy: 0.6694 - val_loss: 0.5561 - val_accuracy: 0.7136\n",
      "Epoch 3/30\n",
      "200/200 [==============================] - 139s 693ms/step - loss: 0.5661 - accuracy: 0.7064 - val_loss: 0.5589 - val_accuracy: 0.7226\n",
      "Epoch 4/30\n",
      "200/200 [==============================] - 123s 614ms/step - loss: 0.5402 - accuracy: 0.7258 - val_loss: 0.5325 - val_accuracy: 0.7204\n",
      "Epoch 5/30\n",
      "200/200 [==============================] - 129s 647ms/step - loss: 0.5203 - accuracy: 0.7452 - val_loss: 0.4797 - val_accuracy: 0.7648\n",
      "Epoch 6/30\n",
      "200/200 [==============================] - 128s 642ms/step - loss: 0.4943 - accuracy: 0.7620 - val_loss: 0.4640 - val_accuracy: 0.7734\n",
      "Epoch 7/30\n",
      "200/200 [==============================] - 125s 627ms/step - loss: 0.4801 - accuracy: 0.7714 - val_loss: 0.5422 - val_accuracy: 0.7490\n",
      "Epoch 8/30\n",
      "200/200 [==============================] - 134s 671ms/step - loss: 0.4713 - accuracy: 0.7754 - val_loss: 0.4450 - val_accuracy: 0.7860\n",
      "Epoch 9/30\n",
      "200/200 [==============================] - 120s 600ms/step - loss: 0.4526 - accuracy: 0.7858 - val_loss: 0.4650 - val_accuracy: 0.7740\n",
      "Epoch 10/30\n",
      "200/200 [==============================] - 137s 683ms/step - loss: 0.4408 - accuracy: 0.7978 - val_loss: 0.4205 - val_accuracy: 0.8020\n",
      "Epoch 11/30\n",
      "200/200 [==============================] - 122s 611ms/step - loss: 0.4288 - accuracy: 0.8020 - val_loss: 0.4412 - val_accuracy: 0.7946\n",
      "Epoch 12/30\n",
      "200/200 [==============================] - 131s 655ms/step - loss: 0.4128 - accuracy: 0.8120 - val_loss: 0.4056 - val_accuracy: 0.8070\n",
      "Epoch 13/30\n",
      "200/200 [==============================] - 129s 643ms/step - loss: 0.4062 - accuracy: 0.8169 - val_loss: 0.4032 - val_accuracy: 0.8142\n",
      "Epoch 14/30\n",
      "200/200 [==============================] - 127s 637ms/step - loss: 0.3995 - accuracy: 0.8203 - val_loss: 0.3772 - val_accuracy: 0.8300\n",
      "Epoch 15/30\n",
      "200/200 [==============================] - 134s 669ms/step - loss: 0.3909 - accuracy: 0.8246 - val_loss: 0.3708 - val_accuracy: 0.8298\n",
      "Epoch 16/30\n",
      "200/200 [==============================] - 120s 600ms/step - loss: 0.3760 - accuracy: 0.8324 - val_loss: 0.3690 - val_accuracy: 0.8348\n",
      "Epoch 17/30\n",
      "200/200 [==============================] - 137s 687ms/step - loss: 0.3716 - accuracy: 0.8347 - val_loss: 0.3505 - val_accuracy: 0.8442\n",
      "Epoch 18/30\n",
      "200/200 [==============================] - 120s 601ms/step - loss: 0.3638 - accuracy: 0.8375 - val_loss: 0.3633 - val_accuracy: 0.8370\n",
      "Epoch 19/30\n",
      "200/200 [==============================] - 127s 635ms/step - loss: 0.3509 - accuracy: 0.8446 - val_loss: 0.3659 - val_accuracy: 0.8378\n",
      "Epoch 20/30\n",
      "200/200 [==============================] - 124s 622ms/step - loss: 0.3443 - accuracy: 0.8490 - val_loss: 0.3537 - val_accuracy: 0.8440\n",
      "Epoch 21/30\n",
      "200/200 [==============================] - 120s 598ms/step - loss: 0.3437 - accuracy: 0.8465 - val_loss: 0.3675 - val_accuracy: 0.8390\n",
      "Epoch 22/30\n",
      "200/200 [==============================] - 130s 651ms/step - loss: 0.3297 - accuracy: 0.8538 - val_loss: 0.3337 - val_accuracy: 0.8538\n",
      "Epoch 23/30\n",
      "200/200 [==============================] - 116s 580ms/step - loss: 0.3216 - accuracy: 0.8591 - val_loss: 0.3297 - val_accuracy: 0.8602\n",
      "Epoch 24/30\n",
      "200/200 [==============================] - 129s 645ms/step - loss: 0.3218 - accuracy: 0.8616 - val_loss: 0.3222 - val_accuracy: 0.8598\n",
      "Epoch 25/30\n",
      "200/200 [==============================] - 121s 603ms/step - loss: 0.3126 - accuracy: 0.8649 - val_loss: 0.3195 - val_accuracy: 0.8616\n",
      "Epoch 26/30\n",
      "200/200 [==============================] - 122s 611ms/step - loss: 0.3098 - accuracy: 0.8651 - val_loss: 0.3252 - val_accuracy: 0.8568\n",
      "Epoch 27/30\n",
      "200/200 [==============================] - 129s 645ms/step - loss: 0.3018 - accuracy: 0.8712 - val_loss: 0.3311 - val_accuracy: 0.8548\n",
      "Epoch 28/30\n",
      "200/200 [==============================] - 116s 580ms/step - loss: 0.3004 - accuracy: 0.8712 - val_loss: 0.3217 - val_accuracy: 0.8628\n",
      "Epoch 29/30\n",
      "200/200 [==============================] - 133s 665ms/step - loss: 0.2844 - accuracy: 0.8790 - val_loss: 0.2976 - val_accuracy: 0.8746\n",
      "Epoch 30/30\n",
      "200/200 [==============================] - 118s 589ms/step - loss: 0.2829 - accuracy: 0.8783 - val_loss: 0.3072 - val_accuracy: 0.8672\n"
     ]
    }
   ],
   "source": [
    "import numpy as np\n",
    "import tensorflow as tf\n",
    "from tensorflow.keras.models import Sequential\n",
    "from tensorflow.keras.layers import Conv2D, MaxPooling2D, Flatten, Dense, Dropout\n",
    "from tensorflow.keras.optimizers import Adam\n",
    "\n",
    "model = Sequential()\n",
    "model.add(Conv2D(filters=32, kernel_size=(3,3), \n",
    "                 activation='relu', input_shape=(150,150,3)))\n",
    "model.add(MaxPooling2D(pool_size=(2,2)))\n",
    "\n",
    "model.add(Conv2D(filters=64, kernel_size=(3,3), \n",
    "                 activation='relu'))\n",
    "model.add(MaxPooling2D(pool_size=(2,2)))\n",
    "\n",
    "model.add(Conv2D(filters=128, kernel_size=(3,3), \n",
    "                 activation='relu'))\n",
    "model.add(MaxPooling2D(pool_size=(2,2)))\n",
    "\n",
    "model.add(Conv2D(filters=256, kernel_size=(3,3), \n",
    "                 activation='relu'))\n",
    "model.add(MaxPooling2D(pool_size=(2,2)))\n",
    "\n",
    "model.add(Flatten())\n",
    "\n",
    "model.add(Dense(units=1024, activation='relu'))\n",
    "model.add(Dense(units=512, activation='relu'))\n",
    "model.add(Dropout(rate=0.5))\n",
    "model.add(Dense(units=1, activation='sigmoid'))\n",
    "\n",
    "print(model.summary())\n",
    "\n",
    "model.compile(optimizer=Adam(learning_rate=1e-4), \n",
    "              loss='binary_crossentropy',\n",
    "              metrics=['accuracy'])\n",
    "\n",
    "# steps_per_epoch : 몇번 뽑아야 1 epoch이 되는가\n",
    "history = model.fit(train_generator, steps_per_epoch=200, epochs=30, \n",
    "                    validation_data=validation_generator,\n",
    "                    validation_steps=50)"
   ]
  }
 ],
 "metadata": {
  "accelerator": "GPU",
  "colab": {
   "authorship_tag": "ABX9TyO7II6pUo+xYUTsdRIa2Zvw",
   "collapsed_sections": [],
   "mount_file_id": "19F6VlZP0lkGJjTVEU1giPAQ0YPmOuisu",
   "name": "ML_0326_CAT-DOG_TF2.4_CNN.ipynb",
   "provenance": []
  },
  "kernelspec": {
   "display_name": "Python 3",
   "language": "python",
   "name": "python3"
  },
  "language_info": {
   "codemirror_mode": {
    "name": "ipython",
    "version": 3
   },
   "file_extension": ".py",
   "mimetype": "text/x-python",
   "name": "python",
   "nbconvert_exporter": "python",
   "pygments_lexer": "ipython3",
   "version": "3.7.10"
  }
 },
 "nbformat": 4,
 "nbformat_minor": 1
}
