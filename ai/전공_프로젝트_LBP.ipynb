{
 "cells": [
  {
   "cell_type": "markdown",
   "id": "proprietary-cemetery",
   "metadata": {},
   "source": [
    "# LBP 테스트"
   ]
  },
  {
   "cell_type": "code",
   "execution_count": null,
   "id": "local-trace",
   "metadata": {},
   "outputs": [],
   "source": [
    "import numpy as np \n",
    "from skimage.io import imread\n",
    "import skimage.feature as feature \n",
    "import skimage.transform as transform\n",
    "import matplotlib.pyplot as plt"
   ]
  },
  {
   "cell_type": "code",
   "execution_count": null,
   "id": "intimate-module",
   "metadata": {},
   "outputs": [],
   "source": [
    "ImageNDArray = imread(\"../data/telemoji/train/angry/94d0319548dd602f76ccb54cf3c37644f7faeac8d276f6703d8b9ae2.jpg\", as_gray=True) \n",
    "\n",
    "LBP_default = feature.local_binary_pattern(ImageNDArray, 16, 2, method='default')\n",
    "LBP_ror = feature.local_binary_pattern(ImageNDArray, 16, 2, method='ror')\n",
    "LBP_uniform = feature.local_binary_pattern(ImageNDArray, 16, 2, method='uniform')\n",
    "LBP_var = feature.local_binary_pattern(ImageNDArray, 16, 2, method='var')"
   ]
  },
  {
   "cell_type": "code",
   "execution_count": null,
   "id": "monetary-machine",
   "metadata": {},
   "outputs": [],
   "source": [
    "fig = plt.figure(figsize=(10, 10))\n",
    "fig_1 = fig.add_subplot(2,2,1)\n",
    "fig_2 = fig.add_subplot(2,2,2)\n",
    "fig_3 = fig.add_subplot(2,2,3)\n",
    "fig_4 = fig.add_subplot(2,2,4)\n",
    "\n",
    "fig_1.imshow(LBP_default, cmap='gray')\n",
    "fig_2.imshow(LBP_ror, cmap='gray')\n",
    "fig_3.imshow(LBP_uniform, cmap='gray')\n",
    "fig_4.imshow(LBP_var, cmap='gray')\n",
    "\n",
    "plt.tight_layout()\n",
    "plt.show()"
   ]
  },
  {
   "cell_type": "code",
   "execution_count": null,
   "id": "incorporate-generation",
   "metadata": {},
   "outputs": [],
   "source": [
    "ImageNDArray = imread(\"../data/telemoji/train/angry/0003334751eb7b1228d3ca0d382e31f66c2043809ecb0dd4308d9e13.jpg\", as_gray=True) \n",
    "\n",
    "LBP_16 = feature.local_binary_pattern(ImageNDArray, 16, 2, method='default')\n",
    "LBP_8 = feature.local_binary_pattern(ImageNDArray, 8, 2, method='default')\n",
    "LBP_4 = feature.local_binary_pattern(ImageNDArray, 4, 2, method='default')\n",
    "LBP_32 = feature.local_binary_pattern(ImageNDArray, 32, 2, method='default')"
   ]
  },
  {
   "cell_type": "code",
   "execution_count": null,
   "id": "practical-invalid",
   "metadata": {},
   "outputs": [],
   "source": [
    "fig = plt.figure(figsize=(10, 10))\n",
    "fig_1 = fig.add_subplot(2,2,1)\n",
    "fig_2 = fig.add_subplot(2,2,2)\n",
    "fig_3 = fig.add_subplot(2,2,3)\n",
    "fig_4 = fig.add_subplot(2,2,4)\n",
    "\n",
    "fig_1.imshow(LBP_16, cmap='gray')\n",
    "fig_2.imshow(LBP_8, cmap='gray')\n",
    "fig_3.imshow(LBP_4, cmap='gray')\n",
    "fig_4.imshow(LBP_32, cmap='gray')\n",
    "\n",
    "plt.tight_layout()\n",
    "plt.show()"
   ]
  },
  {
   "cell_type": "markdown",
   "id": "latin-nutrition",
   "metadata": {},
   "source": [
    "# LBP를 이용한 특성 추출"
   ]
  },
  {
   "cell_type": "code",
   "execution_count": null,
   "id": "insured-operation",
   "metadata": {},
   "outputs": [],
   "source": [
    "import os\n",
    "import skimage.feature as feature \n",
    "import skimage.transform as transform\n",
    "from PIL import Image\n",
    "from skimage.io import imread\n",
    "from tqdm.notebook import tqdm\n",
    "import matplotlib.pyplot as plt"
   ]
  },
  {
   "cell_type": "code",
   "execution_count": null,
   "id": "outstanding-heating",
   "metadata": {},
   "outputs": [],
   "source": [
    "# train 폴더 변환\n",
    "path_dir = '../data/telemoji/train'\n",
    "file_list = os.listdir(path_dir)\n",
    "\n",
    "for fname in file_list:\n",
    "    # train 폴더 안의 폴더 경로\n",
    "    temp_dir = os.path.join(path_dir, fname)\n",
    "    for iname in tqdm(os.listdir(temp_dir),total=len(os.listdir(temp_dir)),position=0,leave=True):\n",
    "        img = imread(os.path.join(temp_dir, iname), as_gray=True)\n",
    "        LBP = feature.local_binary_pattern(img, 16, 2, method='default')\n",
    "        \n",
    "        # 저장되는 파일 포맷을 jpg로 지정\n",
    "        # 중간에 TIF파일이 있는데 이거 때문에 오류나서 포맷을 지정함\n",
    "        plt.imsave(f\"../data/telemoji/LBP/train/{fname}/{iname.split('.')[0]}.jpg\", \n",
    "                   LBP, cmap=\"gray\")"
   ]
  },
  {
   "cell_type": "code",
   "execution_count": null,
   "id": "hindu-indonesian",
   "metadata": {},
   "outputs": [],
   "source": [
    "# validation 폴더 변환\n",
    "path_dir = '../data/telemoji/validation'\n",
    "file_list = os.listdir(path_dir)\n",
    "\n",
    "for fname in file_list:\n",
    "    # train 폴더 안의 폴더 경로\n",
    "    temp_dir = os.path.join(path_dir, fname)\n",
    "    for iname in tqdm(os.listdir(temp_dir),total=len(os.listdir(temp_dir)),position=0,leave=True):\n",
    "        img = imread(os.path.join(temp_dir, iname), as_gray=True)\n",
    "        LBP = feature.local_binary_pattern(img, 16, 2, method='default')\n",
    "        \n",
    "        # 저장되는 파일 포맷을 jpg로 지정\n",
    "        # 중간에 TIF파일이 있는데 이거 때문에 오류나서 포맷을 지정함\n",
    "        plt.imsave(f\"../data/telemoji/LBP/validation/{fname}/{iname.split('.')[0]}.jpg\", \n",
    "                   LBP, cmap=\"gray\")"
   ]
  },
  {
   "cell_type": "markdown",
   "id": "hazardous-borough",
   "metadata": {},
   "source": [
    "# LBP를 이용한 학습"
   ]
  },
  {
   "cell_type": "code",
   "execution_count": 1,
   "id": "confidential-toddler",
   "metadata": {},
   "outputs": [],
   "source": [
    "import os\n",
    "import numpy as np\n",
    "import matplotlib.pyplot as plt\n",
    "from tensorflow.keras.preprocessing.image import ImageDataGenerator\n",
    "from tensorflow.keras.models import Sequential\n",
    "from tensorflow.keras.layers import Dense, Dropout, Flatten, BatchNormalization, Activation, Conv2D, MaxPooling2D\n",
    "from tensorflow.keras.optimizers import RMSprop, Adam\n",
    "from tensorflow.keras.applications import EfficientNetB3, ResNet50"
   ]
  },
  {
   "cell_type": "code",
   "execution_count": 3,
   "id": "cutting-interface",
   "metadata": {},
   "outputs": [
    {
     "name": "stdout",
     "output_type": "stream",
     "text": [
      "Found 16800 images belonging to 7 classes.\n",
      "Found 7000 images belonging to 7 classes.\n"
     ]
    }
   ],
   "source": [
    "base_dir = '../data/telemoji/LBP'\n",
    "train_dir = os.path.join(base_dir, 'train')\n",
    "validation_dir = os.path.join(base_dir, 'validation')\n",
    "\n",
    "train_datagen = ImageDataGenerator(\n",
    "      rescale=1/255,    \n",
    "#     rotation_range=40,\n",
    "#     width_shift_range=0.1,\n",
    "#     height_shift_range=0.1,\n",
    "#     zoom_range=0.2,\n",
    "#     horizontal_flip=True,\n",
    "#     vertical_flip=True\n",
    ")\n",
    "\n",
    "validation_datagen = ImageDataGenerator(\n",
    "    rescale=1/255\n",
    ")\n",
    "\n",
    "train_generator = train_datagen.flow_from_directory(\n",
    "    train_dir, \n",
    "    color_mode='grayscale',\n",
    "    target_size=(48,48),\n",
    "    batch_size=100,\n",
    "    class_mode='categorical'\n",
    ")\n",
    "\n",
    "validation_generator = validation_datagen.flow_from_directory(\n",
    "    validation_dir,\n",
    "    color_mode='grayscale',\n",
    "    target_size=(48,48),\n",
    "    batch_size=100,\n",
    "    class_mode='categorical'\n",
    ")"
   ]
  },
  {
   "cell_type": "code",
   "execution_count": 4,
   "id": "caring-jacket",
   "metadata": {},
   "outputs": [
    {
     "name": "stdout",
     "output_type": "stream",
     "text": [
      "Model: \"sequential\"\n",
      "_________________________________________________________________\n",
      "Layer (type)                 Output Shape              Param #   \n",
      "=================================================================\n",
      "conv2d (Conv2D)              (None, 48, 48, 64)        128       \n",
      "_________________________________________________________________\n",
      "batch_normalization (BatchNo (None, 48, 48, 64)        256       \n",
      "_________________________________________________________________\n",
      "dropout (Dropout)            (None, 48, 48, 64)        0         \n",
      "_________________________________________________________________\n",
      "conv2d_1 (Conv2D)            (None, 48, 48, 128)       73856     \n",
      "_________________________________________________________________\n",
      "batch_normalization_1 (Batch (None, 48, 48, 128)       512       \n",
      "_________________________________________________________________\n",
      "dropout_1 (Dropout)          (None, 48, 48, 128)       0         \n",
      "_________________________________________________________________\n",
      "conv2d_2 (Conv2D)            (None, 48, 48, 256)       819456    \n",
      "_________________________________________________________________\n",
      "batch_normalization_2 (Batch (None, 48, 48, 256)       1024      \n",
      "_________________________________________________________________\n",
      "max_pooling2d (MaxPooling2D) (None, 24, 24, 256)       0         \n",
      "_________________________________________________________________\n",
      "dropout_2 (Dropout)          (None, 24, 24, 256)       0         \n",
      "_________________________________________________________________\n",
      "flatten (Flatten)            (None, 147456)            0         \n",
      "_________________________________________________________________\n",
      "dense (Dense)                (None, 128)               18874496  \n",
      "_________________________________________________________________\n",
      "batch_normalization_3 (Batch (None, 128)               512       \n",
      "_________________________________________________________________\n",
      "activation (Activation)      (None, 128)               0         \n",
      "_________________________________________________________________\n",
      "dropout_3 (Dropout)          (None, 128)               0         \n",
      "_________________________________________________________________\n",
      "dense_1 (Dense)              (None, 256)               33024     \n",
      "_________________________________________________________________\n",
      "batch_normalization_4 (Batch (None, 256)               1024      \n",
      "_________________________________________________________________\n",
      "activation_1 (Activation)    (None, 256)               0         \n",
      "_________________________________________________________________\n",
      "dropout_4 (Dropout)          (None, 256)               0         \n",
      "_________________________________________________________________\n",
      "dense_2 (Dense)              (None, 7)                 1799      \n",
      "=================================================================\n",
      "Total params: 19,806,087\n",
      "Trainable params: 19,804,423\n",
      "Non-trainable params: 1,664\n",
      "_________________________________________________________________\n"
     ]
    }
   ],
   "source": [
    "## 다른 모델\n",
    "\n",
    "model = Sequential()\n",
    "model.add(Conv2D(64, (1, 1), padding='same', activation='relu', \n",
    "                 input_shape=(48, 48, 1)))\n",
    "model.add(BatchNormalization())\n",
    "model.add(Dropout(0.25))\n",
    "\n",
    "model.add(Conv2D(128, (3, 3),padding='same', activation='relu'))\n",
    "model.add(BatchNormalization())\n",
    "model.add(Dropout(0.25))\n",
    "\n",
    "model.add(Conv2D(256, (5, 5),padding='same', activation='relu'))\n",
    "model.add(BatchNormalization())\n",
    "model.add(MaxPooling2D((2, 2),padding=\"same\"))\n",
    "model.add(Dropout(0.25))\n",
    "\n",
    "\n",
    "model.add(Flatten())\n",
    "\n",
    "model.add(Dense(128))\n",
    "model.add(BatchNormalization())\n",
    "model.add(Activation('relu'))\n",
    "model.add(Dropout(0.25))\n",
    "\n",
    "model.add(Dense(256))\n",
    "model.add(BatchNormalization())\n",
    "model.add(Activation('relu'))\n",
    "model.add(Dropout(0.25))\n",
    "\n",
    "model.add(Dense(7, activation='softmax'))\n",
    "model.summary()\n",
    "\n",
    "model.compile(optimizer=Adam(learning_rate=1e-4), \n",
    "              loss='categorical_crossentropy',\n",
    "              metrics=['accuracy'])"
   ]
  },
  {
   "cell_type": "code",
   "execution_count": 5,
   "id": "potential-vancouver",
   "metadata": {},
   "outputs": [
    {
     "name": "stdout",
     "output_type": "stream",
     "text": [
      "Epoch 1/30\n",
      "  2/168 [..............................] - ETA: 13s - loss: 2.4458 - accuracy: 0.1200WARNING:tensorflow:Callbacks method `on_train_batch_end` is slow compared to the batch time (batch time: 0.0635s vs `on_train_batch_end` time: 0.1006s). Check your callbacks.\n",
      "168/168 [==============================] - 231s 1s/step - loss: 2.1770 - accuracy: 0.1879 - val_loss: 2.3740 - val_accuracy: 0.1616\n",
      "Epoch 2/30\n",
      "168/168 [==============================] - 228s 1s/step - loss: 1.8745 - accuracy: 0.2770 - val_loss: 2.4426 - val_accuracy: 0.1430\n",
      "Epoch 3/30\n",
      "168/168 [==============================] - 227s 1s/step - loss: 1.6769 - accuracy: 0.3530 - val_loss: 1.9687 - val_accuracy: 0.2210\n",
      "Epoch 4/30\n",
      "168/168 [==============================] - 216s 1s/step - loss: 1.4657 - accuracy: 0.4473 - val_loss: 1.9199 - val_accuracy: 0.2573\n",
      "Epoch 5/30\n",
      "168/168 [==============================] - 227s 1s/step - loss: 1.2409 - accuracy: 0.5481 - val_loss: 1.9289 - val_accuracy: 0.2719\n",
      "Epoch 6/30\n",
      "168/168 [==============================] - 239s 1s/step - loss: 1.0202 - accuracy: 0.6433 - val_loss: 2.0163 - val_accuracy: 0.2896\n",
      "Epoch 7/30\n",
      "168/168 [==============================] - 236s 1s/step - loss: 0.7979 - accuracy: 0.7374 - val_loss: 2.0476 - val_accuracy: 0.2789\n",
      "Epoch 8/30\n",
      "168/168 [==============================] - 238s 1s/step - loss: 0.6146 - accuracy: 0.8092 - val_loss: 2.2590 - val_accuracy: 0.2733\n",
      "Epoch 9/30\n",
      "168/168 [==============================] - 229s 1s/step - loss: 0.4549 - accuracy: 0.8692 - val_loss: 2.2295 - val_accuracy: 0.2809\n",
      "Epoch 10/30\n",
      "168/168 [==============================] - 229s 1s/step - loss: 0.3445 - accuracy: 0.9077 - val_loss: 2.2761 - val_accuracy: 0.2721\n",
      "Epoch 11/30\n",
      "168/168 [==============================] - 234s 1s/step - loss: 0.2727 - accuracy: 0.9287 - val_loss: 2.4848 - val_accuracy: 0.2711\n",
      "Epoch 12/30\n",
      "168/168 [==============================] - 230s 1s/step - loss: 0.2163 - accuracy: 0.9471 - val_loss: 2.4716 - val_accuracy: 0.2771\n",
      "Epoch 13/30\n",
      "168/168 [==============================] - 227s 1s/step - loss: 0.1843 - accuracy: 0.9547 - val_loss: 2.5155 - val_accuracy: 0.2690\n",
      "Epoch 14/30\n",
      "168/168 [==============================] - 236s 1s/step - loss: 0.1522 - accuracy: 0.9646 - val_loss: 2.5595 - val_accuracy: 0.2780\n",
      "Epoch 15/30\n",
      "168/168 [==============================] - 236s 1s/step - loss: 0.1328 - accuracy: 0.9683 - val_loss: 2.7374 - val_accuracy: 0.2776\n",
      "Epoch 16/30\n",
      "168/168 [==============================] - 229s 1s/step - loss: 0.1155 - accuracy: 0.9733 - val_loss: 2.6645 - val_accuracy: 0.2681\n",
      "Epoch 17/30\n",
      "168/168 [==============================] - 216s 1s/step - loss: 0.1026 - accuracy: 0.9751 - val_loss: 2.8323 - val_accuracy: 0.2681\n",
      "Epoch 18/30\n",
      "168/168 [==============================] - 216s 1s/step - loss: 0.0953 - accuracy: 0.9766 - val_loss: 2.8134 - val_accuracy: 0.2750\n",
      "Epoch 19/30\n",
      "168/168 [==============================] - 232s 1s/step - loss: 0.0856 - accuracy: 0.9782 - val_loss: 2.9208 - val_accuracy: 0.2714\n",
      "Epoch 20/30\n",
      "168/168 [==============================] - 225s 1s/step - loss: 0.0881 - accuracy: 0.9779 - val_loss: 3.1984 - val_accuracy: 0.2503\n",
      "Epoch 21/30\n",
      "168/168 [==============================] - 218s 1s/step - loss: 0.0813 - accuracy: 0.9801 - val_loss: 3.0891 - val_accuracy: 0.2651\n",
      "Epoch 22/30\n",
      "168/168 [==============================] - 232s 1s/step - loss: 0.0772 - accuracy: 0.9801 - val_loss: 3.1952 - val_accuracy: 0.2589\n",
      "Epoch 23/30\n",
      "168/168 [==============================] - 226s 1s/step - loss: 0.0797 - accuracy: 0.9790 - val_loss: 3.0289 - val_accuracy: 0.2666\n",
      "Epoch 24/30\n",
      "168/168 [==============================] - 229s 1s/step - loss: 0.0685 - accuracy: 0.9833 - val_loss: 3.0688 - val_accuracy: 0.2757\n",
      "Epoch 25/30\n",
      "168/168 [==============================] - 222s 1s/step - loss: 0.0699 - accuracy: 0.9823 - val_loss: 3.1748 - val_accuracy: 0.2637\n",
      "Epoch 26/30\n",
      "168/168 [==============================] - 224s 1s/step - loss: 0.0692 - accuracy: 0.9813 - val_loss: 3.2256 - val_accuracy: 0.2589\n",
      "Epoch 27/30\n",
      "168/168 [==============================] - 221s 1s/step - loss: 0.0678 - accuracy: 0.9815 - val_loss: 3.1393 - val_accuracy: 0.2621\n",
      "Epoch 28/30\n",
      "168/168 [==============================] - 238s 1s/step - loss: 0.0652 - accuracy: 0.9817 - val_loss: 3.3742 - val_accuracy: 0.2646\n",
      "Epoch 29/30\n",
      "168/168 [==============================] - 220s 1s/step - loss: 0.0707 - accuracy: 0.9808 - val_loss: 3.3496 - val_accuracy: 0.2690\n",
      "Epoch 30/30\n",
      "168/168 [==============================] - 233s 1s/step - loss: 0.0587 - accuracy: 0.9847 - val_loss: 3.4260 - val_accuracy: 0.2667\n"
     ]
    }
   ],
   "source": [
    "history = model.fit(train_generator, steps_per_epoch=168, epochs=30,\n",
    "                    validation_data=validation_generator,\n",
    "                    validation_steps=70)"
   ]
  }
 ],
 "metadata": {
  "kernelspec": {
   "display_name": "Python [conda env:data_env_tf2] *",
   "language": "python",
   "name": "conda-env-data_env_tf2-py"
  },
  "language_info": {
   "codemirror_mode": {
    "name": "ipython",
    "version": 3
   },
   "file_extension": ".py",
   "mimetype": "text/x-python",
   "name": "python",
   "nbconvert_exporter": "python",
   "pygments_lexer": "ipython3",
   "version": "3.7.10"
  }
 },
 "nbformat": 4,
 "nbformat_minor": 5
}
