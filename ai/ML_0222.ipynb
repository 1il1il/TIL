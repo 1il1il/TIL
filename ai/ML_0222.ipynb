{
 "cells": [
  {
   "cell_type": "markdown",
   "metadata": {},
   "source": [
    "- 입력으로 들어오는 x에서 아주 미세하게 변화할때 함수 f가 얼마나 변화하는지에 대해 수치적으로 계산하기"
   ]
  },
  {
   "cell_type": "code",
   "execution_count": 6,
   "metadata": {},
   "outputs": [
    {
     "name": "stdout",
     "output_type": "stream",
     "text": [
      "미분한 결과값은  : 6.000000000039306\n"
     ]
    }
   ],
   "source": [
    "# 아래의 함수는 인자 2개를 받는다\n",
    "# 한개는 미분하려는 함수, 특정 점에서 미분값을 구하기 위한 x값\n",
    "def numerical_derivative(f, x):\n",
    "    \n",
    "    # f : 미분하려는 함수\n",
    "    # x : 미분값을 알고자 하는 입력값\n",
    "    # delta_x : 극한에 해당하는 값으로 아주 작은 값을 이용\n",
    "    # 1e-8이하로 지정하면 소수점 연산 오류가 발생\n",
    "    # 일반적으로 1e-4 ~ 1e-5 정도로 설정\n",
    "    delta_x = 1e-5 \n",
    "    \n",
    "    return (f(x+delta_x) - f(x-delta_x)) / (2 * delta_x )\n",
    "\n",
    "# 미분하려는 함수 (단변수 함수)\n",
    "def my_func(x):\n",
    "    \n",
    "    return x ** 2\n",
    "\n",
    "result = numerical_derivative(my_func, 3)\n",
    "print('미분한 결과값은  : {}'.format(result))"
   ]
  },
  {
   "cell_type": "markdown",
   "metadata": {},
   "source": [
    "- 일반적으로 다변수 함수의 수치미분 코드를 이용\n",
    "- 입력변수가 2개 이상인 다변수 함수인 경우 입력변수는 서로 독립이기 때문에 수치 미분 역시 변수의 개수만큼 개별적으로 진행해야 한다"
   ]
  },
  {
   "cell_type": "code",
   "execution_count": 21,
   "metadata": {},
   "outputs": [
    {
     "name": "stdout",
     "output_type": "stream",
     "text": [
      "현재의 idx : (0,)\n",
      "현재의 temp : 1.0\n",
      "현재의 idx : (1,)\n",
      "현재의 temp : 2.0\n",
      "미분한 결과값은  : [ 8.         15.00000001]\n"
     ]
    }
   ],
   "source": [
    "import numpy as np\n",
    "\n",
    "def numerical_derivative(f, x):\n",
    "    \n",
    "    # f : 미분하려고 하는 다변수 함수\n",
    "    # x : 모든 값을 포함하는 numpy array\n",
    "    delta_x = 1e-4\n",
    "    # x의 형태와 같은 혙애로 만들기_like\n",
    "    derivative_x = np.zeros_like(x)\n",
    "    \n",
    "    it = np.nditer(x, flags=['multi_index'])\n",
    "    \n",
    "    while not it.finished:\n",
    "        \n",
    "        idx = it.multi_index # 현재 iterator의 index를 추출 > tuple 형태로 나온다\n",
    "        print('현재의 idx : {}'.format(idx))\n",
    "        \n",
    "        tmp = x[idx] # 현재 index의 값을 잠시 보존\n",
    "                     # delta_x를 이용한 값으로 ndarray를 수정한 후 편미분을 계산\n",
    "                     # 함수값을 계산한 수 원상복구를 해 줘야 다음 독립변수에 대한 \n",
    "                     # 편미분을 정상적으로 수행할 수 있다\n",
    "        print('현재의 temp : {}'.format(tmp))\n",
    "        x[idx] = tmp + delta_x\n",
    "        fx_plus_delta = f(x) # f([1.00001, 2.0]) > f(x + delta_x)\n",
    "        \n",
    "        x[idx] = tmp - delta_x\n",
    "        fx_minus_delta = f(x) # f([0.99999, 2.0]) > f(x - delta_x)\n",
    "        \n",
    "        derivative_x[idx] = (fx_plus_delta - fx_minus_delta) / (2 * delta_x)\n",
    "        \n",
    "        x[idx] = tmp\n",
    "        \n",
    "        it.iternext()\n",
    "        \n",
    "    return derivative_x\n",
    "\n",
    "\n",
    "def my_func(input_data):\n",
    "    \n",
    "    x = input_data[0]\n",
    "    y = input_data[1]\n",
    "    return 2*x + 3*x*y + np.power(y, 3) # f(x) = 2x +3xy +y^3\n",
    "\n",
    "\n",
    "param = np.array([1.0, 2.0])\n",
    "result = numerical_derivative(my_func, param)\n",
    "print('미분한 결과값은  : {}'.format(result))"
   ]
  }
 ],
 "metadata": {
  "kernelspec": {
   "display_name": "Python [conda env:data_env] *",
   "language": "python",
   "name": "conda-env-data_env-py"
  },
  "language_info": {
   "codemirror_mode": {
    "name": "ipython",
    "version": 3
   },
   "file_extension": ".py",
   "mimetype": "text/x-python",
   "name": "python",
   "nbconvert_exporter": "python",
   "pygments_lexer": "ipython3",
   "version": "3.7.9"
  }
 },
 "nbformat": 4,
 "nbformat_minor": 4
}
