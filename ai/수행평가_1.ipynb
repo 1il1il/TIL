{
 "cells": [
  {
   "cell_type": "code",
   "execution_count": 1,
   "metadata": {},
   "outputs": [],
   "source": [
    "import numpy as np\n",
    "import pandas as pd\n",
    "import tensorflow as tf\n",
    "import matplotlib.pyplot as plt\n",
    "\n",
    "from scipy import stats\n",
    "from sklearn import linear_model"
   ]
  },
  {
   "cell_type": "code",
   "execution_count": 37,
   "metadata": {},
   "outputs": [
    {
     "name": "stdout",
     "output_type": "stream",
     "text": [
      "오존의 결측치 : 37개\n",
      "온도의 결측치 : 0개\n"
     ]
    },
    {
     "data": {
      "text/html": [
       "<div>\n",
       "<style scoped>\n",
       "    .dataframe tbody tr th:only-of-type {\n",
       "        vertical-align: middle;\n",
       "    }\n",
       "\n",
       "    .dataframe tbody tr th {\n",
       "        vertical-align: top;\n",
       "    }\n",
       "\n",
       "    .dataframe thead th {\n",
       "        text-align: right;\n",
       "    }\n",
       "</style>\n",
       "<table border=\"1\" class=\"dataframe\">\n",
       "  <thead>\n",
       "    <tr style=\"text-align: right;\">\n",
       "      <th></th>\n",
       "      <th>Temp</th>\n",
       "      <th>Ozone</th>\n",
       "    </tr>\n",
       "  </thead>\n",
       "  <tbody>\n",
       "    <tr>\n",
       "      <th>0</th>\n",
       "      <td>67</td>\n",
       "      <td>41.0</td>\n",
       "    </tr>\n",
       "    <tr>\n",
       "      <th>1</th>\n",
       "      <td>72</td>\n",
       "      <td>36.0</td>\n",
       "    </tr>\n",
       "    <tr>\n",
       "      <th>2</th>\n",
       "      <td>74</td>\n",
       "      <td>12.0</td>\n",
       "    </tr>\n",
       "    <tr>\n",
       "      <th>3</th>\n",
       "      <td>62</td>\n",
       "      <td>18.0</td>\n",
       "    </tr>\n",
       "    <tr>\n",
       "      <th>5</th>\n",
       "      <td>66</td>\n",
       "      <td>28.0</td>\n",
       "    </tr>\n",
       "    <tr>\n",
       "      <th>...</th>\n",
       "      <td>...</td>\n",
       "      <td>...</td>\n",
       "    </tr>\n",
       "    <tr>\n",
       "      <th>147</th>\n",
       "      <td>63</td>\n",
       "      <td>14.0</td>\n",
       "    </tr>\n",
       "    <tr>\n",
       "      <th>148</th>\n",
       "      <td>70</td>\n",
       "      <td>30.0</td>\n",
       "    </tr>\n",
       "    <tr>\n",
       "      <th>150</th>\n",
       "      <td>75</td>\n",
       "      <td>14.0</td>\n",
       "    </tr>\n",
       "    <tr>\n",
       "      <th>151</th>\n",
       "      <td>76</td>\n",
       "      <td>18.0</td>\n",
       "    </tr>\n",
       "    <tr>\n",
       "      <th>152</th>\n",
       "      <td>68</td>\n",
       "      <td>20.0</td>\n",
       "    </tr>\n",
       "  </tbody>\n",
       "</table>\n",
       "<p>116 rows × 2 columns</p>\n",
       "</div>"
      ],
      "text/plain": [
       "     Temp  Ozone\n",
       "0      67   41.0\n",
       "1      72   36.0\n",
       "2      74   12.0\n",
       "3      62   18.0\n",
       "5      66   28.0\n",
       "..    ...    ...\n",
       "147    63   14.0\n",
       "148    70   30.0\n",
       "150    75   14.0\n",
       "151    76   18.0\n",
       "152    68   20.0\n",
       "\n",
       "[116 rows x 2 columns]"
      ]
     },
     "metadata": {},
     "output_type": "display_data"
    }
   ],
   "source": [
    "# 1. csv 파일 loading\n",
    "df = pd.read_csv('../data/ozone.csv')\n",
    "training_data = df[['Temp', 'Ozone']]\n",
    "\n",
    "# 2. 결측치 확인 및 제거\n",
    "print('오존의 결측치 : {}개'.format(training_data['Ozone'].isnull().sum()))\n",
    "print('온도의 결측치 : {}개'.format(training_data['Temp'].isnull().sum()))\n",
    "\n",
    "training_data = training_data.dropna(how='any')\n",
    "\n",
    "display(training_data)"
   ]
  },
  {
   "cell_type": "code",
   "execution_count": 38,
   "metadata": {},
   "outputs": [],
   "source": [
    "# 3. 이상치 확인 및 제거\n",
    "\n",
    "# 이상치 처리 (이상치 제거)\n",
    "# z-scroe 이용\n",
    "zscore_threshold = 1.8\n",
    "\n",
    "# temp 확인\n",
    "tmp = ~(np.abs(stats.zscore(training_data['Temp'])) > zscore_threshold)\n",
    "training_data = training_data.loc[tmp]\n",
    "\n",
    "# Ozone 확인\n",
    "tmp = ~(np.abs(stats.zscore(training_data['Ozone'])) > zscore_threshold)\n",
    "training_data = training_data.loc[tmp]\n",
    "\n",
    "# sklearn용 정규화 이전 데이터\n",
    "training_data_sk = training_data.copy()"
   ]
  },
  {
   "cell_type": "code",
   "execution_count": 39,
   "metadata": {
    "scrolled": false
   },
   "outputs": [
    {
     "data": {
      "text/html": [
       "<div>\n",
       "<style scoped>\n",
       "    .dataframe tbody tr th:only-of-type {\n",
       "        vertical-align: middle;\n",
       "    }\n",
       "\n",
       "    .dataframe tbody tr th {\n",
       "        vertical-align: top;\n",
       "    }\n",
       "\n",
       "    .dataframe thead th {\n",
       "        text-align: right;\n",
       "    }\n",
       "</style>\n",
       "<table border=\"1\" class=\"dataframe\">\n",
       "  <thead>\n",
       "    <tr style=\"text-align: right;\">\n",
       "      <th></th>\n",
       "      <th>Temp</th>\n",
       "      <th>Ozone</th>\n",
       "    </tr>\n",
       "  </thead>\n",
       "  <tbody>\n",
       "    <tr>\n",
       "      <th>0</th>\n",
       "      <td>0.181818</td>\n",
       "      <td>0.397849</td>\n",
       "    </tr>\n",
       "    <tr>\n",
       "      <th>1</th>\n",
       "      <td>0.333333</td>\n",
       "      <td>0.344086</td>\n",
       "    </tr>\n",
       "    <tr>\n",
       "      <th>2</th>\n",
       "      <td>0.393939</td>\n",
       "      <td>0.086022</td>\n",
       "    </tr>\n",
       "    <tr>\n",
       "      <th>3</th>\n",
       "      <td>0.030303</td>\n",
       "      <td>0.150538</td>\n",
       "    </tr>\n",
       "    <tr>\n",
       "      <th>5</th>\n",
       "      <td>0.151515</td>\n",
       "      <td>0.258065</td>\n",
       "    </tr>\n",
       "    <tr>\n",
       "      <th>...</th>\n",
       "      <td>...</td>\n",
       "      <td>...</td>\n",
       "    </tr>\n",
       "    <tr>\n",
       "      <th>147</th>\n",
       "      <td>0.060606</td>\n",
       "      <td>0.107527</td>\n",
       "    </tr>\n",
       "    <tr>\n",
       "      <th>148</th>\n",
       "      <td>0.272727</td>\n",
       "      <td>0.279570</td>\n",
       "    </tr>\n",
       "    <tr>\n",
       "      <th>150</th>\n",
       "      <td>0.424242</td>\n",
       "      <td>0.107527</td>\n",
       "    </tr>\n",
       "    <tr>\n",
       "      <th>151</th>\n",
       "      <td>0.454545</td>\n",
       "      <td>0.150538</td>\n",
       "    </tr>\n",
       "    <tr>\n",
       "      <th>152</th>\n",
       "      <td>0.212121</td>\n",
       "      <td>0.172043</td>\n",
       "    </tr>\n",
       "  </tbody>\n",
       "</table>\n",
       "<p>103 rows × 2 columns</p>\n",
       "</div>"
      ],
      "text/plain": [
       "         Temp     Ozone\n",
       "0    0.181818  0.397849\n",
       "1    0.333333  0.344086\n",
       "2    0.393939  0.086022\n",
       "3    0.030303  0.150538\n",
       "5    0.151515  0.258065\n",
       "..        ...       ...\n",
       "147  0.060606  0.107527\n",
       "148  0.272727  0.279570\n",
       "150  0.424242  0.107527\n",
       "151  0.454545  0.150538\n",
       "152  0.212121  0.172043\n",
       "\n",
       "[103 rows x 2 columns]"
      ]
     },
     "metadata": {},
     "output_type": "display_data"
    }
   ],
   "source": [
    "# 4. Normalization (min - max)\n",
    "training_data['Temp'] = (training_data['Temp'] - training_data['Temp'].min()) / (training_data['Temp'].max() - training_data['Temp'].min())\n",
    "training_data['Ozone'] = (training_data['Ozone'] - training_data['Ozone'].min()) / (training_data['Ozone'].max() - training_data['Ozone'].min())\n",
    "display(training_data)"
   ]
  },
  {
   "cell_type": "code",
   "execution_count": 40,
   "metadata": {
    "scrolled": true
   },
   "outputs": [],
   "source": [
    "# 5. training data set\n",
    "x_data = training_data['Temp'].values.reshape(-1,1)\n",
    "t_data = training_data['Ozone'].values.reshape(-1,1)"
   ]
  },
  {
   "cell_type": "markdown",
   "metadata": {},
   "source": [
    "## 1. Tensorflow를 이용한 ML"
   ]
  },
  {
   "cell_type": "code",
   "execution_count": 41,
   "metadata": {},
   "outputs": [],
   "source": [
    "# placeholder\n",
    "X = tf.placeholder(shape=[None,1], dtype=tf.float32)\n",
    "T = tf.placeholder(shape=[None,1], dtype=tf.float32)\n",
    "\n",
    "# W & b\n",
    "W = tf.Variable(tf.random.normal([1,1]))\n",
    "b = tf.Variable(tf.random.normal([1]))\n",
    "\n",
    "# model\n",
    "H = tf.matmul(X, W) + b\n",
    "\n",
    "# loss function\n",
    "loss = tf.reduce_mean(tf.square(H - T))\n",
    "\n",
    "# train\n",
    "train = tf.train.GradientDescentOptimizer(learning_rate=1e-4).minimize(loss)\n",
    "\n",
    "# session\n",
    "sess = tf.Session()\n",
    "sess.run(tf.global_variables_initializer())"
   ]
  },
  {
   "cell_type": "code",
   "execution_count": 42,
   "metadata": {},
   "outputs": [
    {
     "name": "stdout",
     "output_type": "stream",
     "text": [
      "W :[[-1.3219827]], b : [0.7998821], loss : 0.37927597761154175\n",
      "W :[[-0.66445243]], b : [0.7318297], loss : 0.17391067743301392\n",
      "W :[[-0.2704582]], b : [0.52131504], loss : 0.10684491693973541\n",
      "W :[[0.01712394]], b : [0.36755228], loss : 0.07110392302274704\n",
      "W :[[0.22705868]], b : [0.25530934], loss : 0.05205751955509186\n",
      "W :[[0.3803113]], b : [0.17336889], loss : 0.041907455772161484\n",
      "W :[[0.49218902]], b : [0.11355264], loss : 0.0364982932806015\n",
      "W :[[0.5738437]], b : [0.06989045], loss : 0.03361612930893898\n",
      "W :[[0.6334587]], b : [0.03801982], loss : 0.032079990953207016\n",
      "W :[[0.67696077]], b : [0.01475949], loss : 0.031261544674634933\n"
     ]
    }
   ],
   "source": [
    "# learning\n",
    "for step in range(300000):\n",
    "    \n",
    "    _,W_val,b_val,loss_val = sess.run([train,W,b,loss], \n",
    "                                      feed_dict={X : x_data, T : t_data})\n",
    "    \n",
    "    if step % 30000 == 0:\n",
    "        print('W :{}, b : {}, loss : {}'.format(W_val,b_val,loss_val))"
   ]
  },
  {
   "cell_type": "markdown",
   "metadata": {},
   "source": [
    "## 2. Python을 이용한 ML"
   ]
  },
  {
   "cell_type": "code",
   "execution_count": 43,
   "metadata": {},
   "outputs": [],
   "source": [
    "# W & b\n",
    "W_p = np.random.rand(1,1)\n",
    "b_p = np.random.rand(1)\n",
    "\n",
    "# model\n",
    "def predict(x):\n",
    "    \n",
    "    y = np.dot(x, W_p) + b_p\n",
    "    \n",
    "    return y\n",
    "\n",
    "# loss function\n",
    "def loss_func(input_obj):\n",
    "    \n",
    "    input_W = input_obj[0]\n",
    "    input_b = input_obj[1]\n",
    "    \n",
    "    y = np.dot(x_data, input_W) + input_b\n",
    "    \n",
    "    return np.mean(np.power((t_data - y), 2))\n",
    "\n",
    "# 편미분 함수\n",
    "def numerical_derivative(f, x):\n",
    "    \n",
    "    delta_x = 1e-4\n",
    "    derivative_x = np.zeros_like(x)\n",
    "    \n",
    "    it = np.nditer(x, flags=['multi_index'])\n",
    "    \n",
    "    while not it.finished:\n",
    "        \n",
    "        idx = it.multi_index \n",
    "        \n",
    "        tmp = x[idx] \n",
    "        x[idx] = tmp + delta_x\n",
    "        fx_plus_delta = f(x) \n",
    "        \n",
    "        x[idx] = tmp - delta_x\n",
    "        fx_minus_delta = f(x) \n",
    "        \n",
    "        derivative_x[idx] = (fx_plus_delta - fx_minus_delta) / (2 * delta_x)\n",
    "        \n",
    "        x[idx] = tmp\n",
    "        \n",
    "        it.iternext()\n",
    "        \n",
    "    return derivative_x"
   ]
  },
  {
   "cell_type": "code",
   "execution_count": 44,
   "metadata": {},
   "outputs": [
    {
     "name": "stdout",
     "output_type": "stream",
     "text": [
      "W : [[0.32613438]], b : [0.42847106]\n",
      "W : [[0.38404681]], b : [0.17148145]\n",
      "W : [[0.49488424]], b : [0.11211058]\n",
      "W : [[0.57582939]], b : [0.06883215]\n",
      "W : [[0.63491965]], b : [0.03723877]\n",
      "W : [[0.67805576]], b : [0.01417549]\n",
      "W : [[0.70954527]], b : [-0.00266079]\n",
      "W : [[0.73253272]], b : [-0.01495133]\n",
      "W : [[0.74931364]], b : [-0.02392347]\n",
      "W : [[0.76156378]], b : [-0.03047317]\n"
     ]
    }
   ],
   "source": [
    "# learning rate and learning\n",
    "learning_rate = 1e-4\n",
    "\n",
    "for step in range(300000):\n",
    "\n",
    "    input_param = np.concatenate((W_p.ravel(), b_p.ravel()), axis=0) # [W b]\n",
    "    derivative_result = learning_rate * numerical_derivative(loss_func, input_param)\n",
    "    \n",
    "    W_p = W_p - derivative_result[:1].reshape(-1,1)\n",
    "    b_p = b_p - derivative_result[1:]\n",
    "    \n",
    "    if step % 30000 == 0:\n",
    "        print('W : {}, b : {}'.format(W_p, b_p))"
   ]
  },
  {
   "cell_type": "markdown",
   "metadata": {},
   "source": [
    "## 3. Sklearn을 이용한 ML"
   ]
  },
  {
   "cell_type": "code",
   "execution_count": 10,
   "metadata": {},
   "outputs": [
    {
     "name": "stdout",
     "output_type": "stream",
     "text": [
      "W : [[2.23956713]], b : [-137.09451328]\n"
     ]
    }
   ],
   "source": [
    "unscaled_x_data = training_data_sk['Temp'].values.reshape(-1,1)\n",
    "unscaled_t_data = training_data_sk['Ozone'].values.reshape(-1,1)\n",
    "# linear regression model 생성\n",
    "model = linear_model.LinearRegression()\n",
    "\n",
    "# learning\n",
    "model.fit(unscaled_x_data, unscaled_t_data)\n",
    "\n",
    "# Weight, bias 확인\n",
    "print('W : {}, b : {}'.format(model.coef_, model.intercept_))"
   ]
  },
  {
   "cell_type": "code",
   "execution_count": 45,
   "metadata": {},
   "outputs": [
    {
     "data": {
      "image/png": "[encoded data removed]",
      "text/plain": [
       "<Figure size 432x288 with 3 Axes>"
      ]
     },
     "metadata": {
      "needs_background": "light"
     },
     "output_type": "display_data"
    }
   ],
   "source": [
    "# 7. graph를 그려 차이 확인\n",
    "fig = plt.figure()\n",
    "fig_tensorflow = fig.add_subplot(1,3,1)\n",
    "fig_python = fig.add_subplot(1,3,2)\n",
    "fig_sklearn = fig.add_subplot(1,3,3)\n",
    "\n",
    "fig_tensorflow.set_title('Tensorflow')\n",
    "fig_tensorflow.scatter(x_data, t_data)\n",
    "fig_tensorflow.plot(x_data, x_data*W_val + b_val, color='r')\n",
    "\n",
    "fig_python.set_title('Python')\n",
    "fig_python.scatter(x_data, t_data)\n",
    "fig_python.plot(x_data, x_data*W_p + b_p, color='g')\n",
    "\n",
    "fig_sklearn.set_title('Sklearn')\n",
    "fig_sklearn.scatter(unscaled_x_data, unscaled_t_data)\n",
    "fig_sklearn.plot(unscaled_x_data, unscaled_x_data*model.coef_ + model.intercept_, color='b')\n",
    "\n",
    "fig.tight_layout()"
   ]
  },
  {
   "cell_type": "code",
   "execution_count": 50,
   "metadata": {},
   "outputs": [
    {
     "name": "stdout",
     "output_type": "stream",
     "text": [
      "tensorflow : [[45.735584]]\n",
      "python : [[46.3213031]]\n",
      "sklearn : [[46.5499913]]\n"
     ]
    }
   ],
   "source": [
    "# 8. 예측치 비교\n",
    "# temp = 82로 비교\n",
    "predict_temp = np.array([[82]])\n",
    "x_max_val = training_data_sk['Temp'].max()\n",
    "x_min_val = training_data_sk['Temp'].min()\n",
    "\n",
    "y_max_val = training_data_sk['Ozone'].max()\n",
    "y_min_val = training_data_sk['Ozone'].min()\n",
    "\n",
    "\n",
    "scaled_predict_temp = (predict_temp - x_min_val) / (x_max_val - x_min_val)\n",
    "\n",
    "predict_tensorflow = sess.run(H, feed_dict={X : scaled_predict_temp})\n",
    "predict_python = predict(scaled_predict_temp)\n",
    "\n",
    "result_tensorflow = (predict_tensorflow * (y_max_val  - y_min_val)) + y_min_val\n",
    "result_python = (predict_python * (y_max_val  - y_min_val)) + y_min_val\n",
    "\n",
    "print('tensorflow : {}'.format(result_tensorflow))\n",
    "print('python : {}'.format(result_python))\n",
    "print('sklearn : {}'.format(model.predict(predict_temp)))"
   ]
  }
 ],
 "metadata": {
  "kernelspec": {
   "display_name": "Python [conda env:data_env] *",
   "language": "python",
   "name": "conda-env-data_env-py"
  },
  "language_info": {
   "codemirror_mode": {
    "name": "ipython",
    "version": 3
   },
   "file_extension": ".py",
   "mimetype": "text/x-python",
   "name": "python",
   "nbconvert_exporter": "python",
   "pygments_lexer": "ipython3",
   "version": "3.7.9"
  }
 },
 "nbformat": 4,
 "nbformat_minor": 4
}
