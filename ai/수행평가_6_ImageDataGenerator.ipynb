{
 "cells": [
  {
   "cell_type": "markdown",
   "id": "coordinated-projection",
   "metadata": {},
   "source": [
    "# 증식을 사용안한 코드"
   ]
  },
  {
   "cell_type": "code",
   "execution_count": 1,
   "id": "changing-software",
   "metadata": {},
   "outputs": [
    {
     "name": "stdout",
     "output_type": "stream",
     "text": [
      "Found 14000 images belonging to 2 classes.\n",
      "Found 6000 images belonging to 2 classes.\n"
     ]
    }
   ],
   "source": [
    "import os\n",
    "from tensorflow.keras.preprocessing.image import ImageDataGenerator\n",
    "import matplotlib.pyplot as plt\n",
    "\n",
    "train_dir = '../data/cat_dog_full/train'\n",
    "validation_dir = '../data/cat_dog_full/validation'\n",
    "\n",
    "# ImageDataGenerator 생성\n",
    "# train data 생성 ImageDataGenerator, validation data 생성 ImageDataGenerator 각각 생성\n",
    "# 정규화(MinMaxScaling 이용)\n",
    "train_datagen = ImageDataGenerator(rescale=1/255)\n",
    "validation_datagen = ImageDataGenerator(rescale=1/255)\n",
    "\n",
    "train_generator = train_datagen.flow_from_directory(\n",
    "    train_dir,                # target directory\n",
    "    classes=['cats', 'dogs'], # 순서대로 0,1..., classes 속성을 생략하면 폴더 순서대로 label이 결정\n",
    "    target_size=(150,150),    # 일반적으로 정방향으로 resize, CNN구조에 따라 이 값은 달라진다\n",
    "    batch_size=100,          # 한번에 500개 이미지 가져와서 변환, label에 상관 없이 가져온다\n",
    "    class_mode='binary'       # 다중분류면 categorical(default)\n",
    "                              # 'sparse도 이용가능 - onehot처리 안하고 사용\n",
    ")\n",
    "\n",
    "validation_generator = validation_datagen.flow_from_directory(\n",
    "    validation_dir,               \n",
    "    classes=['cats', 'dogs'], \n",
    "    target_size=(150,150),   \n",
    "    batch_size=100,            \n",
    "    class_mode='binary'\n",
    ")"
   ]
  },
  {
   "cell_type": "code",
   "execution_count": 2,
   "id": "japanese-evaluation",
   "metadata": {},
   "outputs": [
    {
     "name": "stdout",
     "output_type": "stream",
     "text": [
      "Model: \"sequential\"\n",
      "_________________________________________________________________\n",
      "Layer (type)                 Output Shape              Param #   \n",
      "=================================================================\n",
      "conv2d (Conv2D)              (None, 148, 148, 32)      896       \n",
      "_________________________________________________________________\n",
      "max_pooling2d (MaxPooling2D) (None, 74, 74, 32)        0         \n",
      "_________________________________________________________________\n",
      "conv2d_1 (Conv2D)            (None, 72, 72, 64)        18496     \n",
      "_________________________________________________________________\n",
      "max_pooling2d_1 (MaxPooling2 (None, 36, 36, 64)        0         \n",
      "_________________________________________________________________\n",
      "conv2d_2 (Conv2D)            (None, 34, 34, 128)       73856     \n",
      "_________________________________________________________________\n",
      "max_pooling2d_2 (MaxPooling2 (None, 17, 17, 128)       0         \n",
      "_________________________________________________________________\n",
      "conv2d_3 (Conv2D)            (None, 15, 15, 128)       147584    \n",
      "_________________________________________________________________\n",
      "max_pooling2d_3 (MaxPooling2 (None, 7, 7, 128)         0         \n",
      "_________________________________________________________________\n",
      "flatten (Flatten)            (None, 6272)              0         \n",
      "_________________________________________________________________\n",
      "dense (Dense)                (None, 512)               3211776   \n",
      "_________________________________________________________________\n",
      "dropout (Dropout)            (None, 512)               0         \n",
      "_________________________________________________________________\n",
      "dense_1 (Dense)              (None, 1)                 513       \n",
      "=================================================================\n",
      "Total params: 3,453,121\n",
      "Trainable params: 3,453,121\n",
      "Non-trainable params: 0\n",
      "_________________________________________________________________\n",
      "None\n",
      "Epoch 1/30\n",
      "  2/140 [..............................] - ETA: 4s - loss: 0.7086 - accuracy: 0.4500WARNING:tensorflow:Callbacks method `on_train_batch_end` is slow compared to the batch time (batch time: 0.0220s vs `on_train_batch_end` time: 0.0400s). Check your callbacks.\n",
      "140/140 [==============================] - 54s 384ms/step - loss: 0.6533 - accuracy: 0.6019 - val_loss: 0.5911 - val_accuracy: 0.6783\n",
      "Epoch 2/30\n",
      "140/140 [==============================] - 40s 288ms/step - loss: 0.5478 - accuracy: 0.7206 - val_loss: 0.4777 - val_accuracy: 0.7758\n",
      "Epoch 3/30\n",
      "140/140 [==============================] - 42s 298ms/step - loss: 0.4542 - accuracy: 0.7861 - val_loss: 0.4272 - val_accuracy: 0.8018\n",
      "Epoch 4/30\n",
      "140/140 [==============================] - 41s 292ms/step - loss: 0.3887 - accuracy: 0.8261 - val_loss: 0.3713 - val_accuracy: 0.8363\n",
      "Epoch 5/30\n",
      "140/140 [==============================] - 40s 287ms/step - loss: 0.3276 - accuracy: 0.8549 - val_loss: 0.3535 - val_accuracy: 0.8483\n",
      "Epoch 6/30\n",
      "140/140 [==============================] - 40s 287ms/step - loss: 0.2673 - accuracy: 0.8865 - val_loss: 0.3109 - val_accuracy: 0.8688\n",
      "Epoch 7/30\n",
      "140/140 [==============================] - 40s 286ms/step - loss: 0.2305 - accuracy: 0.9028 - val_loss: 0.3398 - val_accuracy: 0.8560\n",
      "Epoch 8/30\n",
      "140/140 [==============================] - 40s 286ms/step - loss: 0.1773 - accuracy: 0.9298 - val_loss: 0.3448 - val_accuracy: 0.8655\n",
      "Epoch 9/30\n",
      "140/140 [==============================] - 40s 287ms/step - loss: 0.1290 - accuracy: 0.9489 - val_loss: 0.3613 - val_accuracy: 0.8733\n",
      "Epoch 10/30\n",
      "140/140 [==============================] - 40s 288ms/step - loss: 0.0951 - accuracy: 0.9633 - val_loss: 0.4244 - val_accuracy: 0.8663\n",
      "Epoch 11/30\n",
      "140/140 [==============================] - 40s 286ms/step - loss: 0.0636 - accuracy: 0.9772 - val_loss: 0.4577 - val_accuracy: 0.8683\n",
      "Epoch 12/30\n",
      "140/140 [==============================] - 40s 285ms/step - loss: 0.0499 - accuracy: 0.9826 - val_loss: 0.4688 - val_accuracy: 0.8725\n",
      "Epoch 13/30\n",
      "140/140 [==============================] - 40s 282ms/step - loss: 0.0453 - accuracy: 0.9826 - val_loss: 0.4852 - val_accuracy: 0.8718\n",
      "Epoch 14/30\n",
      "140/140 [==============================] - 40s 286ms/step - loss: 0.0326 - accuracy: 0.9898 - val_loss: 0.5777 - val_accuracy: 0.8730\n",
      "Epoch 15/30\n",
      "140/140 [==============================] - 40s 284ms/step - loss: 0.0388 - accuracy: 0.9869 - val_loss: 0.5726 - val_accuracy: 0.8680\n",
      "Epoch 16/30\n",
      "140/140 [==============================] - 40s 285ms/step - loss: 0.0233 - accuracy: 0.9914 - val_loss: 0.5989 - val_accuracy: 0.8708\n",
      "Epoch 17/30\n",
      "140/140 [==============================] - 40s 284ms/step - loss: 0.0330 - accuracy: 0.9874 - val_loss: 0.5741 - val_accuracy: 0.8663\n",
      "Epoch 18/30\n",
      "140/140 [==============================] - 40s 284ms/step - loss: 0.0173 - accuracy: 0.9945 - val_loss: 0.7018 - val_accuracy: 0.8627\n",
      "Epoch 19/30\n",
      "140/140 [==============================] - 40s 285ms/step - loss: 0.0316 - accuracy: 0.9878 - val_loss: 0.5806 - val_accuracy: 0.8713\n",
      "Epoch 20/30\n",
      "140/140 [==============================] - 40s 284ms/step - loss: 0.0130 - accuracy: 0.9957 - val_loss: 0.6930 - val_accuracy: 0.8702\n",
      "Epoch 21/30\n",
      "140/140 [==============================] - 40s 285ms/step - loss: 0.0188 - accuracy: 0.9929 - val_loss: 0.7919 - val_accuracy: 0.8628\n",
      "Epoch 22/30\n",
      "140/140 [==============================] - 40s 284ms/step - loss: 0.0252 - accuracy: 0.9907 - val_loss: 0.5796 - val_accuracy: 0.8740\n",
      "Epoch 23/30\n",
      "140/140 [==============================] - 40s 284ms/step - loss: 0.0147 - accuracy: 0.9944 - val_loss: 0.6605 - val_accuracy: 0.8697\n",
      "Epoch 24/30\n",
      "140/140 [==============================] - 40s 284ms/step - loss: 0.0199 - accuracy: 0.9941 - val_loss: 0.6189 - val_accuracy: 0.8587\n",
      "Epoch 25/30\n",
      "140/140 [==============================] - 40s 285ms/step - loss: 0.0297 - accuracy: 0.9899 - val_loss: 0.6561 - val_accuracy: 0.8650\n",
      "Epoch 26/30\n",
      "140/140 [==============================] - 40s 284ms/step - loss: 0.0117 - accuracy: 0.9962 - val_loss: 0.7595 - val_accuracy: 0.8772\n",
      "Epoch 27/30\n",
      "140/140 [==============================] - 40s 285ms/step - loss: 0.0087 - accuracy: 0.9974 - val_loss: 0.8811 - val_accuracy: 0.8745\n",
      "Epoch 28/30\n",
      "140/140 [==============================] - 40s 288ms/step - loss: 0.0258 - accuracy: 0.9910 - val_loss: 0.6932 - val_accuracy: 0.8710\n",
      "Epoch 29/30\n",
      "140/140 [==============================] - 40s 285ms/step - loss: 0.0136 - accuracy: 0.9958 - val_loss: 0.7800 - val_accuracy: 0.8668\n",
      "Epoch 30/30\n",
      "140/140 [==============================] - 40s 285ms/step - loss: 0.0108 - accuracy: 0.9960 - val_loss: 0.7656 - val_accuracy: 0.8750\n"
     ]
    }
   ],
   "source": [
    "import numpy as np\n",
    "import tensorflow as tf\n",
    "from tensorflow.keras.models import Sequential\n",
    "from tensorflow.keras.layers import Conv2D, MaxPooling2D, Flatten, Dense, Dropout\n",
    "from tensorflow.keras.optimizers import Adam\n",
    "\n",
    "model = Sequential()\n",
    "model.add(Conv2D(filters=32, kernel_size=(3,3), \n",
    "                 activation='relu', input_shape=(150,150,3)))\n",
    "model.add(MaxPooling2D(pool_size=(2,2)))\n",
    "\n",
    "model.add(Conv2D(filters=64, kernel_size=(3,3), \n",
    "                 activation='relu'))\n",
    "model.add(MaxPooling2D(pool_size=(2,2)))\n",
    "\n",
    "model.add(Conv2D(filters=128, kernel_size=(3,3), \n",
    "                 activation='relu'))\n",
    "model.add(MaxPooling2D(pool_size=(2,2)))\n",
    "\n",
    "model.add(Conv2D(filters=128, kernel_size=(3,3), \n",
    "                 activation='relu'))\n",
    "model.add(MaxPooling2D(pool_size=(2,2)))\n",
    "\n",
    "model.add(Flatten())\n",
    "\n",
    "model.add(Dense(units=512, activation='relu'))\n",
    "model.add(Dropout(rate=0.5))\n",
    "model.add(Dense(units=1, activation='sigmoid'))\n",
    "\n",
    "print(model.summary())\n",
    "\n",
    "model.compile(optimizer=Adam(learning_rate=1e-3), \n",
    "              loss='binary_crossentropy',\n",
    "              metrics=['accuracy'])\n",
    "\n",
    "# steps_per_epoch : 몇번 뽑아야 1 epoch이 되는가\n",
    "history = model.fit(train_generator, steps_per_epoch=140, epochs=30, \n",
    "                    validation_data=validation_generator,\n",
    "                    validation_steps=60)"
   ]
  },
  {
   "cell_type": "code",
   "execution_count": 3,
   "id": "behavioral-liberia",
   "metadata": {},
   "outputs": [
    {
     "name": "stdout",
     "output_type": "stream",
     "text": [
      "dict_keys(['loss', 'accuracy', 'val_loss', 'val_accuracy'])\n"
     ]
    },
    {
     "data": {
      "image/png": "[encoded data removed]",
      "text/plain": [
       "<Figure size 432x288 with 1 Axes>"
      ]
     },
     "metadata": {
      "needs_background": "light"
     },
     "output_type": "display_data"
    }
   ],
   "source": [
    "# history 객체 확인\n",
    "print(history.history.keys())\n",
    "\n",
    "train_acc = history.history['accuracy']\n",
    "validation_acc = history.history['val_accuracy']\n",
    "\n",
    "train_loss = history.history['loss']\n",
    "validation_loss = history.history['val_loss']\n",
    "\n",
    "plt.plot(train_acc, color='r', label='training')\n",
    "plt.plot(validation_acc, color='b', label='validation')\n",
    "plt.legend()\n",
    "plt.show()"
   ]
  },
  {
   "cell_type": "code",
   "execution_count": 4,
   "id": "challenging-efficiency",
   "metadata": {},
   "outputs": [
    {
     "data": {
      "image/png": "[encoded data removed]",
      "text/plain": [
       "<Figure size 432x288 with 1 Axes>"
      ]
     },
     "metadata": {
      "needs_background": "light"
     },
     "output_type": "display_data"
    }
   ],
   "source": [
    "plt.plot(train_loss, color='r', label='training')\n",
    "plt.plot(validation_loss, color='b', label='validation')\n",
    "plt.legend()\n",
    "plt.show()"
   ]
  }
 ],
 "metadata": {
  "kernelspec": {
   "display_name": "Python [conda env:data_env_tf2] *",
   "language": "python",
   "name": "conda-env-data_env_tf2-py"
  },
  "language_info": {
   "codemirror_mode": {
    "name": "ipython",
    "version": 3
   },
   "file_extension": ".py",
   "mimetype": "text/x-python",
   "name": "python",
   "nbconvert_exporter": "python",
   "pygments_lexer": "ipython3",
   "version": "3.7.10"
  }
 },
 "nbformat": 4,
 "nbformat_minor": 5
}
