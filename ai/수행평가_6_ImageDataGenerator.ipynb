{
 "cells": [
  {
   "cell_type": "markdown",
   "id": "coordinated-projection",
   "metadata": {},
   "source": [
    "# 증식을 사용안한 코드"
   ]
  },
  {
   "cell_type": "code",
   "execution_count": null,
   "id": "changing-software",
   "metadata": {},
   "outputs": [],
   "source": [
    "import os\n",
    "from tensorflow.keras.preprocessing.image import ImageDataGenerator\n",
    "import matplotlib.pyplot as plt\n",
    "\n",
    "train_dir = '../data/cat_dog_full/train'\n",
    "validation_dir = '../data/cat_dog_full/validation'\n",
    "\n",
    "# ImageDataGenerator 생성\n",
    "# train data 생성 ImageDataGenerator, validation data 생성 ImageDataGenerator 각각 생성\n",
    "# 정규화(MinMaxScaling 이용)\n",
    "train_datagen = ImageDataGenerator(rescale=1/255)\n",
    "validation_datagen = ImageDataGenerator(rescale=1/255)\n",
    "\n",
    "train_generator = train_datagen.flow_from_directory(\n",
    "    train_dir,                # target directory\n",
    "    classes=['cats', 'dogs'], # 순서대로 0,1..., classes 속성을 생략하면 폴더 순서대로 label이 결정\n",
    "    target_size=(150,150),    # 일반적으로 정방향으로 resize, CNN구조에 따라 이 값은 달라진다\n",
    "    batch_size=100,          # 한번에 500개 이미지 가져와서 변환, label에 상관 없이 가져온다\n",
    "    class_mode='binary'       # 다중분류면 categorical(default)\n",
    "                              # 'sparse도 이용가능 - onehot처리 안하고 사용\n",
    ")\n",
    "\n",
    "validation_generator = validation_datagen.flow_from_directory(\n",
    "    validation_dir,               \n",
    "    classes=['cats', 'dogs'], \n",
    "    target_size=(150,150),   \n",
    "    batch_size=100,            \n",
    "    class_mode='binary'\n",
    ")"
   ]
  },
  {
   "cell_type": "code",
   "execution_count": null,
   "id": "japanese-evaluation",
   "metadata": {},
   "outputs": [],
   "source": [
    "import numpy as np\n",
    "import tensorflow as tf\n",
    "from tensorflow.keras.models import Sequential\n",
    "from tensorflow.keras.layers import Conv2D, MaxPooling2D, Flatten, Dense, Dropout\n",
    "from tensorflow.keras.optimizers import Adam\n",
    "\n",
    "model = Sequential()\n",
    "model.add(Conv2D(filters=32, kernel_size=(3,3), \n",
    "                 activation='relu', input_shape=(150,150,3)))\n",
    "model.add(MaxPooling2D(pool_size=(2,2)))\n",
    "\n",
    "model.add(Conv2D(filters=64, kernel_size=(3,3), \n",
    "                 activation='relu'))\n",
    "model.add(MaxPooling2D(pool_size=(2,2)))\n",
    "\n",
    "model.add(Conv2D(filters=128, kernel_size=(3,3), \n",
    "                 activation='relu'))\n",
    "model.add(MaxPooling2D(pool_size=(2,2)))\n",
    "\n",
    "model.add(Conv2D(filters=128, kernel_size=(3,3), \n",
    "                 activation='relu'))\n",
    "model.add(MaxPooling2D(pool_size=(2,2)))\n",
    "\n",
    "model.add(Flatten())\n",
    "\n",
    "model.add(Dense(units=512, activation='relu'))\n",
    "model.add(Dropout(rate=0.5))\n",
    "model.add(Dense(units=1, activation='sigmoid'))\n",
    "\n",
    "print(model.summary())\n",
    "\n",
    "model.compile(optimizer=Adam(learning_rate=1e-3), \n",
    "              loss='binary_crossentropy',\n",
    "              metrics=['accuracy'])\n",
    "\n",
    "# steps_per_epoch : 몇번 뽑아야 1 epoch이 되는가\n",
    "history = model.fit(train_generator, steps_per_epoch=140, epochs=30, \n",
    "                    validation_data=validation_generator,\n",
    "                    validation_steps=60)"
   ]
  },
  {
   "cell_type": "code",
   "execution_count": null,
   "id": "behavioral-liberia",
   "metadata": {},
   "outputs": [],
   "source": [
    "# history 객체 확인\n",
    "print(history.history.keys())\n",
    "\n",
    "train_acc = history.history['accuracy']\n",
    "validation_acc = history.history['val_accuracy']\n",
    "\n",
    "train_loss = history.history['loss']\n",
    "validation_loss = history.history['val_loss']\n",
    "\n",
    "plt.plot(train_loss, color='r', label='training')\n",
    "plt.plot(validation_loss, color='b', label='validation')\n",
    "plt.legend()\n",
    "plt.show()"
   ]
  }
 ],
 "metadata": {
  "kernelspec": {
   "display_name": "Python [conda env:data_env_tf2] *",
   "language": "python",
   "name": "conda-env-data_env_tf2-py"
  },
  "language_info": {
   "codemirror_mode": {
    "name": "ipython",
    "version": 3
   },
   "file_extension": ".py",
   "mimetype": "text/x-python",
   "name": "python",
   "nbconvert_exporter": "python",
   "pygments_lexer": "ipython3",
   "version": "3.7.10"
  }
 },
 "nbformat": 4,
 "nbformat_minor": 5
}
