{
 "cells": [
  {
   "cell_type": "markdown",
   "metadata": {},
   "source": [
    "- BMI 예제"
   ]
  },
  {
   "cell_type": "code",
   "execution_count": 1,
   "metadata": {},
   "outputs": [],
   "source": [
    "import numpy as np\n",
    "import pandas as pd\n",
    "import tensorflow as tf\n",
    "import matplotlib.pyplot as plt\n",
    "from scipy import stats\n",
    "from sklearn.preprocessing import MinMaxScaler\n",
    "from sklearn.model_selection import KFold\n",
    "from sklearn.model_selection import train_test_split"
   ]
  },
  {
   "cell_type": "code",
   "execution_count": 2,
   "metadata": {},
   "outputs": [
    {
     "name": "stdout",
     "output_type": "stream",
     "text": [
      "label     0\n",
      "height    0\n",
      "weight    0\n",
      "dtype: int64\n"
     ]
    },
    {
     "data": {
      "image/png": "[encoded data removed]",
      "text/plain": [
       "<Figure size 432x288 with 3 Axes>"
      ]
     },
     "metadata": {
      "needs_background": "light"
     },
     "output_type": "display_data"
    }
   ],
   "source": [
    "df = pd.read_csv('../data/bmi/bmi.csv', skiprows=3)\n",
    "\n",
    "# 결측치 확인\n",
    "print(df.isnull().sum())\n",
    "\n",
    "# 이상치 확인fat\n",
    "fig = plt.figure()\n",
    "\n",
    "fig_1 = fig.add_subplot(1,3,1)\n",
    "fig_2 = fig.add_subplot(1,3,2)\n",
    "fig_3 = fig.add_subplot(1,3,3)\n",
    "\n",
    "fig_1.boxplot(df['label'])\n",
    "fig_2.boxplot(df['height'])\n",
    "fig_3.boxplot(df['height'])\n",
    "\n",
    "fig.tight_layout()\n",
    "plt.show() # 이상치 없음"
   ]
  },
  {
   "cell_type": "code",
   "execution_count": 3,
   "metadata": {},
   "outputs": [],
   "source": [
    "# training, test data set\n",
    "x_data_train, x_data_test, t_data_train, t_data_test = \\\n",
    "train_test_split(df[['height', 'weight']],df['label'], \n",
    "                 test_size=0.3, random_state=0)\n",
    "\n",
    "# 정규화\n",
    "scaler = MinMaxScaler()\n",
    "scaler.fit(x_data_train)\n",
    "x_data_train_norm = scaler.transform(x_data_train)\n",
    "x_data_test_norm = scaler.transform(x_data_test)\n",
    "\n",
    "# 혼동을 줄이기 위해 변수 삭제\n",
    "del x_data_train\n",
    "del x_data_test\n",
    "\n",
    "# One-Hot Encoding with tensorflow\n",
    "sess = tf.Session()\n",
    "t_data_train_onehot = sess.run(tf.one_hot(t_data_train, depth=3))\n",
    "t_data_test_onehot = sess.run(tf.one_hot(t_data_test, depth=3))\n",
    "\n",
    "del t_data_train\n",
    "del t_data_test"
   ]
  },
  {
   "cell_type": "code",
   "execution_count": 6,
   "metadata": {},
   "outputs": [],
   "source": [
    "# placeholder\n",
    "X = tf.placeholder(shape=[None,2], dtype=tf.float32)\n",
    "T = tf.placeholder(shape=[None,3], dtype=tf.float32)\n",
    "\n",
    "# Weight & bias\n",
    "W = tf.Variable(tf.random.normal([2,3]), name='weight')\n",
    "b = tf.Variable(tf.random.normal([3]), name='bias')\n",
    "\n",
    "# Hypothesis\n",
    "logit = tf.matmul(X,W) + b\n",
    "H = tf.nn.softmax(logit)\n",
    "\n",
    "# loss function\n",
    "loss = tf.reduce_mean(tf.nn.softmax_cross_entropy_with_logits_v2(logits=logit,\n",
    "                                                                 labels=T))\n",
    "\n",
    "# train\n",
    "train = tf.train.GradientDescentOptimizer(learning_rate=0.1).minimize(loss)\n",
    "\n",
    "# 초기화\n",
    "sess.run(tf.global_variables_initializer())"
   ]
  },
  {
   "cell_type": "code",
   "execution_count": 7,
   "metadata": {},
   "outputs": [
    {
     "name": "stdout",
     "output_type": "stream",
     "text": [
      "loss:1.34272301197052\n",
      "loss:0.30207139253616333\n",
      "학습 결과 : 0.9796443111206342\n",
      "loss:0.23830866813659668\n",
      "loss:0.20567791163921356\n",
      "학습 결과 : 0.9820012856224556\n",
      "loss:0.18480150401592255\n",
      "loss:0.1705883890390396\n",
      "학습 결과 : 0.9783540505786541\n",
      "최종 Accuracy : 0.9799998824405813\n"
     ]
    }
   ],
   "source": [
    "# trianing과 validatiaon 분리해서 학습진행\n",
    "cv = 3\n",
    "acc_list = []\n",
    "\n",
    "kf = KFold(n_splits=cv, shuffle=True)\n",
    "\n",
    "for train_idx, val_idx in kf.split(x_data_train_norm):\n",
    "    training_x = x_data_train_norm[train_idx]\n",
    "    training_t = t_data_train_onehot[train_idx]\n",
    "    \n",
    "    val_x = x_data_train_norm[val_idx]\n",
    "    val_t = t_data_train_onehot[val_idx]\n",
    "    \n",
    "    # learning\n",
    "    for step in range(10000):\n",
    "        _, loss_val = sess.run([train,loss], \n",
    "                               feed_dict={X : training_x, T : training_t })\n",
    "\n",
    "        if step % 5000 == 0:\n",
    "            print('loss:{}'.format(loss_val))\n",
    "    \n",
    "    # prediction\n",
    "    result = sess.run(H, feed_dict={X: val_x})\n",
    "    accuracy_list = np.equal(result.argmax(axis=1), val_t.argmax(axis=1))\n",
    "    acc_list.append(accuracy_list.sum()/len(accuracy_list))\n",
    "    \n",
    "    print('학습 결과 : {}'.format(accuracy_list.sum()/len(accuracy_list)))\n",
    "    \n",
    "acc_list = np.array(acc_list)\n",
    "print('최종 Accuracy : {}'.format(acc_list .mean()))"
   ]
  },
  {
   "cell_type": "code",
   "execution_count": 8,
   "metadata": {},
   "outputs": [
    {
     "name": "stdout",
     "output_type": "stream",
     "text": [
      "학습 결과 : 0.9841666666666666\n"
     ]
    }
   ],
   "source": [
    "result_pred = sess.run(H, feed_dict={X: x_data_test_norm})\n",
    "pred_list = np.equal(result_pred.argmax(axis=1), t_data_test_onehot.argmax(axis=1))\n",
    "\n",
    "print('학습 결과 : {}'.format(pred_list.sum()/len(pred_list)))"
   ]
  },
  {
   "cell_type": "markdown",
   "metadata": {},
   "source": [
    "- [argmax()](https://numpy.org/doc/stable/reference/generated/numpy.argmax.html#numpy.argmax): 최대값의 index 반환\n",
    "- [equal()](https://numpy.org/doc/stable/reference/generated/numpy.equal.html?highlight=equal) : ndarray 비교\n",
    "- [array_split()](https://numpy.org/doc/stable/reference/generated/numpy.array_split.html#numpy.array_split) : ndarray 분할"
   ]
  }
 ],
 "metadata": {
  "kernelspec": {
   "display_name": "Python [conda env:data_env] *",
   "language": "python",
   "name": "conda-env-data_env-py"
  },
  "language_info": {
   "codemirror_mode": {
    "name": "ipython",
    "version": 3
   },
   "file_extension": ".py",
   "mimetype": "text/x-python",
   "name": "python",
   "nbconvert_exporter": "python",
   "pygments_lexer": "ipython3",
   "version": "3.7.9"
  }
 },
 "nbformat": 4,
 "nbformat_minor": 4
}
