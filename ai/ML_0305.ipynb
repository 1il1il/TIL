{
 "cells": [
  {
   "cell_type": "code",
   "execution_count": null,
   "metadata": {},
   "outputs": [],
   "source": [
    "# Titanic 구현\n",
    "import numpy as np\n",
    "import pandas as pd\n",
    "import tensorflow as tf"
   ]
  },
  {
   "cell_type": "code",
   "execution_count": null,
   "metadata": {},
   "outputs": [],
   "source": [
    "df = pd.read_csv('../data/titanic/train.csv')\n",
    "\n",
    "# 학습에 필요없는 columns 삭제\n",
    "df.drop(['PassengerId', 'Name', 'Ticket', 'Fare', 'Cabin'], axis=1, inplace=True)\n",
    "\n",
    "# 데이터 전처리\n",
    "# 1. 성별 전처리\n",
    "gender_mapping = {'male': 0, 'female': 1}\n",
    "df['Sex'] = df['Sex'].map(gender_mapping)\n",
    "\n",
    "# 2. SibSp, Parch 하나로 합치기\n",
    "df[\"family\"] = df['SibSp'] + df['Parch']\n",
    "df.drop(['SibSp', 'Parch'], axis=1, inplace=True)\n",
    "\n",
    "# 3. 결측치 확인\n",
    "df.isnull().sum()\n",
    "\n",
    "# 3-1 Embarked 결측치 처리, Q로 채우기\n",
    "df['Embarked'] = df['Embarked'].fillna('Q')\n",
    "\n",
    "# 문자 - 숫자로 변경\n",
    "Embarked_mapping = {'S':0, 'C':1, 'Q':2}\n",
    "df['Embarked'] = df['Embarked'].map(Embarked_mapping)\n",
    "\n",
    "# 3-2 Age 결측치 처리, 평균으로\n",
    "df['Age'] = df['Age'].fillna(df['Age'].mean())\n",
    "\n",
    "# 범주형 데이터로 변환(binning)\n",
    "df.loc[df['Age'] < 8, 'Age'] = 0  # 8살 미만 0\n",
    "df.loc[(df['Age'] < 20) & (df['Age'] >= 8), 'Age'] = 1  # 8-20살 1\n",
    "df.loc[(df['Age'] < 65) & (df['Age'] >= 20), 'Age'] = 2  # 20-65 2\n",
    "df.loc[df['Age'] >= 65, 'Age'] = 3  # 65이상 3\n",
    "\n",
    "# 4. 정규화 이미 어느정도 되서 넘어감\n",
    "\n",
    "# 5. trian & validation, 7:3으로 나누기\n",
    "train_data = df.iloc[:int(df.shape[0] * 0.7)]\n",
    "val_data = df.iloc[int(df.shape[0] * 0.7):]\n",
    "\n",
    "# 6-1. Train Data Set\n",
    "train_x_data = train_data.drop(['Survived'], axis=1, inplace=False).values\n",
    "train_t_data = train_data['Survived'].values.reshape(-1,1)\n",
    "\n",
    "# 6-2. Validation Data Set\n",
    "val_x_data = val_data.drop(['Survived'], axis=1, inplace=False).values\n",
    "val_t_data = val_data['Survived'].values.reshape(-1,1)"
   ]
  },
  {
   "cell_type": "code",
   "execution_count": null,
   "metadata": {},
   "outputs": [],
   "source": [
    "# Tensorflow\n",
    "\n",
    "# placeholder\n",
    "X = tf.placeholder(shape=[None,5], dtype=tf.float32)\n",
    "T = tf.placeholder(shape=[None,1], dtype=tf.float32)\n",
    "\n",
    "# W & b\n",
    "W = tf.Variable(tf.random.normal([5,1]), name='weight')\n",
    "b = tf.Variable(tf.random.normal([1]), name='weight')\n",
    "\n",
    "# H\n",
    "logit = tf.matmul(X, W) + b\n",
    "H = tf.sigmoid(logit)\n",
    "\n",
    "# loss\n",
    "loss = tf.reduce_mean(tf.nn.sigmoid_cross_entropy_with_logits(logits=logit, \n",
    "                                                              labels=T))\n",
    "\n",
    "# train\n",
    "train = tf.train.GradientDescentOptimizer(learning_rate=1e-4).minimize(loss)\n",
    "\n",
    "# session\n",
    "sess = tf.Session()\n",
    "sess.run(tf.global_variables_initializer())"
   ]
  },
  {
   "cell_type": "code",
   "execution_count": null,
   "metadata": {},
   "outputs": [],
   "source": [
    "# learning\n",
    "for step in range(300000):\n",
    "    _,W_val,b_val,loss_val = sess.run([train,W,b,loss], \n",
    "                                      feed_dict={X: train_x_data, T: train_t_data})\n",
    "    if step % 30000 == 0:\n",
    "        print('W:{},b:{},loss:{}'.format(W_val,b_val,loss_val))"
   ]
  },
  {
   "cell_type": "code",
   "execution_count": null,
   "metadata": {},
   "outputs": [],
   "source": [
    "# 정확도 측정 \n",
    "# predict용 node\n",
    "predict = tf.cast(H > 0.5, dtype=tf.float32)\n",
    "\n",
    "# predict와 val_t_data와 비교\n",
    "correct = tf.equal(predict, T)\n",
    "\n",
    "# 정확도 계산 node\n",
    "accuracy = tf.reduce_mean(tf.cast(correct, dtype=tf.float32))\n",
    "\n",
    "accuracy_val = sess.run(accuracy, feed_dict={X: val_x_data, T:val_t_data})\n",
    "print('Model의 정확도 : {}'.format(accuracy_val))"
   ]
  },
  {
   "cell_type": "markdown",
   "metadata": {},
   "source": [
    "- BMI 예제"
   ]
  },
  {
   "cell_type": "code",
   "execution_count": 1,
   "metadata": {},
   "outputs": [
    {
     "name": "stdout",
     "output_type": "stream",
     "text": [
      "Once deleted, variables cannot be recovered. Proceed (y/[n])? y\n"
     ]
    }
   ],
   "source": [
    "%reset"
   ]
  },
  {
   "cell_type": "code",
   "execution_count": 1,
   "metadata": {},
   "outputs": [],
   "source": [
    "import numpy as np\n",
    "import pandas as pd\n",
    "import tensorflow as tf\n",
    "import matplotlib.pyplot as plt\n",
    "from scipy import stats\n",
    "from sklearn.preprocessing import MinMaxScaler"
   ]
  },
  {
   "cell_type": "code",
   "execution_count": 2,
   "metadata": {},
   "outputs": [
    {
     "data": {
      "image/png": "[encoded data removed]",
      "text/plain": [
       "<Figure size 432x288 with 3 Axes>"
      ]
     },
     "metadata": {
      "needs_background": "light"
     },
     "output_type": "display_data"
    }
   ],
   "source": [
    "df = pd.read_csv('../data/bmi/bmi.csv', skiprows=3)\n",
    "\n",
    "# 결측치 확인\n",
    "df.isnull().sum()\n",
    "\n",
    "# 이상치 확인fat\n",
    "fig = plt.figure()\n",
    "\n",
    "fig_1 = fig.add_subplot(1,3,1)\n",
    "fig_2 = fig.add_subplot(1,3,2)\n",
    "fig_3 = fig.add_subplot(1,3,3)\n",
    "\n",
    "fig_1.boxplot(df['label'])\n",
    "fig_2.boxplot(df['height'])\n",
    "fig_3.boxplot(df['height'])\n",
    "\n",
    "fig.tight_layout()\n",
    "plt.show() # 이상치 없음"
   ]
  },
  {
   "cell_type": "code",
   "execution_count": 3,
   "metadata": {},
   "outputs": [],
   "source": [
    "# training data set\n",
    "x_data = df[['height', 'height']].values.reshape(-1,2)\n",
    "t_data = df['label'].values.reshape(-1,1) # One-Hot Encoding 추가 적용해야함\n",
    "\n",
    "# 정규화\n",
    "scaler_x = MinMaxScaler()\n",
    "scaler_x.fit(x_data)\n",
    "norm_x_data = scaler_x.transform(x_data)\n",
    "\n",
    "# One-Hot Encoding with tensorflow\n",
    "sess = tf.Session()\n",
    "\n",
    "# one_hot(data, depth(label의 종류))\n",
    "norm_t_data = sess.run(tf.one_hot(t_data, depth=3)).reshape(-1,3)"
   ]
  },
  {
   "cell_type": "code",
   "execution_count": 10,
   "metadata": {},
   "outputs": [],
   "source": [
    "# trian test split\n",
    "train_x_data = norm_x_data[:int(norm_x_data.shape[0]*0.7)]\n",
    "train_t_data = norm_t_data[:int(norm_t_data.shape[0]*0.7)]\n",
    "\n",
    "test_x_data = norm_x_data[int(norm_x_data.shape[0]*0.7):]\n",
    "test_t_data = norm_t_data[int(norm_t_data.shape[0]*0.7):]"
   ]
  },
  {
   "cell_type": "code",
   "execution_count": 4,
   "metadata": {},
   "outputs": [],
   "source": [
    "# placeholder\n",
    "X = tf.placeholder(shape=[None,2], dtype=tf.float32)\n",
    "T = tf.placeholder(shape=[None,3], dtype=tf.float32)\n",
    "\n",
    "# W & b\n",
    "W = tf.Variable(tf.random.normal([2,3]))\n",
    "b = tf.Variable(tf.random.normal([3]))\n",
    "\n",
    "# Hypothesis\n",
    "logit = tf.matmul(X, W) + b\n",
    "H = tf.nn.softmax(logit)\n",
    "\n",
    "# loss\n",
    "loss = tf.reduce_mean(tf.nn.softmax_cross_entropy_with_logits_v2(logits=logit, \n",
    "                                                                 labels=T))\n",
    "\n",
    "# train\n",
    "train = tf.train.GradientDescentOptimizer(learning_rate=1e-4).minimize(loss)\n",
    "\n",
    "# 초기화\n",
    "sess.run(tf.global_variables_initializer())"
   ]
  },
  {
   "cell_type": "code",
   "execution_count": 53,
   "metadata": {},
   "outputs": [
    {
     "name": "stdout",
     "output_type": "stream",
     "text": [
      "W:[[-2.2523468  -0.20692527 -0.9655102 ]\n",
      " [ 0.8849381   0.99544483  1.119509  ]],b:[ 0.589837   -0.7967857  -0.39243087],loss:1.2540440559387207\n",
      "W:[[-2.0316021  -0.23001924 -1.1631815 ]\n",
      " [ 1.1057042   0.9723495   0.92186135]],b:[ 0.37082666 -0.79360753 -0.17658113],loss:1.1635234355926514\n",
      "W:[[-1.8389592  -0.24512987 -1.3406895 ]\n",
      " [ 1.2983546   0.9572655   0.7443041 ]],b:[ 0.17038296 -0.7842431   0.01452813],loss:1.0919276475906372\n",
      "W:[[-1.6697133  -0.25519422 -1.4998682 ]\n",
      " [ 1.4676006   0.9471142   0.58511406]],b:[-0.00960633 -0.7720262   0.18223377],loss:1.0355747938156128\n",
      "W:[[-1.5204158  -0.26189157 -1.6425214 ]\n",
      " [ 1.6168981   0.94055575  0.44247094]],b:[-0.17072424 -0.75774926  0.32941478],loss:0.9911226034164429\n",
      "W:[[-1.3880682  -0.26618725 -1.7705615 ]\n",
      " [ 1.7492456   0.93629766  0.3143831 ]],b:[-0.31538126 -0.7429554   0.45907566],loss:0.9558006525039673\n",
      "W:[[-1.2698646  -0.26911205 -1.8859512 ]\n",
      " [ 1.8674493   0.9333914   0.19904803]],b:[-0.44570118 -0.7269682   0.57413155],loss:0.9274259805679321\n",
      "W:[[-1.1637092  -0.27101114 -1.9902047 ]\n",
      " [ 1.9736047   0.93160325  0.09473801]],b:[-0.56373996 -0.71144295  0.6769859 ],loss:0.9043854475021362\n",
      "W:[[-1.0676357e+00 -2.7208778e-01 -2.0852592e+00]\n",
      " [ 2.0695221e+00  9.3000144e-01 -8.9123663e-05]],b:[-0.67141044 -0.6964727   0.7693917 ],loss:0.8854387402534485\n",
      "W:[[-0.9804589  -0.27298185 -2.1720145 ]\n",
      " [ 2.1569283   0.93000144 -0.08672319]],b:[-0.7699965  -0.6821676   0.85300744],loss:0.8696980476379395\n"
     ]
    }
   ],
   "source": [
    "for step in range(300000):\n",
    "    _,W_val,b_val,loss_val = sess.run([train,W,b,loss], \n",
    "                                      feed_dict={X : train_x_data, T : train_t_data })\n",
    "    \n",
    "    if step % 30000 == 0:\n",
    "        print('W:{},b:{},loss:{}'.format(W_val,b_val,loss_val))"
   ]
  },
  {
   "cell_type": "code",
   "execution_count": 54,
   "metadata": {},
   "outputs": [
    {
     "name": "stdout",
     "output_type": "stream",
     "text": [
      "[2 0 2 ... 2 0 2]\n",
      "[0 1 2 ... 1 1 1]\n",
      "0.6183333333333333\n"
     ]
    }
   ],
   "source": [
    "# prediction\n",
    "result = sess.run(H, feed_dict={X: test_x_data})\n",
    "\n",
    "# 모델의 값\n",
    "print(result.argmax(axis=1))\n",
    "\n",
    "# 실제 값\n",
    "print(test_t_data.argmax(axis=1))\n",
    "\n",
    "accuracy_list = np.equal(result.argmax(axis=1), test_t_data.argmax(axis=1))\n",
    "\n",
    "print(accuracy_list.sum()/len(accuracy_list))"
   ]
  },
  {
   "cell_type": "markdown",
   "metadata": {},
   "source": [
    "- [argmax()](https://numpy.org/doc/stable/reference/generated/numpy.argmax.html#numpy.argmax): 최대값의 index 반환\n",
    "- [equal()](https://numpy.org/doc/stable/reference/generated/numpy.equal.html?highlight=equal) : ndarray 비교"
   ]
  }
 ],
 "metadata": {
  "kernelspec": {
   "display_name": "Python [conda env:data_env] *",
   "language": "python",
   "name": "conda-env-data_env-py"
  },
  "language_info": {
   "codemirror_mode": {
    "name": "ipython",
    "version": 3
   },
   "file_extension": ".py",
   "mimetype": "text/x-python",
   "name": "python",
   "nbconvert_exporter": "python",
   "pygments_lexer": "ipython3",
   "version": "3.7.9"
  }
 },
 "nbformat": 4,
 "nbformat_minor": 4
}
