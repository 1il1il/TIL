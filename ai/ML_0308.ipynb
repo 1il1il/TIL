{
 "cells": [
  {
   "cell_type": "code",
   "execution_count": 1,
   "metadata": {},
   "outputs": [],
   "source": [
    "# Multinomial Classification\n",
    "# BMI 예제\n",
    "\n",
    "import numpy as np\n",
    "import pandas as pd\n",
    "import tensorflow as tf\n",
    "from sklearn.preprocessing import MinMaxScaler # Normalization\n",
    "from sklearn.model_selection import train_test_split # train, test 분리\n",
    "from sklearn.model_selection import KFold # Cross Validation\n",
    "\n",
    "# test data set은 우리 모델의 최종 accuracy를 측정하기 위해서 사용\n",
    "# train data set은 K-Fold Cross Validation을 이용해서 내부적인 평가를 진행"
   ]
  },
  {
   "cell_type": "code",
   "execution_count": 2,
   "metadata": {},
   "outputs": [
    {
     "data": {
      "text/html": [
       "<div>\n",
       "<style scoped>\n",
       "    .dataframe tbody tr th:only-of-type {\n",
       "        vertical-align: middle;\n",
       "    }\n",
       "\n",
       "    .dataframe tbody tr th {\n",
       "        vertical-align: top;\n",
       "    }\n",
       "\n",
       "    .dataframe thead th {\n",
       "        text-align: right;\n",
       "    }\n",
       "</style>\n",
       "<table border=\"1\" class=\"dataframe\">\n",
       "  <thead>\n",
       "    <tr style=\"text-align: right;\">\n",
       "      <th></th>\n",
       "      <th>label</th>\n",
       "      <th>height</th>\n",
       "      <th>weight</th>\n",
       "    </tr>\n",
       "  </thead>\n",
       "  <tbody>\n",
       "    <tr>\n",
       "      <th>label</th>\n",
       "      <td>1.000000</td>\n",
       "      <td>-0.720943</td>\n",
       "      <td>0.547936</td>\n",
       "    </tr>\n",
       "    <tr>\n",
       "      <th>height</th>\n",
       "      <td>-0.720943</td>\n",
       "      <td>1.000000</td>\n",
       "      <td>0.000862</td>\n",
       "    </tr>\n",
       "    <tr>\n",
       "      <th>weight</th>\n",
       "      <td>0.547936</td>\n",
       "      <td>0.000862</td>\n",
       "      <td>1.000000</td>\n",
       "    </tr>\n",
       "  </tbody>\n",
       "</table>\n",
       "</div>"
      ],
      "text/plain": [
       "           label    height    weight\n",
       "label   1.000000 -0.720943  0.547936\n",
       "height -0.720943  1.000000  0.000862\n",
       "weight  0.547936  0.000862  1.000000"
      ]
     },
     "metadata": {},
     "output_type": "display_data"
    },
    {
     "name": "stdout",
     "output_type": "stream",
     "text": [
      "label     0\n",
      "height    0\n",
      "weight    0\n",
      "dtype: int64\n"
     ]
    }
   ],
   "source": [
    "# Raw Data\n",
    "df = pd.read_csv('../data/bmi/bmi.csv', skiprows=3)\n",
    "\n",
    "# 상관분석\n",
    "# 종속변수에 영향을 미치지 않는 feature(속성, 필드)를 제외하기 위해서\n",
    "display(df.corr())\n",
    "\n",
    "# 결측치 확인\n",
    "# 결측치 있다면 다른 값으로 대채할 필요가 있다 > KNN으로 처리 해보자\n",
    "print(df.isnull().sum())\n",
    "\n",
    "# 이상치 확인\n",
    "# boxplot과 같은 graph를 이용해서 눈으로 확인\n",
    "# turkey fense나 z-score방식으로 이상치를 찾아내고 처리하면 된다\n",
    "# 이 data엔 이상치가 없다\n",
    "\n",
    "# Data Split (Train, Test로 Split)\n",
    "# train_test_split(X_Data, T_Data, 분할할 크기, random의 seed 지정)\n",
    "# return은 x_data_train, x_data_test, t_data_train, t_data_test\n",
    "x_data_train, x_data_test, t_data_train, t_data_test = train_test_split(df[['height','weight']], df['label'], \n",
    "                                                                        test_size=0.3, random_state=0)\n",
    "\n",
    "# Normalization\n",
    "scaler = MinMaxScaler()\n",
    "scaler.fit(x_data_train)\n",
    "x_data_train_norm = scaler.transform(x_data_train)\n",
    "x_data_test_norm = scaler.transform(x_data_test)\n",
    "\n",
    "# 혼동을 줄이기 위해 변수 삭제\n",
    "del x_data_train\n",
    "del x_data_test\n",
    "\n",
    "# Tensorflow 구현\n",
    "sess = tf.Session()\n",
    "t_data_train_onehot = sess.run(tf.one_hot(t_data_train, depth=3))\n",
    "t_data_test_onehot = sess.run(tf.one_hot(t_data_test, depth=3))\n",
    "\n",
    "del t_data_train\n",
    "del t_data_test"
   ]
  },
  {
   "cell_type": "code",
   "execution_count": 10,
   "metadata": {},
   "outputs": [],
   "source": [
    "# placeholder\n",
    "X = tf.placeholder(shape=[None,2], dtype=tf.float32)\n",
    "T = tf.placeholder(shape=[None,3], dtype=tf.float32)\n",
    "\n",
    "# W & b\n",
    "W = tf.Variable(tf.random.normal([2,3]), name='weight')\n",
    "b = tf.Variable(tf.random.normal([3]), name='bias')\n",
    "\n",
    "# Hypothesis\n",
    "logit = tf.matmul(X, W) + b\n",
    "H = tf.nn.softmax(logit) # softmax activation function\n",
    "\n",
    "# loss function\n",
    "loss = tf.reduce_mean(tf.nn.softmax_cross_entropy_with_logits_v2(logits=logit, \n",
    "                                                                 labels=T))\n",
    "\n",
    "# train\n",
    "train = tf.train.GradientDescentOptimizer(learning_rate=0.1).minimize(loss)"
   ]
  },
  {
   "cell_type": "code",
   "execution_count": 11,
   "metadata": {},
   "outputs": [],
   "source": [
    "# parameter\n",
    "num_of_epoch = 1000\n",
    "batch_size = 100\n",
    "# 한번에 최대한 많은 양의 데이터를 넣는게 좋긴하다\n",
    "\n",
    "# learning\n",
    "\n",
    "# 학습용 함수\n",
    "def run_train(sess, train_x, train_t):\n",
    "    print('### 학습 시작 ###')\n",
    "    # 초기화\n",
    "    sess.run(tf.global_variables_initializer())\n",
    "    \n",
    "    for step in range(num_of_epoch):\n",
    "        total_batch = int(train_x.shape[0] / 100)\n",
    "        \n",
    "        for i in range(total_batch):\n",
    "            batch_x = train_x[i*batch_size:(i+1)*batch_size]\n",
    "            batch_t = train_t[i*batch_size:(i+1)*batch_size]\n",
    "            \n",
    "            _, loss_val = sess.run([train,loss], \n",
    "                                   feed_dict={X: batch_x, T: batch_t})\n",
    "            \n",
    "        if step % 100 == 0:\n",
    "            print('loss : {}'.format(loss_val))\n",
    "    print('### 학습 종료 ###')\n",
    "    \n",
    "\n",
    "# Accuracy 측정\n",
    "predict = tf.argmax(H, 1)\n",
    "correct = tf.equal(predict, tf.argmax(T, 1))\n",
    "accuracy = tf.reduce_mean(tf.cast(correct, dtype=tf.float32))"
   ]
  },
  {
   "cell_type": "code",
   "execution_count": 15,
   "metadata": {},
   "outputs": [
    {
     "name": "stdout",
     "output_type": "stream",
     "text": [
      "### 학습 시작 ###\n",
      "loss : 0.8810501098632812\n",
      "loss : 0.2056102156639099\n",
      "loss : 0.1624435931444168\n",
      "loss : 0.1428009271621704\n",
      "loss : 0.13101722300052643\n",
      "loss : 0.1229536160826683\n",
      "loss : 0.11698774248361588\n",
      "loss : 0.11233947426080704\n",
      "loss : 0.1085815355181694\n",
      "loss : 0.10545788705348969\n",
      "### 학습 종료 ###\n",
      "### Trainin Data Set을 이용하여 성능평가 ###\n",
      "Accuracy : 0.9827142953872681\n"
     ]
    }
   ],
   "source": [
    "# 학습 진행\n",
    "run_train(sess, x_data_train_norm, t_data_train_onehot)\n",
    "\n",
    "# Trainin Data Set을 이용하여 성능평가\n",
    "\n",
    "print('### Trainin Data Set을 이용하여 성능평가 ###')\n",
    "result = sess.run(accuracy, \n",
    "                  feed_dict={X: x_data_train_norm, T: t_data_train_onehot})\n",
    "print('Accuracy : {}'.format(result))"
   ]
  },
  {
   "cell_type": "code",
   "execution_count": 16,
   "metadata": {},
   "outputs": [
    {
     "name": "stdout",
     "output_type": "stream",
     "text": [
      "### Test Data Set을 이용하여 성능평가 ###\n",
      "Accuracy : 0.9829999804496765\n"
     ]
    }
   ],
   "source": [
    "# Test Data Set을 이용하여 성능평가\n",
    "print('### Test Data Set을 이용하여 성능평가 ###')\n",
    "result_t = sess.run(accuracy, \n",
    "                  feed_dict={X: x_data_test_norm, T: t_data_test_onehot})\n",
    "print('Accuracy : {}'.format(result_t))"
   ]
  },
  {
   "cell_type": "code",
   "execution_count": null,
   "metadata": {},
   "outputs": [],
   "source": []
  }
 ],
 "metadata": {
  "kernelspec": {
   "display_name": "Python [conda env:data_env] *",
   "language": "python",
   "name": "conda-env-data_env-py"
  },
  "language_info": {
   "codemirror_mode": {
    "name": "ipython",
    "version": 3
   },
   "file_extension": ".py",
   "mimetype": "text/x-python",
   "name": "python",
   "nbconvert_exporter": "python",
   "pygments_lexer": "ipython3",
   "version": "3.7.9"
  }
 },
 "nbformat": 4,
 "nbformat_minor": 4
}
