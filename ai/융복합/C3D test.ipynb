{
 "cells": [
  {
   "cell_type": "code",
   "execution_count": null,
   "id": "precious-lincoln",
   "metadata": {},
   "outputs": [],
   "source": [
    "# 학습데이터 정제\n",
    "# 임의의 프레임 추출코드 - 항목마다 전체 이미지 갯수가 다르다\n",
    "\n",
    "# 추출한 이미지로 ndarray"
   ]
  },
  {
   "cell_type": "code",
   "execution_count": 1,
   "id": "continental-lincoln",
   "metadata": {},
   "outputs": [
    {
     "name": "stdout",
     "output_type": "stream",
     "text": [
      "Model: \"sequential\"\n",
      "_________________________________________________________________\n",
      "Layer (type)                 Output Shape              Param #   \n",
      "=================================================================\n",
      "conv3d (Conv3D)              (None, 112, 112, 20, 64)  5248      \n",
      "_________________________________________________________________\n",
      "max_pooling3d (MaxPooling3D) (None, 56, 56, 20, 64)    0         \n",
      "_________________________________________________________________\n",
      "conv3d_1 (Conv3D)            (None, 56, 56, 20, 128)   221312    \n",
      "_________________________________________________________________\n",
      "max_pooling3d_1 (MaxPooling3 (None, 28, 28, 10, 128)   0         \n",
      "_________________________________________________________________\n",
      "conv3d_2 (Conv3D)            (None, 28, 28, 10, 256)   884992    \n",
      "_________________________________________________________________\n",
      "conv3d_3 (Conv3D)            (None, 28, 28, 10, 256)   1769728   \n",
      "_________________________________________________________________\n",
      "max_pooling3d_2 (MaxPooling3 (None, 14, 14, 5, 256)    0         \n",
      "_________________________________________________________________\n",
      "conv3d_4 (Conv3D)            (None, 14, 14, 5, 512)    3539456   \n",
      "_________________________________________________________________\n",
      "conv3d_5 (Conv3D)            (None, 14, 14, 5, 512)    7078400   \n",
      "_________________________________________________________________\n",
      "max_pooling3d_3 (MaxPooling3 (None, 7, 7, 3, 512)      0         \n",
      "_________________________________________________________________\n",
      "conv3d_6 (Conv3D)            (None, 7, 7, 3, 512)      7078400   \n",
      "_________________________________________________________________\n",
      "conv3d_7 (Conv3D)            (None, 7, 7, 3, 512)      7078400   \n",
      "_________________________________________________________________\n",
      "max_pooling3d_4 (MaxPooling3 (None, 4, 4, 2, 512)      0         \n",
      "_________________________________________________________________\n",
      "flatten (Flatten)            (None, 16384)             0         \n",
      "_________________________________________________________________\n",
      "dense (Dense)                (None, 4096)              67112960  \n",
      "_________________________________________________________________\n",
      "dense_1 (Dense)              (None, 4096)              16781312  \n",
      "_________________________________________________________________\n",
      "dense_2 (Dense)              (None, 10)                40970     \n",
      "=================================================================\n",
      "Total params: 111,591,178\n",
      "Trainable params: 111,591,178\n",
      "Non-trainable params: 0\n",
      "_________________________________________________________________\n"
     ]
    }
   ],
   "source": [
    "# 모델 작성\n",
    "\n",
    "from tensorflow.keras.models import Sequential\n",
    "from tensorflow.keras.layers import Dense,Dropout,Conv3D, MaxPool3D,Flatten, Activation, BatchNormalization\n",
    "from tensorflow.keras.regularizers import l2\n",
    "\n",
    "input_shape = (112,112,30,3)\n",
    "weight_decay = 0.005\n",
    "\n",
    "model = Sequential()\n",
    "model.add(Conv3D(64,(3,3,3), strides=(1,1,1), padding='same',\n",
    "                 activation='relu', kernel_regularizer=l2(weight_decay),\n",
    "                 input_shape=(112,112,20,3)))\n",
    "model.add(MaxPool3D((2,2,1),strides=(2,2,1),padding='same'))\n",
    "\n",
    "model.add(Conv3D(128,(3,3,3), strides=(1,1,1), padding='same',\n",
    "                 activation='relu', kernel_regularizer=l2(weight_decay)))\n",
    "model.add(MaxPool3D((2,2,2),strides=(2,2,2),padding='same'))\n",
    "\n",
    "model.add(Conv3D(256,(3,3,3), strides=(1,1,1), padding='same',\n",
    "                 activation='relu', kernel_regularizer=l2(weight_decay)))\n",
    "model.add(Conv3D(256,(3,3,3), strides=(1,1,1), padding='same',\n",
    "                 activation='relu', kernel_regularizer=l2(weight_decay)))\n",
    "model.add(MaxPool3D((2,2,2),strides=(2,2,2),padding='same'))\n",
    "\n",
    "model.add(Conv3D(512,(3,3,3), strides=(1,1,1), padding='same',\n",
    "                 activation='relu', kernel_regularizer=l2(weight_decay)))\n",
    "model.add(Conv3D(512,(3,3,3), strides=(1,1,1), padding='same',\n",
    "                 activation='relu', kernel_regularizer=l2(weight_decay)))\n",
    "model.add(MaxPool3D((2,2,2),strides=(2,2,2),padding='same'))\n",
    "\n",
    "model.add(Conv3D(512,(3,3,3), strides=(1,1,1), padding='same',\n",
    "                 activation='relu', kernel_regularizer=l2(weight_decay)))\n",
    "model.add(Conv3D(512,(3,3,3), strides=(1,1,1), padding='same',\n",
    "                 activation='relu', kernel_regularizer=l2(weight_decay)))\n",
    "model.add(MaxPool3D((2,2,2),strides=(2,2,2),padding='same'))\n",
    "\n",
    "model.add(Flatten())\n",
    "model.add(Dense(units=4096, activation='relu'))\n",
    "model.add(Dense(units=4096, activation='relu'))\n",
    "\n",
    "model.add(Dense(10, activation='softmax'))\n",
    "model.summary()"
   ]
  }
 ],
 "metadata": {
  "kernelspec": {
   "display_name": "Python [conda env:data_env_tf2] *",
   "language": "python",
   "name": "conda-env-data_env_tf2-py"
  },
  "language_info": {
   "codemirror_mode": {
    "name": "ipython",
    "version": 3
   },
   "file_extension": ".py",
   "mimetype": "text/x-python",
   "name": "python",
   "nbconvert_exporter": "python",
   "pygments_lexer": "ipython3",
   "version": "3.7.10"
  }
 },
 "nbformat": 4,
 "nbformat_minor": 5
}
