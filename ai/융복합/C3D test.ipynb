{
 "cells": [
  {
   "cell_type": "code",
   "execution_count": null,
   "id": "precious-lincoln",
   "metadata": {},
   "outputs": [],
   "source": [
    "# 학습데이터 정제\n",
    "\n"
   ]
  },
  {
   "cell_type": "code",
   "execution_count": 3,
   "id": "continental-lincoln",
   "metadata": {},
   "outputs": [
    {
     "name": "stdout",
     "output_type": "stream",
     "text": [
      "Model: \"sequential_2\"\n",
      "_________________________________________________________________\n",
      "Layer (type)                 Output Shape              Param #   \n",
      "=================================================================\n",
      "conv3d_16 (Conv3D)           (None, 112, 112, 30, 64)  5248      \n",
      "_________________________________________________________________\n",
      "max_pooling3d_10 (MaxPooling (None, 56, 56, 30, 64)    0         \n",
      "_________________________________________________________________\n",
      "conv3d_17 (Conv3D)           (None, 56, 56, 30, 128)   221312    \n",
      "_________________________________________________________________\n",
      "max_pooling3d_11 (MaxPooling (None, 28, 28, 15, 128)   0         \n",
      "_________________________________________________________________\n",
      "conv3d_18 (Conv3D)           (None, 28, 28, 15, 256)   884992    \n",
      "_________________________________________________________________\n",
      "conv3d_19 (Conv3D)           (None, 28, 28, 15, 256)   1769728   \n",
      "_________________________________________________________________\n",
      "max_pooling3d_12 (MaxPooling (None, 14, 14, 8, 256)    0         \n",
      "_________________________________________________________________\n",
      "conv3d_20 (Conv3D)           (None, 14, 14, 8, 512)    3539456   \n",
      "_________________________________________________________________\n",
      "conv3d_21 (Conv3D)           (None, 14, 14, 8, 512)    7078400   \n",
      "_________________________________________________________________\n",
      "max_pooling3d_13 (MaxPooling (None, 7, 7, 4, 512)      0         \n",
      "_________________________________________________________________\n",
      "conv3d_22 (Conv3D)           (None, 7, 7, 4, 512)      7078400   \n",
      "_________________________________________________________________\n",
      "conv3d_23 (Conv3D)           (None, 7, 7, 4, 512)      7078400   \n",
      "_________________________________________________________________\n",
      "max_pooling3d_14 (MaxPooling (None, 4, 4, 2, 512)      0         \n",
      "_________________________________________________________________\n",
      "flatten_2 (Flatten)          (None, 16384)             0         \n",
      "_________________________________________________________________\n",
      "dense_6 (Dense)              (None, 4096)              67112960  \n",
      "_________________________________________________________________\n",
      "dense_7 (Dense)              (None, 4096)              16781312  \n",
      "_________________________________________________________________\n",
      "dense_8 (Dense)              (None, 10)                40970     \n",
      "=================================================================\n",
      "Total params: 111,591,178\n",
      "Trainable params: 111,591,178\n",
      "Non-trainable params: 0\n",
      "_________________________________________________________________\n"
     ]
    }
   ],
   "source": [
    "# 모델 작성\n",
    "\n",
    "from tensorflow.keras.models import Sequential\n",
    "from tensorflow.keras.layers import Dense,Dropout,Conv3D, MaxPool3D,Flatten, Activation, BatchNormalization\n",
    "from tensorflow.keras.regularizers import l2\n",
    "\n",
    "input_shape = (112,112,30,3)\n",
    "weight_decay = 0.005\n",
    "\n",
    "model = Sequential()\n",
    "model.add(Conv3D(64,(3,3,3), strides=(1,1,1), padding='same',\n",
    "                 activation='relu', kernel_regularizer=l2(weight_decay), \n",
    "                 input_shape=(112,112,30,3)))\n",
    "model.add(MaxPool3D((2,2,1),strides=(2,2,1),padding='same'))\n",
    "\n",
    "model.add(Conv3D(128,(3,3,3), strides=(1,1,1), padding='same',\n",
    "                 activation='relu', kernel_regularizer=l2(weight_decay)))\n",
    "model.add(MaxPool3D((2,2,2),strides=(2,2,2),padding='same'))\n",
    "\n",
    "model.add(Conv3D(256,(3,3,3), strides=(1,1,1), padding='same',\n",
    "                 activation='relu', kernel_regularizer=l2(weight_decay)))\n",
    "model.add(Conv3D(256,(3,3,3), strides=(1,1,1), padding='same',\n",
    "                 activation='relu', kernel_regularizer=l2(weight_decay)))\n",
    "model.add(MaxPool3D((2,2,2),strides=(2,2,2),padding='same'))\n",
    "\n",
    "model.add(Conv3D(512,(3,3,3), strides=(1,1,1), padding='same',\n",
    "                 activation='relu', kernel_regularizer=l2(weight_decay)))\n",
    "model.add(Conv3D(512,(3,3,3), strides=(1,1,1), padding='same',\n",
    "                 activation='relu', kernel_regularizer=l2(weight_decay)))\n",
    "model.add(MaxPool3D((2,2,2),strides=(2,2,2),padding='same'))\n",
    "\n",
    "model.add(Conv3D(512,(3,3,3), strides=(1,1,1), padding='same',\n",
    "                 activation='relu', kernel_regularizer=l2(weight_decay)))\n",
    "model.add(Conv3D(512,(3,3,3), strides=(1,1,1), padding='same',\n",
    "                 activation='relu', kernel_regularizer=l2(weight_decay)))\n",
    "model.add(MaxPool3D((2,2,2),strides=(2,2,2),padding='same'))\n",
    "\n",
    "model.add(Flatten())\n",
    "model.add(Dense(units=4096, activation='relu'))\n",
    "model.add(Dense(units=4096, activation='relu'))\n",
    "\n",
    "model.add(Dense(10, activation='softmax'))\n",
    "model.summary()"
   ]
  }
 ],
 "metadata": {
  "kernelspec": {
   "display_name": "Python [conda env:data_env_tf2] *",
   "language": "python",
   "name": "conda-env-data_env_tf2-py"
  },
  "language_info": {
   "codemirror_mode": {
    "name": "ipython",
    "version": 3
   },
   "file_extension": ".py",
   "mimetype": "text/x-python",
   "name": "python",
   "nbconvert_exporter": "python",
   "pygments_lexer": "ipython3",
   "version": "3.7.10"
  }
 },
 "nbformat": 4,
 "nbformat_minor": 5
}
