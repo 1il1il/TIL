{
 "cells": [
  {
   "cell_type": "code",
   "execution_count": 12,
   "id": "reduced-navigation",
   "metadata": {
    "scrolled": true
   },
   "outputs": [
    {
     "name": "stdout",
     "output_type": "stream",
     "text": [
      "KETI_SL_0000018074.mp4 frame extraction end\n",
      "KETI_SL_0000018077.mp4 frame extraction end\n",
      "KETI_SL_0000018118.mp4 frame extraction end\n",
      "KETI_SL_0000018152.mp4 frame extraction end\n",
      "KETI_SL_0000018166.mp4 frame extraction end\n",
      "KETI_SL_0000018167.mp4 frame extraction end\n",
      "KETI_SL_0000018216.mp4 frame extraction end\n",
      "KETI_SL_0000018269.mp4 frame extraction end\n",
      "KETI_SL_0000018395.mp4 frame extraction end\n",
      "KETI_SL_0000018412.mp4 frame extraction end\n",
      "KETI_SL_0000019280.mp4 frame extraction end\n",
      "KETI_SL_0000019281.mp4 frame extraction end\n",
      "KETI_SL_0000019282.mp4 frame extraction end\n",
      "KETI_SL_0000019283.mp4 frame extraction end\n",
      "KETI_SL_0000019284.mp4 frame extraction end\n",
      "KETI_SL_0000019285.mp4 frame extraction end\n",
      "KETI_SL_0000019286.mp4 frame extraction end\n",
      "KETI_SL_0000019287.mp4 frame extraction end\n",
      "KETI_SL_0000019288.mp4 frame extraction end\n",
      "KETI_SL_0000019289.mp4 frame extraction end\n",
      "KETI_SL_0000020537.mp4 frame extraction end\n",
      "KETI_SL_0000020538.mp4 frame extraction end\n",
      "KETI_SL_0000020539.mp4 frame extraction end\n",
      "KETI_SL_0000020540.mp4 frame extraction end\n",
      "KETI_SL_0000020541.mp4 frame extraction end\n",
      "KETI_SL_0000020542.mp4 frame extraction end\n",
      "KETI_SL_0000020543.mp4 frame extraction end\n",
      "KETI_SL_0000020544.mp4 frame extraction end\n",
      "KETI_SL_0000020545.mp4 frame extraction end\n",
      "KETI_SL_0000020546.mp4 frame extraction end\n",
      "KETI_SL_0000021794.mp4 frame extraction end\n",
      "KETI_SL_0000021795.mp4 frame extraction end\n",
      "KETI_SL_0000021796.mp4 frame extraction end\n",
      "KETI_SL_0000021797.mp4 frame extraction end\n",
      "KETI_SL_0000021798.mp4 frame extraction end\n",
      "KETI_SL_0000021799.mp4 frame extraction end\n",
      "KETI_SL_0000021800.mp4 frame extraction end\n",
      "KETI_SL_0000021801.mp4 frame extraction end\n",
      "KETI_SL_0000021802.mp4 frame extraction end\n",
      "KETI_SL_0000021803.mp4 frame extraction end\n",
      "KETI_SL_0000023051.mp4 frame extraction end\n",
      "KETI_SL_0000023052.mp4 frame extraction end\n",
      "KETI_SL_0000023053.mp4 frame extraction end\n",
      "KETI_SL_0000023054.mp4 frame extraction end\n",
      "KETI_SL_0000023055.mp4 frame extraction end\n",
      "KETI_SL_0000023056.mp4 frame extraction end\n",
      "KETI_SL_0000023057.mp4 frame extraction end\n",
      "KETI_SL_0000023058.mp4 frame extraction end\n",
      "KETI_SL_0000023059.mp4 frame extraction end\n",
      "KETI_SL_0000023060.mp4 frame extraction end\n",
      "KETI_SL_0000024308.mp4 frame extraction end\n",
      "KETI_SL_0000024309.mp4 frame extraction end\n",
      "KETI_SL_0000024310.mp4 frame extraction end\n",
      "KETI_SL_0000024311.mp4 frame extraction end\n",
      "KETI_SL_0000024312.mp4 frame extraction end\n",
      "KETI_SL_0000024313.mp4 frame extraction end\n",
      "KETI_SL_0000024314.mp4 frame extraction end\n",
      "KETI_SL_0000024315.mp4 frame extraction end\n",
      "KETI_SL_0000024316.mp4 frame extraction end\n",
      "KETI_SL_0000024317.mp4 frame extraction end\n",
      "17 frame extraction end\n",
      "18 frame extraction end\n",
      "19 frame extraction end\n",
      "20 frame extraction end\n",
      "21 frame extraction end\n",
      "22 frame extraction end\n",
      "pre frame extraction end\n"
     ]
    }
   ],
   "source": [
    "import os\n",
    "import cv2\n",
    "import numpy as np\n",
    "from PIL import Image\n",
    "\n",
    "\n",
    "base_dir = '../data' # 데이터 있는 폴더\n",
    "folder_list = os.listdir(base_dir) # base_dir 안에 있는 파일 or 폴더 목록 ex) 17-front, 17-left ...\n",
    "\n",
    "for folder in folder_list:\n",
    "    folder_dir = os.path.join(base_dir, folder) # 작업중인 폴더 경로 ex) ../data/17-front\n",
    "    pre_dir = os.path.join(base_dir, f'pre/{folder}') # 전처리한 사진 넣을 폴더 경로\n",
    "    os.makedirs(pre_dir, exist_ok=True) # 전처리한 사진 넣을 폴더 생성\n",
    "    \n",
    "    file_list = os.listdir(folder_dir) # 폴더안의 영상 목록\n",
    "    \n",
    "    for file in file_list:\n",
    "        vidcap = cv2.VideoCapture(os.path.join(folder_dir, file))\n",
    "        success,image = vidcap.read()\n",
    "        count = 0\n",
    "        while success:\n",
    "            img = Image.fromarray(image[:,420:1500]) # 중앙기준 1080*1080으로 crop\n",
    "            img = img.resize(size=(224, 224)) # 이미지 크기 변경\n",
    "            cv2.imwrite(os.path.join(pre_dir, f'{file}_{count}.jpg'), np.array(img)) # 전처리한 사진 저장    \n",
    "            success,image = vidcap.read()\n",
    "            count += 1\n",
    "    print(f'{folder} frame extraction end')"
   ]
  },
  {
   "cell_type": "code",
   "execution_count": 17,
   "id": "analyzed-touch",
   "metadata": {},
   "outputs": [
    {
     "data": {
      "application/vnd.jupyter.widget-view+json": {
       "model_id": "0b62315feae44332941ae99cda264ae5",
       "version_major": 2,
       "version_minor": 0
      },
      "text/plain": [
       "  0%|          | 0/10 [00:00<?, ?it/s]"
      ]
     },
     "metadata": {},
     "output_type": "display_data"
    },
    {
     "data": {
      "application/vnd.jupyter.widget-view+json": {
       "model_id": "d351475b64a2464e9f1fcd27b1dac9aa",
       "version_major": 2,
       "version_minor": 0
      },
      "text/plain": [
       "  0%|          | 0/10 [00:00<?, ?it/s]"
      ]
     },
     "metadata": {},
     "output_type": "display_data"
    },
    {
     "data": {
      "application/vnd.jupyter.widget-view+json": {
       "model_id": "05763e9218f9474991147b56b9fdd250",
       "version_major": 2,
       "version_minor": 0
      },
      "text/plain": [
       "  0%|          | 0/10 [00:00<?, ?it/s]"
      ]
     },
     "metadata": {},
     "output_type": "display_data"
    },
    {
     "data": {
      "application/vnd.jupyter.widget-view+json": {
       "model_id": "2c5e496e8ff841648a81a0a68d7a0cb9",
       "version_major": 2,
       "version_minor": 0
      },
      "text/plain": [
       "  0%|          | 0/10 [00:00<?, ?it/s]"
      ]
     },
     "metadata": {},
     "output_type": "display_data"
    },
    {
     "data": {
      "application/vnd.jupyter.widget-view+json": {
       "model_id": "602b2d40701b4b78b89738448a5146e5",
       "version_major": 2,
       "version_minor": 0
      },
      "text/plain": [
       "  0%|          | 0/10 [00:00<?, ?it/s]"
      ]
     },
     "metadata": {},
     "output_type": "display_data"
    },
    {
     "data": {
      "application/vnd.jupyter.widget-view+json": {
       "model_id": "59a120141a1544a78b3e8c6781b0955a",
       "version_major": 2,
       "version_minor": 0
      },
      "text/plain": [
       "  0%|          | 0/10 [00:00<?, ?it/s]"
      ]
     },
     "metadata": {},
     "output_type": "display_data"
    }
   ],
   "source": [
    "# tqdm 사용 버전\n",
    "\n",
    "import os\n",
    "import cv2\n",
    "import numpy as np\n",
    "from PIL import Image\n",
    "from tqdm.notebook import tqdm\n",
    "\n",
    "\n",
    "base_dir = '../data' # 데이터 있는 폴더\n",
    "folder_list = os.listdir(base_dir) # base_dir 안에 있는 파일 or 폴더 목록 ex) 17-front, 17-left ...\n",
    "\n",
    "for folder in folder_list:\n",
    "    folder_dir = os.path.join(base_dir, folder) # 작업중인 폴더 경로 ex) ../data/17-front\n",
    "    pre_dir = os.path.join(base_dir, f'pre/{folder}') # 전처리한 사진 넣을 폴더 경로\n",
    "    os.makedirs(pre_dir, exist_ok=True) # 전처리한 사진 넣을 폴더 생성\n",
    "    \n",
    "    file_list = os.listdir(folder_dir) # 폴더안의 영상 목록\n",
    "    \n",
    "    for file in tqdm(file_list, total=len(file_list), position=0, leave=True):\n",
    "        vidcap = cv2.VideoCapture(os.path.join(folder_dir, file))\n",
    "        success,image = vidcap.read()\n",
    "        count = 0\n",
    "        while success:\n",
    "            img = Image.fromarray(image[:,420:1500]) # 중앙기준 1080*1080으로 crop\n",
    "            img = img.resize(size=(224, 224)) # 이미지 크기 변경\n",
    "            cv2.imwrite(os.path.join(pre_dir, f'{file}_{count}.jpg'), np.array(img)) # 전처리한 사진 저장    \n",
    "            success,image = vidcap.read()\n",
    "            count += 1"
   ]
  }
 ],
 "metadata": {
  "kernelspec": {
   "display_name": "Python [conda env:data_env_tf2] *",
   "language": "python",
   "name": "conda-env-data_env_tf2-py"
  },
  "language_info": {
   "codemirror_mode": {
    "name": "ipython",
    "version": 3
   },
   "file_extension": ".py",
   "mimetype": "text/x-python",
   "name": "python",
   "nbconvert_exporter": "python",
   "pygments_lexer": "ipython3",
   "version": "3.7.10"
  }
 },
 "nbformat": 4,
 "nbformat_minor": 5
}
