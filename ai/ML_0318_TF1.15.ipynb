{
 "cells": [
  {
   "cell_type": "markdown",
   "id": "configured-performance",
   "metadata": {},
   "source": [
    "# MNIST TF 1.15 구현"
   ]
  },
  {
   "cell_type": "code",
   "execution_count": 1,
   "id": "declared-glass",
   "metadata": {},
   "outputs": [],
   "source": [
    "import numpy as np\n",
    "import pandas as pd\n",
    "import tensorflow as tf\n",
    "import matplotlib.pyplot as plt\n",
    "from sklearn.preprocessing import MinMaxScaler\n",
    "from sklearn.model_selection import train_test_split\n",
    "from sklearn.metrics import classification_report\n",
    "from sklearn.model_selection import KFold"
   ]
  },
  {
   "cell_type": "code",
   "execution_count": 2,
   "id": "indirect-parker",
   "metadata": {},
   "outputs": [],
   "source": [
    "df = pd.read_csv('../data/digit-recognizer/train.csv')"
   ]
  },
  {
   "cell_type": "code",
   "execution_count": 3,
   "id": "coral-republic",
   "metadata": {},
   "outputs": [
    {
     "data": {
      "image/png": "[encoded data removed]",
      "text/plain": [
       "<Figure size 432x288 with 1 Axes>"
      ]
     },
     "metadata": {
      "needs_background": "light"
     },
     "output_type": "display_data"
    }
   ],
   "source": [
    "# 결측치, 이상치 없음\n",
    "# 이미지 확인\n",
    "img_data = df.drop('label', axis=1, inplace=False).values\n",
    "\n",
    "plt.imshow(img_data[0].reshape(-1,28), cmap='Greys', interpolation='nearest')\n",
    "plt.show()"
   ]
  },
  {
   "cell_type": "code",
   "execution_count": 4,
   "id": "abroad-archives",
   "metadata": {},
   "outputs": [],
   "source": [
    "# train test split\n",
    "x_data_train, x_data_test, t_data_train, t_data_test = \\\n",
    "train_test_split(df.drop('label', axis=1, inplace=False), df['label'],\n",
    "                 test_size=0.3, random_state=0)\n",
    "\n",
    "# Normalization\n",
    "scaler = MinMaxScaler()\n",
    "scaler.fit(x_data_train)\n",
    "\n",
    "x_data_train_norm = scaler.transform(x_data_train)\n",
    "x_data_test_norm = scaler.transform(x_data_test)"
   ]
  },
  {
   "cell_type": "code",
   "execution_count": null,
   "id": "massive-pregnancy",
   "metadata": {},
   "outputs": [],
   "source": [
    "# Tensorflow 구현\n",
    "\n",
    "# One-hot encording\n",
    "sess = tf.Session()\n",
    "t_data_train_onehot = sess.run(tf.one_hot(t_data_train, depth=10))\n",
    "t_data_test_onehot = sess.run(tf.one_hot(t_data_test, depth=10))\n",
    "\n",
    "# placeholder\n",
    "X = tf.placeholder(shape=[None, 784], dtype=tf.float32)\n",
    "T = tf.placeholder(shape=[None, 10], dtype=tf.float32)\n",
    "\n",
    "# W & b (hidden layer 1)\n",
    "W2 = tf.Variable(tf.random.normal([784, 64]))\n",
    "b2 = tf.Variable(tf.random.normal([64]))\n",
    "layer2 = tf.sigmoid(tf.matmul(X, W2) + b2)\n",
    "\n",
    "# hidden layer 2\n",
    "W3 = tf.Variable(tf.random.normal([64, 32]))\n",
    "b3 = tf.Variable(tf.random.normal([32]))\n",
    "layer3 = tf.sigmoid(tf.matmul(layer2, W3) + b3)\n",
    "\n",
    "# hidden layer 3\n",
    "W4 = tf.Variable(tf.random.normal([32, 16]))\n",
    "b4 = tf.Variable(tf.random.normal([16]))\n",
    "layer4 = tf.sigmoid(tf.matmul(layer3, W4) + b4)\n",
    "\n",
    "# output layer\n",
    "W5 = tf.Variable(tf.random.normal([16, 10]))\n",
    "b5 = tf.Variable(tf.random.normal([10]))\n",
    "\n",
    "logit = tf.matmul(layer4, W5) +b5\n",
    "H = tf.nn.softmax(logit)\n",
    "\n",
    "# loss fuction\n",
    "loss = tf.reduce_mean(tf.nn.softmax_cross_entropy_with_logits_v2(logits=logit, \n",
    "                                                                 labels=T))\n",
    "\n",
    "# train \n",
    "train = tf.train.GradientDescentOptimizer(learning_rate=1e-1).minimize(loss)\n",
    "\n",
    "# initializer\n",
    "sess.run(tf.global_variables_initializer())"
   ]
  },
  {
   "cell_type": "code",
   "execution_count": null,
   "id": "effective-bride",
   "metadata": {},
   "outputs": [],
   "source": [
    "# Learning\n",
    "for step in range(10000):\n",
    "    _, loss_val = sess.run([train, loss], feed_dict={X: x_data_train_norm, \n",
    "                                                     T: t_data_train_onehot})\n",
    "    \n",
    "    if step % 1000 == 0:\n",
    "        print('loss: {}'.format(loss_val))"
   ]
  },
  {
   "cell_type": "code",
   "execution_count": null,
   "id": "mineral-contact",
   "metadata": {},
   "outputs": [],
   "source": [
    "# Accuracy\n",
    "predict = tf.argmax(H, 1)\n",
    "correct = tf.equal(predict, tf.argmax(T, 1))\n",
    "accuracy = tf.reduce_mean(tf.cast(correct, dtype=tf.float32))\n",
    "\n",
    "result = sess.run(accuracy, feed_dict={X: x_data_test_norm, \n",
    "                                       T: t_data_test_onehot})\n",
    "print('정확도 : {}'.format(result))"
   ]
  },
  {
   "cell_type": "markdown",
   "id": "young-heather",
   "metadata": {},
   "source": [
    "## weight의 초기값을 지정하는 방법 변경"
   ]
  },
  {
   "cell_type": "code",
   "execution_count": null,
   "id": "foreign-increase",
   "metadata": {},
   "outputs": [],
   "source": [
    "# Tensorflow 구현\n",
    "\n",
    "# One-hot encording\n",
    "sess = tf.Session()\n",
    "t_data_train_onehot = sess.run(tf.one_hot(t_data_train, depth=10))\n",
    "t_data_test_onehot = sess.run(tf.one_hot(t_data_test, depth=10))\n",
    "\n",
    "# placeholder\n",
    "X = tf.placeholder(shape=[None, 784], dtype=tf.float32)\n",
    "T = tf.placeholder(shape=[None, 10], dtype=tf.float32)\n",
    "\n",
    "# W & b (hidden layer 1)\n",
    "# Xavier Initialization \n",
    "# 입력의 개수와 출력의 개수를 이용해서 Weight의 초기값을 결정하는 방법\n",
    "# W = np.random.randn(num_of_input, num_of_output) / np.squrt(num_of_input)\n",
    "# tf.contrib.layers.xavier_initializer()\n",
    "# He's Initialization : Xavier Initialization의 확장 버전\n",
    "# W = np.random.randn(num_of_input, num_of_output) / np.squrt(num_of_input/2)\n",
    "# # tf.contrib.layers.variance_scaling_initializer \n",
    "\n",
    "W2 = tf.get_variable('W2', shape=[784, 64],\n",
    "                     initializer=tf.contrib.layers.xavier_initializer())\n",
    "b2 = tf.Variable(tf.random.normal([64]))\n",
    "layer2 = tf.nn.relu(tf.matmul(X, W2) + b2)\n",
    "\n",
    "# hidden layer 2\n",
    "W3 = tf.get_variable('W3', shape=[64, 32], \n",
    "                     initializer=tf.contrib.layers.xavier_initializer())\n",
    "b3 = tf.Variable(tf.random.normal([32]))\n",
    "layer3 = tf.nn.relu(tf.matmul(layer2, W3) + b3)\n",
    "\n",
    "# hidden layer 3\n",
    "W4 = tf.get_variable('W4', shape=[32, 16], \n",
    "                     initializer=tf.contrib.layers.xavier_initializer())\n",
    "b4 = tf.Variable(tf.random.normal([16]))\n",
    "layer4 = tf.nn.relu(tf.matmul(layer3, W4) + b4)\n",
    "\n",
    "# output layer\n",
    "\n",
    "W5 = tf.get_variable('W5', shape=[16, 10], \n",
    "                     initializer=tf.contrib.layers.xavier_initializer())\n",
    "b5 = tf.Variable(tf.random.normal([10]))\n",
    "\n",
    "logit = tf.matmul(layer4, W5) +b5\n",
    "H = tf.nn.softmax(logit)\n",
    "\n",
    "# loss fuction\n",
    "loss = tf.reduce_mean(tf.nn.softmax_cross_entropy_with_logits_v2(logits=logit, \n",
    "                                                                 labels=T))\n",
    "\n",
    "# train \n",
    "train = tf.train.GradientDescentOptimizer(learning_rate=1e-1).minimize(loss)\n",
    "\n",
    "# initializer\n",
    "sess.run(tf.global_variables_initializer())"
   ]
  },
  {
   "cell_type": "code",
   "execution_count": null,
   "id": "divine-field",
   "metadata": {},
   "outputs": [],
   "source": [
    "# Learning\n",
    "for step in range(5000):\n",
    "    _, loss_val = sess.run([train, loss], feed_dict={X: x_data_train_norm, \n",
    "                                                     T: t_data_train_onehot})\n",
    "    \n",
    "    if step % 500 == 0:\n",
    "        print('loss: {}'.format(loss_val))"
   ]
  },
  {
   "cell_type": "code",
   "execution_count": null,
   "id": "cooked-classification",
   "metadata": {},
   "outputs": [],
   "source": [
    "# Accuracy\n",
    "predict = tf.argmax(H, 1)\n",
    "correct = tf.equal(predict, tf.argmax(T, 1))\n",
    "accuracy = tf.reduce_mean(tf.cast(correct, dtype=tf.float32))\n",
    "\n",
    "result = sess.run(accuracy, feed_dict={X: x_data_test_norm, \n",
    "                                       T: t_data_test_onehot})\n",
    "print('정확도 : {}'.format(result))"
   ]
  },
  {
   "cell_type": "markdown",
   "id": "cognitive-denial",
   "metadata": {},
   "source": [
    "## Dropout"
   ]
  },
  {
   "cell_type": "code",
   "execution_count": 5,
   "id": "quantitative-observation",
   "metadata": {},
   "outputs": [
    {
     "name": "stdout",
     "output_type": "stream",
     "text": [
      "WARNING:tensorflow:\n",
      "The TensorFlow contrib module will not be included in TensorFlow 2.0.\n",
      "For more information, please see:\n",
      "  * https://github.com/tensorflow/community/blob/master/rfcs/20180907-contrib-sunset.md\n",
      "  * https://github.com/tensorflow/addons\n",
      "  * https://github.com/tensorflow/io (for I/O related ops)\n",
      "If you depend on functionality not listed there, please file an issue.\n",
      "\n"
     ]
    }
   ],
   "source": [
    "# One-hot encording\n",
    "sess = tf.Session()\n",
    "t_data_train_onehot = sess.run(tf.one_hot(t_data_train, depth=10))\n",
    "t_data_test_onehot = sess.run(tf.one_hot(t_data_test, depth=10))\n",
    "\n",
    "# placeholder\n",
    "X = tf.placeholder(shape=[None, 784], dtype=tf.float32)\n",
    "T = tf.placeholder(shape=[None, 10], dtype=tf.float32)\n",
    "\n",
    "# W & b (hidden layer 1)\n",
    "W2 = tf.get_variable('W2', shape=[784, 64],\n",
    "                     initializer=tf.contrib.layers.xavier_initializer())\n",
    "b2 = tf.Variable(tf.random.normal([64]))\n",
    "_layer2 = tf.nn.relu(tf.matmul(X, W2) + b2)\n",
    "layer2 = tf.nn.dropout(_layer2, rate=0.3)\n",
    "\n",
    "# hidden layer 2\n",
    "W3 = tf.get_variable('W3', shape=[64, 32], \n",
    "                     initializer=tf.contrib.layers.xavier_initializer())\n",
    "b3 = tf.Variable(tf.random.normal([32]))\n",
    "_layer3 = tf.nn.relu(tf.matmul(layer2, W3) + b3)\n",
    "layer3 = tf.nn.dropout(_layer3, rate=0.3)\n",
    "\n",
    "# hidden layer 3\n",
    "W4 = tf.get_variable('W4', shape=[32, 16], \n",
    "                     initializer=tf.contrib.layers.xavier_initializer())\n",
    "b4 = tf.Variable(tf.random.normal([16]))\n",
    "_layer4 = tf.nn.relu(tf.matmul(layer3, W4) + b4)\n",
    "layer4 = tf.nn.dropout(_layer4, rate=0.3)\n",
    "\n",
    "# output layer\n",
    "W5 = tf.get_variable('W5', shape=[16, 10], \n",
    "                     initializer=tf.contrib.layers.xavier_initializer())\n",
    "b5 = tf.Variable(tf.random.normal([10]))\n",
    "\n",
    "logit = tf.matmul(layer4, W5) +b5\n",
    "H = tf.nn.softmax(logit)\n",
    "\n",
    "# loss fuction\n",
    "loss = tf.reduce_mean(tf.nn.softmax_cross_entropy_with_logits_v2(logits=logit, \n",
    "                                                                 labels=T))\n",
    "\n",
    "# train \n",
    "train = tf.train.GradientDescentOptimizer(learning_rate=1e-1).minimize(loss)\n",
    "\n",
    "# initializer\n",
    "sess.run(tf.global_variables_initializer())"
   ]
  },
  {
   "cell_type": "code",
   "execution_count": 8,
   "id": "shared-scene",
   "metadata": {},
   "outputs": [
    {
     "name": "stdout",
     "output_type": "stream",
     "text": [
      "loss: 0.784061849117279\n",
      "loss: 0.673759937286377\n",
      "loss: 0.613986611366272\n",
      "loss: 0.5663807392120361\n",
      "loss: 0.5256711840629578\n",
      "loss: 0.48989272117614746\n",
      "loss: 0.46064406633377075\n",
      "loss: 0.43761175870895386\n",
      "loss: 0.41839364171028137\n",
      "loss: 0.40192481875419617\n"
     ]
    }
   ],
   "source": [
    "# Learning\n",
    "for step in range(5000):\n",
    "    _, loss_val = sess.run([train, loss], feed_dict={X: x_data_train_norm, \n",
    "                                                     T: t_data_train_onehot})\n",
    "    \n",
    "    if step % 500 == 0:\n",
    "        print('loss: {}'.format(loss_val))"
   ]
  },
  {
   "cell_type": "code",
   "execution_count": 9,
   "id": "internal-fighter",
   "metadata": {},
   "outputs": [
    {
     "name": "stdout",
     "output_type": "stream",
     "text": [
      "정확도 : 0.8653967976570129\n"
     ]
    }
   ],
   "source": [
    "# Accuracy\n",
    "predict = tf.argmax(H, 1)\n",
    "correct = tf.equal(predict, tf.argmax(T, 1))\n",
    "accuracy = tf.reduce_mean(tf.cast(correct, dtype=tf.float32))\n",
    "\n",
    "result = sess.run(accuracy, feed_dict={X: x_data_test_norm, \n",
    "                                       T: t_data_test_onehot})\n",
    "print('정확도 : {}'.format(result))"
   ]
  }
 ],
 "metadata": {
  "kernelspec": {
   "display_name": "Python [conda env:data_env]",
   "language": "python",
   "name": "conda-env-data_env-py"
  },
  "language_info": {
   "codemirror_mode": {
    "name": "ipython",
    "version": 3
   },
   "file_extension": ".py",
   "mimetype": "text/x-python",
   "name": "python",
   "nbconvert_exporter": "python",
   "pygments_lexer": "ipython3",
   "version": "3.7.9"
  }
 },
 "nbformat": 4,
 "nbformat_minor": 5
}
