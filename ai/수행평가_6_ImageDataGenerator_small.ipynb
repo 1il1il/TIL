{
 "cells": [
  {
   "cell_type": "code",
   "execution_count": null,
   "metadata": {
    "colab": {
     "base_uri": "https://localhost:8080/",
     "height": 365
    },
    "executionInfo": {
     "elapsed": 9758,
     "status": "ok",
     "timestamp": 1616726075670,
     "user": {
      "displayName": "Younghyun Yoo",
      "photoUrl": "https://lh3.googleusercontent.com/a-/AOh14GgdMDHlo3qc4dJT7pI8ecV9MF5A3HHpbXZPbLH4Cw=s64",
      "userId": "17820475346707346775"
     },
     "user_tz": -540
    },
    "id": "h1tztCHfDyw_",
    "outputId": "e63f9847-34cf-4b2d-ae78-72611a04853b"
   },
   "outputs": [],
   "source": [
    "import os\n",
    "from tensorflow.keras.preprocessing.image import ImageDataGenerator\n",
    "import matplotlib.pyplot as plt\n",
    "\n",
    "train_dir = '../data/cat_dog_small/train'\n",
    "validation_dir = '../data/cat_dog_small/validation'\n",
    "\n",
    "# ImageDataGenerator 생성\n",
    "train_datagen = ImageDataGenerator(rescale=1/255)\n",
    "validation_datagen = ImageDataGenerator(rescale=1/255)\n",
    "\n",
    "train_generator = train_datagen.flow_from_directory(\n",
    "    train_dir,\n",
    "    classes=['cats', 'dogs'],\n",
    "    target_size=(150,150),\n",
    "    batch_size=20,\n",
    "    class_mode='binary'\n",
    ")\n",
    "\n",
    "validation_generator = validation_datagen.flow_from_directory(\n",
    "    validation_dir,               \n",
    "    classes=['cats', 'dogs'], \n",
    "    target_size=(150,150),   \n",
    "    batch_size=20,            \n",
    "    class_mode='binary'\n",
    ")"
   ]
  },
  {
   "cell_type": "code",
   "execution_count": null,
   "metadata": {
    "colab": {
     "base_uri": "https://localhost:8080/"
    },
    "executionInfo": {
     "elapsed": 931714,
     "status": "ok",
     "timestamp": 1616734014150,
     "user": {
      "displayName": "Younghyun Yoo",
      "photoUrl": "https://lh3.googleusercontent.com/a-/AOh14GgdMDHlo3qc4dJT7pI8ecV9MF5A3HHpbXZPbLH4Cw=s64",
      "userId": "17820475346707346775"
     },
     "user_tz": -540
    },
    "id": "4hEAxa89HZu_",
    "outputId": "fc9f3997-6d3b-42f4-a4b4-b907f2910453"
   },
   "outputs": [],
   "source": [
    "import numpy as np\n",
    "import tensorflow as tf\n",
    "from tensorflow.keras.models import Sequential\n",
    "from tensorflow.keras.layers import Conv2D, MaxPooling2D, Flatten, Dense, Dropout\n",
    "from tensorflow.keras.optimizers import Adam\n",
    "\n",
    "model = Sequential()\n",
    "model.add(Conv2D(filters=32, kernel_size=(3,3), \n",
    "                 activation='relu', input_shape=(150,150,3)))\n",
    "model.add(MaxPooling2D(pool_size=(2,2)))\n",
    "\n",
    "model.add(Conv2D(filters=64, kernel_size=(3,3), \n",
    "                 activation='relu'))\n",
    "model.add(MaxPooling2D(pool_size=(2,2)))\n",
    "\n",
    "model.add(Conv2D(filters=128, kernel_size=(3,3), \n",
    "                 activation='relu'))\n",
    "model.add(MaxPooling2D(pool_size=(2,2)))\n",
    "\n",
    "model.add(Conv2D(filters=128, kernel_size=(3,3), \n",
    "                 activation='relu'))\n",
    "model.add(MaxPooling2D(pool_size=(2,2)))\n",
    "\n",
    "model.add(Flatten())\n",
    "\n",
    "model.add(Dense(units=512, activation='relu'))\n",
    "model.add(Dropout(rate=0.5))\n",
    "model.add(Dense(units=1, activation='sigmoid'))\n",
    "\n",
    "model.summary()\n",
    "\n",
    "model.compile(optimizer=Adam(learning_rate=1e-3), \n",
    "              loss='binary_crossentropy',\n",
    "              metrics=['accuracy'])"
   ]
  },
  {
   "cell_type": "code",
   "execution_count": null,
   "metadata": {},
   "outputs": [],
   "source": [
    "# steps_per_epoch : 몇번 뽑아야 1 epoch이 되는가\n",
    "history = model.fit(train_generator, steps_per_epoch=100, epochs=30, \n",
    "                    validation_data=validation_generator,\n",
    "                    validation_steps=50)"
   ]
  },
  {
   "cell_type": "code",
   "execution_count": null,
   "metadata": {
    "executionInfo": {
     "elapsed": 544,
     "status": "ok",
     "timestamp": 1616735368090,
     "user": {
      "displayName": "Younghyun Yoo",
      "photoUrl": "https://lh3.googleusercontent.com/a-/AOh14GgdMDHlo3qc4dJT7pI8ecV9MF5A3HHpbXZPbLH4Cw=s64",
      "userId": "17820475346707346775"
     },
     "user_tz": -540
    },
    "id": "PdcVkoVm65xI"
   },
   "outputs": [],
   "source": [
    "# 학습이 종료된 후 모델을 저장 하기\n",
    "model.save('../data/cat_dog_small/cat_god_small_cnn_tf2.4.h5')"
   ]
  },
  {
   "cell_type": "code",
   "execution_count": null,
   "metadata": {
    "colab": {
     "base_uri": "https://localhost:8080/",
     "height": 282
    },
    "executionInfo": {
     "elapsed": 648,
     "status": "ok",
     "timestamp": 1616735999665,
     "user": {
      "displayName": "Younghyun Yoo",
      "photoUrl": "https://lh3.googleusercontent.com/a-/AOh14GgdMDHlo3qc4dJT7pI8ecV9MF5A3HHpbXZPbLH4Cw=s64",
      "userId": "17820475346707346775"
     },
     "user_tz": -540
    },
    "id": "He4dYLSa8UDT",
    "outputId": "23841227-b9aa-410c-d7a7-ba01df444701"
   },
   "outputs": [],
   "source": [
    "# history 객체 확인\n",
    "print(history.history.keys())\n",
    "\n",
    "train_acc = history.history['accuracy']\n",
    "validation_acc = history.history['val_accuracy']\n",
    "\n",
    "train_loss = history.history['loss']\n",
    "validation_loss = history.history['val_loss']\n",
    "\n",
    "plt.plot(train_acc, color='r', label='training')\n",
    "plt.plot(validation_acc, color='b', label='validation')\n",
    "plt.legend()\n",
    "plt.show()"
   ]
  },
  {
   "cell_type": "code",
   "execution_count": null,
   "metadata": {},
   "outputs": [],
   "source": [
    "plt.plot(train_loss, color='r', label='training')\n",
    "plt.plot(validation_loss, color='b', label='validation')\n",
    "plt.legend()\n",
    "plt.show()"
   ]
  },
  {
   "cell_type": "markdown",
   "metadata": {
    "id": "iUv5K1Q4OGSL"
   },
   "source": [
    "# 증식을 이용한 코드\n",
    "- 증식은 train만 validataion은 평가용"
   ]
  },
  {
   "cell_type": "code",
   "execution_count": null,
   "metadata": {
    "colab": {
     "base_uri": "https://localhost:8080/"
    },
    "executionInfo": {
     "elapsed": 2710,
     "status": "ok",
     "timestamp": 1616745893380,
     "user": {
      "displayName": "Younghyun Yoo",
      "photoUrl": "https://lh3.googleusercontent.com/a-/AOh14GgdMDHlo3qc4dJT7pI8ecV9MF5A3HHpbXZPbLH4Cw=s64",
      "userId": "17820475346707346775"
     },
     "user_tz": -540
    },
    "id": "jxg0jE1GO8TC",
    "outputId": "56805b6d-4404-4104-c9fd-b16cc2aa47ff"
   },
   "outputs": [],
   "source": [
    "%reset"
   ]
  },
  {
   "cell_type": "code",
   "execution_count": 1,
   "metadata": {
    "colab": {
     "base_uri": "https://localhost:8080/"
    },
    "executionInfo": {
     "elapsed": 2939,
     "status": "ok",
     "timestamp": 1616747716580,
     "user": {
      "displayName": "Younghyun Yoo",
      "photoUrl": "https://lh3.googleusercontent.com/a-/AOh14GgdMDHlo3qc4dJT7pI8ecV9MF5A3HHpbXZPbLH4Cw=s64",
      "userId": "17820475346707346775"
     },
     "user_tz": -540
    },
    "id": "LTDb0YS6OCXD",
    "outputId": "926194c0-b0f4-4f94-972b-47ba12cdb01c"
   },
   "outputs": [
    {
     "name": "stdout",
     "output_type": "stream",
     "text": [
      "Found 2000 images belonging to 2 classes.\n",
      "Found 1000 images belonging to 2 classes.\n"
     ]
    }
   ],
   "source": [
    "import os\n",
    "from tensorflow.keras.preprocessing.image import ImageDataGenerator\n",
    "import matplotlib.pyplot as plt\n",
    "\n",
    "train_dir = '../data/cat_dog_small/train'\n",
    "validation_dir = '../data/cat_dog_small/validation'\n",
    "\n",
    "# ImageDataGenerator 생성\n",
    "train_datagen = ImageDataGenerator(\n",
    "    rescale=1/255,                     \n",
    "    rotation_range=20, \n",
    "    width_shift_range=0.1,\n",
    "    height_shift_range=0.1,\n",
    "    zoom_range=0.1,\n",
    "    horizontal_flip=True,\n",
    "    vertical_flip=True\n",
    ")\n",
    "\n",
    "validation_datagen = ImageDataGenerator(rescale=1/255)\n",
    "\n",
    "train_generator = train_datagen.flow_from_directory(\n",
    "    train_dir,\n",
    "    classes=['cats', 'dogs'],\n",
    "    target_size=(150,150),\n",
    "    batch_size=100, \n",
    "    class_mode='binary'\n",
    ")\n",
    "\n",
    "validation_generator = validation_datagen.flow_from_directory(\n",
    "    validation_dir,               \n",
    "    classes=['cats', 'dogs'], \n",
    "    target_size=(150,150),   \n",
    "    batch_size=100,            \n",
    "    class_mode='binary'\n",
    ")"
   ]
  },
  {
   "cell_type": "code",
   "execution_count": 2,
   "metadata": {
    "colab": {
     "base_uri": "https://localhost:8080/"
    },
    "executionInfo": {
     "elapsed": 1252231,
     "status": "ok",
     "timestamp": 1616749279453,
     "user": {
      "displayName": "Younghyun Yoo",
      "photoUrl": "https://lh3.googleusercontent.com/a-/AOh14GgdMDHlo3qc4dJT7pI8ecV9MF5A3HHpbXZPbLH4Cw=s64",
      "userId": "17820475346707346775"
     },
     "user_tz": -540
    },
    "id": "TUiiMwFfOtUk",
    "outputId": "76c9faea-8c0a-4d9e-af64-2e0ea8810b40"
   },
   "outputs": [
    {
     "name": "stdout",
     "output_type": "stream",
     "text": [
      "Model: \"sequential\"\n",
      "_________________________________________________________________\n",
      "Layer (type)                 Output Shape              Param #   \n",
      "=================================================================\n",
      "conv2d (Conv2D)              (None, 148, 148, 32)      896       \n",
      "_________________________________________________________________\n",
      "max_pooling2d (MaxPooling2D) (None, 74, 74, 32)        0         \n",
      "_________________________________________________________________\n",
      "conv2d_1 (Conv2D)            (None, 72, 72, 64)        18496     \n",
      "_________________________________________________________________\n",
      "max_pooling2d_1 (MaxPooling2 (None, 36, 36, 64)        0         \n",
      "_________________________________________________________________\n",
      "conv2d_2 (Conv2D)            (None, 34, 34, 128)       73856     \n",
      "_________________________________________________________________\n",
      "max_pooling2d_2 (MaxPooling2 (None, 17, 17, 128)       0         \n",
      "_________________________________________________________________\n",
      "conv2d_3 (Conv2D)            (None, 15, 15, 256)       295168    \n",
      "_________________________________________________________________\n",
      "max_pooling2d_3 (MaxPooling2 (None, 7, 7, 256)         0         \n",
      "_________________________________________________________________\n",
      "flatten (Flatten)            (None, 12544)             0         \n",
      "_________________________________________________________________\n",
      "dense (Dense)                (None, 512)               6423040   \n",
      "_________________________________________________________________\n",
      "dropout (Dropout)            (None, 512)               0         \n",
      "_________________________________________________________________\n",
      "dense_1 (Dense)              (None, 1)                 513       \n",
      "=================================================================\n",
      "Total params: 6,811,969\n",
      "Trainable params: 6,811,969\n",
      "Non-trainable params: 0\n",
      "_________________________________________________________________\n"
     ]
    }
   ],
   "source": [
    "import numpy as np\n",
    "import tensorflow as tf\n",
    "from tensorflow.keras.models import Sequential\n",
    "from tensorflow.keras.layers import Conv2D, MaxPooling2D, Flatten, Dense, Dropout\n",
    "from tensorflow.keras.optimizers import Adam\n",
    "\n",
    "model = Sequential()\n",
    "model.add(Conv2D(filters=32, kernel_size=(3,3), \n",
    "                 activation='relu', input_shape=(150,150,3)))\n",
    "model.add(MaxPooling2D(pool_size=(2,2)))\n",
    "\n",
    "model.add(Conv2D(filters=64, kernel_size=(3,3), \n",
    "                 activation='relu'))\n",
    "model.add(MaxPooling2D(pool_size=(2,2)))\n",
    "\n",
    "model.add(Conv2D(filters=128, kernel_size=(3,3), \n",
    "                 activation='relu'))\n",
    "model.add(MaxPooling2D(pool_size=(2,2)))\n",
    "\n",
    "model.add(Conv2D(filters=256, kernel_size=(3,3), \n",
    "                 activation='relu'))\n",
    "model.add(MaxPooling2D(pool_size=(2,2)))\n",
    "\n",
    "model.add(Flatten())\n",
    "\n",
    "model.add(Dense(units=512, activation='relu'))\n",
    "model.add(Dropout(rate=0.5))\n",
    "model.add(Dense(units=1, activation='sigmoid'))\n",
    "\n",
    "model.summary()\n",
    "\n",
    "model.compile(optimizer=Adam(learning_rate=1e-3), \n",
    "              loss='binary_crossentropy',\n",
    "              metrics=['accuracy'])"
   ]
  },
  {
   "cell_type": "code",
   "execution_count": 3,
   "metadata": {},
   "outputs": [
    {
     "name": "stdout",
     "output_type": "stream",
     "text": [
      "Epoch 1/30\n",
      " 2/20 [==>...........................] - ETA: 0s - loss: 0.6982 - accuracy: 0.4900WARNING:tensorflow:Callbacks method `on_train_batch_end` is slow compared to the batch time (batch time: 0.0230s vs `on_train_batch_end` time: 0.0420s). Check your callbacks.\n",
      "20/20 [==============================] - 12s 623ms/step - loss: 0.6957 - accuracy: 0.4940 - val_loss: 0.6904 - val_accuracy: 0.5340\n",
      "Epoch 2/30\n",
      "20/20 [==============================] - 13s 638ms/step - loss: 0.6839 - accuracy: 0.5530 - val_loss: 0.6481 - val_accuracy: 0.6400\n",
      "Epoch 3/30\n",
      "20/20 [==============================] - 13s 627ms/step - loss: 0.6480 - accuracy: 0.6190 - val_loss: 0.6246 - val_accuracy: 0.6440\n",
      "Epoch 4/30\n",
      "20/20 [==============================] - 13s 626ms/step - loss: 0.6327 - accuracy: 0.6455 - val_loss: 0.6192 - val_accuracy: 0.6550\n",
      "Epoch 5/30\n",
      "20/20 [==============================] - 13s 627ms/step - loss: 0.6023 - accuracy: 0.6730 - val_loss: 0.6002 - val_accuracy: 0.6780\n",
      "Epoch 6/30\n",
      "20/20 [==============================] - 13s 626ms/step - loss: 0.6293 - accuracy: 0.6435 - val_loss: 0.6323 - val_accuracy: 0.6090\n",
      "Epoch 7/30\n",
      "20/20 [==============================] - 13s 626ms/step - loss: 0.6113 - accuracy: 0.6615 - val_loss: 0.6045 - val_accuracy: 0.6850\n",
      "Epoch 8/30\n",
      "20/20 [==============================] - 12s 623ms/step - loss: 0.5716 - accuracy: 0.7080 - val_loss: 0.6055 - val_accuracy: 0.6580\n",
      "Epoch 9/30\n",
      "20/20 [==============================] - 13s 627ms/step - loss: 0.5875 - accuracy: 0.6810 - val_loss: 0.5757 - val_accuracy: 0.6960\n",
      "Epoch 10/30\n",
      "20/20 [==============================] - 12s 623ms/step - loss: 0.5638 - accuracy: 0.7150 - val_loss: 0.5881 - val_accuracy: 0.6920\n",
      "Epoch 11/30\n",
      "20/20 [==============================] - 13s 625ms/step - loss: 0.5561 - accuracy: 0.7125 - val_loss: 0.5510 - val_accuracy: 0.7130\n",
      "Epoch 12/30\n",
      "20/20 [==============================] - 13s 630ms/step - loss: 0.5465 - accuracy: 0.7240 - val_loss: 0.5659 - val_accuracy: 0.6940\n",
      "Epoch 13/30\n",
      "20/20 [==============================] - 13s 626ms/step - loss: 0.5515 - accuracy: 0.7150 - val_loss: 0.5941 - val_accuracy: 0.6640\n",
      "Epoch 14/30\n",
      "20/20 [==============================] - 13s 627ms/step - loss: 0.5411 - accuracy: 0.7195 - val_loss: 0.5639 - val_accuracy: 0.7070\n",
      "Epoch 15/30\n",
      "20/20 [==============================] - 13s 628ms/step - loss: 0.5423 - accuracy: 0.7170 - val_loss: 0.5876 - val_accuracy: 0.6760\n",
      "Epoch 16/30\n",
      "20/20 [==============================] - 13s 631ms/step - loss: 0.5378 - accuracy: 0.7260 - val_loss: 0.5324 - val_accuracy: 0.7250\n",
      "Epoch 17/30\n",
      "20/20 [==============================] - 13s 625ms/step - loss: 0.5416 - accuracy: 0.7205 - val_loss: 0.5438 - val_accuracy: 0.7160\n",
      "Epoch 18/30\n",
      "20/20 [==============================] - 13s 632ms/step - loss: 0.5133 - accuracy: 0.7410 - val_loss: 0.5271 - val_accuracy: 0.7320\n",
      "Epoch 19/30\n",
      "20/20 [==============================] - 13s 638ms/step - loss: 0.5177 - accuracy: 0.7460 - val_loss: 0.5418 - val_accuracy: 0.7230\n",
      "Epoch 20/30\n",
      "20/20 [==============================] - 13s 632ms/step - loss: 0.4988 - accuracy: 0.7600 - val_loss: 0.5125 - val_accuracy: 0.7580\n",
      "Epoch 21/30\n",
      "20/20 [==============================] - 13s 627ms/step - loss: 0.4951 - accuracy: 0.7580 - val_loss: 0.4966 - val_accuracy: 0.7490\n",
      "Epoch 22/30\n",
      "20/20 [==============================] - 13s 625ms/step - loss: 0.4907 - accuracy: 0.7565 - val_loss: 0.5429 - val_accuracy: 0.7360\n",
      "Epoch 23/30\n",
      "20/20 [==============================] - 13s 627ms/step - loss: 0.4919 - accuracy: 0.7645 - val_loss: 0.5688 - val_accuracy: 0.7510\n",
      "Epoch 24/30\n",
      "20/20 [==============================] - 13s 626ms/step - loss: 0.4724 - accuracy: 0.7685 - val_loss: 0.4886 - val_accuracy: 0.7720\n",
      "Epoch 25/30\n",
      "20/20 [==============================] - 13s 628ms/step - loss: 0.4720 - accuracy: 0.7735 - val_loss: 0.5026 - val_accuracy: 0.7550\n",
      "Epoch 26/30\n",
      "20/20 [==============================] - 13s 628ms/step - loss: 0.4512 - accuracy: 0.7890 - val_loss: 0.4913 - val_accuracy: 0.7640\n",
      "Epoch 27/30\n",
      "20/20 [==============================] - 13s 628ms/step - loss: 0.4814 - accuracy: 0.7680 - val_loss: 0.5058 - val_accuracy: 0.7510\n",
      "Epoch 28/30\n",
      "20/20 [==============================] - 13s 628ms/step - loss: 0.4946 - accuracy: 0.7540 - val_loss: 0.4939 - val_accuracy: 0.7580\n",
      "Epoch 29/30\n",
      "20/20 [==============================] - 13s 627ms/step - loss: 0.4383 - accuracy: 0.7955 - val_loss: 0.4873 - val_accuracy: 0.7700\n",
      "Epoch 30/30\n",
      "20/20 [==============================] - 13s 628ms/step - loss: 0.4455 - accuracy: 0.7880 - val_loss: 0.5037 - val_accuracy: 0.7660\n"
     ]
    }
   ],
   "source": [
    "# steps_per_epoch : 몇번 뽑아야 1 epoch이 되는가\n",
    "history = model.fit(train_generator, steps_per_epoch=20, epochs=30, \n",
    "                    validation_data=validation_generator,\n",
    "                    validation_steps=10)"
   ]
  },
  {
   "cell_type": "code",
   "execution_count": 4,
   "metadata": {},
   "outputs": [
    {
     "name": "stdout",
     "output_type": "stream",
     "text": [
      "dict_keys(['loss', 'accuracy', 'val_loss', 'val_accuracy'])\n"
     ]
    },
    {
     "data": {
      "image/png": "[encoded data removed]",
      "text/plain": [
       "<Figure size 432x288 with 1 Axes>"
      ]
     },
     "metadata": {
      "needs_background": "light"
     },
     "output_type": "display_data"
    }
   ],
   "source": [
    "# history 객체 확인\n",
    "print(history.history.keys())\n",
    "\n",
    "train_acc = history.history['accuracy']\n",
    "validation_acc = history.history['val_accuracy']\n",
    "\n",
    "train_loss = history.history['loss']\n",
    "validation_loss = history.history['val_loss']\n",
    "\n",
    "plt.plot(train_acc, color='r', label='training')\n",
    "plt.plot(validation_acc, color='b', label='validation')\n",
    "plt.legend()\n",
    "plt.show()"
   ]
  },
  {
   "cell_type": "code",
   "execution_count": 5,
   "metadata": {},
   "outputs": [
    {
     "data": {
      "image/png": "[encoded data removed]",
      "text/plain": [
       "<Figure size 432x288 with 1 Axes>"
      ]
     },
     "metadata": {
      "needs_background": "light"
     },
     "output_type": "display_data"
    }
   ],
   "source": [
    "plt.plot(train_loss, color='r', label='training')\n",
    "plt.plot(validation_loss, color='b', label='validation')\n",
    "plt.legend()\n",
    "plt.show()"
   ]
  }
 ],
 "metadata": {
  "accelerator": "GPU",
  "colab": {
   "authorship_tag": "ABX9TyO7II6pUo+xYUTsdRIa2Zvw",
   "collapsed_sections": [],
   "mount_file_id": "19F6VlZP0lkGJjTVEU1giPAQ0YPmOuisu",
   "name": "ML_0326_CAT-DOG_TF2.4_CNN.ipynb",
   "provenance": []
  },
  "kernelspec": {
   "display_name": "Python 3",
   "language": "python",
   "name": "python3"
  },
  "language_info": {
   "codemirror_mode": {
    "name": "ipython",
    "version": 3
   },
   "file_extension": ".py",
   "mimetype": "text/x-python",
   "name": "python",
   "nbconvert_exporter": "python",
   "pygments_lexer": "ipython3",
   "version": "3.7.10"
  }
 },
 "nbformat": 4,
 "nbformat_minor": 1
}
