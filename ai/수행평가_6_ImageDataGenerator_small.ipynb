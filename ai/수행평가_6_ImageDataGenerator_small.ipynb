{
 "cells": [
  {
   "cell_type": "code",
   "execution_count": 1,
   "metadata": {
    "colab": {
     "base_uri": "https://localhost:8080/",
     "height": 365
    },
    "executionInfo": {
     "elapsed": 9758,
     "status": "ok",
     "timestamp": 1616726075670,
     "user": {
      "displayName": "Younghyun Yoo",
      "photoUrl": "https://lh3.googleusercontent.com/a-/AOh14GgdMDHlo3qc4dJT7pI8ecV9MF5A3HHpbXZPbLH4Cw=s64",
      "userId": "17820475346707346775"
     },
     "user_tz": -540
    },
    "id": "h1tztCHfDyw_",
    "outputId": "e63f9847-34cf-4b2d-ae78-72611a04853b"
   },
   "outputs": [
    {
     "name": "stdout",
     "output_type": "stream",
     "text": [
      "Found 2000 images belonging to 2 classes.\n",
      "Found 1000 images belonging to 2 classes.\n"
     ]
    }
   ],
   "source": [
    "import os\n",
    "from tensorflow.keras.preprocessing.image import ImageDataGenerator\n",
    "import matplotlib.pyplot as plt\n",
    "\n",
    "train_dir = '../data/cat_dog_small/train'\n",
    "validation_dir = '../data/cat_dog_small/validation'\n",
    "\n",
    "# ImageDataGenerator 생성\n",
    "# train data 생성 ImageDataGenerator, validation data 생성 ImageDataGenerator 각각 생성\n",
    "# 정규화(MinMaxScaling 이용)\n",
    "train_datagen = ImageDataGenerator(rescale=1/255)\n",
    "validation_datagen = ImageDataGenerator(rescale=1/255)\n",
    "\n",
    "train_generator = train_datagen.flow_from_directory(\n",
    "    train_dir,                # target directory\n",
    "    classes=['cats', 'dogs'], # 순서대로 0,1..., classes 속성을 생략하면 폴더 순서대로 label이 결정\n",
    "    target_size=(150,150),    # 일반적으로 정방향으로 resize, CNN구조에 따라 이 값은 달라진다\n",
    "    batch_size=20,            # 한번에 20개 이미지 가져와서 변환, label에 상관 없이 가져온다\n",
    "    class_mode='binary'       # 다중분류면 categorical(default)\n",
    "                              # 'sparse도 이용가능 - onehot처리 안하고 사용\n",
    ")\n",
    "\n",
    "validation_generator = validation_datagen.flow_from_directory(\n",
    "    validation_dir,               \n",
    "    classes=['cats', 'dogs'], \n",
    "    target_size=(150,150),   \n",
    "    batch_size=20,            \n",
    "    class_mode='binary'\n",
    ")"
   ]
  },
  {
   "cell_type": "code",
   "execution_count": 2,
   "metadata": {
    "colab": {
     "base_uri": "https://localhost:8080/"
    },
    "executionInfo": {
     "elapsed": 931714,
     "status": "ok",
     "timestamp": 1616734014150,
     "user": {
      "displayName": "Younghyun Yoo",
      "photoUrl": "https://lh3.googleusercontent.com/a-/AOh14GgdMDHlo3qc4dJT7pI8ecV9MF5A3HHpbXZPbLH4Cw=s64",
      "userId": "17820475346707346775"
     },
     "user_tz": -540
    },
    "id": "4hEAxa89HZu_",
    "outputId": "fc9f3997-6d3b-42f4-a4b4-b907f2910453"
   },
   "outputs": [
    {
     "name": "stdout",
     "output_type": "stream",
     "text": [
      "Model: \"sequential\"\n",
      "_________________________________________________________________\n",
      "Layer (type)                 Output Shape              Param #   \n",
      "=================================================================\n",
      "conv2d (Conv2D)              (None, 148, 148, 32)      896       \n",
      "_________________________________________________________________\n",
      "max_pooling2d (MaxPooling2D) (None, 74, 74, 32)        0         \n",
      "_________________________________________________________________\n",
      "conv2d_1 (Conv2D)            (None, 72, 72, 64)        18496     \n",
      "_________________________________________________________________\n",
      "max_pooling2d_1 (MaxPooling2 (None, 36, 36, 64)        0         \n",
      "_________________________________________________________________\n",
      "conv2d_2 (Conv2D)            (None, 34, 34, 128)       73856     \n",
      "_________________________________________________________________\n",
      "max_pooling2d_2 (MaxPooling2 (None, 17, 17, 128)       0         \n",
      "_________________________________________________________________\n",
      "conv2d_3 (Conv2D)            (None, 15, 15, 128)       147584    \n",
      "_________________________________________________________________\n",
      "max_pooling2d_3 (MaxPooling2 (None, 7, 7, 128)         0         \n",
      "_________________________________________________________________\n",
      "flatten (Flatten)            (None, 6272)              0         \n",
      "_________________________________________________________________\n",
      "dense (Dense)                (None, 512)               3211776   \n",
      "_________________________________________________________________\n",
      "dropout (Dropout)            (None, 512)               0         \n",
      "_________________________________________________________________\n",
      "dense_1 (Dense)              (None, 1)                 513       \n",
      "=================================================================\n",
      "Total params: 3,453,121\n",
      "Trainable params: 3,453,121\n",
      "Non-trainable params: 0\n",
      "_________________________________________________________________\n"
     ]
    }
   ],
   "source": [
    "import numpy as np\n",
    "import tensorflow as tf\n",
    "from tensorflow.keras.models import Sequential\n",
    "from tensorflow.keras.layers import Conv2D, MaxPooling2D, Flatten, Dense, Dropout\n",
    "from tensorflow.keras.optimizers import Adam\n",
    "\n",
    "model = Sequential()\n",
    "model.add(Conv2D(filters=32, kernel_size=(3,3), \n",
    "                 activation='relu', input_shape=(150,150,3)))\n",
    "model.add(MaxPooling2D(pool_size=(2,2)))\n",
    "\n",
    "model.add(Conv2D(filters=64, kernel_size=(3,3), \n",
    "                 activation='relu'))\n",
    "model.add(MaxPooling2D(pool_size=(2,2)))\n",
    "\n",
    "model.add(Conv2D(filters=128, kernel_size=(3,3), \n",
    "                 activation='relu'))\n",
    "model.add(MaxPooling2D(pool_size=(2,2)))\n",
    "\n",
    "model.add(Conv2D(filters=128, kernel_size=(3,3), \n",
    "                 activation='relu'))\n",
    "model.add(MaxPooling2D(pool_size=(2,2)))\n",
    "\n",
    "model.add(Flatten())\n",
    "\n",
    "model.add(Dense(units=512, activation='relu'))\n",
    "model.add(Dropout(rate=0.5))\n",
    "model.add(Dense(units=1, activation='sigmoid'))\n",
    "\n",
    "model.summary()\n",
    "\n",
    "model.compile(optimizer=Adam(learning_rate=1e-3), \n",
    "              loss='binary_crossentropy',\n",
    "              metrics=['accuracy'])"
   ]
  },
  {
   "cell_type": "code",
   "execution_count": 3,
   "metadata": {},
   "outputs": [
    {
     "name": "stdout",
     "output_type": "stream",
     "text": [
      "Epoch 1/30\n",
      "100/100 [==============================] - 6s 63ms/step - loss: 0.6952 - accuracy: 0.5200 - val_loss: 0.6974 - val_accuracy: 0.5040\n",
      "Epoch 2/30\n",
      "100/100 [==============================] - 6s 61ms/step - loss: 0.6824 - accuracy: 0.5515 - val_loss: 0.6830 - val_accuracy: 0.5240\n",
      "Epoch 3/30\n",
      "100/100 [==============================] - 6s 61ms/step - loss: 0.6786 - accuracy: 0.5610 - val_loss: 0.6373 - val_accuracy: 0.6450\n",
      "Epoch 4/30\n",
      "100/100 [==============================] - 6s 61ms/step - loss: 0.6557 - accuracy: 0.6245 - val_loss: 0.6118 - val_accuracy: 0.6540\n",
      "Epoch 5/30\n",
      "100/100 [==============================] - 6s 61ms/step - loss: 0.6089 - accuracy: 0.6590 - val_loss: 0.6276 - val_accuracy: 0.6490\n",
      "Epoch 6/30\n",
      "100/100 [==============================] - 6s 61ms/step - loss: 0.5572 - accuracy: 0.7155 - val_loss: 0.6644 - val_accuracy: 0.6580\n",
      "Epoch 7/30\n",
      "100/100 [==============================] - 6s 61ms/step - loss: 0.5277 - accuracy: 0.7305 - val_loss: 0.5707 - val_accuracy: 0.7120\n",
      "Epoch 8/30\n",
      "100/100 [==============================] - 6s 61ms/step - loss: 0.4862 - accuracy: 0.7605 - val_loss: 0.6230 - val_accuracy: 0.6960\n",
      "Epoch 9/30\n",
      "100/100 [==============================] - 6s 61ms/step - loss: 0.4081 - accuracy: 0.8125 - val_loss: 0.6234 - val_accuracy: 0.6970\n",
      "Epoch 10/30\n",
      "100/100 [==============================] - 6s 61ms/step - loss: 0.3848 - accuracy: 0.8355 - val_loss: 0.6261 - val_accuracy: 0.7110\n",
      "Epoch 11/30\n",
      "100/100 [==============================] - 6s 61ms/step - loss: 0.2810 - accuracy: 0.8835 - val_loss: 0.6801 - val_accuracy: 0.7140\n",
      "Epoch 12/30\n",
      "100/100 [==============================] - 6s 61ms/step - loss: 0.2063 - accuracy: 0.9210 - val_loss: 0.8608 - val_accuracy: 0.7140\n",
      "Epoch 13/30\n",
      "100/100 [==============================] - 6s 61ms/step - loss: 0.1489 - accuracy: 0.9490 - val_loss: 0.9351 - val_accuracy: 0.7050\n",
      "Epoch 14/30\n",
      "100/100 [==============================] - 6s 61ms/step - loss: 0.0970 - accuracy: 0.9640 - val_loss: 1.0428 - val_accuracy: 0.7210\n",
      "Epoch 15/30\n",
      "100/100 [==============================] - 7s 66ms/step - loss: 0.0597 - accuracy: 0.9825 - val_loss: 1.2288 - val_accuracy: 0.7290\n",
      "Epoch 16/30\n",
      "100/100 [==============================] - 7s 66ms/step - loss: 0.0966 - accuracy: 0.9620 - val_loss: 1.1712 - val_accuracy: 0.7220\n",
      "Epoch 17/30\n",
      "100/100 [==============================] - 6s 61ms/step - loss: 0.0610 - accuracy: 0.9790 - val_loss: 1.2802 - val_accuracy: 0.7120\n",
      "Epoch 18/30\n",
      "100/100 [==============================] - 6s 61ms/step - loss: 0.0582 - accuracy: 0.9785 - val_loss: 1.2841 - val_accuracy: 0.7100\n",
      "Epoch 19/30\n",
      "100/100 [==============================] - 6s 61ms/step - loss: 0.0375 - accuracy: 0.9870 - val_loss: 1.4865 - val_accuracy: 0.7180\n",
      "Epoch 20/30\n",
      "100/100 [==============================] - 6s 61ms/step - loss: 0.0121 - accuracy: 0.9975 - val_loss: 1.5843 - val_accuracy: 0.7320\n",
      "Epoch 21/30\n",
      "100/100 [==============================] - 6s 61ms/step - loss: 0.0066 - accuracy: 0.9980 - val_loss: 1.8152 - val_accuracy: 0.7290\n",
      "Epoch 22/30\n",
      "100/100 [==============================] - 6s 61ms/step - loss: 0.0048 - accuracy: 0.9985 - val_loss: 1.8166 - val_accuracy: 0.7160\n",
      "Epoch 23/30\n",
      "100/100 [==============================] - 6s 61ms/step - loss: 0.0115 - accuracy: 0.9975 - val_loss: 1.7376 - val_accuracy: 0.7200\n",
      "Epoch 24/30\n",
      "100/100 [==============================] - 6s 61ms/step - loss: 0.0105 - accuracy: 0.9960 - val_loss: 2.1103 - val_accuracy: 0.7110\n",
      "Epoch 25/30\n",
      "100/100 [==============================] - 6s 61ms/step - loss: 0.0572 - accuracy: 0.9785 - val_loss: 1.2641 - val_accuracy: 0.6800\n",
      "Epoch 26/30\n",
      "100/100 [==============================] - 6s 62ms/step - loss: 0.0606 - accuracy: 0.9760 - val_loss: 1.4090 - val_accuracy: 0.7070\n",
      "Epoch 27/30\n",
      "100/100 [==============================] - 6s 62ms/step - loss: 0.0366 - accuracy: 0.9860 - val_loss: 1.4546 - val_accuracy: 0.7140\n",
      "Epoch 28/30\n",
      "100/100 [==============================] - 6s 61ms/step - loss: 0.0249 - accuracy: 0.9920 - val_loss: 1.7621 - val_accuracy: 0.7110\n",
      "Epoch 29/30\n",
      "100/100 [==============================] - 6s 64ms/step - loss: 0.0274 - accuracy: 0.9910 - val_loss: 1.6000 - val_accuracy: 0.7330\n",
      "Epoch 30/30\n",
      "100/100 [==============================] - 6s 63ms/step - loss: 0.0155 - accuracy: 0.9940 - val_loss: 1.8938 - val_accuracy: 0.7360\n"
     ]
    }
   ],
   "source": [
    "# steps_per_epoch : 몇번 뽑아야 1 epoch이 되는가\n",
    "history = model.fit(train_generator, steps_per_epoch=100, epochs=30, \n",
    "                    validation_data=validation_generator,\n",
    "                    validation_steps=50)"
   ]
  },
  {
   "cell_type": "code",
   "execution_count": null,
   "metadata": {
    "executionInfo": {
     "elapsed": 544,
     "status": "ok",
     "timestamp": 1616735368090,
     "user": {
      "displayName": "Younghyun Yoo",
      "photoUrl": "https://lh3.googleusercontent.com/a-/AOh14GgdMDHlo3qc4dJT7pI8ecV9MF5A3HHpbXZPbLH4Cw=s64",
      "userId": "17820475346707346775"
     },
     "user_tz": -540
    },
    "id": "PdcVkoVm65xI"
   },
   "outputs": [],
   "source": [
    "# 학습이 종료된 후 모델을 저장 하기\n",
    "model.save('../data/cat_dog_small/cat_god_small_cnn_tf2.4.h5')"
   ]
  },
  {
   "cell_type": "code",
   "execution_count": null,
   "metadata": {
    "colab": {
     "base_uri": "https://localhost:8080/",
     "height": 282
    },
    "executionInfo": {
     "elapsed": 648,
     "status": "ok",
     "timestamp": 1616735999665,
     "user": {
      "displayName": "Younghyun Yoo",
      "photoUrl": "https://lh3.googleusercontent.com/a-/AOh14GgdMDHlo3qc4dJT7pI8ecV9MF5A3HHpbXZPbLH4Cw=s64",
      "userId": "17820475346707346775"
     },
     "user_tz": -540
    },
    "id": "He4dYLSa8UDT",
    "outputId": "23841227-b9aa-410c-d7a7-ba01df444701"
   },
   "outputs": [],
   "source": [
    "# history 객체 확인\n",
    "print(history.history.keys())\n",
    "\n",
    "train_acc = history.history['accuracy']\n",
    "validation_acc = history.history['val_accuracy']\n",
    "\n",
    "train_loss = history.history['loss']\n",
    "validation_loss = history.history['val_loss']\n",
    "\n",
    "plt.plot(train_loss, color='r', label='training_accuracy')\n",
    "plt.plot(validation_loss, color='b', label='validation_accuracy')\n",
    "plt.legend()\n",
    "plt.show()"
   ]
  },
  {
   "cell_type": "markdown",
   "metadata": {
    "id": "iUv5K1Q4OGSL"
   },
   "source": [
    "# 증식을 이용한 코드\n",
    "- 증식은 train만 validataion은 평가용"
   ]
  },
  {
   "cell_type": "code",
   "execution_count": null,
   "metadata": {
    "colab": {
     "base_uri": "https://localhost:8080/"
    },
    "executionInfo": {
     "elapsed": 2710,
     "status": "ok",
     "timestamp": 1616745893380,
     "user": {
      "displayName": "Younghyun Yoo",
      "photoUrl": "https://lh3.googleusercontent.com/a-/AOh14GgdMDHlo3qc4dJT7pI8ecV9MF5A3HHpbXZPbLH4Cw=s64",
      "userId": "17820475346707346775"
     },
     "user_tz": -540
    },
    "id": "jxg0jE1GO8TC",
    "outputId": "56805b6d-4404-4104-c9fd-b16cc2aa47ff"
   },
   "outputs": [],
   "source": [
    "%reset"
   ]
  },
  {
   "cell_type": "code",
   "execution_count": null,
   "metadata": {
    "colab": {
     "base_uri": "https://localhost:8080/"
    },
    "executionInfo": {
     "elapsed": 2939,
     "status": "ok",
     "timestamp": 1616747716580,
     "user": {
      "displayName": "Younghyun Yoo",
      "photoUrl": "https://lh3.googleusercontent.com/a-/AOh14GgdMDHlo3qc4dJT7pI8ecV9MF5A3HHpbXZPbLH4Cw=s64",
      "userId": "17820475346707346775"
     },
     "user_tz": -540
    },
    "id": "LTDb0YS6OCXD",
    "outputId": "926194c0-b0f4-4f94-972b-47ba12cdb01c"
   },
   "outputs": [],
   "source": [
    "import os\n",
    "from tensorflow.keras.preprocessing.image import ImageDataGenerator\n",
    "import matplotlib.pyplot as plt\n",
    "\n",
    "train_dir = '../data/cat_dog_small/train'\n",
    "validation_dir = '../data/cat_dog_small/validation'\n",
    "\n",
    "# ImageDataGenerator 생성\n",
    "# train data 생성 ImageDataGenerator, validation data 생성 ImageDataGenerator 각각 생성\n",
    "# 정규화(MinMaxScaling 이용)\n",
    "train_datagen = ImageDataGenerator(rescale=1/255,                     \n",
    "                                   rotation_range=20, \n",
    "                                   width_shift_range=0.1,\n",
    "                                   height_shift_range=0.1,\n",
    "                                   zoom_range=0.1,\n",
    "                                   horizontal_flip=True,\n",
    "                                   vertical_flip=True)\n",
    "validation_datagen = ImageDataGenerator(rescale=1/255)\n",
    "\n",
    "train_generator = train_datagen.flow_from_directory(\n",
    "    train_dir,                # target directory\n",
    "    classes=['cats', 'dogs'], # 순서대로 0,1..., classes 속성을 생략하면 폴더 순서대로 label이 결정\n",
    "    target_size=(150,150),    # 일반적으로 정방향으로 resize, CNN구조에 따라 이 값은 달라진다\n",
    "    batch_size=100,            # 한번에 20개 이미지 가져와서 변환, label에 상관 없이 가져온다\n",
    "    class_mode='binary'       # 다중분류면 categorical(default)\n",
    "                              # 'sparse도 이용가능 - onehot처리 안하고 사용\n",
    ")\n",
    "\n",
    "validation_generator = validation_datagen.flow_from_directory(\n",
    "    validation_dir,               \n",
    "    classes=['cats', 'dogs'], \n",
    "    target_size=(150,150),   \n",
    "    batch_size=100,            \n",
    "    class_mode='binary'\n",
    ")\n",
    "\n",
    "# 생성한 generator를 사용하기\n",
    "for x_data, t_data in train_generator:\n",
    "    print(x_data.shape) # (20,150,150,3)\n",
    "    print(t_data.shape) # (20,)\n",
    "    break\n",
    "\n",
    "# CNN을 구성하고 학습 진행\n",
    "# 이전에 했던 MNIST와 유사, convolution, pooling layer 추가"
   ]
  },
  {
   "cell_type": "code",
   "execution_count": null,
   "metadata": {
    "colab": {
     "base_uri": "https://localhost:8080/"
    },
    "executionInfo": {
     "elapsed": 1252231,
     "status": "ok",
     "timestamp": 1616749279453,
     "user": {
      "displayName": "Younghyun Yoo",
      "photoUrl": "https://lh3.googleusercontent.com/a-/AOh14GgdMDHlo3qc4dJT7pI8ecV9MF5A3HHpbXZPbLH4Cw=s64",
      "userId": "17820475346707346775"
     },
     "user_tz": -540
    },
    "id": "TUiiMwFfOtUk",
    "outputId": "76c9faea-8c0a-4d9e-af64-2e0ea8810b40"
   },
   "outputs": [],
   "source": [
    "import numpy as np\n",
    "import tensorflow as tf\n",
    "from tensorflow.keras.models import Sequential\n",
    "from tensorflow.keras.layers import Conv2D, MaxPooling2D, Flatten, Dense, Dropout\n",
    "from tensorflow.keras.optimizers import Adam\n",
    "\n",
    "model = Sequential()\n",
    "model.add(Conv2D(filters=32, kernel_size=(3,3), \n",
    "                 activation='relu', input_shape=(150,150,3)))\n",
    "model.add(MaxPooling2D(pool_size=(2,2)))\n",
    "\n",
    "model.add(Conv2D(filters=64, kernel_size=(3,3), \n",
    "                 activation='relu'))\n",
    "model.add(MaxPooling2D(pool_size=(2,2)))\n",
    "\n",
    "model.add(Conv2D(filters=128, kernel_size=(3,3), \n",
    "                 activation='relu'))\n",
    "model.add(MaxPooling2D(pool_size=(2,2)))\n",
    "\n",
    "model.add(Conv2D(filters=256, kernel_size=(3,3), \n",
    "                 activation='relu'))\n",
    "model.add(MaxPooling2D(pool_size=(2,2)))\n",
    "\n",
    "model.add(Flatten())\n",
    "\n",
    "model.add(Dense(units=1024, activation='relu'))\n",
    "model.add(Dense(units=512, activation='relu'))\n",
    "model.add(Dropout(rate=0.5))\n",
    "model.add(Dense(units=1, activation='sigmoid'))\n",
    "\n",
    "model.summary()\n",
    "\n",
    "model.compile(optimizer=Adam(learning_rate=1e-4), \n",
    "              loss='binary_crossentropy',\n",
    "              metrics=['accuracy'])"
   ]
  },
  {
   "cell_type": "code",
   "execution_count": null,
   "metadata": {},
   "outputs": [],
   "source": [
    "# steps_per_epoch : 몇번 뽑아야 1 epoch이 되는가\n",
    "history = model.fit(train_generator, steps_per_epoch=140, epochs=50, \n",
    "                    validation_data=validation_generator,\n",
    "                    validation_steps=60)"
   ]
  }
 ],
 "metadata": {
  "accelerator": "GPU",
  "colab": {
   "authorship_tag": "ABX9TyO7II6pUo+xYUTsdRIa2Zvw",
   "collapsed_sections": [],
   "mount_file_id": "19F6VlZP0lkGJjTVEU1giPAQ0YPmOuisu",
   "name": "ML_0326_CAT-DOG_TF2.4_CNN.ipynb",
   "provenance": []
  },
  "kernelspec": {
   "display_name": "Python 3",
   "language": "python",
   "name": "python3"
  },
  "language_info": {
   "codemirror_mode": {
    "name": "ipython",
    "version": 3
   },
   "file_extension": ".py",
   "mimetype": "text/x-python",
   "name": "python",
   "nbconvert_exporter": "python",
   "pygments_lexer": "ipython3",
   "version": "3.7.10"
  }
 },
 "nbformat": 4,
 "nbformat_minor": 1
}
