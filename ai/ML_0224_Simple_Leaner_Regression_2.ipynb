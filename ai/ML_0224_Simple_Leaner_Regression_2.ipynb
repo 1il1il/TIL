{
 "cells": [
  {
   "cell_type": "code",
   "execution_count": 2,
   "metadata": {},
   "outputs": [
    {
     "name": "stdout",
     "output_type": "stream",
     "text": [
      "30.0\n"
     ]
    }
   ],
   "source": [
    "import tensorflow as tf\n",
    "\n",
    "node1 = tf.constant(10, dtype=tf.float32)\n",
    "node2 = tf.constant(20, dtype=tf.float32)\n",
    "\n",
    "node3 = node1 + node2\n",
    "\n",
    "# 그래프를 실행시키기 위해서는 session필요\n",
    "# 2.x 버전에선 session 없음\n",
    "\n",
    "sess = tf.Session()\n",
    "\n",
    "print(sess.run(node3))"
   ]
  },
  {
   "cell_type": "code",
   "execution_count": 5,
   "metadata": {},
   "outputs": [
    {
     "name": "stdout",
     "output_type": "stream",
     "text": [
      "30.0\n"
     ]
    }
   ],
   "source": [
    "# Data Flow Graph에 입력값을 주는 방법\n",
    "# placeholder 사용\n",
    "\n",
    "node1 = tf.placeholder(dtype=tf.float32)\n",
    "node2 = tf.placeholder(dtype=tf.float32)\n",
    "\n",
    "node3 = node1 + node2\n",
    "\n",
    "sess = tf.Session()\n",
    "\n",
    "# placeholder에 데이터를 입력하기 위해서 feed_dict를 이용\n",
    "reuslt = sess.run(node3, feed_dict={node1 : 10, node2 : 20})\n",
    "print(reuslt)"
   ]
  },
  {
   "cell_type": "code",
   "execution_count": 16,
   "metadata": {},
   "outputs": [
    {
     "name": "stdout",
     "output_type": "stream",
     "text": [
      "W : [[-1.6204088]], b : [-0.26986837], loss : 173.378173828125\n",
      "W : [[2.0249164]], b : [0.91004866], loss : 0.001472763018682599\n",
      "W : [[2.0090432]], b : [0.96736133], loss : 0.00019390511442907155\n",
      "W : [[2.003282]], b : [0.9881446], loss : 2.5582785383448936e-05\n",
      "W : [[2.0011926]], b : [0.9956871], loss : 3.3851733860501554e-06\n",
      "W : [[2.0004325]], b : [0.9984341], loss : 4.462816889372334e-07\n",
      "W : [[2.000166]], b : [0.99941134], loss : 6.332021484922734e-08\n",
      "W : [[2.0000782]], b : [0.999733], loss : 1.3282260624691844e-08\n",
      "W : [[2.000052]], b : [0.9998292], loss : 5.604397390612803e-09\n",
      "W : [[2.000052]], b : [0.9998292], loss : 5.604397390612803e-09\n",
      "예측값은 : [[19.000296]]\n"
     ]
    }
   ],
   "source": [
    "# Tensorflow를 이용해서 Simple Linear Regression\n",
    "import numpy as np\n",
    "import pandas as pd\n",
    "import tensorflow as tf\n",
    "\n",
    "# 1.traing data set\n",
    "x_data = np.array([1,2,3,4,5]).reshape(-1,1)\n",
    "t_data = np.array([3,5,7,9,11]).reshape(-1,1)\n",
    "\n",
    "# 2. placeholder\n",
    "# 2차원이상이면 반드시 형태 지정해야함\n",
    "# 이때 x를 이렇게 지정을 하면 항상 입력데이터가 (5,1)이어야 한다\n",
    "# 그래서 None으로 지정 어떤 값이 들어와도 상관하지 않는다는 의미\n",
    "X = tf.placeholder(shape=[None,1], dtype=tf.float32)\n",
    "T = tf.placeholder(shape=[None,1], dtype=tf.float32)\n",
    "\n",
    "# 3. Weight & bias  (y = Wx + b)\n",
    "W = tf.Variable(tf.random.normal([1, 1]), name='weight')\n",
    "b = tf.Variable(tf.random.normal([1]), name='bias')\n",
    "\n",
    "# 4. Hypothesis or predict model\n",
    "H = tf.matmul(X, W) + b # y = Wx + b 2차원으로 처리 > y = X dot W + b\n",
    "\n",
    "# 5. W, b를 구하기 위해 평균제곱오차를 이용한 최소제곱법을 통해 loss func 정의\n",
    "loss = tf.reduce_mean(tf.square(H - T))\n",
    "\n",
    "# 6. train\n",
    "train = tf.train.GradientDescentOptimizer(learning_rate=1e-3).minimize(loss)\n",
    "\n",
    "# 7. session 만들기 & 초기화\n",
    "sess = tf.Session()\n",
    "sess.run(tf.global_variables_initializer()) # 2.x 넘어오면서 삭제\n",
    "\n",
    "# 8. 학습을 진행\n",
    "# 반복학습을 진행(1 epoch : training data set 전체를 이용해 1번 학습하는 것)\n",
    "for step in range(30000):\n",
    "    \n",
    "    # train은 W, b를 최적화 하는 노드 그래서 결과값의 의미가 없다 \n",
    "    # 그래서 _로 지정\n",
    "    _,W_val,b_val,loss_val = sess.run([train,W,b,loss], feed_dict={X : x_data, \n",
    "                                                                   T : t_data})\n",
    "    if step % 3000 == 0:\n",
    "        print('W : {}, b : {}, loss : {}'.format(W_val, b_val, loss_val))\n",
    "        \n",
    "# 9. 학습이 종료된 후 최적의 W와 b가 계산되고\n",
    "# 이를 이용한 model이 완성\n",
    "\n",
    "result = sess.run(H, feed_dict={X : [[9]]})\n",
    "print('예측값은 : {}'.format(result))"
   ]
  },
  {
   "cell_type": "markdown",
   "metadata": {},
   "source": [
    "- Simple Linear Regression with python"
   ]
  },
  {
   "cell_type": "code",
   "execution_count": 27,
   "metadata": {},
   "outputs": [
    {
     "name": "stdout",
     "output_type": "stream",
     "text": [
      "W : [[0.89169665]], b : [0.66069375]\n",
      "W : [[2.00301557]], b : [0.98911284]\n",
      "W : [[2.00109361]], b : [0.99605172]\n",
      "W : [[2.0003966]], b : [0.99856814]\n",
      "W : [[2.00014383]], b : [0.99948073]\n",
      "W : [[2.00005216]], b : [0.99981168]\n",
      "W : [[2.00001892]], b : [0.99993171]\n",
      "W : [[2.00000686]], b : [0.99997523]\n",
      "W : [[2.00000249]], b : [0.99999102]\n",
      "W : [[2.0000009]], b : [0.99999674]\n",
      "[[19.00000176]]\n"
     ]
    }
   ],
   "source": [
    "import numpy as np\n",
    "\n",
    "# 1. training data set\n",
    "x_data = np.array([1,2,3,4,5]).reshape(-1,1)\n",
    "t_data = np.array([3,5,7,9,11]).reshape(-1,1)\n",
    "\n",
    "# 2. Weight & bias\n",
    "W = np.random.rand(1,1)\n",
    "b = np.random.rand(1)\n",
    "\n",
    "# 3. Hypothesis or predict model\n",
    "def predict(x):\n",
    "    \n",
    "    y = np.dot(x,W) + b\n",
    "    \n",
    "    return y\n",
    "\n",
    "# 4. loss function\n",
    "def loss_func(input_obj):\n",
    "    # input_obj = [W, b]\n",
    "    \n",
    "    input_W = input_obj[0]\n",
    "    input_b = input_obj[1]\n",
    "    \n",
    "    y = np.dot(x_data, input_W) + input_b\n",
    "    \n",
    "    return np.mean(np.power((t_data - y), 2))\n",
    "\n",
    "# 5. 편미분 함수\n",
    "def numerical_derivative(f, x):\n",
    "    \n",
    "    delta_x = 1e-4\n",
    "    derivative_x = np.zeros_like(x)\n",
    "    \n",
    "    it = np.nditer(x, flags=['multi_index'])\n",
    "    \n",
    "    while not it.finished:\n",
    "        \n",
    "        idx = it.multi_index \n",
    "        \n",
    "        tmp = x[idx] \n",
    "        x[idx] = tmp + delta_x\n",
    "        fx_plus_delta = f(x) \n",
    "        \n",
    "        x[idx] = tmp - delta_x\n",
    "        fx_minus_delta = f(x) \n",
    "        \n",
    "        derivative_x[idx] = (fx_plus_delta - fx_minus_delta) / (2 * delta_x)\n",
    "        \n",
    "        x[idx] = tmp\n",
    "        \n",
    "        it.iternext()\n",
    "        \n",
    "    return derivative_x\n",
    "\n",
    "# 6. learning rate and learning\n",
    "learning_rate = 1e-4\n",
    "\n",
    "for step in range(300000):\n",
    "    # reval() - 1차원으로 변경\n",
    "    input_param = np.concatenate((W.ravel(), b.ravel()), axis=0) # [W b]\n",
    "    derivative_result = learning_rate * numerical_derivative(loss_func, input_param)\n",
    "    \n",
    "    # 연산을 위해 slicing을 해서 ndarray 형태 유지\n",
    "    W = W - derivative_result[:1].reshape(1,1)\n",
    "    b = b - derivative_result[1:]\n",
    "    \n",
    "    if step % 30000 == 0:\n",
    "        print('W : {}, b : {}'.format(W,b))\n",
    "\n",
    "# 7. predict\n",
    "print(predict(np.array([9]).reshape(-1,1)))"
   ]
  },
  {
   "cell_type": "markdown",
   "metadata": {},
   "source": [
    "- Simple Linear Regression with sklearn"
   ]
  },
  {
   "cell_type": "code",
   "execution_count": 26,
   "metadata": {},
   "outputs": [
    {
     "name": "stdout",
     "output_type": "stream",
     "text": [
      "W : [[2.]], b : [1.]\n",
      "[[19.]]\n"
     ]
    }
   ],
   "source": [
    "import numpy as np\n",
    "from sklearn import linear_model\n",
    "\n",
    "# 1. training data set\n",
    "x_data = np.array([1,2,3,4,5]).reshape(-1,1)\n",
    "t_data = np.array([3,5,7,9,11]).reshape(-1,1)\n",
    "\n",
    "# 2. linear regression model 생성\n",
    "model = linear_model.LinearRegression()\n",
    "\n",
    "# 3. learning\n",
    "model.fit(x_data, t_data)\n",
    "\n",
    "# 4. Weight, bias 확인\n",
    "print('W : {}, b : {}'.format(model.coef_, model.intercept_))\n",
    "\n",
    "# 5. predict\n",
    "print(model.predict([[9]]))"
   ]
  }
 ],
 "metadata": {
  "kernelspec": {
   "display_name": "Python [conda env:data_env] *",
   "language": "python",
   "name": "conda-env-data_env-py"
  },
  "language_info": {
   "codemirror_mode": {
    "name": "ipython",
    "version": 3
   },
   "file_extension": ".py",
   "mimetype": "text/x-python",
   "name": "python",
   "nbconvert_exporter": "python",
   "pygments_lexer": "ipython3",
   "version": "3.7.9"
  }
 },
 "nbformat": 4,
 "nbformat_minor": 4
}
