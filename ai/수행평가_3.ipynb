{
 "cells": [
  {
   "cell_type": "markdown",
   "metadata": {},
   "source": [
    "- BMI 예제"
   ]
  },
  {
   "cell_type": "code",
   "execution_count": 1,
   "metadata": {},
   "outputs": [],
   "source": [
    "import numpy as np\n",
    "import pandas as pd\n",
    "import tensorflow as tf\n",
    "import matplotlib.pyplot as plt\n",
    "from scipy import stats\n",
    "from sklearn.preprocessing import MinMaxScaler"
   ]
  },
  {
   "cell_type": "code",
   "execution_count": 2,
   "metadata": {},
   "outputs": [
    {
     "data": {
      "image/png": "[encoded data removed]",
      "text/plain": [
       "<Figure size 432x288 with 3 Axes>"
      ]
     },
     "metadata": {
      "needs_background": "light"
     },
     "output_type": "display_data"
    }
   ],
   "source": [
    "df = pd.read_csv('../data/bmi/bmi.csv', skiprows=3)\n",
    "\n",
    "# 결측치 확인\n",
    "df.isnull().sum()\n",
    "\n",
    "# 이상치 확인fat\n",
    "fig = plt.figure()\n",
    "\n",
    "fig_1 = fig.add_subplot(1,3,1)\n",
    "fig_2 = fig.add_subplot(1,3,2)\n",
    "fig_3 = fig.add_subplot(1,3,3)\n",
    "\n",
    "fig_1.boxplot(df['label'])\n",
    "fig_2.boxplot(df['height'])\n",
    "fig_3.boxplot(df['height'])\n",
    "\n",
    "fig.tight_layout()\n",
    "plt.show() # 이상치 없음"
   ]
  },
  {
   "cell_type": "code",
   "execution_count": 3,
   "metadata": {},
   "outputs": [],
   "source": [
    "# training data set\n",
    "x_data = df[['height', 'height']].values.reshape(-1,2)\n",
    "t_data = df['label'].values.reshape(-1,1) # One-Hot Encoding 추가 적용해야함\n",
    "\n",
    "# 정규화\n",
    "scaler_x = MinMaxScaler()\n",
    "scaler_x.fit(x_data)\n",
    "norm_x_data = scaler_x.transform(x_data)\n",
    "\n",
    "# One-Hot Encoding with tensorflow\n",
    "sess = tf.Session()\n",
    "\n",
    "# one_hot(data, depth(label의 종류))\n",
    "norm_t_data = sess.run(tf.one_hot(t_data, depth=3)).reshape(-1,3)"
   ]
  },
  {
   "cell_type": "code",
   "execution_count": 18,
   "metadata": {},
   "outputs": [],
   "source": [
    "# placeholder\n",
    "X = tf.placeholder(shape=[None,2], dtype=tf.float32)\n",
    "T = tf.placeholder(shape=[None,3], dtype=tf.float32)\n",
    "\n",
    "# W & b\n",
    "W = tf.Variable(tf.random.normal([2,3]))\n",
    "b = tf.Variable(tf.random.normal([3]))\n",
    "\n",
    "# Hypothesis\n",
    "logit = tf.matmul(X, W) + b\n",
    "H = tf.nn.softmax(logit)\n",
    "\n",
    "# loss\n",
    "loss = tf.reduce_mean(tf.nn.softmax_cross_entropy_with_logits_v2(logits=logit, \n",
    "                                                                 labels=T))\n",
    "\n",
    "# train\n",
    "train = tf.train.GradientDescentOptimizer(learning_rate=1e-4).minimize(loss)\n",
    "\n",
    "# 초기화\n",
    "sess.run(tf.global_variables_initializer())"
   ]
  },
  {
   "cell_type": "code",
   "execution_count": 12,
   "metadata": {},
   "outputs": [],
   "source": [
    "# k-fold cross validation 구현\n",
    "\n",
    "x_data_1,x_data_2,x_data_3,x_data_4,x_data_5  = np.array_split(norm_x_data, 5)\n",
    "t_data_1,t_data_2,t_data_3,t_data_4,t_data_5  = np.array_split(norm_t_data, 5)"
   ]
  },
  {
   "cell_type": "code",
   "execution_count": 27,
   "metadata": {},
   "outputs": [
    {
     "name": "stdout",
     "output_type": "stream",
     "text": [
      "W:[[ 1.7655548   1.7402388  -2.345028  ]\n",
      " [ 0.39586538 -1.5706491  -1.3522702 ]],b:[-2.517683   -1.4347116   0.43405953],loss:0.7925459146499634\n",
      "W:[[ 1.9366671  1.7581202 -2.5352478]\n",
      " [ 0.5661939 -1.5527678 -1.5409033]],b:[-2.7160273 -1.4142797  0.6110362],loss:0.7789632081985474\n",
      "0번째 학습 결과 : 0.62525\n",
      "W:[[ 2.0734859  1.7702047 -2.6811874]\n",
      " [ 0.7043349 -1.5406833 -1.6880385]],b:[-2.8749914  -1.3939303   0.74934757],loss:0.7730915546417236\n",
      "W:[[ 2.1807742  1.7846316 -2.8007917]\n",
      " [ 0.8146547 -1.5262563 -1.8096148]],b:[-2.9945023 -1.3709974  0.8488314],loss:0.7677604556083679\n",
      "1번째 학습 결과 : 0.6455\n",
      "W:[[ 2.2606523  1.7866327 -2.9042428]\n",
      " [ 0.9045416 -1.5242553 -1.9029946]],b:[-3.1018481  -1.353116    0.93981916],loss:0.7642175555229187\n",
      "W:[[ 2.339875   1.783884  -2.9757683]\n",
      " [ 0.9898959 -1.5270039 -1.9834491]],b:[-3.1872954 -1.3401169  1.0170336],loss:0.7615259885787964\n",
      "2번째 학습 결과 : 0.626\n",
      "W:[[ 2.4114006  1.783884  -3.047294 ]\n",
      " [ 1.0535121 -1.5270039 -2.0549748]],b:[-3.2623863 -1.3221105  1.0849469],loss:0.7612676620483398\n",
      "W:[[ 2.4677742  1.7865479 -3.1066418]\n",
      " [ 1.1058637 -1.52434   -2.1143227]],b:[-3.3377688 -1.3013945  1.1414303],loss:0.7597877383232117\n",
      "3번째 학습 결과 : 0.63475\n",
      "W:[[ 2.5157068  1.7865479 -3.1449249]\n",
      " [ 1.1595079 -1.52434   -2.1526058]],b:[-3.3949938 -1.2859914  1.1828477],loss:0.7530090808868408\n",
      "W:[[ 2.5541105  1.7845649 -3.1806877]\n",
      " [ 1.2083325 -1.5263231 -2.1883686]],b:[-3.440443  -1.2798468  1.2271394],loss:0.7521939873695374\n",
      "4번째 학습 결과 : 0.61625\n"
     ]
    }
   ],
   "source": [
    "# trianing과 test 분리해서 학습진행\n",
    "acc_list = []\n",
    "for i in range(5):\n",
    "    x_ary_list = [x_data_1,x_data_2,x_data_3,x_data_4,x_data_5]\n",
    "    t_ary_list = [t_data_1,t_data_2,t_data_3,t_data_4,t_data_5]\n",
    "    \n",
    "    test_x_data = x_ary_list[i]\n",
    "    test_t_data = t_ary_list[i]\n",
    "    del x_ary_list[i]\n",
    "    del t_ary_list[i]\n",
    "    train_x_data = np.concatenate(x_ary_list)\n",
    "    train_t_data = np.concatenate(t_ary_list)\n",
    "    \n",
    "    # learning\n",
    "    for step in range(300000):\n",
    "        _,W_val,b_val,loss_val = sess.run([train,W,b,loss], \n",
    "                                          feed_dict={X : train_x_data, T : train_t_data })\n",
    "\n",
    "        if step % 150000 == 0:\n",
    "            print('W:{},b:{},loss:{}'.format(W_val,b_val,loss_val))\n",
    "    \n",
    "    # prediction\n",
    "    result = sess.run(H, feed_dict={X: test_x_data})\n",
    "    accuracy_list = np.equal(result.argmax(axis=1), test_t_data.argmax(axis=1))\n",
    "    acc_list.append(accuracy_list.sum()/len(accuracy_list))\n",
    "    \n",
    "    print('{}번째 학습 결과 : {}'.format(i+1, accuracy_list.sum()/len(accuracy_list)))"
   ]
  },
  {
   "cell_type": "code",
   "execution_count": 28,
   "metadata": {},
   "outputs": [
    {
     "name": "stdout",
     "output_type": "stream",
     "text": [
      "최종 Accuracy : 0.6295499999999999\n"
     ]
    }
   ],
   "source": [
    "acc_list = np.array(acc_list)\n",
    "print('최종 Accuracy : {}'.format(acc_list .mean()))"
   ]
  },
  {
   "cell_type": "markdown",
   "metadata": {},
   "source": [
    "- [argmax()](https://numpy.org/doc/stable/reference/generated/numpy.argmax.html#numpy.argmax): 최대값의 index 반환\n",
    "- [equal()](https://numpy.org/doc/stable/reference/generated/numpy.equal.html?highlight=equal) : ndarray 비교\n",
    "- [array_split()](https://numpy.org/doc/stable/reference/generated/numpy.array_split.html#numpy.array_split) : ndarray 분할"
   ]
  }
 ],
 "metadata": {
  "kernelspec": {
   "display_name": "Python [conda env:data_env] *",
   "language": "python",
   "name": "conda-env-data_env-py"
  },
  "language_info": {
   "codemirror_mode": {
    "name": "ipython",
    "version": 3
   },
   "file_extension": ".py",
   "mimetype": "text/x-python",
   "name": "python",
   "nbconvert_exporter": "python",
   "pygments_lexer": "ipython3",
   "version": "3.7.9"
  }
 },
 "nbformat": 4,
 "nbformat_minor": 4
}
