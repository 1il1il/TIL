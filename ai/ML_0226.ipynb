{
 "cells": [
  {
   "cell_type": "code",
   "execution_count": 2,
   "metadata": {},
   "outputs": [],
   "source": [
    "import numpy as np\n",
    "import pandas as pd\n",
    "import tensorflow as tf\n",
    "import matplotlib.pyplot as plt\n",
    "\n",
    "from scipy import stats\n",
    "from sklearn import linear_model\n",
    "from sklearn.preprocessing import MinMaxScaler"
   ]
  },
  {
   "cell_type": "code",
   "execution_count": 9,
   "metadata": {},
   "outputs": [
    {
     "name": "stdout",
     "output_type": "stream",
     "text": [
      "103 (0, 1) [94.] [61.]\n"
     ]
    },
    {
     "data": {
      "text/html": [
       "<div>\n",
       "<style scoped>\n",
       "    .dataframe tbody tr th:only-of-type {\n",
       "        vertical-align: middle;\n",
       "    }\n",
       "\n",
       "    .dataframe tbody tr th {\n",
       "        vertical-align: top;\n",
       "    }\n",
       "\n",
       "    .dataframe thead th {\n",
       "        text-align: right;\n",
       "    }\n",
       "</style>\n",
       "<table border=\"1\" class=\"dataframe\">\n",
       "  <thead>\n",
       "    <tr style=\"text-align: right;\">\n",
       "      <th></th>\n",
       "      <th>Temp</th>\n",
       "      <th>Ozone</th>\n",
       "    </tr>\n",
       "  </thead>\n",
       "  <tbody>\n",
       "    <tr>\n",
       "      <th>0</th>\n",
       "      <td>0.181818</td>\n",
       "      <td>0.397849</td>\n",
       "    </tr>\n",
       "    <tr>\n",
       "      <th>1</th>\n",
       "      <td>0.333333</td>\n",
       "      <td>0.344086</td>\n",
       "    </tr>\n",
       "    <tr>\n",
       "      <th>2</th>\n",
       "      <td>0.393939</td>\n",
       "      <td>0.086022</td>\n",
       "    </tr>\n",
       "    <tr>\n",
       "      <th>3</th>\n",
       "      <td>0.030303</td>\n",
       "      <td>0.150538</td>\n",
       "    </tr>\n",
       "    <tr>\n",
       "      <th>5</th>\n",
       "      <td>0.151515</td>\n",
       "      <td>0.258065</td>\n",
       "    </tr>\n",
       "    <tr>\n",
       "      <th>...</th>\n",
       "      <td>...</td>\n",
       "      <td>...</td>\n",
       "    </tr>\n",
       "    <tr>\n",
       "      <th>147</th>\n",
       "      <td>0.060606</td>\n",
       "      <td>0.107527</td>\n",
       "    </tr>\n",
       "    <tr>\n",
       "      <th>148</th>\n",
       "      <td>0.272727</td>\n",
       "      <td>0.279570</td>\n",
       "    </tr>\n",
       "    <tr>\n",
       "      <th>150</th>\n",
       "      <td>0.424242</td>\n",
       "      <td>0.107527</td>\n",
       "    </tr>\n",
       "    <tr>\n",
       "      <th>151</th>\n",
       "      <td>0.454545</td>\n",
       "      <td>0.150538</td>\n",
       "    </tr>\n",
       "    <tr>\n",
       "      <th>152</th>\n",
       "      <td>0.212121</td>\n",
       "      <td>0.172043</td>\n",
       "    </tr>\n",
       "  </tbody>\n",
       "</table>\n",
       "<p>103 rows × 2 columns</p>\n",
       "</div>"
      ],
      "text/plain": [
       "         Temp     Ozone\n",
       "0    0.181818  0.397849\n",
       "1    0.333333  0.344086\n",
       "2    0.393939  0.086022\n",
       "3    0.030303  0.150538\n",
       "5    0.151515  0.258065\n",
       "..        ...       ...\n",
       "147  0.060606  0.107527\n",
       "148  0.272727  0.279570\n",
       "150  0.424242  0.107527\n",
       "151  0.454545  0.150538\n",
       "152  0.212121  0.172043\n",
       "\n",
       "[103 rows x 2 columns]"
      ]
     },
     "metadata": {},
     "output_type": "display_data"
    }
   ],
   "source": [
    "# Raw Data Loading\n",
    "df = pd.read_csv('../data/ozone.csv')\n",
    "training_data = df[['Temp', 'Ozone']]\n",
    "\n",
    "# 결측치 처리 (결측치 제거)\n",
    "training_data = training_data.dropna(how='any')\n",
    "\n",
    "# 이상치 처리 (이상치 제거)\n",
    "# z-scroe 이용\n",
    "zscore_threshold = 1.8\n",
    "\n",
    "# temp 확인\n",
    "# ~는 역 연산\n",
    "tmp = ~(np.abs(stats.zscore(training_data['Temp'])) > zscore_threshold)\n",
    "training_data = training_data.loc[tmp]\n",
    "\n",
    "# Ozone 확인\n",
    "tmp = ~(np.abs(stats.zscore(training_data['Ozone'])) > zscore_threshold)\n",
    "training_data = training_data.loc[tmp]\n",
    "\n",
    "# Min-Max Scaler를 이용한 정규화\n",
    "# Min-Max Scaler라고 불리는 객체 생성\n",
    "# 이 객체를 2개로 만듬 (Temp, Ozone)\n",
    "scaler_x = MinMaxScaler()\n",
    "scaler_t = MinMaxScaler()\n",
    "\n",
    "# fit()에 2차원 형태의 데이터로 넘겨줘야 한다\n",
    "scaler_x.fit(training_data['Temp'].values.reshape(-1,1))\n",
    "scaler_t.fit(training_data['Ozone'].values.reshape(-1,1))\n",
    "print(scaler_x.n_samples_seen_, scaler_x.feature_range,\n",
    "      scaler_x.data_max_, scaler_x.data_min_)\n",
    "training_data['Temp'] = scaler_x.transform(training_data['Temp'].values.reshape(-1,1))\n",
    "training_data['Ozone'] = scaler_t.transform(training_data['Ozone'].values.reshape(-1,1))\n",
    "display(training_data)"
   ]
  },
  {
   "cell_type": "code",
   "execution_count": 4,
   "metadata": {},
   "outputs": [
    {
     "name": "stdout",
     "output_type": "stream",
     "text": [
      "Device mapping:\n",
      "/job:localhost/replica:0/task:0/device:GPU:0 -> device: 0, name: GeForce GTX 1080, pci bus id: 0000:06:00.0, compute capability: 6.1\n",
      "\n"
     ]
    }
   ],
   "source": [
    "# Training Data Set\n",
    "x_data = training_data['Temp'].values.reshape(-1,1)\n",
    "t_data = training_data['Ozone'].values.reshape(-1,1)\n",
    "\n",
    "# 장치 확인\n",
    "tf.debugging.set_log_device_placement(True)\n",
    "\n",
    "# X, T\n",
    "X = tf.placeholder(shape=[None,1], dtype=tf.float32)\n",
    "T = tf.placeholder(shape=[None,1], dtype=tf.float32)\n",
    "\n",
    "# W & b\n",
    "W = tf.Variable(tf.random.normal([1,1]), name='weight')\n",
    "b = tf.Variable(tf.random.normal([1]), name='bias')\n",
    "\n",
    "# Hypothesis\n",
    "H = tf.matmul(X, W) + b\n",
    "\n",
    "# loss function\n",
    "loss = tf.reduce_mean(tf.square(H - T))\n",
    "\n",
    "# train\n",
    "train = tf.train.GradientDescentOptimizer(learning_rate=1e-4).minimize(loss)\n",
    "\n",
    "# session, 초기화\n",
    "sess = tf.Session()\n",
    "sess.run(tf.global_variables_initializer())"
   ]
  },
  {
   "cell_type": "code",
   "execution_count": 10,
   "metadata": {},
   "outputs": [
    {
     "name": "stdout",
     "output_type": "stream",
     "text": [
      "W : [[0.75973564]], b : [-0.02952323], loss : 0.03040917217731476\n",
      "W : [[0.7691569]], b : [-0.03453021], loss : 0.030370797961950302\n",
      "W : [[0.77584887]], b : [-0.03815271], loss : 0.030350729823112488\n",
      "W : [[0.78087306]], b : [-0.04083083], loss : 0.030339688062667847\n",
      "W : [[0.78444934]], b : [-0.04268894], loss : 0.03033391945064068\n",
      "W : [[0.7870307]], b : [-0.04414573], loss : 0.030330771580338478\n",
      "W : [[0.78881884]], b : [-0.04505163], loss : 0.030329158529639244\n",
      "W : [[0.790607]], b : [-0.04595754], loss : 0.030327975749969482\n",
      "W : [[0.7919033]], b : [-0.04670073], loss : 0.030327361077070236\n",
      "W : [[0.79228187]], b : [-0.04694228], loss : 0.030327225103974342\n"
     ]
    }
   ],
   "source": [
    "# learning\n",
    "for step in range(300000):\n",
    "    _,W_val,b_val,loss_Val = sess.run([train,W,b,loss], \n",
    "                                      feed_dict={X : x_data, T : t_data})\n",
    "    \n",
    "    if step % 30000 == 0:\n",
    "        print('W : {}, b : {}, loss : {}'.format(W_val,b_val,loss_Val))"
   ]
  },
  {
   "cell_type": "markdown",
   "metadata": {},
   "source": [
    "- sklearn"
   ]
  },
  {
   "cell_type": "code",
   "execution_count": 15,
   "metadata": {},
   "outputs": [
    {
     "name": "stdout",
     "output_type": "stream",
     "text": [
      "W : [[2.23956713]], b : [-137.09451328]\n"
     ]
    }
   ],
   "source": [
    "training_data = df[['Temp', 'Ozone']]\n",
    "training_data = training_data.dropna(how='any')\n",
    "\n",
    "# 이상치 처리 (이상치 제거)\n",
    "# z-scroe 이용\n",
    "zscore_threshold = 1.8\n",
    "\n",
    "# temp 확인\n",
    "# ~는 역 연산\n",
    "tmp = ~(np.abs(stats.zscore(training_data['Temp'])) > zscore_threshold)\n",
    "training_data = training_data.loc[tmp]\n",
    "\n",
    "# Ozone 확인\n",
    "tmp = ~(np.abs(stats.zscore(training_data['Ozone'])) > zscore_threshold)\n",
    "training_data = training_data.loc[tmp]\n",
    "\n",
    "\n",
    "\n",
    "model = linear_model.LinearRegression()\n",
    "model.fit(training_data['Temp'].values.reshape(-1,1), \n",
    "          training_data['Ozone'].values.reshape(-1,1))\n",
    "\n",
    "print('W : {}, b : {}'.format(model.coef_, model.intercept_))"
   ]
  },
  {
   "cell_type": "code",
   "execution_count": 16,
   "metadata": {},
   "outputs": [
    {
     "data": {
      "image/png": "[encoded data removed]",
      "text/plain": [
       "<Figure size 432x288 with 2 Axes>"
      ]
     },
     "metadata": {
      "needs_background": "light"
     },
     "output_type": "display_data"
    }
   ],
   "source": [
    "# Graph로 비교\n",
    "\n",
    "fig = plt.figure()\n",
    "fig_tensorflow = fig.add_subplot(1,2,1)\n",
    "fig_sklearn = fig.add_subplot(1,2,2)\n",
    "\n",
    "fig_tensorflow.set_title('Tensorflow Graph')\n",
    "fig_sklearn.set_title('Sklearn Graph')\n",
    "\n",
    "fig_tensorflow.scatter(x_data, t_data)\n",
    "fig_tensorflow.plot(x_data, x_data*W_val.ravel() + b_val.ravel(), color='r')\n",
    "\n",
    "fig_sklearn.scatter(training_data['Temp'].values.reshape(-1,1), \n",
    "                    training_data['Ozone'].values.reshape(-1,1))\n",
    "fig_sklearn.plot(training_data['Temp'].values.reshape(-1,1), \n",
    "                 training_data['Temp'].values.reshape(-1,1)*model.coef_ + model.intercept_, color='b')\n",
    "\n",
    "fig.tight_layout()"
   ]
  },
  {
   "cell_type": "code",
   "execution_count": 18,
   "metadata": {},
   "outputs": [
    {
     "name": "stdout",
     "output_type": "stream",
     "text": [
      "sklearn : [[1.75864872]]\n",
      "tensorflow : [[1.8616735]]\n"
     ]
    }
   ],
   "source": [
    "# prediction\n",
    "# Temp가 62일때 Ozone은?\n",
    "\n",
    "# sklearn\n",
    "skleran_result = model.predict([[62]])\n",
    "print('sklearn : {}'.format(skleran_result))\n",
    "\n",
    "predict_data = np.array([[62]])\n",
    "scaled_predict_data = scaler_x.transform(predict_data)\n",
    "\n",
    "# tensorflow\n",
    "tensorflow_result = sess.run(H, feed_dict={X : scaled_predict_data})\n",
    "\n",
    "# 정규화된 값 다시 원래대로 돌리기\n",
    "tensorflow_result = scaler_t.inverse_transform(tensorflow_result)\n",
    "\n",
    "print('tensorflow : {}'.format(tensorflow_result))"
   ]
  },
  {
   "cell_type": "markdown",
   "metadata": {},
   "source": [
    "# Mutiple Linear Regression\n",
    "---\n",
    "- 온도, 태양광 세기, 바람 세기를 이용하여 Ozone량을 예측"
   ]
  },
  {
   "cell_type": "code",
   "execution_count": 19,
   "metadata": {},
   "outputs": [
    {
     "name": "stdout",
     "output_type": "stream",
     "text": [
      "Once deleted, variables cannot be recovered. Proceed (y/[n])? y\n"
     ]
    }
   ],
   "source": [
    "%reset"
   ]
  },
  {
   "cell_type": "code",
   "execution_count": 20,
   "metadata": {},
   "outputs": [],
   "source": [
    "import numpy as np\n",
    "import pandas as pd\n",
    "import tensorflow as tf\n",
    "\n",
    "from scipy import stats\n",
    "from sklearn import linear_model\n",
    "from sklearn.preprocessing import MinMaxScaler"
   ]
  },
  {
   "cell_type": "code",
   "execution_count": 21,
   "metadata": {},
   "outputs": [
    {
     "name": "stdout",
     "output_type": "stream",
     "text": [
      "(153, 4)\n",
      "(111, 4)\n",
      "(86, 4)\n"
     ]
    }
   ],
   "source": [
    "# Raw Data Loading\n",
    "df = pd.read_csv('../data/ozone.csv')\n",
    "training_data = df[['Temp', 'Wind', 'Solar.R', 'Ozone']]\n",
    "print(training_data.shape)\n",
    "\n",
    "# 결측치 처리 (결측치 제거)\n",
    "training_data = training_data.dropna(how='any')\n",
    "print(training_data.shape)\n",
    "\n",
    "# 이상치 처리 \n",
    "zscore_threshold = 1.8\n",
    "\n",
    "for col in training_data.columns:\n",
    "    tmp = ~(np.abs(stats.zscore(training_data[col])) > zscore_threshold)\n",
    "    training_data = training_data.loc[tmp]\n",
    "\n",
    "print(training_data.shape)\n",
    "\n",
    "# 정규화\n",
    "scaler_x = MinMaxScaler()\n",
    "scaler_t = MinMaxScaler()\n",
    "\n",
    "scaler_x.fit(training_data[['Temp', 'Wind', 'Solar.R']].values)\n",
    "scaler_t.fit(training_data['Ozone'].values.reshape(-1,1))\n",
    "\n",
    "training_data_x = scaler_x.transform(training_data[['Temp', 'Wind', 'Solar.R']].values)\n",
    "training_data_t = scaler_t.transform(training_data['Ozone'].values.reshape(-1,1))"
   ]
  },
  {
   "cell_type": "markdown",
   "metadata": {},
   "source": [
    "- tensorflow"
   ]
  },
  {
   "cell_type": "code",
   "execution_count": 22,
   "metadata": {},
   "outputs": [
    {
     "name": "stdout",
     "output_type": "stream",
     "text": [
      "Device mapping:\n",
      "/job:localhost/replica:0/task:0/device:GPU:0 -> device: 0, name: GeForce GTX 1080, pci bus id: 0000:06:00.0, compute capability: 6.1\n",
      "\n"
     ]
    }
   ],
   "source": [
    "# X, T\n",
    "X = tf.placeholder(shape=[None,3], dtype=tf.float32)\n",
    "T = tf.placeholder(shape=[None,1], dtype=tf.float32)\n",
    "\n",
    "# W & b\n",
    "W = tf.Variable(tf.random.normal([3,1]), name='weight')\n",
    "b = tf.Variable(tf.random.normal([1]), name='bias')\n",
    "\n",
    "# Hypothesis\n",
    "H = tf.matmul(X, W) + b\n",
    "\n",
    "# loss function\n",
    "loss = tf.reduce_mean(tf.square(H - T))\n",
    "\n",
    "# train\n",
    "train = tf.train.GradientDescentOptimizer(learning_rate=1e-4).minimize(loss)\n",
    "\n",
    "# session, 초기화\n",
    "sess = tf.Session()\n",
    "sess.run(tf.global_variables_initializer())"
   ]
  },
  {
   "cell_type": "code",
   "execution_count": 23,
   "metadata": {},
   "outputs": [
    {
     "name": "stdout",
     "output_type": "stream",
     "text": [
      "W : [[ 0.17529766]\n",
      " [ 1.2674184 ]\n",
      " [-1.3677815 ]], b : [-1.2737067], loss : 3.2426156997680664\n",
      "W : [[ 0.89273316]\n",
      " [ 1.0522438 ]\n",
      " [-0.50205886]], b : [-0.34906504], loss : 0.17395035922527313\n",
      "W : [[ 0.987606  ]\n",
      " [ 0.62898636]\n",
      " [-0.2693085 ]], b : [-0.32501897], loss : 0.09154388308525085\n",
      "W : [[ 1.0139637 ]\n",
      " [ 0.3547525 ]\n",
      " [-0.11110581]], b : [-0.29471207], loss : 0.05705389380455017\n",
      "W : [[ 1.0056093 ]\n",
      " [ 0.17300667]\n",
      " [-0.00403198]], b : [-0.26196474], loss : 0.041633058339357376\n",
      "W : [[0.9813847 ]\n",
      " [0.04945968]\n",
      " [0.06802788]], b : [-0.22927274], loss : 0.03417971357703209\n",
      "W : [[ 0.95144784]\n",
      " [-0.03684982]\n",
      " [ 0.11614314]], b : [-0.19806832], loss : 0.03026585467159748\n",
      "W : [[ 0.9210495 ]\n",
      " [-0.09889071]\n",
      " [ 0.14784466]], b : [-0.16923913], loss : 0.028042644262313843\n",
      "W : [[ 0.8922833 ]\n",
      " [-0.14468585]\n",
      " [ 0.16849186]], b : [-0.14289524], loss : 0.026685332879424095\n",
      "W : [[ 0.8663821 ]\n",
      " [-0.1794173 ]\n",
      " [ 0.18158618]], b : [-0.11930069], loss : 0.025811700150370598\n"
     ]
    }
   ],
   "source": [
    "# learning\n",
    "for step in range(300000):\n",
    "    _,W_val,b_val,loss_Val = sess.run([train,W,b,loss], \n",
    "                                      feed_dict={X : training_data_x, \n",
    "                                                 T : training_data_t})\n",
    "    \n",
    "    if step % 30000 == 0:\n",
    "        print('W : {}, b : {}, loss : {}'.format(W_val,b_val,loss_Val))"
   ]
  },
  {
   "cell_type": "markdown",
   "metadata": {},
   "source": [
    "- sklearn"
   ]
  },
  {
   "cell_type": "code",
   "execution_count": 24,
   "metadata": {},
   "outputs": [
    {
     "name": "stdout",
     "output_type": "stream",
     "text": [
      "W : [[ 1.9400749  -2.7453281   0.05651878]], b : [-97.42698439]\n"
     ]
    }
   ],
   "source": [
    "# sklearn은 정규화를 알아서 하기 때문에 \n",
    "# 입력 데이터에 대한 정규화를 진행하지 않고 넣는다\n",
    "\n",
    "model = linear_model.LinearRegression()\n",
    "model.fit(training_data[['Temp', 'Wind', 'Solar.R']].values, \n",
    "          training_data['Ozone'].values.reshape(-1,1))\n",
    "\n",
    "print('W : {}, b : {}'.format(model.coef_, model.intercept_))"
   ]
  },
  {
   "cell_type": "code",
   "execution_count": 25,
   "metadata": {},
   "outputs": [
    {
     "name": "stdout",
     "output_type": "stream",
     "text": [
      "sklearn : [[38.8035437]]\n",
      "tensorflow : [[39.19742]]\n"
     ]
    }
   ],
   "source": [
    "# prediction\n",
    "# sklearn\n",
    "skleran_result = model.predict([[80,10,150]])\n",
    "print('sklearn : {}'.format(skleran_result))\n",
    "\n",
    "\n",
    "# tensorflow\n",
    "# 온도 바람 태양광세기 > [80,10,150]\n",
    "# 예측할때 정규화된 데이터를 사용해서 예측할때도 정규화된 데이터를 사용해야함\n",
    "\n",
    "predict_data = np.array([[80,10,150]])\n",
    "scaled_predict_data = scaler_x.transform(predict_data)\n",
    "\n",
    "tensorflow_result = sess.run(H, feed_dict={X : scaled_predict_data})\n",
    "\n",
    "# 예측된 값도 정규화된 값이니 이를 원래대로 돌려야함 \n",
    "tensorflow_result = scaler_t.inverse_transform(tensorflow_result)\n",
    "print('tensorflow : {}'.format(tensorflow_result))"
   ]
  }
 ],
 "metadata": {
  "kernelspec": {
   "display_name": "Python [conda env:data_env] *",
   "language": "python",
   "name": "conda-env-data_env-py"
  },
  "language_info": {
   "codemirror_mode": {
    "name": "ipython",
    "version": 3
   },
   "file_extension": ".py",
   "mimetype": "text/x-python",
   "name": "python",
   "nbconvert_exporter": "python",
   "pygments_lexer": "ipython3",
   "version": "3.7.9"
  }
 },
 "nbformat": 4,
 "nbformat_minor": 4
}
