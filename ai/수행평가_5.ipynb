{
 "cells": [
  {
   "cell_type": "code",
   "execution_count": null,
   "metadata": {},
   "outputs": [],
   "source": [
    "%reset"
   ]
  },
  {
   "cell_type": "code",
   "execution_count": 1,
   "metadata": {
    "scrolled": true
   },
   "outputs": [],
   "source": [
    "import numpy as np\n",
    "import pandas as pd\n",
    "import matplotlib.pyplot as plt\n",
    "import tensorflow as tf\n",
    "\n",
    "from sklearn.model_selection import train_test_split\n",
    "from sklearn.preprocessing import MinMaxScaler"
   ]
  },
  {
   "cell_type": "code",
   "execution_count": 2,
   "metadata": {},
   "outputs": [],
   "source": []
  },
  {
   "cell_type": "code",
   "execution_count": null,
   "metadata": {},
   "outputs": [],
   "source": [
    "df = pd.read_csv('../data/archive/fashion-mnist_train.csv')\n",
    "display(df.shape)\n",
    "\n",
    "# training test split\n",
    "x_train, x_test, t_train, t_test =\\\n",
    "train_test_split(df.drop(columns=['label']), pd.get_dummies(df['label']), \n",
    "                 test_size=0.2, random_state=0)\n",
    "\n",
    "# Normaliztion\n",
    "scaler = MinMaxScaler()\n",
    "scaler.fit(x_train)\n",
    "x_train_norm = scaler.transform(x_train)\n",
    "x_test_norm = scaler.transform(x_test)"
   ]
  },
  {
   "cell_type": "markdown",
   "metadata": {},
   "source": [
    "# Mutinomial Classification"
   ]
  },
  {
   "cell_type": "code",
   "execution_count": null,
   "metadata": {
    "scrolled": true
   },
   "outputs": [],
   "source": [
    "x_dim = x_train.shape[1]\n",
    "t_dim = t_train.shape[1]\n",
    "\n",
    "# placeholder\n",
    "X = tf.placeholder(shape=[None, x_dim], dtype=tf.float32)\n",
    "T = tf.placeholder(shape=[None, t_dim], dtype=tf.float32)\n",
    "\n",
    "# W & b\n",
    "W = tf.get_variable('W', shape=[x_dim, t_dim],\n",
    "                     initializer=tf.contrib.layers.xavier_initializer())\n",
    "b = tf.Variable(tf.random.normal([t_dim]))\n",
    "\n",
    "# Hypothesis\n",
    "logit = tf.matmul(X, W) + b\n",
    "H = tf.nn.softmax(logit)\n",
    "\n",
    "# loss function\n",
    "loss = tf.reduce_mean(tf.nn.softmax_cross_entropy_with_logits_v2(logits=logit, labels=T))\n",
    "\n",
    "# train\n",
    "train = tf.train.GradientDescentOptimizer(learning_rate=1e-1).minimize(loss)\n",
    "\n",
    "# session\n",
    "sess = tf.Session()\n",
    "sess.run(tf.global_variables_initializer())\n",
    "\n",
    "# 메모리 자동할당\n",
    "config = tf.ConfigProto()\n",
    "config.gpu_options.allow_growth = True"
   ]
  },
  {
   "cell_type": "code",
   "execution_count": null,
   "metadata": {
    "scrolled": true
   },
   "outputs": [],
   "source": [
    "# 반복학습 수 : epoch, 배치 : batch\n",
    "num_of_epoch = 1000\n",
    "batch_size = 500\n",
    "\n",
    "for step in range(num_of_epoch):\n",
    "    total_batch = int(x_train_norm.shape[0] / batch_size)\n",
    "\n",
    "    for i in range(total_batch):\n",
    "        batch_x = x_train_norm[i*batch_size:(i+1)*batch_size]\n",
    "        batch_t = t_train[i*batch_size:(i+1)*batch_size]\n",
    "        _, loss_val = sess.run([train, loss], feed_dict={X: batch_x, \n",
    "                                                         T: batch_t})\n",
    "    if step % 100 == 0:\n",
    "        print(f'loss : {loss_val}')"
   ]
  },
  {
   "cell_type": "code",
   "execution_count": null,
   "metadata": {
    "scrolled": true
   },
   "outputs": [],
   "source": [
    "# accuracy\n",
    "predict = np.argmax(sess.run(H, feed_dict = {X: x_test_norm}), axis=1)\n",
    "acc_list = np.equal(predict, np.argmax(t_test.values, axis=1))\n",
    "print('accuracy : {}'.format(acc_list.sum()/len(acc_list)))"
   ]
  },
  {
   "cell_type": "markdown",
   "metadata": {},
   "source": [
    "# Deep Nueral Network"
   ]
  },
  {
   "cell_type": "code",
   "execution_count": null,
   "metadata": {},
   "outputs": [],
   "source": [
    "%reset"
   ]
  },
  {
   "cell_type": "code",
   "execution_count": null,
   "metadata": {},
   "outputs": [],
   "source": [
    "import numpy as np\n",
    "import pandas as pd\n",
    "import matplotlib.pyplot as plt\n",
    "import tensorflow as tf\n",
    "\n",
    "from sklearn.model_selection import train_test_split\n",
    "from sklearn.preprocessing import MinMaxScaler\n",
    "\n",
    "\n",
    "df = pd.read_csv('../data/archive/fashion-mnist_train.csv')\n",
    "display(df.shape)\n",
    "\n",
    "# training test split\n",
    "x_train, x_test, t_train, t_test =\\\n",
    "train_test_split(df.drop(columns=['label']), pd.get_dummies(df['label']), \n",
    "                 test_size=0.2, random_state=0)\n",
    "\n",
    "# Normaliztion\n",
    "scaler = MinMaxScaler()\n",
    "scaler.fit(x_train)\n",
    "x_train_norm = scaler.transform(x_train)\n",
    "x_test_norm = scaler.transform(x_test)"
   ]
  },
  {
   "cell_type": "code",
   "execution_count": null,
   "metadata": {
    "scrolled": true
   },
   "outputs": [],
   "source": [
    "x_dim = x_train.shape[1]\n",
    "t_dim = t_train.shape[1]\n",
    "\n",
    "# placeholder\n",
    "X = tf.placeholder(shape=[None, x_dim], dtype=tf.float32)\n",
    "T = tf.placeholder(shape=[None, t_dim], dtype=tf.float32)\n",
    "\n",
    "# W & b\n",
    "W2 = tf.get_variable('W2', shape=[x_dim, 64],\n",
    "                     initializer=tf.contrib.layers.xavier_initializer())\n",
    "b2 = tf.Variable(tf.random.normal([64]))\n",
    "layer2 = tf.nn.relu(tf.matmul(X, W2) + b2)\n",
    "\n",
    "W3 = tf.get_variable('W3', shape=[64, 32], \n",
    "                     initializer=tf.contrib.layers.xavier_initializer())\n",
    "b3 = tf.Variable(tf.random.normal([32]))\n",
    "layer3 = tf.nn.relu(tf.matmul(layer2, W3) + b3)\n",
    "\n",
    "W4 = tf.get_variable('W4', shape=[32, 16], \n",
    "                     initializer=tf.contrib.layers.xavier_initializer())\n",
    "b4 = tf.Variable(tf.random.normal([16]))\n",
    "layer4 = tf.nn.relu(tf.matmul(layer3, W4) + b4)\n",
    "\n",
    "W5 = tf.get_variable('W5', shape=[16, t_dim], \n",
    "                     initializer=tf.contrib.layers.xavier_initializer())\n",
    "b5 = tf.Variable(tf.random.normal([t_dim]))\n",
    "\n",
    "# hypothesis\n",
    "logit = tf.matmul(layer4, W5) +b5\n",
    "H = tf.nn.softmax(logit)\n",
    "\n",
    "# loss function\n",
    "loss = tf.reduce_mean(tf.nn.softmax_cross_entropy_with_logits_v2(logits=logit, \n",
    "                                                                 labels=T))\n",
    "\n",
    "# train\n",
    "train = tf.train.GradientDescentOptimizer(learning_rate=1e-1).minimize(loss)\n",
    "\n",
    "# session\n",
    "sess = tf.Session()\n",
    "sess.run(tf.global_variables_initializer())\n",
    "\n",
    "# 메모리 자동할당\n",
    "config = tf.ConfigProto()\n",
    "config.gpu_options.allow_growth = True"
   ]
  },
  {
   "cell_type": "code",
   "execution_count": null,
   "metadata": {
    "scrolled": true
   },
   "outputs": [],
   "source": [
    "# 반복학습 수 : epoch, 배치 : batch\n",
    "num_of_epoch = 1000\n",
    "batch_size = 500\n",
    "\n",
    "for step in range(num_of_epoch):\n",
    "    total_batch = int(x_train_norm.shape[0] / batch_size)\n",
    "\n",
    "    for i in range(total_batch):\n",
    "        batch_x = x_train_norm[i*batch_size:(i+1)*batch_size]\n",
    "        batch_t = t_train[i*batch_size:(i+1)*batch_size]\n",
    "        _, loss_val = sess.run([train, loss], feed_dict={X: batch_x, \n",
    "                                                         T: batch_t})\n",
    "    if step % 100 == 0:\n",
    "        print(f'loss : {loss_val}')"
   ]
  },
  {
   "cell_type": "code",
   "execution_count": null,
   "metadata": {
    "scrolled": true
   },
   "outputs": [],
   "source": [
    "# accuracy\n",
    "predict = np.argmax(sess.run(H, feed_dict = {X: x_test_norm}), axis=1)\n",
    "acc_list = np.equal(predict, np.argmax(t_test.values, axis=1))\n",
    "print('accuracy : {}'.format(acc_list.sum()/len(acc_list)))"
   ]
  },
  {
   "cell_type": "markdown",
   "metadata": {},
   "source": [
    "# Convolution Neural Network"
   ]
  },
  {
   "cell_type": "code",
   "execution_count": null,
   "metadata": {
    "scrolled": true
   },
   "outputs": [],
   "source": [
    "%reset"
   ]
  },
  {
   "cell_type": "code",
   "execution_count": 1,
   "metadata": {
    "scrolled": true
   },
   "outputs": [],
   "source": [
    "import numpy as np\n",
    "import pandas as pd\n",
    "import matplotlib.pyplot as plt\n",
    "import tensorflow as tf\n",
    "\n",
    "from sklearn.model_selection import train_test_split\n",
    "from sklearn.preprocessing import MinMaxScaler\n",
    "\n",
    "\n",
    "df = pd.read_csv('../data/archive/fashion-mnist_train.csv')\n",
    "\n",
    "# training test split\n",
    "x_train, x_test, t_train, t_test =\\\n",
    "train_test_split(df.drop(columns=['label']).values, \n",
    "                 pd.get_dummies(df['label']).values, \n",
    "                 test_size=0.2, random_state=0)\n",
    "\n",
    "# Normaliztion\n",
    "scaler = MinMaxScaler()\n",
    "scaler.fit(x_train)\n",
    "x_train_norm = scaler.transform(x_train)\n",
    "x_test_norm = scaler.transform(x_test)"
   ]
  },
  {
   "cell_type": "code",
   "execution_count": 2,
   "metadata": {},
   "outputs": [],
   "source": [
    "# 형태 변환\n",
    "x_train_norm = x_train_norm.reshape((x_train_norm.shape[0], ) + (28, 28, 1))\n",
    "x_test_norm = x_test_norm.reshape((x_test_norm.shape[0], ) + (28, 28, 1))"
   ]
  },
  {
   "cell_type": "code",
   "execution_count": 3,
   "metadata": {
    "scrolled": true
   },
   "outputs": [
    {
     "name": "stdout",
     "output_type": "stream",
     "text": [
      "WARNING:tensorflow:\n",
      "The TensorFlow contrib module will not be included in TensorFlow 2.0.\n",
      "For more information, please see:\n",
      "  * https://github.com/tensorflow/community/blob/master/rfcs/20180907-contrib-sunset.md\n",
      "  * https://github.com/tensorflow/addons\n",
      "  * https://github.com/tensorflow/io (for I/O related ops)\n",
      "If you depend on functionality not listed there, please file an issue.\n",
      "\n"
     ]
    }
   ],
   "source": [
    "# placeholder\n",
    "X = tf.placeholder(shape=[None, 28, 28 ,1], dtype=tf.float32)\n",
    "T = tf.placeholder(shape=[None, 10], dtype=tf.float32)\n",
    "\n",
    "# filter\n",
    "weight = tf.get_variable('filter', shape=[3, 3, 1, 32],\n",
    "                         initializer=tf.contrib.layers.xavier_initializer_conv2d())\n",
    "\n",
    "# convolution\n",
    "conv2d = tf.nn.conv2d(X, weight, \n",
    "                      strides=[1,1,1,1], padding='SAME')\n",
    "\n",
    "# relu\n",
    "relu = tf.nn.relu(conv2d)\n",
    "\n",
    "# pooling\n",
    "pooling = tf.nn.max_pool(relu, ksize=[1, 2, 2, 1], \n",
    "                         strides=[1, 2, 2, 1], padding='VALID')\n",
    "\n",
    "# filter 2\n",
    "weight2 = tf.get_variable('filter2', shape=[3, 3, 32, 64],\n",
    "                          initializer=tf.contrib.layers.xavier_initializer_conv2d())\n",
    "\n",
    "# convolution 2\n",
    "conv2d2 = tf.nn.conv2d(pooling, weight, \n",
    "                       strides=[1,1,1,1], padding='SAME')\n",
    "\n",
    "# relu 2\n",
    "relu2 = tf.nn.relu(conv2d2)\n",
    "\n",
    "# pooling 2\n",
    "pooling2 = tf.nn.max_pool(relu2, ksize=[1, 2, 2, 1], \n",
    "                          strides=[1, 2, 2, 1], padding='VALID')"
   ]
  },
  {
   "cell_type": "code",
   "execution_count": 4,
   "metadata": {},
   "outputs": [],
   "source": [
    "# flatten\n",
    "flatten = tf.layers.Flatten()(pooling2)\n",
    "\n",
    "# W & b\n",
    "W = tf.get_variable('W', shape=[7*7*32, 10],\n",
    "                     initializer=tf.contrib.layers.xavier_initializer())\n",
    "b = tf.Variable(tf.random.normal([10]))\n",
    "\n",
    "# hypothesis\n",
    "logit = tf.matmul(flatten, W) + b\n",
    "H = tf.nn.softmax(logit)\n",
    "\n",
    "# loss function\n",
    "loss = tf.reduce_mean(tf.nn.softmax_cross_entropy_with_logits_v2(logits=logit, \n",
    "                                                                 labels=T))\n",
    "\n",
    "# train\n",
    "train = tf.train.GradientDescentOptimizer(learning_rate=1e-1).minimize(loss)\n",
    "\n",
    "# session\n",
    "sess = tf.Session()\n",
    "sess.run(tf.global_variables_initializer())\n",
    "\n",
    "# 메모리 자동할당\n",
    "config = tf.ConfigProto()\n",
    "config.gpu_options.allow_growth = True"
   ]
  },
  {
   "cell_type": "code",
   "execution_count": 5,
   "metadata": {
    "scrolled": true
   },
   "outputs": [
    {
     "name": "stdout",
     "output_type": "stream",
     "text": [
      "loss : 1.052390456199646\n",
      "loss : 0.29914262890815735\n",
      "loss : 0.25456565618515015\n",
      "loss : 0.23105260729789734\n",
      "loss : 0.21300745010375977\n",
      "loss : 0.1981213092803955\n",
      "loss : 0.18807634711265564\n",
      "loss : 0.17776024341583252\n",
      "loss : 0.16892750561237335\n",
      "loss : 0.1635776311159134\n"
     ]
    }
   ],
   "source": [
    "# 반복학습 수 : epoch, 배치 : batch\n",
    "num_of_epoch = 1000\n",
    "batch_size = 500\n",
    "\n",
    "for step in range(num_of_epoch):\n",
    "    total_batch = int(x_train_norm.shape[0] / batch_size)\n",
    "\n",
    "    for i in range(total_batch):\n",
    "        batch_x = x_train_norm[i*batch_size:(i+1)*batch_size]\n",
    "        batch_t = t_train[i*batch_size:(i+1)*batch_size]\n",
    "        _, loss_val = sess.run([train, loss], feed_dict={X: batch_x, \n",
    "                                                         T: batch_t})\n",
    "    if step % 100 == 0:\n",
    "        print(f'loss : {loss_val}')"
   ]
  },
  {
   "cell_type": "code",
   "execution_count": 6,
   "metadata": {},
   "outputs": [
    {
     "name": "stdout",
     "output_type": "stream",
     "text": [
      "accuracy : 0.895\n"
     ]
    }
   ],
   "source": [
    "# accuracy\n",
    "predict = np.argmax(sess.run(H, feed_dict = {X: x_test_norm}), axis=1)\n",
    "acc_list = np.equal(predict, np.argmax(t_test, axis=1))\n",
    "print('accuracy : {}'.format(acc_list.sum()/len(acc_list)))"
   ]
  }
 ],
 "metadata": {
  "kernelspec": {
   "display_name": "Python [conda env:data_env]",
   "language": "python",
   "name": "conda-env-data_env-py"
  },
  "language_info": {
   "codemirror_mode": {
    "name": "ipython",
    "version": 3
   },
   "file_extension": ".py",
   "mimetype": "text/x-python",
   "name": "python",
   "nbconvert_exporter": "python",
   "pygments_lexer": "ipython3",
   "version": "3.7.9"
  }
 },
 "nbformat": 4,
 "nbformat_minor": 4
}
