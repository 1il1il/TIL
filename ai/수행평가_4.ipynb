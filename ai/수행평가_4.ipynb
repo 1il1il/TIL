{
 "cells": [
  {
   "cell_type": "markdown",
   "metadata": {},
   "source": [
    "- [데이터셋 출처](https://www.kaggle.com/c/digit-recognizer/overview)"
   ]
  },
  {
   "cell_type": "code",
   "execution_count": 2,
   "metadata": {},
   "outputs": [],
   "source": [
    "import numpy as np\n",
    "import pandas as pd\n",
    "import tensorflow as tf\n",
    "import matplotlib.pyplot as plt\n",
    "import cv2\n",
    "from sklearn.model_selection import train_test_split\n",
    "from sklearn.model_selection import KFold\n",
    "from sklearn.preprocessing import MinMaxScaler"
   ]
  },
  {
   "cell_type": "code",
   "execution_count": 3,
   "metadata": {},
   "outputs": [
    {
     "data": {
      "text/html": [
       "<div>\n",
       "<style scoped>\n",
       "    .dataframe tbody tr th:only-of-type {\n",
       "        vertical-align: middle;\n",
       "    }\n",
       "\n",
       "    .dataframe tbody tr th {\n",
       "        vertical-align: top;\n",
       "    }\n",
       "\n",
       "    .dataframe thead th {\n",
       "        text-align: right;\n",
       "    }\n",
       "</style>\n",
       "<table border=\"1\" class=\"dataframe\">\n",
       "  <thead>\n",
       "    <tr style=\"text-align: right;\">\n",
       "      <th></th>\n",
       "      <th>label</th>\n",
       "      <th>pixel0</th>\n",
       "      <th>pixel1</th>\n",
       "      <th>pixel2</th>\n",
       "      <th>pixel3</th>\n",
       "      <th>pixel4</th>\n",
       "      <th>pixel5</th>\n",
       "      <th>pixel6</th>\n",
       "      <th>pixel7</th>\n",
       "      <th>pixel8</th>\n",
       "      <th>...</th>\n",
       "      <th>pixel774</th>\n",
       "      <th>pixel775</th>\n",
       "      <th>pixel776</th>\n",
       "      <th>pixel777</th>\n",
       "      <th>pixel778</th>\n",
       "      <th>pixel779</th>\n",
       "      <th>pixel780</th>\n",
       "      <th>pixel781</th>\n",
       "      <th>pixel782</th>\n",
       "      <th>pixel783</th>\n",
       "    </tr>\n",
       "  </thead>\n",
       "  <tbody>\n",
       "    <tr>\n",
       "      <th>0</th>\n",
       "      <td>1</td>\n",
       "      <td>0</td>\n",
       "      <td>0</td>\n",
       "      <td>0</td>\n",
       "      <td>0</td>\n",
       "      <td>0</td>\n",
       "      <td>0</td>\n",
       "      <td>0</td>\n",
       "      <td>0</td>\n",
       "      <td>0</td>\n",
       "      <td>...</td>\n",
       "      <td>0</td>\n",
       "      <td>0</td>\n",
       "      <td>0</td>\n",
       "      <td>0</td>\n",
       "      <td>0</td>\n",
       "      <td>0</td>\n",
       "      <td>0</td>\n",
       "      <td>0</td>\n",
       "      <td>0</td>\n",
       "      <td>0</td>\n",
       "    </tr>\n",
       "    <tr>\n",
       "      <th>1</th>\n",
       "      <td>0</td>\n",
       "      <td>0</td>\n",
       "      <td>0</td>\n",
       "      <td>0</td>\n",
       "      <td>0</td>\n",
       "      <td>0</td>\n",
       "      <td>0</td>\n",
       "      <td>0</td>\n",
       "      <td>0</td>\n",
       "      <td>0</td>\n",
       "      <td>...</td>\n",
       "      <td>0</td>\n",
       "      <td>0</td>\n",
       "      <td>0</td>\n",
       "      <td>0</td>\n",
       "      <td>0</td>\n",
       "      <td>0</td>\n",
       "      <td>0</td>\n",
       "      <td>0</td>\n",
       "      <td>0</td>\n",
       "      <td>0</td>\n",
       "    </tr>\n",
       "    <tr>\n",
       "      <th>2</th>\n",
       "      <td>1</td>\n",
       "      <td>0</td>\n",
       "      <td>0</td>\n",
       "      <td>0</td>\n",
       "      <td>0</td>\n",
       "      <td>0</td>\n",
       "      <td>0</td>\n",
       "      <td>0</td>\n",
       "      <td>0</td>\n",
       "      <td>0</td>\n",
       "      <td>...</td>\n",
       "      <td>0</td>\n",
       "      <td>0</td>\n",
       "      <td>0</td>\n",
       "      <td>0</td>\n",
       "      <td>0</td>\n",
       "      <td>0</td>\n",
       "      <td>0</td>\n",
       "      <td>0</td>\n",
       "      <td>0</td>\n",
       "      <td>0</td>\n",
       "    </tr>\n",
       "    <tr>\n",
       "      <th>3</th>\n",
       "      <td>4</td>\n",
       "      <td>0</td>\n",
       "      <td>0</td>\n",
       "      <td>0</td>\n",
       "      <td>0</td>\n",
       "      <td>0</td>\n",
       "      <td>0</td>\n",
       "      <td>0</td>\n",
       "      <td>0</td>\n",
       "      <td>0</td>\n",
       "      <td>...</td>\n",
       "      <td>0</td>\n",
       "      <td>0</td>\n",
       "      <td>0</td>\n",
       "      <td>0</td>\n",
       "      <td>0</td>\n",
       "      <td>0</td>\n",
       "      <td>0</td>\n",
       "      <td>0</td>\n",
       "      <td>0</td>\n",
       "      <td>0</td>\n",
       "    </tr>\n",
       "    <tr>\n",
       "      <th>4</th>\n",
       "      <td>0</td>\n",
       "      <td>0</td>\n",
       "      <td>0</td>\n",
       "      <td>0</td>\n",
       "      <td>0</td>\n",
       "      <td>0</td>\n",
       "      <td>0</td>\n",
       "      <td>0</td>\n",
       "      <td>0</td>\n",
       "      <td>0</td>\n",
       "      <td>...</td>\n",
       "      <td>0</td>\n",
       "      <td>0</td>\n",
       "      <td>0</td>\n",
       "      <td>0</td>\n",
       "      <td>0</td>\n",
       "      <td>0</td>\n",
       "      <td>0</td>\n",
       "      <td>0</td>\n",
       "      <td>0</td>\n",
       "      <td>0</td>\n",
       "    </tr>\n",
       "  </tbody>\n",
       "</table>\n",
       "<p>5 rows × 785 columns</p>\n",
       "</div>"
      ],
      "text/plain": [
       "   label  pixel0  pixel1  pixel2  pixel3  pixel4  pixel5  pixel6  pixel7  \\\n",
       "0      1       0       0       0       0       0       0       0       0   \n",
       "1      0       0       0       0       0       0       0       0       0   \n",
       "2      1       0       0       0       0       0       0       0       0   \n",
       "3      4       0       0       0       0       0       0       0       0   \n",
       "4      0       0       0       0       0       0       0       0       0   \n",
       "\n",
       "   pixel8  ...  pixel774  pixel775  pixel776  pixel777  pixel778  pixel779  \\\n",
       "0       0  ...         0         0         0         0         0         0   \n",
       "1       0  ...         0         0         0         0         0         0   \n",
       "2       0  ...         0         0         0         0         0         0   \n",
       "3       0  ...         0         0         0         0         0         0   \n",
       "4       0  ...         0         0         0         0         0         0   \n",
       "\n",
       "   pixel780  pixel781  pixel782  pixel783  \n",
       "0         0         0         0         0  \n",
       "1         0         0         0         0  \n",
       "2         0         0         0         0  \n",
       "3         0         0         0         0  \n",
       "4         0         0         0         0  \n",
       "\n",
       "[5 rows x 785 columns]"
      ]
     },
     "metadata": {},
     "output_type": "display_data"
    },
    {
     "data": {
      "text/plain": [
       "(42000, 785)"
      ]
     },
     "metadata": {},
     "output_type": "display_data"
    }
   ],
   "source": [
    "df = pd.read_csv('../data/digit-recognizer/train.csv')\n",
    "display(df.head(), df.shape)"
   ]
  },
  {
   "cell_type": "code",
   "execution_count": 4,
   "metadata": {},
   "outputs": [
    {
     "data": {
      "text/plain": [
       "0"
      ]
     },
     "metadata": {},
     "output_type": "display_data"
    }
   ],
   "source": [
    "# 결측치 확인\n",
    "display(df.isnull().sum().sum())\n",
    "# 결측치 없음"
   ]
  },
  {
   "cell_type": "code",
   "execution_count": 5,
   "metadata": {},
   "outputs": [],
   "source": [
    "# 이상치 뭘 봐야 이상치인지 모르겠음..."
   ]
  },
  {
   "cell_type": "code",
   "execution_count": 6,
   "metadata": {},
   "outputs": [],
   "source": [
    "# training data set\n",
    "x_data = df.drop(columns=['label']).values.reshape(-1,784)\n",
    "t_data = df['label'].values"
   ]
  },
  {
   "cell_type": "code",
   "execution_count": 7,
   "metadata": {},
   "outputs": [],
   "source": [
    "# label one hot encoding\n",
    "sess = tf.Session()\n",
    "t_data_onehot = sess.run(tf.one_hot(t_data, depth=10))"
   ]
  },
  {
   "cell_type": "code",
   "execution_count": 8,
   "metadata": {},
   "outputs": [],
   "source": [
    "# 데이터 정규화\n",
    "scaler = MinMaxScaler()\n",
    "scaler.fit(x_data)\n",
    "x_data_norm = scaler.transform(x_data)"
   ]
  },
  {
   "cell_type": "code",
   "execution_count": 9,
   "metadata": {},
   "outputs": [],
   "source": [
    "# tensorflow 구현\n",
    "\n",
    "# placeholder\n",
    "X = tf.placeholder(shape=[None, 784], dtype=tf.float32)\n",
    "T = tf.placeholder(shape=[None, 10], dtype=tf.float32)\n",
    "\n",
    "# W & b\n",
    "W = tf.Variable(tf.random.normal([784, 10]), name='weight')\n",
    "b = tf.Variable(tf.random.normal([10]), name='bias')\n",
    "\n",
    "# Hypothesis\n",
    "logit = tf.matmul(X, W) + b\n",
    "H = tf.nn.softmax(logit)\n",
    "\n",
    "# loss\n",
    "loss = tf.reduce_mean(tf.nn.softmax_cross_entropy_with_logits_v2(logits=logit, \n",
    "                                                                 labels=T))\n",
    "\n",
    "# train\n",
    "train = tf.train.GradientDescentOptimizer(learning_rate=0.1).minimize(loss)"
   ]
  },
  {
   "cell_type": "code",
   "execution_count": 10,
   "metadata": {},
   "outputs": [],
   "source": [
    "# parameter\n",
    "num_of_epoch = 1000\n",
    "batch_size = 100\n",
    "# 한번에 최대한 많은 양의 데이터를 넣는게 좋긴하다\n",
    "\n",
    "# learning\n",
    "\n",
    "# 학습용 함수\n",
    "def run_train(sess, train_x, train_t):\n",
    "    print('### 학습 시작 ###')\n",
    "    # 초기화\n",
    "    sess.run(tf.global_variables_initializer())\n",
    "    \n",
    "    for step in range(num_of_epoch):\n",
    "        total_batch = int(train_x.shape[0] / batch_size)\n",
    "        \n",
    "        for i in range(total_batch):\n",
    "            batch_x = train_x[i*batch_size:(i+1)*batch_size]\n",
    "            batch_t = train_t[i*batch_size:(i+1)*batch_size]\n",
    "            \n",
    "            _, loss_val = sess.run([train,loss], \n",
    "                                   feed_dict={X: batch_x, T: batch_t})\n",
    "            \n",
    "        if step % (num_of_epoch/10) == 0:\n",
    "            print('loss : {}'.format(loss_val))\n",
    "    print('### 학습 종료 ###')\n",
    "    \n",
    "\n",
    "# Accuracy 측정\n",
    "predict = tf.argmax(H, 1)\n",
    "correct = tf.equal(predict, tf.argmax(T, 1))\n",
    "accuracy = tf.reduce_mean(tf.cast(correct, dtype=tf.float32))"
   ]
  },
  {
   "cell_type": "code",
   "execution_count": 11,
   "metadata": {},
   "outputs": [
    {
     "name": "stdout",
     "output_type": "stream",
     "text": [
      "### 학습 시작 ###\n",
      "loss : 1.7563717365264893\n",
      "loss : 0.15828576683998108\n",
      "loss : 0.1372399926185608\n",
      "loss : 0.1297493726015091\n",
      "loss : 0.1253158301115036\n",
      "loss : 0.12185914814472198\n",
      "loss : 0.11892298609018326\n",
      "loss : 0.11636702716350555\n",
      "loss : 0.11412828415632248\n",
      "loss : 0.11216562241315842\n",
      "### 학습 종료 ###\n",
      "### 학습 시작 ###\n",
      "loss : 1.8726038932800293\n",
      "loss : 0.3201402425765991\n",
      "loss : 0.23956674337387085\n",
      "loss : 0.2111911177635193\n",
      "loss : 0.19729496538639069\n",
      "loss : 0.18933826684951782\n",
      "loss : 0.18415065109729767\n",
      "loss : 0.18036392331123352\n",
      "loss : 0.17735646665096283\n",
      "loss : 0.1748373657464981\n",
      "### 학습 종료 ###\n",
      "### 학습 시작 ###\n",
      "loss : 1.8185615539550781\n",
      "loss : 0.21288911998271942\n",
      "loss : 0.1665959358215332\n",
      "loss : 0.14666688442230225\n",
      "loss : 0.13808833062648773\n",
      "loss : 0.1343834549188614\n",
      "loss : 0.13268011808395386\n",
      "loss : 0.13185717165470123\n",
      "loss : 0.13143333792686462\n",
      "loss : 0.13117246329784393\n",
      "### 학습 종료 ###\n",
      "측정한 각각의 결과값 : [0.9105, 0.91585714, 0.90742856]\n",
      "최종 k-fold 교차검증을 사용한 Accuracy : 0.9112618565559387\n"
     ]
    }
   ],
   "source": [
    "# learning with kfold\n",
    "cv = 3\n",
    "results = []\n",
    "\n",
    "kf = KFold(n_splits=cv, shuffle=True)\n",
    "\n",
    "for train_idx, val_idx in kf.split(x_data_norm):\n",
    "    training_x = x_data_norm[train_idx]\n",
    "    training_t = t_data_onehot[train_idx]\n",
    "    \n",
    "    val_x = x_data_norm[val_idx]\n",
    "    val_t = t_data_onehot[val_idx]\n",
    "    \n",
    "    run_train(sess, training_x, training_t)\n",
    "    results.append(sess.run(accuracy, feed_dict={X: val_x, T: val_t}))\n",
    "\n",
    "print('측정한 각각의 결과값 : {}'.format(results))\n",
    "print('최종 k-fold 교차검증을 사용한 Accuracy : {}'.format(np.mean(results)))"
   ]
  },
  {
   "cell_type": "code",
   "execution_count": 12,
   "metadata": {},
   "outputs": [],
   "source": [
    "# test용 data\n",
    "test_df = pd.read_csv('../data/digit-recognizer/test.csv')\n",
    "test_data = test_df.values.reshape(-1,784)\n",
    "test_data_norm = scaler.transform(test_data)\n",
    "\n",
    "# Test Data Set을 이용하여 예측\n",
    "result = sess.run(predict, feed_dict={X: test_data_norm})\n",
    "\n",
    "# 예측결과를 test data에 결합\n",
    "test_df.loc[:,'label'] = result"
   ]
  },
  {
   "cell_type": "code",
   "execution_count": 13,
   "metadata": {},
   "outputs": [],
   "source": [
    "# 예측결과 비교 함수\n",
    "def check_result(df):\n",
    "    # 임의의 index 번호 생성\n",
    "    tmp_num = np.random.randint(df.shape[0])\n",
    "    # 임의의 index 번호에 대한 실제 데이터 그림\n",
    "    plt.imshow(df.drop(columns=['label']).loc[tmp_num].values.reshape(28,28), \n",
    "               cmap='Greys')\n",
    "    plt.title('Actual Value')\n",
    "    plt.show()\n",
    "    \n",
    "    # 임의 index 번호에 대한 예측 결과\n",
    "    print('Predict Value : {}'.format(df.loc[tmp_num,'label']))"
   ]
  },
  {
   "cell_type": "code",
   "execution_count": 14,
   "metadata": {},
   "outputs": [
    {
     "data": {
      "image/png": "[encoded data removed]",
      "text/plain": [
       "<Figure size 432x288 with 1 Axes>"
      ]
     },
     "metadata": {
      "needs_background": "light"
     },
     "output_type": "display_data"
    },
    {
     "name": "stdout",
     "output_type": "stream",
     "text": [
      "Predict Value : 4\n"
     ]
    }
   ],
   "source": [
    "check_result(test_df)"
   ]
  },
  {
   "cell_type": "code",
   "execution_count": null,
   "metadata": {},
   "outputs": [],
   "source": [
    "# 제출 파일 작성\n",
    "submission = pd.read_csv('../data/digit-recognizer/sample_submission.csv')\n",
    "submission['Label'] = result\n",
    "submission.to_csv('../data/digit-recognizer/submission.csv', index=False)"
   ]
  },
  {
   "cell_type": "code",
   "execution_count": 21,
   "metadata": {},
   "outputs": [],
   "source": [
    "# 임의의 사진으로 예측하기\n",
    "# 이미지 url을 이용해 예측을 진행하고 예측결과와 실제결과 출력\n",
    "def predict_img(url):\n",
    "    # 이미지 가져오기\n",
    "    my_img = cv2.imread(url, cv2.IMREAD_COLOR)\n",
    "    # 흑백으로 변환\n",
    "    img_grey = cv2.cvtColor(my_img, cv2.COLOR_BGR2GRAY)\n",
    "    # 반전\n",
    "    img_grey = 255 - np.array(img_grey)\n",
    "    \n",
    "    # 예측용 데이터 생성\n",
    "    x_data = img_grey.reshape(-1, 784)\n",
    "    x_data_norm = scaler.transform(x_data)\n",
    "    \n",
    "    # 예측 결과\n",
    "    result = sess.run(predict, feed_dict={X: x_data_norm})\n",
    "    \n",
    "    # 임의의 index 번호에 대한 실제 데이터 그림\n",
    "    plt.imshow(x_data.reshape(28,28), cmap='Greys')\n",
    "    plt.title('Actual Value')\n",
    "    plt.show()\n",
    "    \n",
    "    # 임의 index 번호에 대한 예측 결과\n",
    "    print('Predict Value : {}'.format(result))"
   ]
  },
  {
   "cell_type": "code",
   "execution_count": 29,
   "metadata": {},
   "outputs": [
    {
     "data": {
      "image/png": "[encoded data removed]",
      "text/plain": [
       "<Figure size 432x288 with 1 Axes>"
      ]
     },
     "metadata": {
      "needs_background": "light"
     },
     "output_type": "display_data"
    },
    {
     "name": "stdout",
     "output_type": "stream",
     "text": [
      "Predict Value : [7]\n"
     ]
    }
   ],
   "source": [
    "img_url = '../data/digit-recognizer/sample.jpg'\n",
    "predict_img(img_url)"
   ]
  }
 ],
 "metadata": {
  "kernelspec": {
   "display_name": "Python [conda env:data_env]",
   "language": "python",
   "name": "conda-env-data_env-py"
  },
  "language_info": {
   "codemirror_mode": {
    "name": "ipython",
    "version": 3
   },
   "file_extension": ".py",
   "mimetype": "text/x-python",
   "name": "python",
   "nbconvert_exporter": "python",
   "pygments_lexer": "ipython3",
   "version": "3.7.9"
  }
 },
 "nbformat": 4,
 "nbformat_minor": 4
}
