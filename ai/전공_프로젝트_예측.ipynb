{
 "cells": [
  {
   "cell_type": "code",
   "execution_count": 1,
   "id": "demographic-florida",
   "metadata": {},
   "outputs": [],
   "source": [
    "import os\n",
    "import cv2 as cv\n",
    "import numpy as np\n",
    "import matplotlib.pyplot as plt\n",
    "import tensorflow as tf"
   ]
  },
  {
   "cell_type": "code",
   "execution_count": 5,
   "id": "dying-virginia",
   "metadata": {},
   "outputs": [],
   "source": [
    "def make_blk(colar_pixel):\n",
    "    test = np.mean(colar_pixel, axis=2, keepdims=True, dtype=np.int32)\n",
    "    test_array = np.concatenate([test,test,test], axis=2)\n",
    "    return test_array"
   ]
  },
  {
   "cell_type": "code",
   "execution_count": 6,
   "id": "transparent-malpractice",
   "metadata": {},
   "outputs": [],
   "source": [
    "img_list = os.listdir('../data/telemoji/MTCNN_emotion')\n",
    "\n",
    "x_data = list()\n",
    "t_data = list()\n",
    "for name in img_list:\n",
    "    img = cv.imread(f'../data/telemoji/MTCNN_emotion/{name}')\n",
    "    x_data.append(make_blk(img))\n",
    "    t_data.append(name)\n",
    "    \n",
    "x_data = np.array(x_data)"
   ]
  },
  {
   "cell_type": "code",
   "execution_count": null,
   "id": "dynamic-attitude",
   "metadata": {},
   "outputs": [],
   "source": [
    "# 한장만 확인할때\n",
    "img = cv.imread('../data/telemoji/MTCNN_emotion/angry.jpg')\n",
    "gray_image = cv.cvtColor(img, cv.COLOR_BGR2GRAY)\n",
    "x_data = np.array(gray_image).reshape(150,150,1)\n",
    "\n",
    "x_data = make_blk(img)"
   ]
  },
  {
   "cell_type": "code",
   "execution_count": 9,
   "id": "solved-gabriel",
   "metadata": {},
   "outputs": [],
   "source": [
    "model = tf.keras.models.load_model('../data/models/v3large_adam_gray.h5')"
   ]
  },
  {
   "cell_type": "code",
   "execution_count": 10,
   "id": "medical-convenience",
   "metadata": {},
   "outputs": [
    {
     "name": "stdout",
     "output_type": "stream",
     "text": [
      "[0 4 0 3 4 5 6]\n"
     ]
    }
   ],
   "source": [
    "result = model.predict(x_data)\n",
    "print(np.argmax(result, axis=1))"
   ]
  }
 ],
 "metadata": {
  "kernelspec": {
   "display_name": "Python [conda env:data_env_tf2] *",
   "language": "python",
   "name": "conda-env-data_env_tf2-py"
  },
  "language_info": {
   "codemirror_mode": {
    "name": "ipython",
    "version": 3
   },
   "file_extension": ".py",
   "mimetype": "text/x-python",
   "name": "python",
   "nbconvert_exporter": "python",
   "pygments_lexer": "ipython3",
   "version": "3.7.10"
  }
 },
 "nbformat": 4,
 "nbformat_minor": 5
}
